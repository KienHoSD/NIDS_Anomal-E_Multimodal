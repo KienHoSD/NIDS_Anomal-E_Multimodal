{
  "cells": [
    {
      "cell_type": "code",
      "execution_count": 1,
      "metadata": {
        "id": "Hjc3iIihKLn-"
      },
      "outputs": [
        {
          "name": "stderr",
          "output_type": "stream",
          "text": [
            "/home/kienho/projects/NIDS_Anomal-E_revision/.conda/lib/python3.9/site-packages/tqdm/auto.py:21: TqdmWarning: IProgress not found. Please update jupyter and ipywidgets. See https://ipywidgets.readthedocs.io/en/stable/user_install.html\n",
            "  from .autonotebook import tqdm as notebook_tqdm\n"
          ]
        }
      ],
      "source": [
        "import pandas as pd\n",
        "import numpy as np\n",
        "import torch\n",
        "from sklearn import preprocessing\n",
        "from dgl.data import DGLDataset\n",
        "import dgl\n",
        "import time\n",
        "import networkx as nx\n",
        "import category_encoders as ce\n",
        "import torch.nn as nn\n",
        "import torch.nn.functional as F\n",
        "import dgl.function as fn\n",
        "import torch\n",
        "import tqdm\n",
        "import math\n",
        "\n",
        "from typing import *\n",
        "from sklearn.preprocessing import StandardScaler, Normalizer\n",
        "import socket\n",
        "import struct\n",
        "import random\n",
        "from sklearn.model_selection import train_test_split"
      ]
    },
    {
      "cell_type": "code",
      "execution_count": 2,
      "metadata": {},
      "outputs": [],
      "source": [
        "file_name = \"NF-UNSW-NB15-v3.parquet\"\n",
        "data = pd.read_parquet(file_name)"
      ]
    },
    {
      "cell_type": "code",
      "execution_count": 3,
      "metadata": {},
      "outputs": [],
      "source": [
        "# ADDED\n",
        "file_name_test = \"cleaned_unsw_output.csv\"\n",
        "test_data = pd.read_csv(file_name_test)\n",
        "##"
      ]
    },
    {
      "cell_type": "code",
      "execution_count": 4,
      "metadata": {},
      "outputs": [
        {
          "data": {
            "text/plain": [
              "Label\n",
              "0    2151027\n",
              "1      91904\n",
              "Name: count, dtype: int64"
            ]
          },
          "execution_count": 4,
          "metadata": {},
          "output_type": "execute_result"
        }
      ],
      "source": [
        "data.Label.value_counts()"
      ]
    },
    {
      "cell_type": "code",
      "execution_count": 5,
      "metadata": {},
      "outputs": [
        {
          "data": {
            "text/plain": [
              "Label\n",
              "0    92581\n",
              "1    25848\n",
              "Name: count, dtype: int64"
            ]
          },
          "execution_count": 5,
          "metadata": {},
          "output_type": "execute_result"
        }
      ],
      "source": [
        "# ADDED\n",
        "test_data.Label.value_counts()\n",
        "##"
      ]
    },
    {
      "cell_type": "code",
      "execution_count": 6,
      "metadata": {},
      "outputs": [],
      "source": [
        "data.rename(columns=lambda x: x.strip(), inplace=True)\n",
        "data['IPV4_SRC_ADDR'] = data[\"IPV4_SRC_ADDR\"].apply(str)\n",
        "data['L4_SRC_PORT'] = data[\"L4_SRC_PORT\"].apply(str)\n",
        "data['IPV4_DST_ADDR'] = data[\"IPV4_DST_ADDR\"].apply(str)\n",
        "data['L4_DST_PORT'] = data[\"L4_DST_PORT\"].apply(str)"
      ]
    },
    {
      "cell_type": "code",
      "execution_count": 7,
      "metadata": {},
      "outputs": [],
      "source": [
        "# ADDED\n",
        "test_data.rename(columns=lambda x: x.strip(), inplace=True)\n",
        "test_data['IPV4_SRC_ADDR'] = test_data[\"IPV4_SRC_ADDR\"].apply(str)\n",
        "test_data['L4_SRC_PORT'] = test_data[\"L4_SRC_PORT\"].apply(str)\n",
        "test_data['IPV4_DST_ADDR'] = test_data[\"IPV4_DST_ADDR\"].apply(str)\n",
        "test_data['L4_DST_PORT'] = test_data[\"L4_DST_PORT\"].apply(str)\n",
        "##"
      ]
    },
    {
      "cell_type": "code",
      "execution_count": 8,
      "metadata": {},
      "outputs": [],
      "source": [
        "data.drop(columns=[\"L4_SRC_PORT\", \"L4_DST_PORT\"], inplace=True)"
      ]
    },
    {
      "cell_type": "code",
      "execution_count": 9,
      "metadata": {},
      "outputs": [],
      "source": [
        "##ADDED\n",
        "test_data.drop(columns=[\"L4_SRC_PORT\", \"L4_DST_PORT\"], inplace=True)\n",
        "##"
      ]
    },
    {
      "cell_type": "code",
      "execution_count": 10,
      "metadata": {},
      "outputs": [
        {
          "data": {
            "text/plain": [
              "array(['Benign', 'Fuzzers', 'Exploits', 'Backdoor', 'Generic', 'DoS',\n",
              "       'Reconnaissance', 'Shellcode', 'Analysis', 'Worms'], dtype=object)"
            ]
          },
          "execution_count": 10,
          "metadata": {},
          "output_type": "execute_result"
        }
      ],
      "source": [
        "data.Attack.unique()"
      ]
    },
    {
      "cell_type": "code",
      "execution_count": 11,
      "metadata": {},
      "outputs": [
        {
          "data": {
            "text/plain": [
              "array(['Benign', 'DoS', 'Fuzzers', 'Reconnaissance'], dtype=object)"
            ]
          },
          "execution_count": 11,
          "metadata": {},
          "output_type": "execute_result"
        }
      ],
      "source": [
        "##ADDED\n",
        "test_data.Attack.unique()\n",
        "##"
      ]
    },
    {
      "cell_type": "code",
      "execution_count": 12,
      "metadata": {},
      "outputs": [],
      "source": [
        "data = data.groupby(by='Attack').sample(frac=0.1, random_state=13)"
      ]
    },
    {
      "cell_type": "code",
      "execution_count": 13,
      "metadata": {},
      "outputs": [],
      "source": [
        "# ADDED\n",
        "# test_data = test_data.groupby(by='Attack').sample(frac=0.1, random_state=13)\n",
        "##"
      ]
    },
    {
      "cell_type": "code",
      "execution_count": 14,
      "metadata": {},
      "outputs": [
        {
          "data": {
            "text/html": [
              "<div>\n",
              "<style scoped>\n",
              "    .dataframe tbody tr th:only-of-type {\n",
              "        vertical-align: middle;\n",
              "    }\n",
              "\n",
              "    .dataframe tbody tr th {\n",
              "        vertical-align: top;\n",
              "    }\n",
              "\n",
              "    .dataframe thead th {\n",
              "        text-align: right;\n",
              "    }\n",
              "</style>\n",
              "<table border=\"1\" class=\"dataframe\">\n",
              "  <thead>\n",
              "    <tr style=\"text-align: right;\">\n",
              "      <th></th>\n",
              "      <th>FLOW_START_MILLISECONDS</th>\n",
              "      <th>FLOW_END_MILLISECONDS</th>\n",
              "      <th>IPV4_SRC_ADDR</th>\n",
              "      <th>IPV4_DST_ADDR</th>\n",
              "      <th>PROTOCOL</th>\n",
              "      <th>L7_PROTO</th>\n",
              "      <th>IN_BYTES</th>\n",
              "      <th>IN_PKTS</th>\n",
              "      <th>OUT_BYTES</th>\n",
              "      <th>OUT_PKTS</th>\n",
              "      <th>...</th>\n",
              "      <th>FTP_COMMAND_RET_CODE</th>\n",
              "      <th>SRC_TO_DST_IAT_MIN</th>\n",
              "      <th>SRC_TO_DST_IAT_MAX</th>\n",
              "      <th>SRC_TO_DST_IAT_AVG</th>\n",
              "      <th>SRC_TO_DST_IAT_STDDEV</th>\n",
              "      <th>DST_TO_SRC_IAT_MIN</th>\n",
              "      <th>DST_TO_SRC_IAT_MAX</th>\n",
              "      <th>DST_TO_SRC_IAT_AVG</th>\n",
              "      <th>DST_TO_SRC_IAT_STDDEV</th>\n",
              "      <th>Label</th>\n",
              "    </tr>\n",
              "    <tr>\n",
              "      <th>Attack</th>\n",
              "      <th></th>\n",
              "      <th></th>\n",
              "      <th></th>\n",
              "      <th></th>\n",
              "      <th></th>\n",
              "      <th></th>\n",
              "      <th></th>\n",
              "      <th></th>\n",
              "      <th></th>\n",
              "      <th></th>\n",
              "      <th></th>\n",
              "      <th></th>\n",
              "      <th></th>\n",
              "      <th></th>\n",
              "      <th></th>\n",
              "      <th></th>\n",
              "      <th></th>\n",
              "      <th></th>\n",
              "      <th></th>\n",
              "      <th></th>\n",
              "      <th></th>\n",
              "    </tr>\n",
              "  </thead>\n",
              "  <tbody>\n",
              "    <tr>\n",
              "      <th>Analysis</th>\n",
              "      <td>123</td>\n",
              "      <td>123</td>\n",
              "      <td>123</td>\n",
              "      <td>123</td>\n",
              "      <td>123</td>\n",
              "      <td>123</td>\n",
              "      <td>123</td>\n",
              "      <td>123</td>\n",
              "      <td>123</td>\n",
              "      <td>123</td>\n",
              "      <td>...</td>\n",
              "      <td>123</td>\n",
              "      <td>123</td>\n",
              "      <td>123</td>\n",
              "      <td>123</td>\n",
              "      <td>123</td>\n",
              "      <td>123</td>\n",
              "      <td>123</td>\n",
              "      <td>123</td>\n",
              "      <td>123</td>\n",
              "      <td>123</td>\n",
              "    </tr>\n",
              "    <tr>\n",
              "      <th>Backdoor</th>\n",
              "      <td>345</td>\n",
              "      <td>345</td>\n",
              "      <td>345</td>\n",
              "      <td>345</td>\n",
              "      <td>345</td>\n",
              "      <td>345</td>\n",
              "      <td>345</td>\n",
              "      <td>345</td>\n",
              "      <td>345</td>\n",
              "      <td>345</td>\n",
              "      <td>...</td>\n",
              "      <td>345</td>\n",
              "      <td>345</td>\n",
              "      <td>345</td>\n",
              "      <td>345</td>\n",
              "      <td>345</td>\n",
              "      <td>345</td>\n",
              "      <td>345</td>\n",
              "      <td>345</td>\n",
              "      <td>345</td>\n",
              "      <td>345</td>\n",
              "    </tr>\n",
              "    <tr>\n",
              "      <th>Benign</th>\n",
              "      <td>215103</td>\n",
              "      <td>215103</td>\n",
              "      <td>215103</td>\n",
              "      <td>215103</td>\n",
              "      <td>215103</td>\n",
              "      <td>215103</td>\n",
              "      <td>215103</td>\n",
              "      <td>215103</td>\n",
              "      <td>215103</td>\n",
              "      <td>215103</td>\n",
              "      <td>...</td>\n",
              "      <td>215103</td>\n",
              "      <td>215103</td>\n",
              "      <td>215103</td>\n",
              "      <td>215103</td>\n",
              "      <td>215103</td>\n",
              "      <td>215103</td>\n",
              "      <td>215103</td>\n",
              "      <td>215103</td>\n",
              "      <td>215103</td>\n",
              "      <td>215103</td>\n",
              "    </tr>\n",
              "    <tr>\n",
              "      <th>DoS</th>\n",
              "      <td>505</td>\n",
              "      <td>505</td>\n",
              "      <td>505</td>\n",
              "      <td>505</td>\n",
              "      <td>505</td>\n",
              "      <td>505</td>\n",
              "      <td>505</td>\n",
              "      <td>505</td>\n",
              "      <td>505</td>\n",
              "      <td>505</td>\n",
              "      <td>...</td>\n",
              "      <td>505</td>\n",
              "      <td>505</td>\n",
              "      <td>505</td>\n",
              "      <td>505</td>\n",
              "      <td>505</td>\n",
              "      <td>505</td>\n",
              "      <td>505</td>\n",
              "      <td>505</td>\n",
              "      <td>505</td>\n",
              "      <td>505</td>\n",
              "    </tr>\n",
              "    <tr>\n",
              "      <th>Exploits</th>\n",
              "      <td>3882</td>\n",
              "      <td>3882</td>\n",
              "      <td>3882</td>\n",
              "      <td>3882</td>\n",
              "      <td>3882</td>\n",
              "      <td>3882</td>\n",
              "      <td>3882</td>\n",
              "      <td>3882</td>\n",
              "      <td>3882</td>\n",
              "      <td>3882</td>\n",
              "      <td>...</td>\n",
              "      <td>3882</td>\n",
              "      <td>3882</td>\n",
              "      <td>3882</td>\n",
              "      <td>3882</td>\n",
              "      <td>3882</td>\n",
              "      <td>3882</td>\n",
              "      <td>3882</td>\n",
              "      <td>3882</td>\n",
              "      <td>3882</td>\n",
              "      <td>3882</td>\n",
              "    </tr>\n",
              "    <tr>\n",
              "      <th>Fuzzers</th>\n",
              "      <td>2559</td>\n",
              "      <td>2559</td>\n",
              "      <td>2559</td>\n",
              "      <td>2559</td>\n",
              "      <td>2559</td>\n",
              "      <td>2559</td>\n",
              "      <td>2559</td>\n",
              "      <td>2559</td>\n",
              "      <td>2559</td>\n",
              "      <td>2559</td>\n",
              "      <td>...</td>\n",
              "      <td>2559</td>\n",
              "      <td>2559</td>\n",
              "      <td>2559</td>\n",
              "      <td>2559</td>\n",
              "      <td>2559</td>\n",
              "      <td>2559</td>\n",
              "      <td>2559</td>\n",
              "      <td>2559</td>\n",
              "      <td>2559</td>\n",
              "      <td>2559</td>\n",
              "    </tr>\n",
              "    <tr>\n",
              "      <th>Generic</th>\n",
              "      <td>476</td>\n",
              "      <td>476</td>\n",
              "      <td>476</td>\n",
              "      <td>476</td>\n",
              "      <td>476</td>\n",
              "      <td>476</td>\n",
              "      <td>476</td>\n",
              "      <td>476</td>\n",
              "      <td>476</td>\n",
              "      <td>476</td>\n",
              "      <td>...</td>\n",
              "      <td>476</td>\n",
              "      <td>476</td>\n",
              "      <td>476</td>\n",
              "      <td>476</td>\n",
              "      <td>476</td>\n",
              "      <td>476</td>\n",
              "      <td>476</td>\n",
              "      <td>476</td>\n",
              "      <td>476</td>\n",
              "      <td>476</td>\n",
              "    </tr>\n",
              "    <tr>\n",
              "      <th>Reconnaissance</th>\n",
              "      <td>1129</td>\n",
              "      <td>1129</td>\n",
              "      <td>1129</td>\n",
              "      <td>1129</td>\n",
              "      <td>1129</td>\n",
              "      <td>1129</td>\n",
              "      <td>1129</td>\n",
              "      <td>1129</td>\n",
              "      <td>1129</td>\n",
              "      <td>1129</td>\n",
              "      <td>...</td>\n",
              "      <td>1129</td>\n",
              "      <td>1129</td>\n",
              "      <td>1129</td>\n",
              "      <td>1129</td>\n",
              "      <td>1129</td>\n",
              "      <td>1129</td>\n",
              "      <td>1129</td>\n",
              "      <td>1129</td>\n",
              "      <td>1129</td>\n",
              "      <td>1129</td>\n",
              "    </tr>\n",
              "    <tr>\n",
              "      <th>Shellcode</th>\n",
              "      <td>159</td>\n",
              "      <td>159</td>\n",
              "      <td>159</td>\n",
              "      <td>159</td>\n",
              "      <td>159</td>\n",
              "      <td>159</td>\n",
              "      <td>159</td>\n",
              "      <td>159</td>\n",
              "      <td>159</td>\n",
              "      <td>159</td>\n",
              "      <td>...</td>\n",
              "      <td>159</td>\n",
              "      <td>159</td>\n",
              "      <td>159</td>\n",
              "      <td>159</td>\n",
              "      <td>159</td>\n",
              "      <td>159</td>\n",
              "      <td>159</td>\n",
              "      <td>159</td>\n",
              "      <td>159</td>\n",
              "      <td>159</td>\n",
              "    </tr>\n",
              "    <tr>\n",
              "      <th>Worms</th>\n",
              "      <td>14</td>\n",
              "      <td>14</td>\n",
              "      <td>14</td>\n",
              "      <td>14</td>\n",
              "      <td>14</td>\n",
              "      <td>14</td>\n",
              "      <td>14</td>\n",
              "      <td>14</td>\n",
              "      <td>14</td>\n",
              "      <td>14</td>\n",
              "      <td>...</td>\n",
              "      <td>14</td>\n",
              "      <td>14</td>\n",
              "      <td>14</td>\n",
              "      <td>14</td>\n",
              "      <td>14</td>\n",
              "      <td>14</td>\n",
              "      <td>14</td>\n",
              "      <td>14</td>\n",
              "      <td>14</td>\n",
              "      <td>14</td>\n",
              "    </tr>\n",
              "  </tbody>\n",
              "</table>\n",
              "<p>10 rows × 52 columns</p>\n",
              "</div>"
            ],
            "text/plain": [
              "                FLOW_START_MILLISECONDS  FLOW_END_MILLISECONDS  IPV4_SRC_ADDR  \\\n",
              "Attack                                                                          \n",
              "Analysis                            123                    123            123   \n",
              "Backdoor                            345                    345            345   \n",
              "Benign                           215103                 215103         215103   \n",
              "DoS                                 505                    505            505   \n",
              "Exploits                           3882                   3882           3882   \n",
              "Fuzzers                            2559                   2559           2559   \n",
              "Generic                             476                    476            476   \n",
              "Reconnaissance                     1129                   1129           1129   \n",
              "Shellcode                           159                    159            159   \n",
              "Worms                                14                     14             14   \n",
              "\n",
              "                IPV4_DST_ADDR  PROTOCOL  L7_PROTO  IN_BYTES  IN_PKTS  \\\n",
              "Attack                                                                 \n",
              "Analysis                  123       123       123       123      123   \n",
              "Backdoor                  345       345       345       345      345   \n",
              "Benign                 215103    215103    215103    215103   215103   \n",
              "DoS                       505       505       505       505      505   \n",
              "Exploits                 3882      3882      3882      3882     3882   \n",
              "Fuzzers                  2559      2559      2559      2559     2559   \n",
              "Generic                   476       476       476       476      476   \n",
              "Reconnaissance           1129      1129      1129      1129     1129   \n",
              "Shellcode                 159       159       159       159      159   \n",
              "Worms                      14        14        14        14       14   \n",
              "\n",
              "                OUT_BYTES  OUT_PKTS  ...  FTP_COMMAND_RET_CODE  \\\n",
              "Attack                               ...                         \n",
              "Analysis              123       123  ...                   123   \n",
              "Backdoor              345       345  ...                   345   \n",
              "Benign             215103    215103  ...                215103   \n",
              "DoS                   505       505  ...                   505   \n",
              "Exploits             3882      3882  ...                  3882   \n",
              "Fuzzers              2559      2559  ...                  2559   \n",
              "Generic               476       476  ...                   476   \n",
              "Reconnaissance       1129      1129  ...                  1129   \n",
              "Shellcode             159       159  ...                   159   \n",
              "Worms                  14        14  ...                    14   \n",
              "\n",
              "                SRC_TO_DST_IAT_MIN  SRC_TO_DST_IAT_MAX  SRC_TO_DST_IAT_AVG  \\\n",
              "Attack                                                                       \n",
              "Analysis                       123                 123                 123   \n",
              "Backdoor                       345                 345                 345   \n",
              "Benign                      215103              215103              215103   \n",
              "DoS                            505                 505                 505   \n",
              "Exploits                      3882                3882                3882   \n",
              "Fuzzers                       2559                2559                2559   \n",
              "Generic                        476                 476                 476   \n",
              "Reconnaissance                1129                1129                1129   \n",
              "Shellcode                      159                 159                 159   \n",
              "Worms                           14                  14                  14   \n",
              "\n",
              "                SRC_TO_DST_IAT_STDDEV  DST_TO_SRC_IAT_MIN  DST_TO_SRC_IAT_MAX  \\\n",
              "Attack                                                                          \n",
              "Analysis                          123                 123                 123   \n",
              "Backdoor                          345                 345                 345   \n",
              "Benign                         215103              215103              215103   \n",
              "DoS                               505                 505                 505   \n",
              "Exploits                         3882                3882                3882   \n",
              "Fuzzers                          2559                2559                2559   \n",
              "Generic                           476                 476                 476   \n",
              "Reconnaissance                   1129                1129                1129   \n",
              "Shellcode                         159                 159                 159   \n",
              "Worms                              14                  14                  14   \n",
              "\n",
              "                DST_TO_SRC_IAT_AVG  DST_TO_SRC_IAT_STDDEV   Label  \n",
              "Attack                                                             \n",
              "Analysis                       123                    123     123  \n",
              "Backdoor                       345                    345     345  \n",
              "Benign                      215103                 215103  215103  \n",
              "DoS                            505                    505     505  \n",
              "Exploits                      3882                   3882    3882  \n",
              "Fuzzers                       2559                   2559    2559  \n",
              "Generic                        476                    476     476  \n",
              "Reconnaissance                1129                   1129    1129  \n",
              "Shellcode                      159                    159     159  \n",
              "Worms                           14                     14      14  \n",
              "\n",
              "[10 rows x 52 columns]"
            ]
          },
          "execution_count": 14,
          "metadata": {},
          "output_type": "execute_result"
        }
      ],
      "source": [
        "data.groupby(by=\"Attack\").count()"
      ]
    },
    {
      "cell_type": "code",
      "execution_count": 15,
      "metadata": {},
      "outputs": [
        {
          "data": {
            "text/html": [
              "<div>\n",
              "<style scoped>\n",
              "    .dataframe tbody tr th:only-of-type {\n",
              "        vertical-align: middle;\n",
              "    }\n",
              "\n",
              "    .dataframe tbody tr th {\n",
              "        vertical-align: top;\n",
              "    }\n",
              "\n",
              "    .dataframe thead th {\n",
              "        text-align: right;\n",
              "    }\n",
              "</style>\n",
              "<table border=\"1\" class=\"dataframe\">\n",
              "  <thead>\n",
              "    <tr style=\"text-align: right;\">\n",
              "      <th></th>\n",
              "      <th>IPV4_SRC_ADDR</th>\n",
              "      <th>IPV4_DST_ADDR</th>\n",
              "      <th>PROTOCOL</th>\n",
              "      <th>L7_PROTO</th>\n",
              "      <th>IN_BYTES</th>\n",
              "      <th>IN_PKTS</th>\n",
              "      <th>OUT_BYTES</th>\n",
              "      <th>OUT_PKTS</th>\n",
              "      <th>TCP_FLAGS</th>\n",
              "      <th>CLIENT_TCP_FLAGS</th>\n",
              "      <th>...</th>\n",
              "      <th>NUM_PKTS_1024_TO_1514_BYTES</th>\n",
              "      <th>TCP_WIN_MAX_IN</th>\n",
              "      <th>TCP_WIN_MAX_OUT</th>\n",
              "      <th>ICMP_TYPE</th>\n",
              "      <th>ICMP_IPV4_TYPE</th>\n",
              "      <th>DNS_QUERY_ID</th>\n",
              "      <th>DNS_QUERY_TYPE</th>\n",
              "      <th>DNS_TTL_ANSWER</th>\n",
              "      <th>FTP_COMMAND_RET_CODE</th>\n",
              "      <th>Label</th>\n",
              "    </tr>\n",
              "    <tr>\n",
              "      <th>Attack</th>\n",
              "      <th></th>\n",
              "      <th></th>\n",
              "      <th></th>\n",
              "      <th></th>\n",
              "      <th></th>\n",
              "      <th></th>\n",
              "      <th></th>\n",
              "      <th></th>\n",
              "      <th></th>\n",
              "      <th></th>\n",
              "      <th></th>\n",
              "      <th></th>\n",
              "      <th></th>\n",
              "      <th></th>\n",
              "      <th></th>\n",
              "      <th></th>\n",
              "      <th></th>\n",
              "      <th></th>\n",
              "      <th></th>\n",
              "      <th></th>\n",
              "      <th></th>\n",
              "    </tr>\n",
              "  </thead>\n",
              "  <tbody>\n",
              "    <tr>\n",
              "      <th>Benign</th>\n",
              "      <td>92581</td>\n",
              "      <td>92581</td>\n",
              "      <td>92581</td>\n",
              "      <td>92581</td>\n",
              "      <td>92581</td>\n",
              "      <td>92581</td>\n",
              "      <td>92581</td>\n",
              "      <td>92581</td>\n",
              "      <td>92581</td>\n",
              "      <td>92581</td>\n",
              "      <td>...</td>\n",
              "      <td>92581</td>\n",
              "      <td>92581</td>\n",
              "      <td>92581</td>\n",
              "      <td>92581</td>\n",
              "      <td>92581</td>\n",
              "      <td>92581</td>\n",
              "      <td>92581</td>\n",
              "      <td>92581</td>\n",
              "      <td>92581</td>\n",
              "      <td>92581</td>\n",
              "    </tr>\n",
              "    <tr>\n",
              "      <th>DoS</th>\n",
              "      <td>11940</td>\n",
              "      <td>11940</td>\n",
              "      <td>11940</td>\n",
              "      <td>11940</td>\n",
              "      <td>11940</td>\n",
              "      <td>11940</td>\n",
              "      <td>11940</td>\n",
              "      <td>11940</td>\n",
              "      <td>11940</td>\n",
              "      <td>11940</td>\n",
              "      <td>...</td>\n",
              "      <td>11940</td>\n",
              "      <td>11940</td>\n",
              "      <td>11940</td>\n",
              "      <td>11940</td>\n",
              "      <td>11940</td>\n",
              "      <td>11940</td>\n",
              "      <td>11940</td>\n",
              "      <td>11940</td>\n",
              "      <td>11940</td>\n",
              "      <td>11940</td>\n",
              "    </tr>\n",
              "    <tr>\n",
              "      <th>Fuzzers</th>\n",
              "      <td>7796</td>\n",
              "      <td>7796</td>\n",
              "      <td>7796</td>\n",
              "      <td>7796</td>\n",
              "      <td>7796</td>\n",
              "      <td>7796</td>\n",
              "      <td>7796</td>\n",
              "      <td>7796</td>\n",
              "      <td>7796</td>\n",
              "      <td>7796</td>\n",
              "      <td>...</td>\n",
              "      <td>7796</td>\n",
              "      <td>7796</td>\n",
              "      <td>7796</td>\n",
              "      <td>7796</td>\n",
              "      <td>7796</td>\n",
              "      <td>7796</td>\n",
              "      <td>7796</td>\n",
              "      <td>7796</td>\n",
              "      <td>7796</td>\n",
              "      <td>7796</td>\n",
              "    </tr>\n",
              "    <tr>\n",
              "      <th>Reconnaissance</th>\n",
              "      <td>6112</td>\n",
              "      <td>6112</td>\n",
              "      <td>6112</td>\n",
              "      <td>6112</td>\n",
              "      <td>6112</td>\n",
              "      <td>6112</td>\n",
              "      <td>6112</td>\n",
              "      <td>6112</td>\n",
              "      <td>6112</td>\n",
              "      <td>6112</td>\n",
              "      <td>...</td>\n",
              "      <td>6112</td>\n",
              "      <td>6112</td>\n",
              "      <td>6112</td>\n",
              "      <td>6112</td>\n",
              "      <td>6112</td>\n",
              "      <td>6112</td>\n",
              "      <td>6112</td>\n",
              "      <td>6112</td>\n",
              "      <td>6112</td>\n",
              "      <td>6112</td>\n",
              "    </tr>\n",
              "  </tbody>\n",
              "</table>\n",
              "<p>4 rows × 42 columns</p>\n",
              "</div>"
            ],
            "text/plain": [
              "                IPV4_SRC_ADDR  IPV4_DST_ADDR  PROTOCOL  L7_PROTO  IN_BYTES  \\\n",
              "Attack                                                                       \n",
              "Benign                  92581          92581     92581     92581     92581   \n",
              "DoS                     11940          11940     11940     11940     11940   \n",
              "Fuzzers                  7796           7796      7796      7796      7796   \n",
              "Reconnaissance           6112           6112      6112      6112      6112   \n",
              "\n",
              "                IN_PKTS  OUT_BYTES  OUT_PKTS  TCP_FLAGS  CLIENT_TCP_FLAGS  \\\n",
              "Attack                                                                      \n",
              "Benign            92581      92581     92581      92581             92581   \n",
              "DoS               11940      11940     11940      11940             11940   \n",
              "Fuzzers            7796       7796      7796       7796              7796   \n",
              "Reconnaissance     6112       6112      6112       6112              6112   \n",
              "\n",
              "                ...  NUM_PKTS_1024_TO_1514_BYTES  TCP_WIN_MAX_IN  \\\n",
              "Attack          ...                                                \n",
              "Benign          ...                        92581           92581   \n",
              "DoS             ...                        11940           11940   \n",
              "Fuzzers         ...                         7796            7796   \n",
              "Reconnaissance  ...                         6112            6112   \n",
              "\n",
              "                TCP_WIN_MAX_OUT  ICMP_TYPE  ICMP_IPV4_TYPE  DNS_QUERY_ID  \\\n",
              "Attack                                                                     \n",
              "Benign                    92581      92581           92581         92581   \n",
              "DoS                       11940      11940           11940         11940   \n",
              "Fuzzers                    7796       7796            7796          7796   \n",
              "Reconnaissance             6112       6112            6112          6112   \n",
              "\n",
              "                DNS_QUERY_TYPE  DNS_TTL_ANSWER  FTP_COMMAND_RET_CODE  Label  \n",
              "Attack                                                                       \n",
              "Benign                   92581           92581                 92581  92581  \n",
              "DoS                      11940           11940                 11940  11940  \n",
              "Fuzzers                   7796            7796                  7796   7796  \n",
              "Reconnaissance            6112            6112                  6112   6112  \n",
              "\n",
              "[4 rows x 42 columns]"
            ]
          },
          "execution_count": 15,
          "metadata": {},
          "output_type": "execute_result"
        }
      ],
      "source": [
        "# ADDED\n",
        "test_data.groupby(by=\"Attack\").count()\n",
        "##"
      ]
    },
    {
      "cell_type": "code",
      "execution_count": 16,
      "metadata": {},
      "outputs": [
        {
          "data": {
            "text/plain": [
              "((224295, 41), (118429, 41), (224295, 2), (118429, 2))"
            ]
          },
          "execution_count": 16,
          "metadata": {},
          "output_type": "execute_result"
        }
      ],
      "source": [
        "# X = data.drop(columns=[\"Attack\", \"Label\"])\n",
        "X = data.drop(columns=[\"Attack\", \"Label\", \"FLOW_START_MILLISECONDS\", \"FLOW_END_MILLISECONDS\",\n",
        "                       \"SRC_TO_DST_IAT_MIN\", \"SRC_TO_DST_IAT_MAX\", \"SRC_TO_DST_IAT_AVG\",\n",
        "                       \"SRC_TO_DST_IAT_STDDEV\", \"DST_TO_SRC_IAT_MIN\", \"DST_TO_SRC_IAT_MAX\",\n",
        "                       \"DST_TO_SRC_IAT_AVG\", \"DST_TO_SRC_IAT_STDDEV\"])\n",
        "y = data[[\"Attack\", \"Label\"]]\n",
        "\n",
        "# X_train, X_test, y_train, y_test = train_test_split(\n",
        "#         X, y, test_size=0.3, random_state=13, stratify=y)\n",
        "# ADDED\n",
        "X_train, y_train = X, y\n",
        "X_test = test_data.drop(columns=[\"Attack\", \"Label\"])\n",
        "y_test = test_data[[\"Attack\", \"Label\"]]\n",
        "\n",
        "X_train.shape, X_test.shape, y_train.shape, y_test.shape\n",
        "##"
      ]
    },
    {
      "cell_type": "code",
      "execution_count": 17,
      "metadata": {
        "id": "bPfakXplPGGx"
      },
      "outputs": [],
      "source": [
        "encoder = ce.TargetEncoder(cols=['TCP_FLAGS','L7_PROTO','PROTOCOL',\n",
        "                                  'CLIENT_TCP_FLAGS','SERVER_TCP_FLAGS','ICMP_TYPE',\n",
        "                                  'ICMP_IPV4_TYPE','DNS_QUERY_ID','DNS_QUERY_TYPE',\n",
        "                                  'FTP_COMMAND_RET_CODE'])\n",
        "encoder.fit(X_train, y_train.Label)\n",
        "\n",
        "# Transform on training set\n",
        "X_train = encoder.transform(X_train)\n",
        "\n",
        "# Transform on testing set\n",
        "X_test = encoder.transform(X_test)"
      ]
    },
    {
      "cell_type": "code",
      "execution_count": 18,
      "metadata": {
        "id": "ibyOfV-8PouK"
      },
      "outputs": [],
      "source": [
        "X_train.replace([np.inf, -np.inf], np.nan, inplace=True)\n",
        "X_test.replace([np.inf, -np.inf], np.nan, inplace=True)\n",
        "X_train.fillna(0, inplace=True)\n",
        "X_test.fillna(0, inplace=True)"
      ]
    },
    {
      "cell_type": "code",
      "execution_count": 19,
      "metadata": {
        "id": "asDnsSIWPee0"
      },
      "outputs": [],
      "source": [
        "scaler = Normalizer()\n",
        "cols_to_norm = list(set(list(X_train.iloc[:, 2:].columns))) # Ignore first two as the represents IP addresses\n",
        "scaler.fit(X_train[cols_to_norm])\n",
        "\n",
        "# Transform on training set\n",
        "X_train[cols_to_norm] = scaler.transform(X_train[cols_to_norm])\n",
        "X_train['h'] = X_train.iloc[:, 2:].values.tolist()\n",
        "\n",
        "# Transform on testing set\n",
        "X_test[cols_to_norm] = scaler.transform(X_test[cols_to_norm])\n",
        "X_test['h'] = X_test.iloc[:, 2:].values.tolist()\n",
        "\n",
        "train = pd.concat([X_train, y_train], axis=1)\n",
        "test = pd.concat([X_test, y_test], axis=1)"
      ]
    },
    {
      "cell_type": "code",
      "execution_count": 20,
      "metadata": {
        "colab": {
          "base_uri": "https://localhost:8080/",
          "height": 357
        },
        "id": "hErQbsnrPluV",
        "outputId": "c4dbe223-89d5-48f5-800d-16512a77e66c"
      },
      "outputs": [
        {
          "data": {
            "text/html": [
              "<div>\n",
              "<style scoped>\n",
              "    .dataframe tbody tr th:only-of-type {\n",
              "        vertical-align: middle;\n",
              "    }\n",
              "\n",
              "    .dataframe tbody tr th {\n",
              "        vertical-align: top;\n",
              "    }\n",
              "\n",
              "    .dataframe thead th {\n",
              "        text-align: right;\n",
              "    }\n",
              "</style>\n",
              "<table border=\"1\" class=\"dataframe\">\n",
              "  <thead>\n",
              "    <tr style=\"text-align: right;\">\n",
              "      <th></th>\n",
              "      <th>IPV4_SRC_ADDR</th>\n",
              "      <th>IPV4_DST_ADDR</th>\n",
              "      <th>PROTOCOL</th>\n",
              "      <th>L7_PROTO</th>\n",
              "      <th>IN_BYTES</th>\n",
              "      <th>IN_PKTS</th>\n",
              "      <th>OUT_BYTES</th>\n",
              "      <th>OUT_PKTS</th>\n",
              "      <th>TCP_FLAGS</th>\n",
              "      <th>CLIENT_TCP_FLAGS</th>\n",
              "      <th>...</th>\n",
              "      <th>NUM_PKTS_1024_TO_1514_BYTES</th>\n",
              "      <th>TCP_WIN_MAX_IN</th>\n",
              "      <th>TCP_WIN_MAX_OUT</th>\n",
              "      <th>ICMP_TYPE</th>\n",
              "      <th>ICMP_IPV4_TYPE</th>\n",
              "      <th>DNS_QUERY_ID</th>\n",
              "      <th>DNS_QUERY_TYPE</th>\n",
              "      <th>DNS_TTL_ANSWER</th>\n",
              "      <th>FTP_COMMAND_RET_CODE</th>\n",
              "      <th>h</th>\n",
              "    </tr>\n",
              "  </thead>\n",
              "  <tbody>\n",
              "    <tr>\n",
              "      <th>28228</th>\n",
              "      <td>175.45.176.3</td>\n",
              "      <td>149.171.126.19</td>\n",
              "      <td>0.000002</td>\n",
              "      <td>0.000004</td>\n",
              "      <td>0.028485</td>\n",
              "      <td>0.000341</td>\n",
              "      <td>0.045794</td>\n",
              "      <td>0.000341</td>\n",
              "      <td>5.420943e-07</td>\n",
              "      <td>5.797048e-07</td>\n",
              "      <td>...</td>\n",
              "      <td>0.0</td>\n",
              "      <td>0.558214</td>\n",
              "      <td>0.558214</td>\n",
              "      <td>0.000007</td>\n",
              "      <td>0.000007</td>\n",
              "      <td>0.000002</td>\n",
              "      <td>0.000002</td>\n",
              "      <td>0.0</td>\n",
              "      <td>0.000002</td>\n",
              "      <td>[1.7197633617740215e-06, 4.298851310470572e-06...</td>\n",
              "    </tr>\n",
              "    <tr>\n",
              "      <th>856405</th>\n",
              "      <td>175.45.176.1</td>\n",
              "      <td>149.171.126.11</td>\n",
              "      <td>0.000001</td>\n",
              "      <td>0.000003</td>\n",
              "      <td>0.022255</td>\n",
              "      <td>0.000273</td>\n",
              "      <td>0.035816</td>\n",
              "      <td>0.000219</td>\n",
              "      <td>4.349885e-07</td>\n",
              "      <td>4.651680e-07</td>\n",
              "      <td>...</td>\n",
              "      <td>0.0</td>\n",
              "      <td>0.447924</td>\n",
              "      <td>0.447924</td>\n",
              "      <td>0.000009</td>\n",
              "      <td>0.000009</td>\n",
              "      <td>0.000001</td>\n",
              "      <td>0.000001</td>\n",
              "      <td>0.0</td>\n",
              "      <td>0.000001</td>\n",
              "      <td>[1.3799764291286633e-06, 3.449494048215318e-06...</td>\n",
              "    </tr>\n",
              "    <tr>\n",
              "      <th>465045</th>\n",
              "      <td>175.45.176.1</td>\n",
              "      <td>149.171.126.11</td>\n",
              "      <td>0.000002</td>\n",
              "      <td>0.000005</td>\n",
              "      <td>0.031897</td>\n",
              "      <td>0.000394</td>\n",
              "      <td>0.043554</td>\n",
              "      <td>0.000315</td>\n",
              "      <td>6.265204e-07</td>\n",
              "      <td>6.699884e-07</td>\n",
              "      <td>...</td>\n",
              "      <td>0.0</td>\n",
              "      <td>0.645151</td>\n",
              "      <td>0.645151</td>\n",
              "      <td>0.000005</td>\n",
              "      <td>0.000005</td>\n",
              "      <td>0.000002</td>\n",
              "      <td>0.000002</td>\n",
              "      <td>0.0</td>\n",
              "      <td>0.000002</td>\n",
              "      <td>[1.987600574078275e-06, 4.9683575790069636e-06...</td>\n",
              "    </tr>\n",
              "    <tr>\n",
              "      <th>959848</th>\n",
              "      <td>175.45.176.3</td>\n",
              "      <td>149.171.126.10</td>\n",
              "      <td>0.000002</td>\n",
              "      <td>0.000005</td>\n",
              "      <td>0.029782</td>\n",
              "      <td>0.000370</td>\n",
              "      <td>0.047666</td>\n",
              "      <td>0.000370</td>\n",
              "      <td>5.878823e-07</td>\n",
              "      <td>6.286695e-07</td>\n",
              "      <td>...</td>\n",
              "      <td>0.0</td>\n",
              "      <td>0.605364</td>\n",
              "      <td>0.605364</td>\n",
              "      <td>0.000013</td>\n",
              "      <td>0.000013</td>\n",
              "      <td>0.000002</td>\n",
              "      <td>0.000002</td>\n",
              "      <td>0.0</td>\n",
              "      <td>0.000002</td>\n",
              "      <td>[1.8650231844538398e-06, 4.661953812225062e-06...</td>\n",
              "    </tr>\n",
              "    <tr>\n",
              "      <th>1381572</th>\n",
              "      <td>175.45.176.0</td>\n",
              "      <td>149.171.126.14</td>\n",
              "      <td>0.000002</td>\n",
              "      <td>0.000004</td>\n",
              "      <td>0.028129</td>\n",
              "      <td>0.000351</td>\n",
              "      <td>0.038160</td>\n",
              "      <td>0.000281</td>\n",
              "      <td>5.580212e-07</td>\n",
              "      <td>5.967367e-07</td>\n",
              "      <td>...</td>\n",
              "      <td>0.0</td>\n",
              "      <td>0.574615</td>\n",
              "      <td>0.574615</td>\n",
              "      <td>0.000016</td>\n",
              "      <td>0.000016</td>\n",
              "      <td>0.000002</td>\n",
              "      <td>0.000002</td>\n",
              "      <td>0.0</td>\n",
              "      <td>0.000002</td>\n",
              "      <td>[1.7702906951465035e-06, 4.425153276258943e-06...</td>\n",
              "    </tr>\n",
              "  </tbody>\n",
              "</table>\n",
              "<p>5 rows × 42 columns</p>\n",
              "</div>"
            ],
            "text/plain": [
              "        IPV4_SRC_ADDR   IPV4_DST_ADDR  PROTOCOL  L7_PROTO  IN_BYTES   IN_PKTS  \\\n",
              "28228    175.45.176.3  149.171.126.19  0.000002  0.000004  0.028485  0.000341   \n",
              "856405   175.45.176.1  149.171.126.11  0.000001  0.000003  0.022255  0.000273   \n",
              "465045   175.45.176.1  149.171.126.11  0.000002  0.000005  0.031897  0.000394   \n",
              "959848   175.45.176.3  149.171.126.10  0.000002  0.000005  0.029782  0.000370   \n",
              "1381572  175.45.176.0  149.171.126.14  0.000002  0.000004  0.028129  0.000351   \n",
              "\n",
              "         OUT_BYTES  OUT_PKTS     TCP_FLAGS  CLIENT_TCP_FLAGS  ...  \\\n",
              "28228     0.045794  0.000341  5.420943e-07      5.797048e-07  ...   \n",
              "856405    0.035816  0.000219  4.349885e-07      4.651680e-07  ...   \n",
              "465045    0.043554  0.000315  6.265204e-07      6.699884e-07  ...   \n",
              "959848    0.047666  0.000370  5.878823e-07      6.286695e-07  ...   \n",
              "1381572   0.038160  0.000281  5.580212e-07      5.967367e-07  ...   \n",
              "\n",
              "         NUM_PKTS_1024_TO_1514_BYTES  TCP_WIN_MAX_IN  TCP_WIN_MAX_OUT  \\\n",
              "28228                            0.0        0.558214         0.558214   \n",
              "856405                           0.0        0.447924         0.447924   \n",
              "465045                           0.0        0.645151         0.645151   \n",
              "959848                           0.0        0.605364         0.605364   \n",
              "1381572                          0.0        0.574615         0.574615   \n",
              "\n",
              "         ICMP_TYPE  ICMP_IPV4_TYPE  DNS_QUERY_ID  DNS_QUERY_TYPE  \\\n",
              "28228     0.000007        0.000007      0.000002        0.000002   \n",
              "856405    0.000009        0.000009      0.000001        0.000001   \n",
              "465045    0.000005        0.000005      0.000002        0.000002   \n",
              "959848    0.000013        0.000013      0.000002        0.000002   \n",
              "1381572   0.000016        0.000016      0.000002        0.000002   \n",
              "\n",
              "         DNS_TTL_ANSWER  FTP_COMMAND_RET_CODE  \\\n",
              "28228               0.0              0.000002   \n",
              "856405              0.0              0.000001   \n",
              "465045              0.0              0.000002   \n",
              "959848              0.0              0.000002   \n",
              "1381572             0.0              0.000002   \n",
              "\n",
              "                                                         h  \n",
              "28228    [1.7197633617740215e-06, 4.298851310470572e-06...  \n",
              "856405   [1.3799764291286633e-06, 3.449494048215318e-06...  \n",
              "465045   [1.987600574078275e-06, 4.9683575790069636e-06...  \n",
              "959848   [1.8650231844538398e-06, 4.661953812225062e-06...  \n",
              "1381572  [1.7702906951465035e-06, 4.425153276258943e-06...  \n",
              "\n",
              "[5 rows x 42 columns]"
            ]
          },
          "execution_count": 20,
          "metadata": {},
          "output_type": "execute_result"
        }
      ],
      "source": [
        "X_train.head()"
      ]
    },
    {
      "cell_type": "code",
      "execution_count": 21,
      "metadata": {
        "id": "d_tLtK4WPtrF"
      },
      "outputs": [],
      "source": [
        "lab_enc = preprocessing.LabelEncoder()\n",
        "lab_enc.fit(data[\"Attack\"])\n",
        "\n",
        "# Transform on training set\n",
        "train[\"Attack\"] = lab_enc.transform(train[\"Attack\"])\n",
        "\n",
        "# Transform on testing set\n",
        "test[\"Attack\"] = lab_enc.transform(test[\"Attack\"])"
      ]
    },
    {
      "cell_type": "code",
      "execution_count": 22,
      "metadata": {
        "id": "8yaicjecP1fZ"
      },
      "outputs": [],
      "source": [
        "# Training graph\n",
        "\n",
        "train_g = nx.from_pandas_edgelist(train, \"IPV4_SRC_ADDR\", \"IPV4_DST_ADDR\",\n",
        "           [\"h\", \"Label\", \"Attack\"], create_using=nx.MultiGraph())\n",
        "train_g = train_g.to_directed()\n",
        "train_g = dgl.from_networkx(train_g, edge_attrs=['h', 'Attack', 'Label'])\n",
        "nfeat_weight = torch.ones([train_g.number_of_nodes(),\n",
        "train_g.edata['h'].shape[1]])\n",
        "train_g.ndata['h'] = nfeat_weight\n",
        "\n",
        "# Testing graph\n",
        "test_g = nx.from_pandas_edgelist(test, \"IPV4_SRC_ADDR\", \"IPV4_DST_ADDR\",\n",
        "            [\"h\", \"Label\", \"Attack\"], create_using=nx.MultiGraph())\n",
        "\n",
        "test_g = test_g.to_directed()\n",
        "test_g = dgl.from_networkx(test_g, edge_attrs=['h', 'Attack', 'Label'])\n",
        "nfeat_weight = torch.ones([test_g.number_of_nodes(),\n",
        "test_g.edata['h'].shape[1]])\n",
        "test_g.ndata['h'] = nfeat_weight"
      ]
    },
    {
      "cell_type": "code",
      "execution_count": 23,
      "metadata": {
        "id": "PUV6DgJ9QRaP"
      },
      "outputs": [],
      "source": [
        "import torch.nn as nn\n",
        "import torch.nn.functional as F\n",
        "import dgl.function as fn\n",
        "import tqdm\n",
        "import gc\n",
        "\n",
        "class SAGELayer(nn.Module):\n",
        "    def __init__(self, ndim_in, edims, ndim_out, activation):\n",
        "      super(SAGELayer, self).__init__()\n",
        "      self.W_apply = nn.Linear(ndim_in + edims , ndim_out)\n",
        "      self.activation = F.relu\n",
        "      self.W_edge = nn.Linear(128 * 2, 256)\n",
        "      self.reset_parameters()\n",
        "\n",
        "    def reset_parameters(self):\n",
        "      gain = nn.init.calculate_gain('relu')\n",
        "      nn.init.xavier_uniform_(self.W_apply.weight, gain=gain)\n",
        "\n",
        "    def message_func(self, edges):\n",
        "      return {'m':  edges.data['h']}\n",
        "\n",
        "    def forward(self, g_dgl, nfeats, efeats):\n",
        "      with g_dgl.local_scope():\n",
        "        g = g_dgl\n",
        "        g.ndata['h'] = nfeats\n",
        "        g.edata['h'] = efeats\n",
        "        g.update_all(self.message_func, fn.mean('m', 'h_neigh'))\n",
        "        g.ndata['h'] = F.relu(self.W_apply(torch.cat([g.ndata['h'], g.ndata['h_neigh']], 2)))\n",
        "\n",
        "        # Compute edge embeddings\n",
        "        u, v = g.edges()\n",
        "        edge = self.W_edge(torch.cat((g.srcdata['h'][u], g.dstdata['h'][v]), 2))\n",
        "        return g.ndata['h'], edge"
      ]
    },
    {
      "cell_type": "code",
      "execution_count": 24,
      "metadata": {
        "id": "_xo-3K4QRGqc"
      },
      "outputs": [],
      "source": [
        "class SAGE(nn.Module):\n",
        "    def __init__(self, ndim_in, ndim_out, edim,  activation):\n",
        "      super(SAGE, self).__init__()\n",
        "      self.layers = nn.ModuleList()\n",
        "      self.layers.append(SAGELayer(ndim_in, edim, 128, F.relu))\n",
        "\n",
        "    def forward(self, g, nfeats, efeats, corrupt=False):\n",
        "      if corrupt:\n",
        "        e_perm = torch.randperm(g.number_of_edges())\n",
        "        #n_perm = torch.randperm(g.number_of_nodes())\n",
        "        efeats = efeats[e_perm]\n",
        "        #nfeats = nfeats[n_perm]\n",
        "      for i, layer in enumerate(self.layers):\n",
        "        #nfeats = layer(g, nfeats, efeats)\n",
        "        nfeats, e_feats = layer(g, nfeats, efeats)\n",
        "      #return nfeats.sum(1)\n",
        "      return nfeats.sum(1), e_feats.sum(1)"
      ]
    },
    {
      "cell_type": "code",
      "execution_count": 25,
      "metadata": {
        "id": "6uuxRtLuRJQL"
      },
      "outputs": [],
      "source": [
        "class Discriminator(nn.Module):\n",
        "    def __init__(self, n_hidden):\n",
        "      super(Discriminator, self).__init__()\n",
        "      self.weight = nn.Parameter(torch.Tensor(n_hidden, n_hidden))\n",
        "      self.reset_parameters()\n",
        "\n",
        "    def uniform(self, size, tensor):\n",
        "      bound = 1.0 / math.sqrt(size)\n",
        "      if tensor is not None:\n",
        "        tensor.data.uniform_(-bound, bound)\n",
        "\n",
        "    def reset_parameters(self):\n",
        "      size = self.weight.size(0)\n",
        "      self.uniform(size, self.weight)\n",
        "\n",
        "    def forward(self, features, summary):\n",
        "      features = torch.matmul(features, torch.matmul(self.weight, summary))\n",
        "      return features"
      ]
    },
    {
      "cell_type": "code",
      "execution_count": 26,
      "metadata": {
        "id": "ZPbVjlCyRUco"
      },
      "outputs": [],
      "source": [
        "class DGI(nn.Module):\n",
        "    def __init__(self, ndim_in, ndim_out, edim, activation):\n",
        "      super(DGI, self).__init__()\n",
        "      self.encoder = SAGE(ndim_in, ndim_out, edim,  F.relu)\n",
        "      #self.discriminator = Discriminator(128)\n",
        "      self.discriminator = Discriminator(256)\n",
        "      self.loss = nn.BCEWithLogitsLoss()\n",
        "\n",
        "    def forward(self, g, n_features, e_features):\n",
        "      positive = self.encoder(g, n_features, e_features, corrupt=False)\n",
        "      negative = self.encoder(g, n_features, e_features, corrupt=True)\n",
        "      self.loss = nn.BCEWithLogitsLoss()\n",
        "\n",
        "    def forward(self, g, n_features, e_features):\n",
        "      positive = self.encoder(g, n_features, e_features, corrupt=False)\n",
        "      negative = self.encoder(g, n_features, e_features, corrupt=True)\n",
        "\n",
        "      positive = positive[1]\n",
        "      negative = negative[1]\n",
        "\n",
        "      summary = torch.sigmoid(positive.mean(dim=0))\n",
        "\n",
        "      positive = self.discriminator(positive, summary)\n",
        "      negative = self.discriminator(negative, summary)\n",
        "\n",
        "      l1 = self.loss(positive, torch.ones_like(positive))\n",
        "      l2 = self.loss(negative, torch.zeros_like(negative))\n",
        "\n",
        "      return l1 + l2"
      ]
    },
    {
      "cell_type": "code",
      "execution_count": 27,
      "metadata": {
        "id": "sKnfpWFMR19u"
      },
      "outputs": [],
      "source": [
        "ndim_in = train_g.ndata['h'].shape[1]\n",
        "hidden_features = 128\n",
        "ndim_out = 128\n",
        "num_layers = 1\n",
        "edim = train_g.edata['h'].shape[1]\n",
        "learning_rate = 1e-3\n",
        "epochs = 4000"
      ]
    },
    {
      "cell_type": "code",
      "execution_count": 28,
      "metadata": {
        "id": "aSl_9qY8SbA0"
      },
      "outputs": [],
      "source": [
        "dgi = DGI(ndim_in,\n",
        "    ndim_out,\n",
        "    edim,\n",
        "    F.relu)\n",
        "\n",
        "dgi = dgi.to('cuda')\n",
        "\n",
        "dgi_optimizer = torch.optim.Adam(dgi.parameters(),\n",
        "                lr=1e-3,\n",
        "                weight_decay=0.)"
      ]
    },
    {
      "cell_type": "code",
      "execution_count": 29,
      "metadata": {
        "id": "9K6_cOiWSdJA"
      },
      "outputs": [],
      "source": [
        "# Format node and edge features for E-GraphSAGE\n",
        "train_g.ndata['h'] = torch.reshape(train_g.ndata['h'],\n",
        "                                   (train_g.ndata['h'].shape[0], 1,\n",
        "                                    train_g.ndata['h'].shape[1]))\n",
        "\n",
        "train_g.edata['h'] = torch.reshape(train_g.edata['h'],\n",
        "                                   (train_g.edata['h'].shape[0], 1,\n",
        "                                    train_g.edata['h'].shape[1]))"
      ]
    },
    {
      "cell_type": "code",
      "execution_count": 30,
      "metadata": {
        "id": "O44auIyWSexg"
      },
      "outputs": [],
      "source": [
        "# Convert to GPU\n",
        "train_g = train_g.to('cuda')"
      ]
    },
    {
      "cell_type": "code",
      "execution_count": 31,
      "metadata": {
        "id": "gZtafIdxSheN"
      },
      "outputs": [],
      "source": [
        "# cnt_wait = 0\n",
        "# best = 1e9\n",
        "# best_t = 0\n",
        "# dur = []\n",
        "# node_features = train_g.ndata['h'] \n",
        "# edge_features = train_g.edata['h']\n",
        "\n",
        "# for epoch in range(epochs):\n",
        "#     dgi.train()\n",
        "#     if epoch >= 3:\n",
        "#         t0 = time.time()\n",
        "\n",
        "#     dgi_optimizer.zero_grad()\n",
        "#     loss = dgi(train_g, node_features, edge_features)\n",
        "#     loss.backward()\n",
        "#     dgi_optimizer.step()\n",
        "\n",
        "#     if loss < best:\n",
        "#         best = loss\n",
        "#         best_t = epoch\n",
        "#         cnt_wait = 0\n",
        "#         torch.save(dgi.state_dict(), 'best_dgi_UNSW_v3.pkl')\n",
        "#     else:\n",
        "#         cnt_wait += 1\n",
        "\n",
        "#   # if cnt_wait == patience:\n",
        "#   #     print('Early stopping!')\n",
        "#   #     break\n",
        "\n",
        "#     if epoch >= 3:\n",
        "#         dur.append(time.time() - t0)\n",
        "\n",
        "#     if epoch % 50 == 0:\n",
        "\n",
        "#         print(\"Epoch {:05d} | Time(s) {:.4f} | Loss {:.4f} | \"\n",
        "#             \"ETputs(KTEPS) {:.2f}\".format(epoch, np.mean(dur),\n",
        "#               loss.item(),\n",
        "#               train_g.num_edges() / np.mean(dur) / 1000))"
      ]
    },
    {
      "cell_type": "code",
      "execution_count": 32,
      "metadata": {
        "id": "RZ2HAQDAF-4c",
        "outputId": "79b6374d-390e-4571-df1d-ee46792480f7"
      },
      "outputs": [
        {
          "data": {
            "text/plain": [
              "<All keys matched successfully>"
            ]
          },
          "execution_count": 32,
          "metadata": {},
          "output_type": "execute_result"
        }
      ],
      "source": [
        "dgi.load_state_dict(torch.load('best_dgi_UNSW_v3.pkl'))"
      ]
    },
    {
      "cell_type": "code",
      "execution_count": 33,
      "metadata": {
        "id": "6Ek16GkRStKP"
      },
      "outputs": [],
      "source": [
        "training_emb = dgi.encoder(train_g, train_g.ndata['h'], train_g.edata['h'])[1]\n",
        "training_emb = training_emb.detach().cpu().numpy()"
      ]
    },
    {
      "cell_type": "code",
      "execution_count": 34,
      "metadata": {
        "id": "-FwaBlOdS4ep"
      },
      "outputs": [],
      "source": [
        "test_g.ndata['h'] = torch.reshape(test_g.ndata['h'],\n",
        "                                   (test_g.ndata['h'].shape[0], 1,\n",
        "                                    test_g.ndata['h'].shape[1]))\n",
        "\n",
        "\n",
        "\n",
        "test_g.edata['h'] = torch.reshape(test_g.edata['h'],\n",
        "                                   (test_g.edata['h'].shape[0], 1,\n",
        "                                    test_g.edata['h'].shape[1]))"
      ]
    },
    {
      "cell_type": "code",
      "execution_count": 35,
      "metadata": {
        "id": "SBa-rdivS6cQ"
      },
      "outputs": [],
      "source": [
        "# Convert to GPU\n",
        "test_g = test_g.to('cuda')"
      ]
    },
    {
      "cell_type": "code",
      "execution_count": 36,
      "metadata": {
        "id": "W12WLjslS-kx"
      },
      "outputs": [],
      "source": [
        "testing_emb = dgi.encoder(test_g, test_g.ndata['h'], test_g.edata['h'])[1]\n",
        "testing_emb = testing_emb.detach().cpu().numpy()"
      ]
    },
    {
      "cell_type": "code",
      "execution_count": 37,
      "metadata": {
        "id": "ERsOAMjeS_D8"
      },
      "outputs": [],
      "source": [
        "df_train = pd.DataFrame(training_emb, )\n",
        "df_train[\"Attack\"] = lab_enc.inverse_transform(\n",
        "        train_g.edata['Attack'].detach().cpu().numpy())\n",
        "df_train[\"Label\"] = train_g.edata['Label'].detach().cpu().numpy()\n",
        "\n",
        "df_test = pd.DataFrame(testing_emb, )\n",
        "df_test[\"Attack\"] = lab_enc.inverse_transform(\n",
        "        test_g.edata['Attack'].detach().cpu().numpy())\n",
        "df_test[\"Label\"] = test_g.edata['Label'].detach().cpu().numpy()"
      ]
    },
    {
      "cell_type": "code",
      "execution_count": 38,
      "metadata": {
        "colab": {
          "base_uri": "https://localhost:8080/",
          "height": 488
        },
        "id": "B8p79H9dat5T",
        "outputId": "0d6e82d8-5d02-49eb-a16f-d44e52ea3dff"
      },
      "outputs": [
        {
          "data": {
            "text/html": [
              "<div>\n",
              "<style scoped>\n",
              "    .dataframe tbody tr th:only-of-type {\n",
              "        vertical-align: middle;\n",
              "    }\n",
              "\n",
              "    .dataframe tbody tr th {\n",
              "        vertical-align: top;\n",
              "    }\n",
              "\n",
              "    .dataframe thead th {\n",
              "        text-align: right;\n",
              "    }\n",
              "</style>\n",
              "<table border=\"1\" class=\"dataframe\">\n",
              "  <thead>\n",
              "    <tr style=\"text-align: right;\">\n",
              "      <th></th>\n",
              "      <th>0</th>\n",
              "      <th>1</th>\n",
              "      <th>2</th>\n",
              "      <th>3</th>\n",
              "      <th>4</th>\n",
              "      <th>5</th>\n",
              "      <th>6</th>\n",
              "      <th>7</th>\n",
              "      <th>8</th>\n",
              "      <th>9</th>\n",
              "      <th>...</th>\n",
              "      <th>248</th>\n",
              "      <th>249</th>\n",
              "      <th>250</th>\n",
              "      <th>251</th>\n",
              "      <th>252</th>\n",
              "      <th>253</th>\n",
              "      <th>254</th>\n",
              "      <th>255</th>\n",
              "      <th>Attack</th>\n",
              "      <th>Label</th>\n",
              "    </tr>\n",
              "  </thead>\n",
              "  <tbody>\n",
              "    <tr>\n",
              "      <th>0</th>\n",
              "      <td>0.059827</td>\n",
              "      <td>-0.062374</td>\n",
              "      <td>0.058713</td>\n",
              "      <td>0.079709</td>\n",
              "      <td>0.041607</td>\n",
              "      <td>0.097148</td>\n",
              "      <td>0.185068</td>\n",
              "      <td>0.175076</td>\n",
              "      <td>0.037400</td>\n",
              "      <td>-0.011215</td>\n",
              "      <td>...</td>\n",
              "      <td>0.007576</td>\n",
              "      <td>0.006639</td>\n",
              "      <td>-0.105099</td>\n",
              "      <td>0.082139</td>\n",
              "      <td>0.258052</td>\n",
              "      <td>0.175949</td>\n",
              "      <td>0.073437</td>\n",
              "      <td>0.155727</td>\n",
              "      <td>Analysis</td>\n",
              "      <td>1</td>\n",
              "    </tr>\n",
              "    <tr>\n",
              "      <th>1</th>\n",
              "      <td>0.059827</td>\n",
              "      <td>-0.062374</td>\n",
              "      <td>0.058713</td>\n",
              "      <td>0.079709</td>\n",
              "      <td>0.041607</td>\n",
              "      <td>0.097148</td>\n",
              "      <td>0.185068</td>\n",
              "      <td>0.175076</td>\n",
              "      <td>0.037400</td>\n",
              "      <td>-0.011215</td>\n",
              "      <td>...</td>\n",
              "      <td>0.007576</td>\n",
              "      <td>0.006639</td>\n",
              "      <td>-0.105099</td>\n",
              "      <td>0.082139</td>\n",
              "      <td>0.258052</td>\n",
              "      <td>0.175949</td>\n",
              "      <td>0.073437</td>\n",
              "      <td>0.155727</td>\n",
              "      <td>Analysis</td>\n",
              "      <td>1</td>\n",
              "    </tr>\n",
              "    <tr>\n",
              "      <th>2</th>\n",
              "      <td>0.059827</td>\n",
              "      <td>-0.062374</td>\n",
              "      <td>0.058713</td>\n",
              "      <td>0.079709</td>\n",
              "      <td>0.041607</td>\n",
              "      <td>0.097148</td>\n",
              "      <td>0.185068</td>\n",
              "      <td>0.175076</td>\n",
              "      <td>0.037400</td>\n",
              "      <td>-0.011215</td>\n",
              "      <td>...</td>\n",
              "      <td>0.007576</td>\n",
              "      <td>0.006639</td>\n",
              "      <td>-0.105099</td>\n",
              "      <td>0.082139</td>\n",
              "      <td>0.258052</td>\n",
              "      <td>0.175949</td>\n",
              "      <td>0.073437</td>\n",
              "      <td>0.155727</td>\n",
              "      <td>Analysis</td>\n",
              "      <td>1</td>\n",
              "    </tr>\n",
              "    <tr>\n",
              "      <th>3</th>\n",
              "      <td>0.059827</td>\n",
              "      <td>-0.062374</td>\n",
              "      <td>0.058713</td>\n",
              "      <td>0.079709</td>\n",
              "      <td>0.041607</td>\n",
              "      <td>0.097148</td>\n",
              "      <td>0.185068</td>\n",
              "      <td>0.175076</td>\n",
              "      <td>0.037400</td>\n",
              "      <td>-0.011215</td>\n",
              "      <td>...</td>\n",
              "      <td>0.007576</td>\n",
              "      <td>0.006639</td>\n",
              "      <td>-0.105099</td>\n",
              "      <td>0.082139</td>\n",
              "      <td>0.258052</td>\n",
              "      <td>0.175949</td>\n",
              "      <td>0.073437</td>\n",
              "      <td>0.155727</td>\n",
              "      <td>Analysis</td>\n",
              "      <td>1</td>\n",
              "    </tr>\n",
              "    <tr>\n",
              "      <th>4</th>\n",
              "      <td>0.059827</td>\n",
              "      <td>-0.062374</td>\n",
              "      <td>0.058713</td>\n",
              "      <td>0.079709</td>\n",
              "      <td>0.041607</td>\n",
              "      <td>0.097148</td>\n",
              "      <td>0.185068</td>\n",
              "      <td>0.175076</td>\n",
              "      <td>0.037400</td>\n",
              "      <td>-0.011215</td>\n",
              "      <td>...</td>\n",
              "      <td>0.007576</td>\n",
              "      <td>0.006639</td>\n",
              "      <td>-0.105099</td>\n",
              "      <td>0.082139</td>\n",
              "      <td>0.258052</td>\n",
              "      <td>0.175949</td>\n",
              "      <td>0.073437</td>\n",
              "      <td>0.155727</td>\n",
              "      <td>Analysis</td>\n",
              "      <td>1</td>\n",
              "    </tr>\n",
              "    <tr>\n",
              "      <th>...</th>\n",
              "      <td>...</td>\n",
              "      <td>...</td>\n",
              "      <td>...</td>\n",
              "      <td>...</td>\n",
              "      <td>...</td>\n",
              "      <td>...</td>\n",
              "      <td>...</td>\n",
              "      <td>...</td>\n",
              "      <td>...</td>\n",
              "      <td>...</td>\n",
              "      <td>...</td>\n",
              "      <td>...</td>\n",
              "      <td>...</td>\n",
              "      <td>...</td>\n",
              "      <td>...</td>\n",
              "      <td>...</td>\n",
              "      <td>...</td>\n",
              "      <td>...</td>\n",
              "      <td>...</td>\n",
              "      <td>...</td>\n",
              "      <td>...</td>\n",
              "    </tr>\n",
              "    <tr>\n",
              "      <th>448580</th>\n",
              "      <td>-0.035866</td>\n",
              "      <td>-0.133072</td>\n",
              "      <td>0.113057</td>\n",
              "      <td>-0.015819</td>\n",
              "      <td>0.091003</td>\n",
              "      <td>0.212770</td>\n",
              "      <td>0.170348</td>\n",
              "      <td>0.118591</td>\n",
              "      <td>0.041808</td>\n",
              "      <td>0.021649</td>\n",
              "      <td>...</td>\n",
              "      <td>0.056514</td>\n",
              "      <td>-0.036542</td>\n",
              "      <td>-0.031596</td>\n",
              "      <td>0.124603</td>\n",
              "      <td>0.245927</td>\n",
              "      <td>0.229201</td>\n",
              "      <td>0.112923</td>\n",
              "      <td>0.176976</td>\n",
              "      <td>Benign</td>\n",
              "      <td>0</td>\n",
              "    </tr>\n",
              "    <tr>\n",
              "      <th>448581</th>\n",
              "      <td>-0.035866</td>\n",
              "      <td>-0.133072</td>\n",
              "      <td>0.113057</td>\n",
              "      <td>-0.015819</td>\n",
              "      <td>0.091003</td>\n",
              "      <td>0.212770</td>\n",
              "      <td>0.170348</td>\n",
              "      <td>0.118591</td>\n",
              "      <td>0.041808</td>\n",
              "      <td>0.021649</td>\n",
              "      <td>...</td>\n",
              "      <td>0.056514</td>\n",
              "      <td>-0.036542</td>\n",
              "      <td>-0.031596</td>\n",
              "      <td>0.124603</td>\n",
              "      <td>0.245927</td>\n",
              "      <td>0.229201</td>\n",
              "      <td>0.112923</td>\n",
              "      <td>0.176976</td>\n",
              "      <td>Benign</td>\n",
              "      <td>0</td>\n",
              "    </tr>\n",
              "    <tr>\n",
              "      <th>448582</th>\n",
              "      <td>-0.035866</td>\n",
              "      <td>-0.133072</td>\n",
              "      <td>0.113057</td>\n",
              "      <td>-0.015819</td>\n",
              "      <td>0.091003</td>\n",
              "      <td>0.212770</td>\n",
              "      <td>0.170348</td>\n",
              "      <td>0.118591</td>\n",
              "      <td>0.041808</td>\n",
              "      <td>0.021649</td>\n",
              "      <td>...</td>\n",
              "      <td>0.056514</td>\n",
              "      <td>-0.036542</td>\n",
              "      <td>-0.031596</td>\n",
              "      <td>0.124603</td>\n",
              "      <td>0.245927</td>\n",
              "      <td>0.229201</td>\n",
              "      <td>0.112923</td>\n",
              "      <td>0.176976</td>\n",
              "      <td>Benign</td>\n",
              "      <td>0</td>\n",
              "    </tr>\n",
              "    <tr>\n",
              "      <th>448583</th>\n",
              "      <td>-0.035866</td>\n",
              "      <td>-0.133072</td>\n",
              "      <td>0.113057</td>\n",
              "      <td>-0.015819</td>\n",
              "      <td>0.091003</td>\n",
              "      <td>0.212770</td>\n",
              "      <td>0.170348</td>\n",
              "      <td>0.118591</td>\n",
              "      <td>0.041808</td>\n",
              "      <td>0.021649</td>\n",
              "      <td>...</td>\n",
              "      <td>0.056514</td>\n",
              "      <td>-0.036542</td>\n",
              "      <td>-0.031596</td>\n",
              "      <td>0.124603</td>\n",
              "      <td>0.245927</td>\n",
              "      <td>0.229201</td>\n",
              "      <td>0.112923</td>\n",
              "      <td>0.176976</td>\n",
              "      <td>Benign</td>\n",
              "      <td>0</td>\n",
              "    </tr>\n",
              "    <tr>\n",
              "      <th>448584</th>\n",
              "      <td>-0.035441</td>\n",
              "      <td>-0.141974</td>\n",
              "      <td>0.112953</td>\n",
              "      <td>-0.006783</td>\n",
              "      <td>0.093436</td>\n",
              "      <td>0.219335</td>\n",
              "      <td>0.167524</td>\n",
              "      <td>0.112879</td>\n",
              "      <td>0.026460</td>\n",
              "      <td>0.019628</td>\n",
              "      <td>...</td>\n",
              "      <td>0.061916</td>\n",
              "      <td>-0.033276</td>\n",
              "      <td>-0.030168</td>\n",
              "      <td>0.129197</td>\n",
              "      <td>0.261412</td>\n",
              "      <td>0.231128</td>\n",
              "      <td>0.115489</td>\n",
              "      <td>0.169400</td>\n",
              "      <td>Benign</td>\n",
              "      <td>0</td>\n",
              "    </tr>\n",
              "  </tbody>\n",
              "</table>\n",
              "<p>448585 rows × 258 columns</p>\n",
              "</div>"
            ],
            "text/plain": [
              "               0         1         2         3         4         5         6  \\\n",
              "0       0.059827 -0.062374  0.058713  0.079709  0.041607  0.097148  0.185068   \n",
              "1       0.059827 -0.062374  0.058713  0.079709  0.041607  0.097148  0.185068   \n",
              "2       0.059827 -0.062374  0.058713  0.079709  0.041607  0.097148  0.185068   \n",
              "3       0.059827 -0.062374  0.058713  0.079709  0.041607  0.097148  0.185068   \n",
              "4       0.059827 -0.062374  0.058713  0.079709  0.041607  0.097148  0.185068   \n",
              "...          ...       ...       ...       ...       ...       ...       ...   \n",
              "448580 -0.035866 -0.133072  0.113057 -0.015819  0.091003  0.212770  0.170348   \n",
              "448581 -0.035866 -0.133072  0.113057 -0.015819  0.091003  0.212770  0.170348   \n",
              "448582 -0.035866 -0.133072  0.113057 -0.015819  0.091003  0.212770  0.170348   \n",
              "448583 -0.035866 -0.133072  0.113057 -0.015819  0.091003  0.212770  0.170348   \n",
              "448584 -0.035441 -0.141974  0.112953 -0.006783  0.093436  0.219335  0.167524   \n",
              "\n",
              "               7         8         9  ...       248       249       250  \\\n",
              "0       0.175076  0.037400 -0.011215  ...  0.007576  0.006639 -0.105099   \n",
              "1       0.175076  0.037400 -0.011215  ...  0.007576  0.006639 -0.105099   \n",
              "2       0.175076  0.037400 -0.011215  ...  0.007576  0.006639 -0.105099   \n",
              "3       0.175076  0.037400 -0.011215  ...  0.007576  0.006639 -0.105099   \n",
              "4       0.175076  0.037400 -0.011215  ...  0.007576  0.006639 -0.105099   \n",
              "...          ...       ...       ...  ...       ...       ...       ...   \n",
              "448580  0.118591  0.041808  0.021649  ...  0.056514 -0.036542 -0.031596   \n",
              "448581  0.118591  0.041808  0.021649  ...  0.056514 -0.036542 -0.031596   \n",
              "448582  0.118591  0.041808  0.021649  ...  0.056514 -0.036542 -0.031596   \n",
              "448583  0.118591  0.041808  0.021649  ...  0.056514 -0.036542 -0.031596   \n",
              "448584  0.112879  0.026460  0.019628  ...  0.061916 -0.033276 -0.030168   \n",
              "\n",
              "             251       252       253       254       255    Attack  Label  \n",
              "0       0.082139  0.258052  0.175949  0.073437  0.155727  Analysis      1  \n",
              "1       0.082139  0.258052  0.175949  0.073437  0.155727  Analysis      1  \n",
              "2       0.082139  0.258052  0.175949  0.073437  0.155727  Analysis      1  \n",
              "3       0.082139  0.258052  0.175949  0.073437  0.155727  Analysis      1  \n",
              "4       0.082139  0.258052  0.175949  0.073437  0.155727  Analysis      1  \n",
              "...          ...       ...       ...       ...       ...       ...    ...  \n",
              "448580  0.124603  0.245927  0.229201  0.112923  0.176976    Benign      0  \n",
              "448581  0.124603  0.245927  0.229201  0.112923  0.176976    Benign      0  \n",
              "448582  0.124603  0.245927  0.229201  0.112923  0.176976    Benign      0  \n",
              "448583  0.124603  0.245927  0.229201  0.112923  0.176976    Benign      0  \n",
              "448584  0.129197  0.261412  0.231128  0.115489  0.169400    Benign      0  \n",
              "\n",
              "[448585 rows x 258 columns]"
            ]
          },
          "execution_count": 38,
          "metadata": {},
          "output_type": "execute_result"
        }
      ],
      "source": [
        "df_train"
      ]
    },
    {
      "cell_type": "markdown",
      "metadata": {
        "id": "7ScEk1y_TzzX"
      },
      "source": [
        "# Embeddings CBLOF  Embeddings"
      ]
    },
    {
      "cell_type": "code",
      "execution_count": 39,
      "metadata": {
        "id": "ZYABKzdrTGas"
      },
      "outputs": [],
      "source": [
        "import torch\n",
        "import dgl\n",
        "import numpy as np\n",
        "import pandas as pd\n",
        "import torch.optim as optim\n",
        "import time\n",
        "import seaborn as sns\n",
        "import matplotlib.pyplot as plt\n",
        "from sklearn.model_selection import train_test_split\n",
        "from sklearn.metrics import classification_report, f1_score\n",
        "from sklearn.ensemble import IsolationForest\n",
        "import gc\n",
        "\n",
        "from tqdm import tqdm\n",
        "import itertools"
      ]
    },
    {
      "cell_type": "code",
      "execution_count": 40,
      "metadata": {
        "id": "RkFS_-dcTJeK"
      },
      "outputs": [],
      "source": [
        "benign_train_samples = df_train[df_train.Label == 0].drop(columns=[\"Label\", \"Attack\"])\n",
        "normal_train_samples = df_train.drop(columns=[\"Label\", \"Attack\"])\n",
        "\n",
        "train_labels = df_train[\"Label\"]\n",
        "test_labels = df_test[\"Label\"]\n",
        "\n",
        "test_samples = df_test.drop(columns=[\"Label\", \"Attack\"])"
      ]
    },
    {
      "cell_type": "code",
      "execution_count": 41,
      "metadata": {},
      "outputs": [
        {
          "data": {
            "text/html": [
              "<div>\n",
              "<style scoped>\n",
              "    .dataframe tbody tr th:only-of-type {\n",
              "        vertical-align: middle;\n",
              "    }\n",
              "\n",
              "    .dataframe tbody tr th {\n",
              "        vertical-align: top;\n",
              "    }\n",
              "\n",
              "    .dataframe thead th {\n",
              "        text-align: right;\n",
              "    }\n",
              "</style>\n",
              "<table border=\"1\" class=\"dataframe\">\n",
              "  <thead>\n",
              "    <tr style=\"text-align: right;\">\n",
              "      <th></th>\n",
              "      <th>0</th>\n",
              "      <th>1</th>\n",
              "      <th>2</th>\n",
              "      <th>3</th>\n",
              "      <th>4</th>\n",
              "      <th>5</th>\n",
              "      <th>6</th>\n",
              "      <th>7</th>\n",
              "      <th>8</th>\n",
              "      <th>9</th>\n",
              "      <th>...</th>\n",
              "      <th>246</th>\n",
              "      <th>247</th>\n",
              "      <th>248</th>\n",
              "      <th>249</th>\n",
              "      <th>250</th>\n",
              "      <th>251</th>\n",
              "      <th>252</th>\n",
              "      <th>253</th>\n",
              "      <th>254</th>\n",
              "      <th>255</th>\n",
              "    </tr>\n",
              "  </thead>\n",
              "  <tbody>\n",
              "    <tr>\n",
              "      <th>0</th>\n",
              "      <td>0.168109</td>\n",
              "      <td>-0.144782</td>\n",
              "      <td>0.125198</td>\n",
              "      <td>0.026733</td>\n",
              "      <td>-0.046728</td>\n",
              "      <td>0.034635</td>\n",
              "      <td>0.235400</td>\n",
              "      <td>0.162897</td>\n",
              "      <td>0.250891</td>\n",
              "      <td>0.004992</td>\n",
              "      <td>...</td>\n",
              "      <td>0.399815</td>\n",
              "      <td>0.072385</td>\n",
              "      <td>0.097955</td>\n",
              "      <td>0.056165</td>\n",
              "      <td>-0.163973</td>\n",
              "      <td>0.125199</td>\n",
              "      <td>0.165093</td>\n",
              "      <td>-0.031553</td>\n",
              "      <td>0.060152</td>\n",
              "      <td>0.198851</td>\n",
              "    </tr>\n",
              "    <tr>\n",
              "      <th>1</th>\n",
              "      <td>0.168109</td>\n",
              "      <td>-0.144782</td>\n",
              "      <td>0.125198</td>\n",
              "      <td>0.026733</td>\n",
              "      <td>-0.046728</td>\n",
              "      <td>0.034635</td>\n",
              "      <td>0.235400</td>\n",
              "      <td>0.162897</td>\n",
              "      <td>0.250891</td>\n",
              "      <td>0.004992</td>\n",
              "      <td>...</td>\n",
              "      <td>0.399815</td>\n",
              "      <td>0.072385</td>\n",
              "      <td>0.097955</td>\n",
              "      <td>0.056165</td>\n",
              "      <td>-0.163973</td>\n",
              "      <td>0.125199</td>\n",
              "      <td>0.165093</td>\n",
              "      <td>-0.031553</td>\n",
              "      <td>0.060152</td>\n",
              "      <td>0.198851</td>\n",
              "    </tr>\n",
              "    <tr>\n",
              "      <th>2</th>\n",
              "      <td>0.168109</td>\n",
              "      <td>-0.144782</td>\n",
              "      <td>0.125198</td>\n",
              "      <td>0.026733</td>\n",
              "      <td>-0.046728</td>\n",
              "      <td>0.034635</td>\n",
              "      <td>0.235400</td>\n",
              "      <td>0.162897</td>\n",
              "      <td>0.250891</td>\n",
              "      <td>0.004992</td>\n",
              "      <td>...</td>\n",
              "      <td>0.399815</td>\n",
              "      <td>0.072385</td>\n",
              "      <td>0.097955</td>\n",
              "      <td>0.056165</td>\n",
              "      <td>-0.163973</td>\n",
              "      <td>0.125199</td>\n",
              "      <td>0.165093</td>\n",
              "      <td>-0.031553</td>\n",
              "      <td>0.060152</td>\n",
              "      <td>0.198851</td>\n",
              "    </tr>\n",
              "    <tr>\n",
              "      <th>3</th>\n",
              "      <td>0.168109</td>\n",
              "      <td>-0.144782</td>\n",
              "      <td>0.125198</td>\n",
              "      <td>0.026733</td>\n",
              "      <td>-0.046728</td>\n",
              "      <td>0.034635</td>\n",
              "      <td>0.235400</td>\n",
              "      <td>0.162897</td>\n",
              "      <td>0.250891</td>\n",
              "      <td>0.004992</td>\n",
              "      <td>...</td>\n",
              "      <td>0.399815</td>\n",
              "      <td>0.072385</td>\n",
              "      <td>0.097955</td>\n",
              "      <td>0.056165</td>\n",
              "      <td>-0.163973</td>\n",
              "      <td>0.125199</td>\n",
              "      <td>0.165093</td>\n",
              "      <td>-0.031553</td>\n",
              "      <td>0.060152</td>\n",
              "      <td>0.198851</td>\n",
              "    </tr>\n",
              "    <tr>\n",
              "      <th>4</th>\n",
              "      <td>0.168109</td>\n",
              "      <td>-0.144782</td>\n",
              "      <td>0.125198</td>\n",
              "      <td>0.026733</td>\n",
              "      <td>-0.046728</td>\n",
              "      <td>0.034635</td>\n",
              "      <td>0.235400</td>\n",
              "      <td>0.162897</td>\n",
              "      <td>0.250891</td>\n",
              "      <td>0.004992</td>\n",
              "      <td>...</td>\n",
              "      <td>0.399815</td>\n",
              "      <td>0.072385</td>\n",
              "      <td>0.097955</td>\n",
              "      <td>0.056165</td>\n",
              "      <td>-0.163973</td>\n",
              "      <td>0.125199</td>\n",
              "      <td>0.165093</td>\n",
              "      <td>-0.031553</td>\n",
              "      <td>0.060152</td>\n",
              "      <td>0.198851</td>\n",
              "    </tr>\n",
              "    <tr>\n",
              "      <th>...</th>\n",
              "      <td>...</td>\n",
              "      <td>...</td>\n",
              "      <td>...</td>\n",
              "      <td>...</td>\n",
              "      <td>...</td>\n",
              "      <td>...</td>\n",
              "      <td>...</td>\n",
              "      <td>...</td>\n",
              "      <td>...</td>\n",
              "      <td>...</td>\n",
              "      <td>...</td>\n",
              "      <td>...</td>\n",
              "      <td>...</td>\n",
              "      <td>...</td>\n",
              "      <td>...</td>\n",
              "      <td>...</td>\n",
              "      <td>...</td>\n",
              "      <td>...</td>\n",
              "      <td>...</td>\n",
              "      <td>...</td>\n",
              "      <td>...</td>\n",
              "    </tr>\n",
              "    <tr>\n",
              "      <th>236853</th>\n",
              "      <td>0.169167</td>\n",
              "      <td>-0.190891</td>\n",
              "      <td>0.135045</td>\n",
              "      <td>0.054692</td>\n",
              "      <td>-0.081589</td>\n",
              "      <td>0.038151</td>\n",
              "      <td>0.254963</td>\n",
              "      <td>0.178242</td>\n",
              "      <td>0.202676</td>\n",
              "      <td>-0.005593</td>\n",
              "      <td>...</td>\n",
              "      <td>0.407088</td>\n",
              "      <td>0.109411</td>\n",
              "      <td>0.069406</td>\n",
              "      <td>0.069748</td>\n",
              "      <td>-0.189418</td>\n",
              "      <td>0.135906</td>\n",
              "      <td>0.186746</td>\n",
              "      <td>-0.008250</td>\n",
              "      <td>0.071179</td>\n",
              "      <td>0.202859</td>\n",
              "    </tr>\n",
              "    <tr>\n",
              "      <th>236854</th>\n",
              "      <td>0.169167</td>\n",
              "      <td>-0.190891</td>\n",
              "      <td>0.135045</td>\n",
              "      <td>0.054692</td>\n",
              "      <td>-0.081589</td>\n",
              "      <td>0.038151</td>\n",
              "      <td>0.254963</td>\n",
              "      <td>0.178242</td>\n",
              "      <td>0.202676</td>\n",
              "      <td>-0.005593</td>\n",
              "      <td>...</td>\n",
              "      <td>0.407088</td>\n",
              "      <td>0.109411</td>\n",
              "      <td>0.069406</td>\n",
              "      <td>0.069748</td>\n",
              "      <td>-0.189418</td>\n",
              "      <td>0.135906</td>\n",
              "      <td>0.186746</td>\n",
              "      <td>-0.008250</td>\n",
              "      <td>0.071179</td>\n",
              "      <td>0.202859</td>\n",
              "    </tr>\n",
              "    <tr>\n",
              "      <th>236855</th>\n",
              "      <td>0.169167</td>\n",
              "      <td>-0.190891</td>\n",
              "      <td>0.135045</td>\n",
              "      <td>0.054692</td>\n",
              "      <td>-0.081589</td>\n",
              "      <td>0.038151</td>\n",
              "      <td>0.254963</td>\n",
              "      <td>0.178242</td>\n",
              "      <td>0.202676</td>\n",
              "      <td>-0.005593</td>\n",
              "      <td>...</td>\n",
              "      <td>0.407088</td>\n",
              "      <td>0.109411</td>\n",
              "      <td>0.069406</td>\n",
              "      <td>0.069748</td>\n",
              "      <td>-0.189418</td>\n",
              "      <td>0.135906</td>\n",
              "      <td>0.186746</td>\n",
              "      <td>-0.008250</td>\n",
              "      <td>0.071179</td>\n",
              "      <td>0.202859</td>\n",
              "    </tr>\n",
              "    <tr>\n",
              "      <th>236856</th>\n",
              "      <td>0.169167</td>\n",
              "      <td>-0.190891</td>\n",
              "      <td>0.135045</td>\n",
              "      <td>0.054692</td>\n",
              "      <td>-0.081589</td>\n",
              "      <td>0.038151</td>\n",
              "      <td>0.254963</td>\n",
              "      <td>0.178242</td>\n",
              "      <td>0.202676</td>\n",
              "      <td>-0.005593</td>\n",
              "      <td>...</td>\n",
              "      <td>0.407088</td>\n",
              "      <td>0.109411</td>\n",
              "      <td>0.069406</td>\n",
              "      <td>0.069748</td>\n",
              "      <td>-0.189418</td>\n",
              "      <td>0.135906</td>\n",
              "      <td>0.186746</td>\n",
              "      <td>-0.008250</td>\n",
              "      <td>0.071179</td>\n",
              "      <td>0.202859</td>\n",
              "    </tr>\n",
              "    <tr>\n",
              "      <th>236857</th>\n",
              "      <td>0.169167</td>\n",
              "      <td>-0.190891</td>\n",
              "      <td>0.135045</td>\n",
              "      <td>0.054692</td>\n",
              "      <td>-0.081589</td>\n",
              "      <td>0.038151</td>\n",
              "      <td>0.254963</td>\n",
              "      <td>0.178242</td>\n",
              "      <td>0.202676</td>\n",
              "      <td>-0.005593</td>\n",
              "      <td>...</td>\n",
              "      <td>0.407088</td>\n",
              "      <td>0.109411</td>\n",
              "      <td>0.069406</td>\n",
              "      <td>0.069748</td>\n",
              "      <td>-0.189418</td>\n",
              "      <td>0.135906</td>\n",
              "      <td>0.186746</td>\n",
              "      <td>-0.008250</td>\n",
              "      <td>0.071179</td>\n",
              "      <td>0.202859</td>\n",
              "    </tr>\n",
              "  </tbody>\n",
              "</table>\n",
              "<p>236858 rows × 256 columns</p>\n",
              "</div>"
            ],
            "text/plain": [
              "             0         1         2         3         4         5         6    \\\n",
              "0       0.168109 -0.144782  0.125198  0.026733 -0.046728  0.034635  0.235400   \n",
              "1       0.168109 -0.144782  0.125198  0.026733 -0.046728  0.034635  0.235400   \n",
              "2       0.168109 -0.144782  0.125198  0.026733 -0.046728  0.034635  0.235400   \n",
              "3       0.168109 -0.144782  0.125198  0.026733 -0.046728  0.034635  0.235400   \n",
              "4       0.168109 -0.144782  0.125198  0.026733 -0.046728  0.034635  0.235400   \n",
              "...          ...       ...       ...       ...       ...       ...       ...   \n",
              "236853  0.169167 -0.190891  0.135045  0.054692 -0.081589  0.038151  0.254963   \n",
              "236854  0.169167 -0.190891  0.135045  0.054692 -0.081589  0.038151  0.254963   \n",
              "236855  0.169167 -0.190891  0.135045  0.054692 -0.081589  0.038151  0.254963   \n",
              "236856  0.169167 -0.190891  0.135045  0.054692 -0.081589  0.038151  0.254963   \n",
              "236857  0.169167 -0.190891  0.135045  0.054692 -0.081589  0.038151  0.254963   \n",
              "\n",
              "             7         8         9    ...       246       247       248  \\\n",
              "0       0.162897  0.250891  0.004992  ...  0.399815  0.072385  0.097955   \n",
              "1       0.162897  0.250891  0.004992  ...  0.399815  0.072385  0.097955   \n",
              "2       0.162897  0.250891  0.004992  ...  0.399815  0.072385  0.097955   \n",
              "3       0.162897  0.250891  0.004992  ...  0.399815  0.072385  0.097955   \n",
              "4       0.162897  0.250891  0.004992  ...  0.399815  0.072385  0.097955   \n",
              "...          ...       ...       ...  ...       ...       ...       ...   \n",
              "236853  0.178242  0.202676 -0.005593  ...  0.407088  0.109411  0.069406   \n",
              "236854  0.178242  0.202676 -0.005593  ...  0.407088  0.109411  0.069406   \n",
              "236855  0.178242  0.202676 -0.005593  ...  0.407088  0.109411  0.069406   \n",
              "236856  0.178242  0.202676 -0.005593  ...  0.407088  0.109411  0.069406   \n",
              "236857  0.178242  0.202676 -0.005593  ...  0.407088  0.109411  0.069406   \n",
              "\n",
              "             249       250       251       252       253       254       255  \n",
              "0       0.056165 -0.163973  0.125199  0.165093 -0.031553  0.060152  0.198851  \n",
              "1       0.056165 -0.163973  0.125199  0.165093 -0.031553  0.060152  0.198851  \n",
              "2       0.056165 -0.163973  0.125199  0.165093 -0.031553  0.060152  0.198851  \n",
              "3       0.056165 -0.163973  0.125199  0.165093 -0.031553  0.060152  0.198851  \n",
              "4       0.056165 -0.163973  0.125199  0.165093 -0.031553  0.060152  0.198851  \n",
              "...          ...       ...       ...       ...       ...       ...       ...  \n",
              "236853  0.069748 -0.189418  0.135906  0.186746 -0.008250  0.071179  0.202859  \n",
              "236854  0.069748 -0.189418  0.135906  0.186746 -0.008250  0.071179  0.202859  \n",
              "236855  0.069748 -0.189418  0.135906  0.186746 -0.008250  0.071179  0.202859  \n",
              "236856  0.069748 -0.189418  0.135906  0.186746 -0.008250  0.071179  0.202859  \n",
              "236857  0.069748 -0.189418  0.135906  0.186746 -0.008250  0.071179  0.202859  \n",
              "\n",
              "[236858 rows x 256 columns]"
            ]
          },
          "execution_count": 41,
          "metadata": {},
          "output_type": "execute_result"
        }
      ],
      "source": [
        "test_samples"
      ]
    },
    {
      "cell_type": "code",
      "execution_count": 42,
      "metadata": {},
      "outputs": [],
      "source": [
        "df_raw_train = pd.concat([X_train.drop(columns=[\"IPV4_SRC_ADDR\",\"IPV4_DST_ADDR\", \"h\"]), y_train], axis=1)\n",
        "df_raw_test = pd.concat([X_test.drop(columns=[\"IPV4_SRC_ADDR\",\"IPV4_DST_ADDR\", \"h\"]), y_test], axis=1)"
      ]
    },
    {
      "cell_type": "code",
      "execution_count": 43,
      "metadata": {},
      "outputs": [
        {
          "data": {
            "text/html": [
              "<div>\n",
              "<style scoped>\n",
              "    .dataframe tbody tr th:only-of-type {\n",
              "        vertical-align: middle;\n",
              "    }\n",
              "\n",
              "    .dataframe tbody tr th {\n",
              "        vertical-align: top;\n",
              "    }\n",
              "\n",
              "    .dataframe thead th {\n",
              "        text-align: right;\n",
              "    }\n",
              "</style>\n",
              "<table border=\"1\" class=\"dataframe\">\n",
              "  <thead>\n",
              "    <tr style=\"text-align: right;\">\n",
              "      <th></th>\n",
              "      <th>PROTOCOL</th>\n",
              "      <th>L7_PROTO</th>\n",
              "      <th>IN_BYTES</th>\n",
              "      <th>IN_PKTS</th>\n",
              "      <th>OUT_BYTES</th>\n",
              "      <th>OUT_PKTS</th>\n",
              "      <th>TCP_FLAGS</th>\n",
              "      <th>CLIENT_TCP_FLAGS</th>\n",
              "      <th>SERVER_TCP_FLAGS</th>\n",
              "      <th>FLOW_DURATION_MILLISECONDS</th>\n",
              "      <th>...</th>\n",
              "      <th>TCP_WIN_MAX_IN</th>\n",
              "      <th>TCP_WIN_MAX_OUT</th>\n",
              "      <th>ICMP_TYPE</th>\n",
              "      <th>ICMP_IPV4_TYPE</th>\n",
              "      <th>DNS_QUERY_ID</th>\n",
              "      <th>DNS_QUERY_TYPE</th>\n",
              "      <th>DNS_TTL_ANSWER</th>\n",
              "      <th>FTP_COMMAND_RET_CODE</th>\n",
              "      <th>Attack</th>\n",
              "      <th>Label</th>\n",
              "    </tr>\n",
              "  </thead>\n",
              "  <tbody>\n",
              "    <tr>\n",
              "      <th>28228</th>\n",
              "      <td>1.719763e-06</td>\n",
              "      <td>4.298851e-06</td>\n",
              "      <td>0.028485</td>\n",
              "      <td>0.000341</td>\n",
              "      <td>0.045794</td>\n",
              "      <td>0.000341</td>\n",
              "      <td>5.420943e-07</td>\n",
              "      <td>5.797048e-07</td>\n",
              "      <td>2.172674e-05</td>\n",
              "      <td>0.024089</td>\n",
              "      <td>...</td>\n",
              "      <td>0.558214</td>\n",
              "      <td>0.558214</td>\n",
              "      <td>6.541834e-06</td>\n",
              "      <td>6.541834e-06</td>\n",
              "      <td>1.597788e-06</td>\n",
              "      <td>1.597954e-06</td>\n",
              "      <td>0.0</td>\n",
              "      <td>1.540128e-06</td>\n",
              "      <td>Analysis</td>\n",
              "      <td>1</td>\n",
              "    </tr>\n",
              "    <tr>\n",
              "      <th>856405</th>\n",
              "      <td>1.379976e-06</td>\n",
              "      <td>3.449494e-06</td>\n",
              "      <td>0.022255</td>\n",
              "      <td>0.000273</td>\n",
              "      <td>0.035816</td>\n",
              "      <td>0.000219</td>\n",
              "      <td>4.349885e-07</td>\n",
              "      <td>4.651680e-07</td>\n",
              "      <td>1.743402e-05</td>\n",
              "      <td>0.011921</td>\n",
              "      <td>...</td>\n",
              "      <td>0.447924</td>\n",
              "      <td>0.447924</td>\n",
              "      <td>9.316029e-06</td>\n",
              "      <td>9.247537e-06</td>\n",
              "      <td>1.282101e-06</td>\n",
              "      <td>1.282234e-06</td>\n",
              "      <td>0.0</td>\n",
              "      <td>1.235833e-06</td>\n",
              "      <td>Analysis</td>\n",
              "      <td>1</td>\n",
              "    </tr>\n",
              "    <tr>\n",
              "      <th>465045</th>\n",
              "      <td>1.987601e-06</td>\n",
              "      <td>4.968358e-06</td>\n",
              "      <td>0.031897</td>\n",
              "      <td>0.000394</td>\n",
              "      <td>0.043554</td>\n",
              "      <td>0.000315</td>\n",
              "      <td>6.265204e-07</td>\n",
              "      <td>6.699884e-07</td>\n",
              "      <td>2.511048e-05</td>\n",
              "      <td>0.042687</td>\n",
              "      <td>...</td>\n",
              "      <td>0.645151</td>\n",
              "      <td>0.645151</td>\n",
              "      <td>4.500492e-06</td>\n",
              "      <td>4.642276e-06</td>\n",
              "      <td>1.846629e-06</td>\n",
              "      <td>1.846821e-06</td>\n",
              "      <td>0.0</td>\n",
              "      <td>1.779989e-06</td>\n",
              "      <td>Analysis</td>\n",
              "      <td>1</td>\n",
              "    </tr>\n",
              "    <tr>\n",
              "      <th>959848</th>\n",
              "      <td>1.865023e-06</td>\n",
              "      <td>4.661954e-06</td>\n",
              "      <td>0.029782</td>\n",
              "      <td>0.000370</td>\n",
              "      <td>0.047666</td>\n",
              "      <td>0.000370</td>\n",
              "      <td>5.878823e-07</td>\n",
              "      <td>6.286695e-07</td>\n",
              "      <td>2.356189e-05</td>\n",
              "      <td>0.032554</td>\n",
              "      <td>...</td>\n",
              "      <td>0.605364</td>\n",
              "      <td>0.605364</td>\n",
              "      <td>1.305940e-05</td>\n",
              "      <td>1.283819e-05</td>\n",
              "      <td>1.732745e-06</td>\n",
              "      <td>1.732925e-06</td>\n",
              "      <td>0.0</td>\n",
              "      <td>1.670215e-06</td>\n",
              "      <td>Analysis</td>\n",
              "      <td>1</td>\n",
              "    </tr>\n",
              "    <tr>\n",
              "      <th>1381572</th>\n",
              "      <td>1.770291e-06</td>\n",
              "      <td>4.425153e-06</td>\n",
              "      <td>0.028129</td>\n",
              "      <td>0.000351</td>\n",
              "      <td>0.038160</td>\n",
              "      <td>0.000281</td>\n",
              "      <td>5.580212e-07</td>\n",
              "      <td>5.967367e-07</td>\n",
              "      <td>2.236508e-05</td>\n",
              "      <td>0.022938</td>\n",
              "      <td>...</td>\n",
              "      <td>0.574615</td>\n",
              "      <td>0.574615</td>\n",
              "      <td>1.632465e-05</td>\n",
              "      <td>1.632465e-05</td>\n",
              "      <td>1.644732e-06</td>\n",
              "      <td>1.644903e-06</td>\n",
              "      <td>0.0</td>\n",
              "      <td>1.585378e-06</td>\n",
              "      <td>Analysis</td>\n",
              "      <td>1</td>\n",
              "    </tr>\n",
              "    <tr>\n",
              "      <th>...</th>\n",
              "      <td>...</td>\n",
              "      <td>...</td>\n",
              "      <td>...</td>\n",
              "      <td>...</td>\n",
              "      <td>...</td>\n",
              "      <td>...</td>\n",
              "      <td>...</td>\n",
              "      <td>...</td>\n",
              "      <td>...</td>\n",
              "      <td>...</td>\n",
              "      <td>...</td>\n",
              "      <td>...</td>\n",
              "      <td>...</td>\n",
              "      <td>...</td>\n",
              "      <td>...</td>\n",
              "      <td>...</td>\n",
              "      <td>...</td>\n",
              "      <td>...</td>\n",
              "      <td>...</td>\n",
              "      <td>...</td>\n",
              "      <td>...</td>\n",
              "    </tr>\n",
              "    <tr>\n",
              "      <th>442625</th>\n",
              "      <td>1.242158e-06</td>\n",
              "      <td>3.104993e-06</td>\n",
              "      <td>0.031895</td>\n",
              "      <td>0.000246</td>\n",
              "      <td>0.006300</td>\n",
              "      <td>0.000148</td>\n",
              "      <td>2.454900e-05</td>\n",
              "      <td>9.606428e-06</td>\n",
              "      <td>1.569289e-05</td>\n",
              "      <td>0.007777</td>\n",
              "      <td>...</td>\n",
              "      <td>0.403190</td>\n",
              "      <td>0.403190</td>\n",
              "      <td>4.263192e-06</td>\n",
              "      <td>4.422153e-06</td>\n",
              "      <td>1.154057e-06</td>\n",
              "      <td>1.154177e-06</td>\n",
              "      <td>0.0</td>\n",
              "      <td>1.112411e-06</td>\n",
              "      <td>Worms</td>\n",
              "      <td>1</td>\n",
              "    </tr>\n",
              "    <tr>\n",
              "      <th>1417188</th>\n",
              "      <td>1.844046e-06</td>\n",
              "      <td>4.609518e-06</td>\n",
              "      <td>0.047350</td>\n",
              "      <td>0.000365</td>\n",
              "      <td>0.009353</td>\n",
              "      <td>0.000219</td>\n",
              "      <td>3.644422e-05</td>\n",
              "      <td>1.426122e-05</td>\n",
              "      <td>2.329687e-05</td>\n",
              "      <td>0.026707</td>\n",
              "      <td>...</td>\n",
              "      <td>0.598555</td>\n",
              "      <td>0.598555</td>\n",
              "      <td>6.328921e-06</td>\n",
              "      <td>6.564907e-06</td>\n",
              "      <td>1.713256e-06</td>\n",
              "      <td>1.713434e-06</td>\n",
              "      <td>0.0</td>\n",
              "      <td>1.651429e-06</td>\n",
              "      <td>Worms</td>\n",
              "      <td>1</td>\n",
              "    </tr>\n",
              "    <tr>\n",
              "      <th>892190</th>\n",
              "      <td>7.800834e-07</td>\n",
              "      <td>1.949956e-06</td>\n",
              "      <td>0.020030</td>\n",
              "      <td>0.000155</td>\n",
              "      <td>0.003957</td>\n",
              "      <td>0.000093</td>\n",
              "      <td>1.541693e-05</td>\n",
              "      <td>6.032898e-06</td>\n",
              "      <td>9.855233e-06</td>\n",
              "      <td>0.002689</td>\n",
              "      <td>...</td>\n",
              "      <td>0.253206</td>\n",
              "      <td>0.253206</td>\n",
              "      <td>2.677312e-06</td>\n",
              "      <td>2.777141e-06</td>\n",
              "      <td>7.247555e-07</td>\n",
              "      <td>7.248308e-07</td>\n",
              "      <td>0.0</td>\n",
              "      <td>6.986009e-07</td>\n",
              "      <td>Worms</td>\n",
              "      <td>1</td>\n",
              "    </tr>\n",
              "    <tr>\n",
              "      <th>763320</th>\n",
              "      <td>2.017698e-06</td>\n",
              "      <td>5.043591e-06</td>\n",
              "      <td>0.051728</td>\n",
              "      <td>0.000400</td>\n",
              "      <td>0.013432</td>\n",
              "      <td>0.000320</td>\n",
              "      <td>3.987613e-05</td>\n",
              "      <td>1.560419e-05</td>\n",
              "      <td>2.549071e-05</td>\n",
              "      <td>0.047051</td>\n",
              "      <td>...</td>\n",
              "      <td>0.654920</td>\n",
              "      <td>0.654920</td>\n",
              "      <td>1.319737e-05</td>\n",
              "      <td>1.369353e-05</td>\n",
              "      <td>1.874591e-06</td>\n",
              "      <td>1.874786e-06</td>\n",
              "      <td>0.0</td>\n",
              "      <td>1.806942e-06</td>\n",
              "      <td>Worms</td>\n",
              "      <td>1</td>\n",
              "    </tr>\n",
              "    <tr>\n",
              "      <th>1103453</th>\n",
              "      <td>4.627373e-08</td>\n",
              "      <td>1.156693e-07</td>\n",
              "      <td>0.001735</td>\n",
              "      <td>0.000035</td>\n",
              "      <td>0.241717</td>\n",
              "      <td>0.000187</td>\n",
              "      <td>9.145161e-07</td>\n",
              "      <td>3.578652e-07</td>\n",
              "      <td>5.846021e-07</td>\n",
              "      <td>0.001841</td>\n",
              "      <td>...</td>\n",
              "      <td>0.015020</td>\n",
              "      <td>0.015020</td>\n",
              "      <td>2.327223e-07</td>\n",
              "      <td>2.327223e-07</td>\n",
              "      <td>4.299173e-08</td>\n",
              "      <td>4.299620e-08</td>\n",
              "      <td>0.0</td>\n",
              "      <td>4.144027e-08</td>\n",
              "      <td>Worms</td>\n",
              "      <td>1</td>\n",
              "    </tr>\n",
              "  </tbody>\n",
              "</table>\n",
              "<p>224295 rows × 41 columns</p>\n",
              "</div>"
            ],
            "text/plain": [
              "             PROTOCOL      L7_PROTO  IN_BYTES   IN_PKTS  OUT_BYTES  OUT_PKTS  \\\n",
              "28228    1.719763e-06  4.298851e-06  0.028485  0.000341   0.045794  0.000341   \n",
              "856405   1.379976e-06  3.449494e-06  0.022255  0.000273   0.035816  0.000219   \n",
              "465045   1.987601e-06  4.968358e-06  0.031897  0.000394   0.043554  0.000315   \n",
              "959848   1.865023e-06  4.661954e-06  0.029782  0.000370   0.047666  0.000370   \n",
              "1381572  1.770291e-06  4.425153e-06  0.028129  0.000351   0.038160  0.000281   \n",
              "...               ...           ...       ...       ...        ...       ...   \n",
              "442625   1.242158e-06  3.104993e-06  0.031895  0.000246   0.006300  0.000148   \n",
              "1417188  1.844046e-06  4.609518e-06  0.047350  0.000365   0.009353  0.000219   \n",
              "892190   7.800834e-07  1.949956e-06  0.020030  0.000155   0.003957  0.000093   \n",
              "763320   2.017698e-06  5.043591e-06  0.051728  0.000400   0.013432  0.000320   \n",
              "1103453  4.627373e-08  1.156693e-07  0.001735  0.000035   0.241717  0.000187   \n",
              "\n",
              "            TCP_FLAGS  CLIENT_TCP_FLAGS  SERVER_TCP_FLAGS  \\\n",
              "28228    5.420943e-07      5.797048e-07      2.172674e-05   \n",
              "856405   4.349885e-07      4.651680e-07      1.743402e-05   \n",
              "465045   6.265204e-07      6.699884e-07      2.511048e-05   \n",
              "959848   5.878823e-07      6.286695e-07      2.356189e-05   \n",
              "1381572  5.580212e-07      5.967367e-07      2.236508e-05   \n",
              "...               ...               ...               ...   \n",
              "442625   2.454900e-05      9.606428e-06      1.569289e-05   \n",
              "1417188  3.644422e-05      1.426122e-05      2.329687e-05   \n",
              "892190   1.541693e-05      6.032898e-06      9.855233e-06   \n",
              "763320   3.987613e-05      1.560419e-05      2.549071e-05   \n",
              "1103453  9.145161e-07      3.578652e-07      5.846021e-07   \n",
              "\n",
              "         FLOW_DURATION_MILLISECONDS  ...  TCP_WIN_MAX_IN  TCP_WIN_MAX_OUT  \\\n",
              "28228                      0.024089  ...        0.558214         0.558214   \n",
              "856405                     0.011921  ...        0.447924         0.447924   \n",
              "465045                     0.042687  ...        0.645151         0.645151   \n",
              "959848                     0.032554  ...        0.605364         0.605364   \n",
              "1381572                    0.022938  ...        0.574615         0.574615   \n",
              "...                             ...  ...             ...              ...   \n",
              "442625                     0.007777  ...        0.403190         0.403190   \n",
              "1417188                    0.026707  ...        0.598555         0.598555   \n",
              "892190                     0.002689  ...        0.253206         0.253206   \n",
              "763320                     0.047051  ...        0.654920         0.654920   \n",
              "1103453                    0.001841  ...        0.015020         0.015020   \n",
              "\n",
              "            ICMP_TYPE  ICMP_IPV4_TYPE  DNS_QUERY_ID  DNS_QUERY_TYPE  \\\n",
              "28228    6.541834e-06    6.541834e-06  1.597788e-06    1.597954e-06   \n",
              "856405   9.316029e-06    9.247537e-06  1.282101e-06    1.282234e-06   \n",
              "465045   4.500492e-06    4.642276e-06  1.846629e-06    1.846821e-06   \n",
              "959848   1.305940e-05    1.283819e-05  1.732745e-06    1.732925e-06   \n",
              "1381572  1.632465e-05    1.632465e-05  1.644732e-06    1.644903e-06   \n",
              "...               ...             ...           ...             ...   \n",
              "442625   4.263192e-06    4.422153e-06  1.154057e-06    1.154177e-06   \n",
              "1417188  6.328921e-06    6.564907e-06  1.713256e-06    1.713434e-06   \n",
              "892190   2.677312e-06    2.777141e-06  7.247555e-07    7.248308e-07   \n",
              "763320   1.319737e-05    1.369353e-05  1.874591e-06    1.874786e-06   \n",
              "1103453  2.327223e-07    2.327223e-07  4.299173e-08    4.299620e-08   \n",
              "\n",
              "         DNS_TTL_ANSWER  FTP_COMMAND_RET_CODE    Attack  Label  \n",
              "28228               0.0          1.540128e-06  Analysis      1  \n",
              "856405              0.0          1.235833e-06  Analysis      1  \n",
              "465045              0.0          1.779989e-06  Analysis      1  \n",
              "959848              0.0          1.670215e-06  Analysis      1  \n",
              "1381572             0.0          1.585378e-06  Analysis      1  \n",
              "...                 ...                   ...       ...    ...  \n",
              "442625              0.0          1.112411e-06     Worms      1  \n",
              "1417188             0.0          1.651429e-06     Worms      1  \n",
              "892190              0.0          6.986009e-07     Worms      1  \n",
              "763320              0.0          1.806942e-06     Worms      1  \n",
              "1103453             0.0          4.144027e-08     Worms      1  \n",
              "\n",
              "[224295 rows x 41 columns]"
            ]
          },
          "execution_count": 43,
          "metadata": {},
          "output_type": "execute_result"
        }
      ],
      "source": [
        "df_raw_train"
      ]
    },
    {
      "cell_type": "code",
      "execution_count": 44,
      "metadata": {},
      "outputs": [],
      "source": [
        "raw_benign_train_samples = df_raw_train[df_raw_train.Label == 0].drop(columns=[\"Label\", \"Attack\"])\n",
        "raw_normal_train_samples = df_raw_train.drop(columns=[\"Label\", \"Attack\"])\n",
        "\n",
        "raw_train_labels = df_raw_train[\"Label\"]\n",
        "raw_test_labels = df_raw_test[\"Label\"]\n",
        "\n",
        "raw_test_samples = df_raw_test.drop(columns=[\"Label\", \"Attack\"])"
      ]
    },
    {
      "cell_type": "code",
      "execution_count": 45,
      "metadata": {
        "id": "62BUDLtO4mla"
      },
      "outputs": [],
      "source": [
        "contamination = [0.001, 0.01, 0.04, 0.05, 0.1, 0.2]"
      ]
    },
    {
      "cell_type": "code",
      "execution_count": 46,
      "metadata": {
        "id": "2i48uLj74mla",
        "outputId": "a0dd33ee-824d-4328-a960-e656e3aaf0ea"
      },
      "outputs": [
        {
          "name": "stderr",
          "output_type": "stream",
          "text": [
            "100%|██████████| 36/36 [03:18<00:00,  5.52s/it]"
          ]
        },
        {
          "name": "stdout",
          "output_type": "stream",
          "text": [
            "{'n_estimators': 2, 'con': 0.001}\n",
            "0.17915537473055304\n",
            "              precision    recall  f1-score   support\n",
            "\n",
            "           0     0.0000    0.0000    0.0000    185162\n",
            "           1     0.2183    1.0000    0.3583     51696\n",
            "\n",
            "    accuracy                         0.2183    236858\n",
            "   macro avg     0.1091    0.5000    0.1792    236858\n",
            "weighted avg     0.0476    0.2183    0.0782    236858\n",
            "\n"
          ]
        },
        {
          "name": "stderr",
          "output_type": "stream",
          "text": [
            "\n",
            "/home/kienho/projects/NIDS_Anomal-E_revision/.conda/lib/python3.9/site-packages/sklearn/metrics/_classification.py:1531: UndefinedMetricWarning: Precision is ill-defined and being set to 0.0 in labels with no predicted samples. Use `zero_division` parameter to control this behavior.\n",
            "  _warn_prf(average, modifier, f\"{metric.capitalize()} is\", len(result))\n",
            "/home/kienho/projects/NIDS_Anomal-E_revision/.conda/lib/python3.9/site-packages/sklearn/metrics/_classification.py:1531: UndefinedMetricWarning: Precision is ill-defined and being set to 0.0 in labels with no predicted samples. Use `zero_division` parameter to control this behavior.\n",
            "  _warn_prf(average, modifier, f\"{metric.capitalize()} is\", len(result))\n",
            "/home/kienho/projects/NIDS_Anomal-E_revision/.conda/lib/python3.9/site-packages/sklearn/metrics/_classification.py:1531: UndefinedMetricWarning: Precision is ill-defined and being set to 0.0 in labels with no predicted samples. Use `zero_division` parameter to control this behavior.\n",
            "  _warn_prf(average, modifier, f\"{metric.capitalize()} is\", len(result))\n"
          ]
        }
      ],
      "source": [
        "from pyod.models.cblof import CBLOF\n",
        "n_est = [2,3,5,7,9,10]\n",
        "params = list(itertools.product(n_est, contamination))\n",
        "score = -1\n",
        "bs = None\n",
        "for n_est, con in tqdm(params):\n",
        "    try:\n",
        "        clf_if = CBLOF(n_clusters=n_est, contamination=con)\n",
        "        clf_if.fit(benign_train_samples)\n",
        "    except Exception as e:\n",
        "        print(f\"Error with n_estimators={n_est}, contamination={con}: {e}\")\n",
        "        continue\n",
        "    y_pred = clf_if.predict(test_samples)\n",
        "    test_pred = y_pred\n",
        "\n",
        "    f1 = f1_score(test_labels, test_pred, average='macro')\n",
        "\n",
        "    if f1 > score:\n",
        "        score = f1\n",
        "        best_params = {'n_estimators': n_est,\n",
        "                       \"con\": con\n",
        "                }\n",
        "        bs = test_pred\n",
        "    del clf_if\n",
        "    gc.collect()\n",
        "\n",
        "\n",
        "print(best_params)\n",
        "print(score)\n",
        "print(classification_report(test_labels, bs, digits=4))"
      ]
    },
    {
      "cell_type": "code",
      "execution_count": 47,
      "metadata": {
        "id": "rK-Rng9q4mla",
        "outputId": "1796db22-cfb8-4bf8-9004-6420c08c3399"
      },
      "outputs": [
        {
          "name": "stderr",
          "output_type": "stream",
          "text": [
            "100%|██████████| 36/36 [03:37<00:00,  6.04s/it]"
          ]
        },
        {
          "name": "stdout",
          "output_type": "stream",
          "text": [
            "{'n_estimators': 2, 'con': 0.001}\n",
            "0.4387517179280603\n",
            "              precision    recall  f1-score   support\n",
            "\n",
            "           0     0.7817    1.0000    0.8775    185162\n",
            "           1     0.0000    0.0000    0.0000     51696\n",
            "\n",
            "    accuracy                         0.7817    236858\n",
            "   macro avg     0.3909    0.5000    0.4388    236858\n",
            "weighted avg     0.6111    0.7817    0.6860    236858\n",
            "\n"
          ]
        },
        {
          "name": "stderr",
          "output_type": "stream",
          "text": [
            "\n",
            "/home/kienho/projects/NIDS_Anomal-E_revision/.conda/lib/python3.9/site-packages/sklearn/metrics/_classification.py:1531: UndefinedMetricWarning: Precision is ill-defined and being set to 0.0 in labels with no predicted samples. Use `zero_division` parameter to control this behavior.\n",
            "  _warn_prf(average, modifier, f\"{metric.capitalize()} is\", len(result))\n",
            "/home/kienho/projects/NIDS_Anomal-E_revision/.conda/lib/python3.9/site-packages/sklearn/metrics/_classification.py:1531: UndefinedMetricWarning: Precision is ill-defined and being set to 0.0 in labels with no predicted samples. Use `zero_division` parameter to control this behavior.\n",
            "  _warn_prf(average, modifier, f\"{metric.capitalize()} is\", len(result))\n",
            "/home/kienho/projects/NIDS_Anomal-E_revision/.conda/lib/python3.9/site-packages/sklearn/metrics/_classification.py:1531: UndefinedMetricWarning: Precision is ill-defined and being set to 0.0 in labels with no predicted samples. Use `zero_division` parameter to control this behavior.\n",
            "  _warn_prf(average, modifier, f\"{metric.capitalize()} is\", len(result))\n"
          ]
        }
      ],
      "source": [
        "n_est = [2,3,5,7,9,10]\n",
        "contamination = [0.001, 0.01, 0.04, 0.05, 0.1, 0.2]\n",
        "params = list(itertools.product(n_est, contamination))\n",
        "score = -1\n",
        "bs = None\n",
        "for n_est, con in tqdm(params):\n",
        "    \n",
        "    clf_if = CBLOF(n_clusters=n_est, contamination=con)\n",
        "    clf_if.fit(normal_train_samples)\n",
        "    y_pred = clf_if.predict(test_samples)\n",
        "    test_pred = y_pred\n",
        "\n",
        "    f1 = f1_score(test_labels, test_pred, average='macro')\n",
        "\n",
        "    if f1 > score:\n",
        "        score = f1\n",
        "        best_params = {'n_estimators': n_est,\n",
        "                       \"con\": con\n",
        "                }\n",
        "        bs = test_pred\n",
        "    del clf_if\n",
        "    gc.collect()\n",
        "\n",
        "\n",
        "print(best_params)\n",
        "print(score)\n",
        "print(classification_report(test_labels, bs, digits=4))"
      ]
    },
    {
      "cell_type": "code",
      "execution_count": 48,
      "metadata": {
        "id": "tHSOcEhH4mlb"
      },
      "outputs": [],
      "source": [
        "###  CBLOF RAW"
      ]
    },
    {
      "cell_type": "code",
      "execution_count": 49,
      "metadata": {
        "id": "u_l1Vz8S4mlb",
        "outputId": "c1b8d03c-7105-42d9-f49a-bba4ff4905a7"
      },
      "outputs": [
        {
          "name": "stderr",
          "output_type": "stream",
          "text": [
            "  3%|▎         | 1/36 [00:00<00:09,  3.62it/s]"
          ]
        },
        {
          "name": "stdout",
          "output_type": "stream",
          "text": [
            "2\n"
          ]
        },
        {
          "name": "stderr",
          "output_type": "stream",
          "text": [
            "  6%|▌         | 2/36 [00:00<00:09,  3.69it/s]"
          ]
        },
        {
          "name": "stdout",
          "output_type": "stream",
          "text": [
            "2\n"
          ]
        },
        {
          "name": "stderr",
          "output_type": "stream",
          "text": [
            "  8%|▊         | 3/36 [00:00<00:09,  3.66it/s]"
          ]
        },
        {
          "name": "stdout",
          "output_type": "stream",
          "text": [
            "2\n"
          ]
        },
        {
          "name": "stderr",
          "output_type": "stream",
          "text": [
            " 11%|█         | 4/36 [00:01<00:09,  3.36it/s]"
          ]
        },
        {
          "name": "stdout",
          "output_type": "stream",
          "text": [
            "2\n"
          ]
        },
        {
          "name": "stderr",
          "output_type": "stream",
          "text": [
            " 14%|█▍        | 5/36 [00:01<00:09,  3.43it/s]"
          ]
        },
        {
          "name": "stdout",
          "output_type": "stream",
          "text": [
            "2\n"
          ]
        },
        {
          "name": "stderr",
          "output_type": "stream",
          "text": [
            " 17%|█▋        | 6/36 [00:01<00:08,  3.46it/s]"
          ]
        },
        {
          "name": "stdout",
          "output_type": "stream",
          "text": [
            "2\n"
          ]
        },
        {
          "name": "stderr",
          "output_type": "stream",
          "text": [
            " 19%|█▉        | 7/36 [00:01<00:08,  3.52it/s]"
          ]
        },
        {
          "name": "stdout",
          "output_type": "stream",
          "text": [
            "3\n"
          ]
        },
        {
          "name": "stderr",
          "output_type": "stream",
          "text": [
            " 22%|██▏       | 8/36 [00:02<00:08,  3.47it/s]"
          ]
        },
        {
          "name": "stdout",
          "output_type": "stream",
          "text": [
            "3\n"
          ]
        },
        {
          "name": "stderr",
          "output_type": "stream",
          "text": [
            " 25%|██▌       | 9/36 [00:02<00:07,  3.48it/s]"
          ]
        },
        {
          "name": "stdout",
          "output_type": "stream",
          "text": [
            "3\n"
          ]
        },
        {
          "name": "stderr",
          "output_type": "stream",
          "text": [
            " 28%|██▊       | 10/36 [00:02<00:07,  3.32it/s]"
          ]
        },
        {
          "name": "stdout",
          "output_type": "stream",
          "text": [
            "3\n"
          ]
        },
        {
          "name": "stderr",
          "output_type": "stream",
          "text": [
            " 31%|███       | 11/36 [00:03<00:07,  3.39it/s]"
          ]
        },
        {
          "name": "stdout",
          "output_type": "stream",
          "text": [
            "3\n"
          ]
        },
        {
          "name": "stderr",
          "output_type": "stream",
          "text": [
            " 33%|███▎      | 12/36 [00:03<00:07,  3.33it/s]"
          ]
        },
        {
          "name": "stdout",
          "output_type": "stream",
          "text": [
            "3\n"
          ]
        },
        {
          "name": "stderr",
          "output_type": "stream",
          "text": [
            "100%|██████████| 36/36 [00:28<00:00,  1.25it/s]"
          ]
        },
        {
          "name": "stdout",
          "output_type": "stream",
          "text": [
            "{'n_estimators': 10, 'con': 0.2}\n",
            "0.7659868521883969\n",
            "              precision    recall  f1-score   support\n",
            "\n",
            "           0     0.8823    0.9385    0.9095     92581\n",
            "           1     0.7144    0.5515    0.6225     25848\n",
            "\n",
            "    accuracy                         0.8540    118429\n",
            "   macro avg     0.7984    0.7450    0.7660    118429\n",
            "weighted avg     0.8456    0.8540    0.8469    118429\n",
            "\n"
          ]
        },
        {
          "name": "stderr",
          "output_type": "stream",
          "text": [
            "\n"
          ]
        }
      ],
      "source": [
        "from pyod.models.cblof import CBLOF\n",
        "\n",
        "n_est = [2,3,5,7,9,10]\n",
        "contamination = [0.001, 0.01, 0.04, 0.05, 0.1, 0.2]\n",
        "params = list(itertools.product(n_est, contamination))\n",
        "score = -1\n",
        "bs = None\n",
        "for n_est, con in tqdm(params):\n",
        "    \n",
        "    try:\n",
        "        clf_b = CBLOF(n_clusters=n_est, contamination=con)\n",
        "        clf_b.fit(raw_benign_train_samples)\n",
        "    except ValueError as e:\n",
        "        print(n_est)\n",
        "        continue  \n",
        "   \n",
        "    y_pred = clf_b.predict(raw_test_samples)\n",
        "    test_pred = y_pred\n",
        "\n",
        "    f1 = f1_score(raw_test_labels, test_pred, average='macro')\n",
        "\n",
        "    if f1 > score:\n",
        "        score = f1\n",
        "        best_params = {'n_estimators': n_est,\n",
        "                        \"con\": con\n",
        "                }\n",
        "        bs = test_pred\n",
        "    del clf_b\n",
        "    gc.collect()\n",
        "\n",
        "  \n",
        "\n",
        "print(best_params)\n",
        "print(score)\n",
        "print(classification_report(raw_test_labels, bs, digits=4))"
      ]
    },
    {
      "cell_type": "code",
      "execution_count": 50,
      "metadata": {
        "id": "H-_InJ1-4mlc",
        "outputId": "e22139e6-d1cf-46e1-adf3-f0dc9b499244"
      },
      "outputs": [
        {
          "name": "stderr",
          "output_type": "stream",
          "text": [
            "  6%|▌         | 2/36 [00:01<00:16,  2.07it/s]"
          ]
        },
        {
          "name": "stdout",
          "output_type": "stream",
          "text": [
            "2\n"
          ]
        },
        {
          "name": "stderr",
          "output_type": "stream",
          "text": [
            "  8%|▊         | 3/36 [00:01<00:13,  2.51it/s]"
          ]
        },
        {
          "name": "stdout",
          "output_type": "stream",
          "text": [
            "2\n"
          ]
        },
        {
          "name": "stderr",
          "output_type": "stream",
          "text": [
            " 11%|█         | 4/36 [00:01<00:11,  2.76it/s]"
          ]
        },
        {
          "name": "stdout",
          "output_type": "stream",
          "text": [
            "2\n"
          ]
        },
        {
          "name": "stderr",
          "output_type": "stream",
          "text": [
            " 17%|█▋        | 6/36 [00:04<00:23,  1.26it/s]"
          ]
        },
        {
          "name": "stdout",
          "output_type": "stream",
          "text": [
            "2\n"
          ]
        },
        {
          "name": "stderr",
          "output_type": "stream",
          "text": [
            " 19%|█▉        | 7/36 [00:04<00:18,  1.61it/s]"
          ]
        },
        {
          "name": "stdout",
          "output_type": "stream",
          "text": [
            "3\n"
          ]
        },
        {
          "name": "stderr",
          "output_type": "stream",
          "text": [
            " 22%|██▏       | 8/36 [00:04<00:14,  1.93it/s]"
          ]
        },
        {
          "name": "stdout",
          "output_type": "stream",
          "text": [
            "3\n"
          ]
        },
        {
          "name": "stderr",
          "output_type": "stream",
          "text": [
            " 25%|██▌       | 9/36 [00:04<00:11,  2.26it/s]"
          ]
        },
        {
          "name": "stdout",
          "output_type": "stream",
          "text": [
            "3\n"
          ]
        },
        {
          "name": "stderr",
          "output_type": "stream",
          "text": [
            " 28%|██▊       | 10/36 [00:05<00:10,  2.50it/s]"
          ]
        },
        {
          "name": "stdout",
          "output_type": "stream",
          "text": [
            "3\n"
          ]
        },
        {
          "name": "stderr",
          "output_type": "stream",
          "text": [
            " 31%|███       | 11/36 [00:05<00:09,  2.68it/s]"
          ]
        },
        {
          "name": "stdout",
          "output_type": "stream",
          "text": [
            "3\n"
          ]
        },
        {
          "name": "stderr",
          "output_type": "stream",
          "text": [
            " 33%|███▎      | 12/36 [00:05<00:08,  2.85it/s]"
          ]
        },
        {
          "name": "stdout",
          "output_type": "stream",
          "text": [
            "3\n"
          ]
        },
        {
          "name": "stderr",
          "output_type": "stream",
          "text": [
            "100%|██████████| 36/36 [00:31<00:00,  1.14it/s]"
          ]
        },
        {
          "name": "stdout",
          "output_type": "stream",
          "text": [
            "benign only\n",
            "{'n_estimators': 9}\n",
            "0.810142895787282\n",
            "              precision    recall  f1-score   support\n",
            "\n",
            "           0     0.8881    0.9825    0.9329     92581\n",
            "           1     0.8986    0.5566    0.6874     25848\n",
            "\n",
            "    accuracy                         0.8895    118429\n",
            "   macro avg     0.8934    0.7695    0.8101    118429\n",
            "weighted avg     0.8904    0.8895    0.8793    118429\n",
            "\n"
          ]
        },
        {
          "name": "stderr",
          "output_type": "stream",
          "text": [
            "\n"
          ]
        }
      ],
      "source": [
        "n_est = [2,3,5,7,9,10]\n",
        "contamination = [0.001, 0.01, 0.04, 0.05, 0.1, 0.2]\n",
        "params = list(itertools.product(n_est, contamination))\n",
        "score = -1\n",
        "bs = None\n",
        "for n_est, con in tqdm(params):\n",
        "    \n",
        "    try:\n",
        "        clf_if = CBLOF(n_clusters=n_est, contamination=con)\n",
        "        clf_if.fit(raw_normal_train_samples)\n",
        "    except ValueError as e:\n",
        "        print(n_est)\n",
        "        continue  \n",
        "    \n",
        "    y_pred = clf_if.predict(raw_test_samples)\n",
        "    test_pred = y_pred\n",
        "\n",
        "    f1 = f1_score(raw_test_labels, test_pred, average='macro')\n",
        "\n",
        "    if f1 > score:\n",
        "        score = f1\n",
        "        best_params = {'n_estimators': n_est\n",
        "                }\n",
        "        bs = test_pred\n",
        "    del clf_if\n",
        "    gc.collect()\n",
        "\n",
        "        \n",
        "\n",
        "print(\"benign only\")\n",
        "print(best_params)\n",
        "print(score)\n",
        "print(classification_report(raw_test_labels, bs, digits=4))"
      ]
    },
    {
      "cell_type": "code",
      "execution_count": 51,
      "metadata": {
        "id": "nd0-H7UT4mlc"
      },
      "outputs": [],
      "source": [
        "# HBOS  Embeddings"
      ]
    },
    {
      "cell_type": "code",
      "execution_count": 52,
      "metadata": {
        "id": "sDquxErU4mld"
      },
      "outputs": [],
      "source": [
        "contamination = [0.001, 0.01, 0.04, 0.05, 0.1, 0.2]"
      ]
    },
    {
      "cell_type": "code",
      "execution_count": 53,
      "metadata": {
        "id": "xLBIT-Rc4mld",
        "outputId": "8162929e-4879-40e2-a040-afc57eafe7c5"
      },
      "outputs": [
        {
          "name": "stderr",
          "output_type": "stream",
          "text": [
            "100%|██████████| 36/36 [05:00<00:00,  8.34s/it]"
          ]
        },
        {
          "name": "stdout",
          "output_type": "stream",
          "text": [
            "{'n_estimators': 5, 'con': 0.001}\n",
            "0.17915537473055304\n",
            "              precision    recall  f1-score   support\n",
            "\n",
            "           0     0.0000    0.0000    0.0000    185162\n",
            "           1     0.2183    1.0000    0.3583     51696\n",
            "\n",
            "    accuracy                         0.2183    236858\n",
            "   macro avg     0.1091    0.5000    0.1792    236858\n",
            "weighted avg     0.0476    0.2183    0.0782    236858\n",
            "\n"
          ]
        },
        {
          "name": "stderr",
          "output_type": "stream",
          "text": [
            "\n",
            "/home/kienho/projects/NIDS_Anomal-E_revision/.conda/lib/python3.9/site-packages/sklearn/metrics/_classification.py:1531: UndefinedMetricWarning: Precision is ill-defined and being set to 0.0 in labels with no predicted samples. Use `zero_division` parameter to control this behavior.\n",
            "  _warn_prf(average, modifier, f\"{metric.capitalize()} is\", len(result))\n",
            "/home/kienho/projects/NIDS_Anomal-E_revision/.conda/lib/python3.9/site-packages/sklearn/metrics/_classification.py:1531: UndefinedMetricWarning: Precision is ill-defined and being set to 0.0 in labels with no predicted samples. Use `zero_division` parameter to control this behavior.\n",
            "  _warn_prf(average, modifier, f\"{metric.capitalize()} is\", len(result))\n",
            "/home/kienho/projects/NIDS_Anomal-E_revision/.conda/lib/python3.9/site-packages/sklearn/metrics/_classification.py:1531: UndefinedMetricWarning: Precision is ill-defined and being set to 0.0 in labels with no predicted samples. Use `zero_division` parameter to control this behavior.\n",
            "  _warn_prf(average, modifier, f\"{metric.capitalize()} is\", len(result))\n"
          ]
        }
      ],
      "source": [
        "from pyod.models.hbos import HBOS\n",
        "\n",
        "n_est = [5,10,15,20,25,30]\n",
        "params = list(itertools.product(n_est, contamination))\n",
        "score = -1\n",
        "bs = None\n",
        "for n_est, con in tqdm(params):\n",
        "    \n",
        "    clf_if = HBOS(n_bins=n_est, contamination=con)\n",
        "    clf_if.fit(benign_train_samples)\n",
        "    y_pred = clf_if.predict(test_samples)\n",
        "    test_pred = y_pred\n",
        "\n",
        "    f1 = f1_score(test_labels, test_pred, average='macro')\n",
        "\n",
        "    if f1 > score:\n",
        "        score = f1\n",
        "        best_params = {'n_estimators': n_est,\n",
        "                       \"con\": con\n",
        "                }\n",
        "        bs = test_pred\n",
        "    del clf_if\n",
        "    gc.collect()\n",
        "\n",
        "\n",
        "print(best_params)\n",
        "print(score)\n",
        "print(classification_report(test_labels, bs, digits=4))"
      ]
    },
    {
      "cell_type": "code",
      "execution_count": 54,
      "metadata": {
        "id": "MDcX0mma4mld",
        "outputId": "a2b64cfc-d413-4ba0-9f24-b4935343c315"
      },
      "outputs": [
        {
          "name": "stderr",
          "output_type": "stream",
          "text": [
            "100%|██████████| 36/36 [05:12<00:00,  8.68s/it]"
          ]
        },
        {
          "name": "stdout",
          "output_type": "stream",
          "text": [
            "{'n_estimators': 5, 'con': 0.05}\n",
            "0.17915537473055304\n",
            "              precision    recall  f1-score   support\n",
            "\n",
            "           0     0.0000    0.0000    0.0000    185162\n",
            "           1     0.2183    1.0000    0.3583     51696\n",
            "\n",
            "    accuracy                         0.2183    236858\n",
            "   macro avg     0.1091    0.5000    0.1792    236858\n",
            "weighted avg     0.0476    0.2183    0.0782    236858\n",
            "\n"
          ]
        },
        {
          "name": "stderr",
          "output_type": "stream",
          "text": [
            "\n",
            "/home/kienho/projects/NIDS_Anomal-E_revision/.conda/lib/python3.9/site-packages/sklearn/metrics/_classification.py:1531: UndefinedMetricWarning: Precision is ill-defined and being set to 0.0 in labels with no predicted samples. Use `zero_division` parameter to control this behavior.\n",
            "  _warn_prf(average, modifier, f\"{metric.capitalize()} is\", len(result))\n",
            "/home/kienho/projects/NIDS_Anomal-E_revision/.conda/lib/python3.9/site-packages/sklearn/metrics/_classification.py:1531: UndefinedMetricWarning: Precision is ill-defined and being set to 0.0 in labels with no predicted samples. Use `zero_division` parameter to control this behavior.\n",
            "  _warn_prf(average, modifier, f\"{metric.capitalize()} is\", len(result))\n",
            "/home/kienho/projects/NIDS_Anomal-E_revision/.conda/lib/python3.9/site-packages/sklearn/metrics/_classification.py:1531: UndefinedMetricWarning: Precision is ill-defined and being set to 0.0 in labels with no predicted samples. Use `zero_division` parameter to control this behavior.\n",
            "  _warn_prf(average, modifier, f\"{metric.capitalize()} is\", len(result))\n"
          ]
        }
      ],
      "source": [
        "n_est = [5,10,15,20,25,30]\n",
        "contamination = [0.001, 0.01, 0.04, 0.05, 0.1, 0.2]\n",
        "params = list(itertools.product(n_est, contamination))\n",
        "score = -1\n",
        "bs = None\n",
        "for n_est, con in tqdm(params):\n",
        "    \n",
        "    clf_if = HBOS(n_bins=n_est, contamination=con)\n",
        "    clf_if.fit(normal_train_samples)\n",
        "    y_pred = clf_if.predict(test_samples)\n",
        "    test_pred = y_pred\n",
        "\n",
        "    f1 = f1_score(test_labels, test_pred, average='macro')\n",
        "\n",
        "    if f1 > score:\n",
        "        score = f1\n",
        "        best_params = {'n_estimators': n_est,\n",
        "                       \"con\": con\n",
        "                }\n",
        "        bs = test_pred\n",
        "    del clf_if\n",
        "    gc.collect()\n",
        "\n",
        "\n",
        "print(best_params)\n",
        "print(score)\n",
        "print(classification_report(test_labels, bs, digits=4))"
      ]
    },
    {
      "cell_type": "code",
      "execution_count": 55,
      "metadata": {
        "id": "wRUOrQqB4mle"
      },
      "outputs": [],
      "source": [
        "##  HBOS  RAw"
      ]
    },
    {
      "cell_type": "code",
      "execution_count": 56,
      "metadata": {
        "id": "9sZfAnER4mle",
        "outputId": "6e9cb145-8540-4aa7-8ed1-fc9aca495b07"
      },
      "outputs": [
        {
          "name": "stderr",
          "output_type": "stream",
          "text": [
            "100%|██████████| 36/36 [00:22<00:00,  1.58it/s]"
          ]
        },
        {
          "name": "stdout",
          "output_type": "stream",
          "text": [
            "{'n_estimators': 5, 'con': 0.2}\n",
            "0.7505445638063524\n",
            "              precision    recall  f1-score   support\n",
            "\n",
            "           0     0.8806    0.9200    0.8998     92581\n",
            "           1     0.6587    0.5530    0.6012     25848\n",
            "\n",
            "    accuracy                         0.8399    118429\n",
            "   macro avg     0.7696    0.7365    0.7505    118429\n",
            "weighted avg     0.8321    0.8399    0.8347    118429\n",
            "\n"
          ]
        },
        {
          "name": "stderr",
          "output_type": "stream",
          "text": [
            "\n"
          ]
        }
      ],
      "source": [
        "from pyod.models.cblof import CBLOF\n",
        "\n",
        "n_est = [5,10,15,20,25,30]\n",
        "contamination = [0.001, 0.01, 0.04, 0.05, 0.1, 0.2]\n",
        "params = list(itertools.product(n_est, contamination))\n",
        "score = -1\n",
        "bs = None\n",
        "for n_est, con in tqdm(params):\n",
        "    \n",
        "    try:\n",
        "        clf_b = HBOS(n_bins=n_est, contamination=con)\n",
        "        clf_b.fit(raw_benign_train_samples)\n",
        "    except ValueError as e:\n",
        "        print(n_est)\n",
        "        continue  \n",
        "   \n",
        "    y_pred = clf_b.predict(raw_test_samples)\n",
        "    test_pred = y_pred\n",
        "\n",
        "    f1 = f1_score(raw_test_labels, test_pred, average='macro')\n",
        "\n",
        "    if f1 > score:\n",
        "        score = f1\n",
        "        best_params = {'n_estimators': n_est,\n",
        "                        \"con\": con\n",
        "                }\n",
        "        bs = test_pred\n",
        "    del clf_b\n",
        "    gc.collect()\n",
        "\n",
        "  \n",
        "\n",
        "print(best_params)\n",
        "print(score)\n",
        "print(classification_report(raw_test_labels, bs, digits=4))"
      ]
    },
    {
      "cell_type": "code",
      "execution_count": 57,
      "metadata": {
        "id": "z5A-gLN34mle",
        "outputId": "8a6dfd26-a45b-4ce3-8d85-1b61652e7f90"
      },
      "outputs": [
        {
          "name": "stderr",
          "output_type": "stream",
          "text": [
            "100%|██████████| 36/36 [00:21<00:00,  1.67it/s]"
          ]
        },
        {
          "name": "stdout",
          "output_type": "stream",
          "text": [
            "benign only\n",
            "{'n_estimators': 5}\n",
            "0.7516538088483847\n",
            "              precision    recall  f1-score   support\n",
            "\n",
            "           0     0.8812    0.9200    0.9001     92581\n",
            "           1     0.6597    0.5556    0.6032     25848\n",
            "\n",
            "    accuracy                         0.8404    118429\n",
            "   macro avg     0.7704    0.7378    0.7517    118429\n",
            "weighted avg     0.8328    0.8404    0.8353    118429\n",
            "\n"
          ]
        },
        {
          "name": "stderr",
          "output_type": "stream",
          "text": [
            "\n"
          ]
        }
      ],
      "source": [
        "n_est = [5,10,15,20,25,30]\n",
        "contamination = [0.001, 0.01, 0.04, 0.05, 0.1, 0.2]\n",
        "params = list(itertools.product(n_est, contamination))\n",
        "score = -1\n",
        "bs = None\n",
        "for n_est, con in tqdm(params):\n",
        "    \n",
        "    try:\n",
        "        clf_if = HBOS(n_bins=n_est, contamination=con)\n",
        "        clf_if.fit(raw_normal_train_samples)\n",
        "    except ValueError as e:\n",
        "        print(n_est)\n",
        "        continue  \n",
        "    \n",
        "    y_pred = clf_if.predict(raw_test_samples)\n",
        "    test_pred = y_pred\n",
        "\n",
        "    f1 = f1_score(raw_test_labels, test_pred, average='macro')\n",
        "\n",
        "    if f1 > score:\n",
        "        score = f1\n",
        "        best_params = {'n_estimators': n_est\n",
        "                }\n",
        "        bs = test_pred\n",
        "    del clf_if\n",
        "    gc.collect()\n",
        "\n",
        "        \n",
        "\n",
        "print(\"benign only\")\n",
        "print(best_params)\n",
        "print(score)\n",
        "print(classification_report(raw_test_labels, bs, digits=4))"
      ]
    },
    {
      "cell_type": "code",
      "execution_count": 58,
      "metadata": {
        "id": "UbDOqrcy4mle"
      },
      "outputs": [],
      "source": [
        "##  PCA  Emb"
      ]
    },
    {
      "cell_type": "code",
      "execution_count": 59,
      "metadata": {
        "id": "Nga82Fw_4mle",
        "outputId": "0fe52043-af21-45c1-a404-040ab5845efc"
      },
      "outputs": [
        {
          "name": "stderr",
          "output_type": "stream",
          "text": [
            "100%|██████████| 36/36 [02:02<00:00,  3.41s/it]"
          ]
        },
        {
          "name": "stdout",
          "output_type": "stream",
          "text": [
            "{'n_estimators': 5, 'con': 0.001}\n",
            "0.17915537473055304\n",
            "              precision    recall  f1-score   support\n",
            "\n",
            "           0     0.0000    0.0000    0.0000    185162\n",
            "           1     0.2183    1.0000    0.3583     51696\n",
            "\n",
            "    accuracy                         0.2183    236858\n",
            "   macro avg     0.1091    0.5000    0.1792    236858\n",
            "weighted avg     0.0476    0.2183    0.0782    236858\n",
            "\n"
          ]
        },
        {
          "name": "stderr",
          "output_type": "stream",
          "text": [
            "\n",
            "/home/kienho/projects/NIDS_Anomal-E_revision/.conda/lib/python3.9/site-packages/sklearn/metrics/_classification.py:1531: UndefinedMetricWarning: Precision is ill-defined and being set to 0.0 in labels with no predicted samples. Use `zero_division` parameter to control this behavior.\n",
            "  _warn_prf(average, modifier, f\"{metric.capitalize()} is\", len(result))\n",
            "/home/kienho/projects/NIDS_Anomal-E_revision/.conda/lib/python3.9/site-packages/sklearn/metrics/_classification.py:1531: UndefinedMetricWarning: Precision is ill-defined and being set to 0.0 in labels with no predicted samples. Use `zero_division` parameter to control this behavior.\n",
            "  _warn_prf(average, modifier, f\"{metric.capitalize()} is\", len(result))\n",
            "/home/kienho/projects/NIDS_Anomal-E_revision/.conda/lib/python3.9/site-packages/sklearn/metrics/_classification.py:1531: UndefinedMetricWarning: Precision is ill-defined and being set to 0.0 in labels with no predicted samples. Use `zero_division` parameter to control this behavior.\n",
            "  _warn_prf(average, modifier, f\"{metric.capitalize()} is\", len(result))\n"
          ]
        }
      ],
      "source": [
        "from pyod.models.pca import PCA\n",
        "n_est = [5,10,15,20,25,30]\n",
        "cont = [0.001, 0.01, 0.04, 0.05, 0.1, 0.2]\n",
        "params = list(itertools.product(n_est, cont))\n",
        "score = -1\n",
        "bs = None\n",
        "\n",
        "for n_est, con in tqdm(params):\n",
        "    clf_if = PCA(n_components=n_est, contamination=con)\n",
        "    clf_if.fit(benign_train_samples)\n",
        "    y_pred = clf_if.predict(test_samples)\n",
        "    test_pred = y_pred\n",
        "\n",
        "    f1 = f1_score(test_labels, test_pred, average='macro')\n",
        "\n",
        "    if f1 > score:\n",
        "        score = f1\n",
        "        best_params = {'n_estimators': n_est,\n",
        "                       \"con\": con\n",
        "                }\n",
        "        bs = test_pred\n",
        "    del clf_if\n",
        "    gc.collect()\n",
        "\n",
        "\n",
        "print(best_params)\n",
        "print(score)\n",
        "print(classification_report(test_labels, bs, digits=4))"
      ]
    },
    {
      "cell_type": "code",
      "execution_count": 60,
      "metadata": {
        "id": "sg6AcAUW4mlf",
        "outputId": "a9949458-96cf-44dc-b4f6-c73458cb2719"
      },
      "outputs": [
        {
          "name": "stderr",
          "output_type": "stream",
          "text": [
            "100%|██████████| 36/36 [01:51<00:00,  3.11s/it]"
          ]
        },
        {
          "name": "stdout",
          "output_type": "stream",
          "text": [
            "{'n_estimators': 5, 'con': 0.05}\n",
            "0.17915537473055304\n",
            "              precision    recall  f1-score   support\n",
            "\n",
            "           0     0.0000    0.0000    0.0000    185162\n",
            "           1     0.2183    1.0000    0.3583     51696\n",
            "\n",
            "    accuracy                         0.2183    236858\n",
            "   macro avg     0.1091    0.5000    0.1792    236858\n",
            "weighted avg     0.0476    0.2183    0.0782    236858\n",
            "\n"
          ]
        },
        {
          "name": "stderr",
          "output_type": "stream",
          "text": [
            "\n",
            "/home/kienho/projects/NIDS_Anomal-E_revision/.conda/lib/python3.9/site-packages/sklearn/metrics/_classification.py:1531: UndefinedMetricWarning: Precision is ill-defined and being set to 0.0 in labels with no predicted samples. Use `zero_division` parameter to control this behavior.\n",
            "  _warn_prf(average, modifier, f\"{metric.capitalize()} is\", len(result))\n",
            "/home/kienho/projects/NIDS_Anomal-E_revision/.conda/lib/python3.9/site-packages/sklearn/metrics/_classification.py:1531: UndefinedMetricWarning: Precision is ill-defined and being set to 0.0 in labels with no predicted samples. Use `zero_division` parameter to control this behavior.\n",
            "  _warn_prf(average, modifier, f\"{metric.capitalize()} is\", len(result))\n",
            "/home/kienho/projects/NIDS_Anomal-E_revision/.conda/lib/python3.9/site-packages/sklearn/metrics/_classification.py:1531: UndefinedMetricWarning: Precision is ill-defined and being set to 0.0 in labels with no predicted samples. Use `zero_division` parameter to control this behavior.\n",
            "  _warn_prf(average, modifier, f\"{metric.capitalize()} is\", len(result))\n"
          ]
        }
      ],
      "source": [
        "n_est = [5,10,15,20,25,30]\n",
        "cont = [0.001, 0.01, 0.04, 0.05, 0.1, 0.2]\n",
        "params = list(itertools.product(n_est, cont))\n",
        "score = -1\n",
        "bs = None\n",
        "\n",
        "for n_est, con in tqdm(params):\n",
        "    clf_if = PCA(n_components=n_est, contamination=con)\n",
        "    clf_if.fit(normal_train_samples)\n",
        "    y_pred = clf_if.predict(test_samples)\n",
        "    test_pred = y_pred\n",
        "\n",
        "    f1 = f1_score(test_labels, test_pred, average='macro')\n",
        "\n",
        "    if f1 > score:\n",
        "        score = f1\n",
        "        best_params = {'n_estimators': n_est,\n",
        "                       \"con\": con\n",
        "                }\n",
        "        bs = test_pred\n",
        "    del clf_if\n",
        "    gc.collect()\n",
        "\n",
        "\n",
        "print(best_params)\n",
        "print(score)\n",
        "print(classification_report(test_labels, bs, digits=4))"
      ]
    },
    {
      "cell_type": "code",
      "execution_count": 61,
      "metadata": {
        "id": "JSoyZpDu4mlf"
      },
      "outputs": [],
      "source": [
        "##  PCA  RAw"
      ]
    },
    {
      "cell_type": "code",
      "execution_count": 62,
      "metadata": {
        "id": "3hKgicW14mlf",
        "outputId": "16c93b66-4eac-4d40-d5ce-96f3b3a5b3bb"
      },
      "outputs": [
        {
          "name": "stderr",
          "output_type": "stream",
          "text": [
            "100%|██████████| 36/36 [00:19<00:00,  1.85it/s]"
          ]
        },
        {
          "name": "stdout",
          "output_type": "stream",
          "text": [
            "{'n_estimators': 25, 'con': 0.001}\n",
            "0.563164570821579\n",
            "              precision    recall  f1-score   support\n",
            "\n",
            "           0     0.8047    0.9049    0.8519     92581\n",
            "           1     0.3851    0.2132    0.2745     25848\n",
            "\n",
            "    accuracy                         0.7540    118429\n",
            "   macro avg     0.5949    0.5591    0.5632    118429\n",
            "weighted avg     0.7131    0.7540    0.7258    118429\n",
            "\n"
          ]
        },
        {
          "name": "stderr",
          "output_type": "stream",
          "text": [
            "\n"
          ]
        }
      ],
      "source": [
        "n_est = [5,10,15,20,25,30]\n",
        "cont = [0.001, 0.01, 0.04, 0.05, 0.1, 0.2]\n",
        "params = list(itertools.product(n_est, cont))\n",
        "score = -1\n",
        "bs = None\n",
        "\n",
        "for n_est, con in tqdm(params):\n",
        "    clf_if = PCA(n_components=n_est, contamination=con)\n",
        "    clf_if.fit(raw_benign_train_samples)\n",
        "   \n",
        "    y_pred = clf_if.predict(raw_test_samples)\n",
        "    test_pred = y_pred\n",
        "\n",
        "    f1 = f1_score(raw_test_labels, test_pred, average='macro')\n",
        "\n",
        "    if f1 > score:\n",
        "        score = f1\n",
        "        best_params = {'n_estimators': n_est,\n",
        "                        \"con\": con\n",
        "                }\n",
        "        bs = test_pred\n",
        "    del clf_if\n",
        "    gc.collect()\n",
        "\n",
        "  \n",
        "\n",
        "print(best_params)\n",
        "print(score)\n",
        "print(classification_report(raw_test_labels, bs, digits=4))"
      ]
    },
    {
      "cell_type": "code",
      "execution_count": 63,
      "metadata": {
        "id": "nAdfwnlP4mlf",
        "outputId": "ddc9c2b4-a3b6-4ab6-cc74-7ed93ca23d22"
      },
      "outputs": [
        {
          "name": "stderr",
          "output_type": "stream",
          "text": [
            "100%|██████████| 36/36 [00:20<00:00,  1.77it/s]"
          ]
        },
        {
          "name": "stdout",
          "output_type": "stream",
          "text": [
            "benign only\n",
            "{'n_estimators': 10}\n",
            "0.5548541920720589\n",
            "              precision    recall  f1-score   support\n",
            "\n",
            "           0     0.8026    0.8703    0.8351     92581\n",
            "           1     0.3342    0.2331    0.2746     25848\n",
            "\n",
            "    accuracy                         0.7313    118429\n",
            "   macro avg     0.5684    0.5517    0.5549    118429\n",
            "weighted avg     0.7003    0.7313    0.7128    118429\n",
            "\n"
          ]
        },
        {
          "name": "stderr",
          "output_type": "stream",
          "text": [
            "\n"
          ]
        }
      ],
      "source": [
        "n_est = [5,10,15,20,25,30]\n",
        "cont = [0.001, 0.01, 0.04, 0.05, 0.1, 0.2]\n",
        "params = list(itertools.product(n_est, cont))\n",
        "score = -1\n",
        "bs = None\n",
        "\n",
        "for n_est, con in tqdm(params):\n",
        "    clf_if = PCA(n_components=n_est, contamination=con)\n",
        "    clf_if.fit(raw_normal_train_samples)\n",
        "\n",
        "    y_pred = clf_if.predict(raw_test_samples)\n",
        "    test_pred = y_pred\n",
        "\n",
        "    f1 = f1_score(raw_test_labels, test_pred, average='macro')\n",
        "\n",
        "    if f1 > score:\n",
        "        score = f1\n",
        "        best_params = {'n_estimators': n_est\n",
        "                }\n",
        "        bs = test_pred\n",
        "    del clf_if\n",
        "    gc.collect()\n",
        "\n",
        "        \n",
        "\n",
        "print(\"benign only\")\n",
        "print(best_params)\n",
        "print(score)\n",
        "print(classification_report(raw_test_labels, bs, digits=4))"
      ]
    },
    {
      "cell_type": "code",
      "execution_count": 64,
      "metadata": {
        "id": "yi8SO3tL4mlg"
      },
      "outputs": [],
      "source": [
        "##  IF  Emb"
      ]
    },
    {
      "cell_type": "code",
      "execution_count": 65,
      "metadata": {
        "id": "9D0m4vb04mlg",
        "outputId": "bd5a55e6-ac70-4943-9b28-92474b5fb9e9"
      },
      "outputs": [
        {
          "name": "stderr",
          "output_type": "stream",
          "text": [
            "100%|██████████| 24/24 [01:36<00:00,  4.04s/it]"
          ]
        },
        {
          "name": "stdout",
          "output_type": "stream",
          "text": [
            "{'n_estimators': 20, 'con': 0.001}\n",
            "0.17915537473055304\n",
            "              precision    recall  f1-score   support\n",
            "\n",
            "           0     0.0000    0.0000    0.0000    185162\n",
            "           1     0.2183    1.0000    0.3583     51696\n",
            "\n",
            "    accuracy                         0.2183    236858\n",
            "   macro avg     0.1091    0.5000    0.1792    236858\n",
            "weighted avg     0.0476    0.2183    0.0782    236858\n",
            "\n"
          ]
        },
        {
          "name": "stderr",
          "output_type": "stream",
          "text": [
            "\n",
            "/home/kienho/projects/NIDS_Anomal-E_revision/.conda/lib/python3.9/site-packages/sklearn/metrics/_classification.py:1531: UndefinedMetricWarning: Precision is ill-defined and being set to 0.0 in labels with no predicted samples. Use `zero_division` parameter to control this behavior.\n",
            "  _warn_prf(average, modifier, f\"{metric.capitalize()} is\", len(result))\n",
            "/home/kienho/projects/NIDS_Anomal-E_revision/.conda/lib/python3.9/site-packages/sklearn/metrics/_classification.py:1531: UndefinedMetricWarning: Precision is ill-defined and being set to 0.0 in labels with no predicted samples. Use `zero_division` parameter to control this behavior.\n",
            "  _warn_prf(average, modifier, f\"{metric.capitalize()} is\", len(result))\n",
            "/home/kienho/projects/NIDS_Anomal-E_revision/.conda/lib/python3.9/site-packages/sklearn/metrics/_classification.py:1531: UndefinedMetricWarning: Precision is ill-defined and being set to 0.0 in labels with no predicted samples. Use `zero_division` parameter to control this behavior.\n",
            "  _warn_prf(average, modifier, f\"{metric.capitalize()} is\", len(result))\n"
          ]
        }
      ],
      "source": [
        "from sklearn.ensemble import IsolationForest\n",
        "n_est = [20, 50, 100, 150]\n",
        "cont = [0.001, 0.01, 0.04, 0.05, 0.1, 0.2]\n",
        "params = list(itertools.product(n_est, cont))\n",
        "score = -1\n",
        "bs = None\n",
        "\n",
        "for n_est, con in tqdm(params):\n",
        "    clf_if = IsolationForest(n_estimators=n_est, contamination=con)\n",
        "    clf_if.fit(benign_train_samples)\n",
        "    y_pred = clf_if.predict(test_samples)\n",
        "    test_pred = list(map(lambda x : 0 if x == 1 else 1, y_pred))\n",
        "\n",
        "    f1 = f1_score(test_labels, test_pred, average='macro')\n",
        "\n",
        "    if f1 > score:\n",
        "        score = f1\n",
        "        best_params = {'n_estimators': n_est,\n",
        "                       \"con\": con\n",
        "                }\n",
        "        bs = test_pred\n",
        "    del clf_if\n",
        "    gc.collect()\n",
        "\n",
        "\n",
        "print(best_params)\n",
        "print(score)\n",
        "print(classification_report(test_labels, bs, digits=4))"
      ]
    },
    {
      "cell_type": "code",
      "execution_count": 66,
      "metadata": {
        "id": "NCj-3u4t4mlg",
        "outputId": "5f6b1720-9662-4704-ba96-dd57ee32a900"
      },
      "outputs": [
        {
          "name": "stderr",
          "output_type": "stream",
          "text": [
            "100%|██████████| 24/24 [01:34<00:00,  3.93s/it]"
          ]
        },
        {
          "name": "stdout",
          "output_type": "stream",
          "text": [
            "{'n_estimators': 50, 'con': 0.04}\n",
            "0.47483245684992315\n",
            "              precision    recall  f1-score   support\n",
            "\n",
            "           0     0.7878    1.0000    0.8813    185162\n",
            "           1     1.0000    0.0354    0.0683     51696\n",
            "\n",
            "    accuracy                         0.7895    236858\n",
            "   macro avg     0.8939    0.5177    0.4748    236858\n",
            "weighted avg     0.8341    0.7895    0.7039    236858\n",
            "\n"
          ]
        },
        {
          "name": "stderr",
          "output_type": "stream",
          "text": [
            "\n"
          ]
        }
      ],
      "source": [
        "from sklearn.ensemble import IsolationForest\n",
        "\n",
        "n_est = [20, 50, 100, 150]\n",
        "cont = [0.001, 0.01, 0.04, 0.05, 0.1, 0.2]\n",
        "params = list(itertools.product(n_est, cont))\n",
        "score = -1\n",
        "bs = None\n",
        "\n",
        "for n_est, con in tqdm(params):\n",
        "    clf_if = IsolationForest(n_estimators=n_est, contamination=con)\n",
        "    clf_if.fit(normal_train_samples)\n",
        "    y_pred = clf_if.predict(test_samples)\n",
        "    test_pred = list(map(lambda x : 0 if x == 1 else 1, y_pred))\n",
        "\n",
        "    f1 = f1_score(test_labels, test_pred, average='macro')\n",
        "\n",
        "    if f1 > score:\n",
        "        score = f1\n",
        "        best_params = {'n_estimators': n_est,\n",
        "                       \"con\": con\n",
        "                }\n",
        "        bs = test_pred\n",
        "    del clf_if\n",
        "    gc.collect()\n",
        "\n",
        "\n",
        "print(best_params)\n",
        "print(score)\n",
        "print(classification_report(test_labels, bs, digits=4))"
      ]
    },
    {
      "cell_type": "code",
      "execution_count": 67,
      "metadata": {
        "id": "iOIn_Kr44mlg"
      },
      "outputs": [],
      "source": [
        "##  IF  Raw"
      ]
    },
    {
      "cell_type": "code",
      "execution_count": 68,
      "metadata": {
        "id": "E_60yAo34mlg",
        "outputId": "354e56cd-ee22-4538-ba6f-43c1d67eb648"
      },
      "outputs": [
        {
          "name": "stderr",
          "output_type": "stream",
          "text": [
            "  0%|          | 0/24 [00:00<?, ?it/s]"
          ]
        },
        {
          "name": "stderr",
          "output_type": "stream",
          "text": [
            "100%|██████████| 24/24 [00:27<00:00,  1.14s/it]"
          ]
        },
        {
          "name": "stdout",
          "output_type": "stream",
          "text": [
            "{'n_estimators': 50, 'con': 0.2}\n",
            "0.5971060931291328\n",
            "              precision    recall  f1-score   support\n",
            "\n",
            "           0     0.8136    0.9624    0.8818     92581\n",
            "           1     0.6095    0.2101    0.3125     25848\n",
            "\n",
            "    accuracy                         0.7982    118429\n",
            "   macro avg     0.7115    0.5862    0.5971    118429\n",
            "weighted avg     0.7690    0.7982    0.7575    118429\n",
            "\n"
          ]
        },
        {
          "name": "stderr",
          "output_type": "stream",
          "text": [
            "\n"
          ]
        }
      ],
      "source": [
        "from sklearn.ensemble import IsolationForest\n",
        "\n",
        "n_est = [20, 50, 100, 150]\n",
        "cont = [0.001, 0.01, 0.04, 0.05, 0.1, 0.2]\n",
        "params = list(itertools.product(n_est, cont))\n",
        "score = -1\n",
        "bs = None\n",
        "\n",
        "for n_est, con in tqdm(params):\n",
        "    clf_if = IsolationForest(n_estimators=n_est, contamination=con)\n",
        "    clf_if.fit(raw_benign_train_samples.to_numpy())\n",
        "   \n",
        "    y_pred = clf_if.predict(raw_test_samples.to_numpy())\n",
        "    test_pred = list(map(lambda x : 0 if x == 1 else 1, y_pred))\n",
        "\n",
        "    f1 = f1_score(raw_test_labels, test_pred, average='macro')\n",
        "\n",
        "    if f1 > score:\n",
        "        score = f1\n",
        "        best_params = {'n_estimators': n_est,\n",
        "                        \"con\": con\n",
        "                }\n",
        "        bs = test_pred\n",
        "    del clf_if\n",
        "    gc.collect()\n",
        "\n",
        "  \n",
        "\n",
        "print(best_params)\n",
        "print(score)\n",
        "print(classification_report(raw_test_labels, bs, digits=4))"
      ]
    },
    {
      "cell_type": "code",
      "execution_count": 69,
      "metadata": {
        "id": "5xNKBA7X4mlh",
        "outputId": "cd0ee1c5-5394-4e2b-efde-1f58bf922282"
      },
      "outputs": [
        {
          "name": "stderr",
          "output_type": "stream",
          "text": [
            "100%|██████████| 24/24 [00:26<00:00,  1.12s/it]"
          ]
        },
        {
          "name": "stdout",
          "output_type": "stream",
          "text": [
            "benign only\n",
            "{'n_estimators': 150}\n",
            "0.5503381020970055\n",
            "              precision    recall  f1-score   support\n",
            "\n",
            "           0     0.8016    0.9776    0.8809     92581\n",
            "           1     0.6240    0.1334    0.2198     25848\n",
            "\n",
            "    accuracy                         0.7933    118429\n",
            "   macro avg     0.7128    0.5555    0.5503    118429\n",
            "weighted avg     0.7628    0.7933    0.7366    118429\n",
            "\n"
          ]
        },
        {
          "name": "stderr",
          "output_type": "stream",
          "text": [
            "\n"
          ]
        }
      ],
      "source": [
        "n_est = [20, 50, 100, 150]\n",
        "cont = [0.001, 0.01, 0.04, 0.05, 0.1, 0.2]\n",
        "params = list(itertools.product(n_est, cont))\n",
        "score = -1\n",
        "bs = None\n",
        "\n",
        "for n_est, con in tqdm(params):\n",
        "    clf_if = IsolationForest(n_estimators=n_est, contamination=con)\n",
        "    clf_if.fit(raw_normal_train_samples.to_numpy())\n",
        "\n",
        "    y_pred = clf_if.predict(raw_test_samples.to_numpy())\n",
        "    test_pred = list(map(lambda x : 0 if x == 1 else 1, y_pred))\n",
        "\n",
        "    f1 = f1_score(raw_test_labels, test_pred, average='macro')\n",
        "\n",
        "    if f1 > score:\n",
        "        score = f1\n",
        "        best_params = {'n_estimators': n_est\n",
        "                }\n",
        "        bs = test_pred\n",
        "    del clf_if\n",
        "    gc.collect()\n",
        "\n",
        "        \n",
        "\n",
        "print(\"benign only\")\n",
        "print(best_params)\n",
        "print(score)\n",
        "print(classification_report(raw_test_labels, bs, digits=4))"
      ]
    }
  ],
  "metadata": {
    "accelerator": "GPU",
    "colab": {
      "provenance": []
    },
    "kernelspec": {
      "display_name": "Python 3",
      "language": "python",
      "name": "python3"
    },
    "language_info": {
      "codemirror_mode": {
        "name": "ipython",
        "version": 3
      },
      "file_extension": ".py",
      "mimetype": "text/x-python",
      "name": "python",
      "nbconvert_exporter": "python",
      "pygments_lexer": "ipython3",
      "version": "3.9.23"
    }
  },
  "nbformat": 4,
  "nbformat_minor": 0
}
