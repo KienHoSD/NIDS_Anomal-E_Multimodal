{
  "cells": [
    {
      "cell_type": "code",
      "execution_count": 1,
      "metadata": {
        "id": "Hjc3iIihKLn-"
      },
      "outputs": [
        {
          "name": "stderr",
          "output_type": "stream",
          "text": [
            "/home/kienho/miniforge3/envs/py3.9/lib/python3.9/site-packages/tqdm/auto.py:21: TqdmWarning: IProgress not found. Please update jupyter and ipywidgets. See https://ipywidgets.readthedocs.io/en/stable/user_install.html\n",
            "  from .autonotebook import tqdm as notebook_tqdm\n"
          ]
        }
      ],
      "source": [
        "import pandas as pd\n",
        "import numpy as np\n",
        "import torch\n",
        "from sklearn import preprocessing\n",
        "from dgl.data import DGLDataset\n",
        "import dgl\n",
        "import time\n",
        "import networkx as nx\n",
        "import category_encoders as ce\n",
        "import torch.nn as nn\n",
        "import torch.nn.functional as F\n",
        "import dgl.function as fn\n",
        "import torch\n",
        "import tqdm\n",
        "import math\n",
        "\n",
        "from typing import *\n",
        "from sklearn.preprocessing import StandardScaler, Normalizer\n",
        "import socket\n",
        "import struct\n",
        "import random\n",
        "from sklearn.model_selection import train_test_split"
      ]
    },
    {
      "cell_type": "code",
      "execution_count": 2,
      "metadata": {
        "id": "SvWHb_BpKsLq"
      },
      "outputs": [],
      "source": [
        "# file_name = \"NF-CSE-CIC-IDS2018-v2.csv\"\n",
        "file_name = \"NF-UNSW-NB15-v2.csv\"\n",
        "data = pd.read_csv(file_name)"
      ]
    },
    {
      "cell_type": "code",
      "execution_count": 3,
      "metadata": {
        "colab": {
          "base_uri": "https://localhost:8080/",
          "height": 488
        },
        "id": "fqly1y-LMwYS",
        "outputId": "18cca6c8-8a93-46c4-ffa1-9d21ebe843b0"
      },
      "outputs": [
        {
          "data": {
            "text/plain": [
              "Label\n",
              "0    2295222\n",
              "1      95053\n",
              "Name: count, dtype: int64"
            ]
          },
          "execution_count": 3,
          "metadata": {},
          "output_type": "execute_result"
        }
      ],
      "source": [
        "data.Label.value_counts()"
      ]
    },
    {
      "cell_type": "code",
      "execution_count": 4,
      "metadata": {
        "id": "3t4OREvSM33h"
      },
      "outputs": [],
      "source": [
        "data.rename(columns=lambda x: x.strip(), inplace=True)\n",
        "data['IPV4_SRC_ADDR'] = data[\"IPV4_SRC_ADDR\"].apply(str)\n",
        "data['L4_SRC_PORT'] = data[\"L4_SRC_PORT\"].apply(str)\n",
        "data['IPV4_DST_ADDR'] = data[\"IPV4_DST_ADDR\"].apply(str)\n",
        "data['L4_DST_PORT'] = data[\"L4_DST_PORT\"].apply(str)"
      ]
    },
    {
      "cell_type": "code",
      "execution_count": 5,
      "metadata": {
        "id": "bTtHq0XqNXxI"
      },
      "outputs": [],
      "source": [
        "data.drop(columns=[\"L4_SRC_PORT\", \"L4_DST_PORT\"], inplace=True)"
      ]
    },
    {
      "cell_type": "code",
      "execution_count": 6,
      "metadata": {
        "colab": {
          "base_uri": "https://localhost:8080/"
        },
        "id": "KUNIP-8zNkn9",
        "outputId": "34de637f-b644-4249-c3fd-cd19bb3bbde2"
      },
      "outputs": [
        {
          "data": {
            "text/plain": [
              "array(['Benign', 'Exploits', 'Generic', 'Fuzzers', 'Backdoor', 'DoS',\n",
              "       'Reconnaissance', 'Shellcode', 'Worms', 'Analysis'], dtype=object)"
            ]
          },
          "execution_count": 6,
          "metadata": {},
          "output_type": "execute_result"
        }
      ],
      "source": [
        "data.Attack.unique()"
      ]
    },
    {
      "cell_type": "code",
      "execution_count": 7,
      "metadata": {
        "id": "AlPa58fVN7gB"
      },
      "outputs": [],
      "source": [
        "data = data.groupby(by='Attack').sample(frac=0.1, random_state=13)"
      ]
    },
    {
      "cell_type": "code",
      "execution_count": 8,
      "metadata": {
        "colab": {
          "base_uri": "https://localhost:8080/",
          "height": 458
        },
        "id": "lcfAP6ViOp-J",
        "outputId": "3641324e-a78b-46bb-c3a4-8af04a7f9449"
      },
      "outputs": [
        {
          "data": {
            "text/html": [
              "<div>\n",
              "<style scoped>\n",
              "    .dataframe tbody tr th:only-of-type {\n",
              "        vertical-align: middle;\n",
              "    }\n",
              "\n",
              "    .dataframe tbody tr th {\n",
              "        vertical-align: top;\n",
              "    }\n",
              "\n",
              "    .dataframe thead th {\n",
              "        text-align: right;\n",
              "    }\n",
              "</style>\n",
              "<table border=\"1\" class=\"dataframe\">\n",
              "  <thead>\n",
              "    <tr style=\"text-align: right;\">\n",
              "      <th></th>\n",
              "      <th>IPV4_SRC_ADDR</th>\n",
              "      <th>IPV4_DST_ADDR</th>\n",
              "      <th>PROTOCOL</th>\n",
              "      <th>L7_PROTO</th>\n",
              "      <th>IN_BYTES</th>\n",
              "      <th>IN_PKTS</th>\n",
              "      <th>OUT_BYTES</th>\n",
              "      <th>OUT_PKTS</th>\n",
              "      <th>TCP_FLAGS</th>\n",
              "      <th>CLIENT_TCP_FLAGS</th>\n",
              "      <th>...</th>\n",
              "      <th>NUM_PKTS_1024_TO_1514_BYTES</th>\n",
              "      <th>TCP_WIN_MAX_IN</th>\n",
              "      <th>TCP_WIN_MAX_OUT</th>\n",
              "      <th>ICMP_TYPE</th>\n",
              "      <th>ICMP_IPV4_TYPE</th>\n",
              "      <th>DNS_QUERY_ID</th>\n",
              "      <th>DNS_QUERY_TYPE</th>\n",
              "      <th>DNS_TTL_ANSWER</th>\n",
              "      <th>FTP_COMMAND_RET_CODE</th>\n",
              "      <th>Label</th>\n",
              "    </tr>\n",
              "    <tr>\n",
              "      <th>Attack</th>\n",
              "      <th></th>\n",
              "      <th></th>\n",
              "      <th></th>\n",
              "      <th></th>\n",
              "      <th></th>\n",
              "      <th></th>\n",
              "      <th></th>\n",
              "      <th></th>\n",
              "      <th></th>\n",
              "      <th></th>\n",
              "      <th></th>\n",
              "      <th></th>\n",
              "      <th></th>\n",
              "      <th></th>\n",
              "      <th></th>\n",
              "      <th></th>\n",
              "      <th></th>\n",
              "      <th></th>\n",
              "      <th></th>\n",
              "      <th></th>\n",
              "      <th></th>\n",
              "    </tr>\n",
              "  </thead>\n",
              "  <tbody>\n",
              "    <tr>\n",
              "      <th>Analysis</th>\n",
              "      <td>230</td>\n",
              "      <td>230</td>\n",
              "      <td>230</td>\n",
              "      <td>230</td>\n",
              "      <td>230</td>\n",
              "      <td>230</td>\n",
              "      <td>230</td>\n",
              "      <td>230</td>\n",
              "      <td>230</td>\n",
              "      <td>230</td>\n",
              "      <td>...</td>\n",
              "      <td>230</td>\n",
              "      <td>230</td>\n",
              "      <td>230</td>\n",
              "      <td>230</td>\n",
              "      <td>230</td>\n",
              "      <td>230</td>\n",
              "      <td>230</td>\n",
              "      <td>230</td>\n",
              "      <td>230</td>\n",
              "      <td>230</td>\n",
              "    </tr>\n",
              "    <tr>\n",
              "      <th>Backdoor</th>\n",
              "      <td>217</td>\n",
              "      <td>217</td>\n",
              "      <td>217</td>\n",
              "      <td>217</td>\n",
              "      <td>217</td>\n",
              "      <td>217</td>\n",
              "      <td>217</td>\n",
              "      <td>217</td>\n",
              "      <td>217</td>\n",
              "      <td>217</td>\n",
              "      <td>...</td>\n",
              "      <td>217</td>\n",
              "      <td>217</td>\n",
              "      <td>217</td>\n",
              "      <td>217</td>\n",
              "      <td>217</td>\n",
              "      <td>217</td>\n",
              "      <td>217</td>\n",
              "      <td>217</td>\n",
              "      <td>217</td>\n",
              "      <td>217</td>\n",
              "    </tr>\n",
              "    <tr>\n",
              "      <th>Benign</th>\n",
              "      <td>229522</td>\n",
              "      <td>229522</td>\n",
              "      <td>229522</td>\n",
              "      <td>229522</td>\n",
              "      <td>229522</td>\n",
              "      <td>229522</td>\n",
              "      <td>229522</td>\n",
              "      <td>229522</td>\n",
              "      <td>229522</td>\n",
              "      <td>229522</td>\n",
              "      <td>...</td>\n",
              "      <td>229522</td>\n",
              "      <td>229522</td>\n",
              "      <td>229522</td>\n",
              "      <td>229522</td>\n",
              "      <td>229522</td>\n",
              "      <td>229522</td>\n",
              "      <td>229522</td>\n",
              "      <td>229522</td>\n",
              "      <td>229522</td>\n",
              "      <td>229522</td>\n",
              "    </tr>\n",
              "    <tr>\n",
              "      <th>DoS</th>\n",
              "      <td>579</td>\n",
              "      <td>579</td>\n",
              "      <td>579</td>\n",
              "      <td>579</td>\n",
              "      <td>579</td>\n",
              "      <td>579</td>\n",
              "      <td>579</td>\n",
              "      <td>579</td>\n",
              "      <td>579</td>\n",
              "      <td>579</td>\n",
              "      <td>...</td>\n",
              "      <td>579</td>\n",
              "      <td>579</td>\n",
              "      <td>579</td>\n",
              "      <td>579</td>\n",
              "      <td>579</td>\n",
              "      <td>579</td>\n",
              "      <td>579</td>\n",
              "      <td>579</td>\n",
              "      <td>579</td>\n",
              "      <td>579</td>\n",
              "    </tr>\n",
              "    <tr>\n",
              "      <th>Exploits</th>\n",
              "      <td>3155</td>\n",
              "      <td>3155</td>\n",
              "      <td>3155</td>\n",
              "      <td>3155</td>\n",
              "      <td>3155</td>\n",
              "      <td>3155</td>\n",
              "      <td>3155</td>\n",
              "      <td>3155</td>\n",
              "      <td>3155</td>\n",
              "      <td>3155</td>\n",
              "      <td>...</td>\n",
              "      <td>3155</td>\n",
              "      <td>3155</td>\n",
              "      <td>3155</td>\n",
              "      <td>3155</td>\n",
              "      <td>3155</td>\n",
              "      <td>3155</td>\n",
              "      <td>3155</td>\n",
              "      <td>3155</td>\n",
              "      <td>3155</td>\n",
              "      <td>3155</td>\n",
              "    </tr>\n",
              "    <tr>\n",
              "      <th>Fuzzers</th>\n",
              "      <td>2231</td>\n",
              "      <td>2231</td>\n",
              "      <td>2231</td>\n",
              "      <td>2231</td>\n",
              "      <td>2231</td>\n",
              "      <td>2231</td>\n",
              "      <td>2231</td>\n",
              "      <td>2231</td>\n",
              "      <td>2231</td>\n",
              "      <td>2231</td>\n",
              "      <td>...</td>\n",
              "      <td>2231</td>\n",
              "      <td>2231</td>\n",
              "      <td>2231</td>\n",
              "      <td>2231</td>\n",
              "      <td>2231</td>\n",
              "      <td>2231</td>\n",
              "      <td>2231</td>\n",
              "      <td>2231</td>\n",
              "      <td>2231</td>\n",
              "      <td>2231</td>\n",
              "    </tr>\n",
              "    <tr>\n",
              "      <th>Generic</th>\n",
              "      <td>1656</td>\n",
              "      <td>1656</td>\n",
              "      <td>1656</td>\n",
              "      <td>1656</td>\n",
              "      <td>1656</td>\n",
              "      <td>1656</td>\n",
              "      <td>1656</td>\n",
              "      <td>1656</td>\n",
              "      <td>1656</td>\n",
              "      <td>1656</td>\n",
              "      <td>...</td>\n",
              "      <td>1656</td>\n",
              "      <td>1656</td>\n",
              "      <td>1656</td>\n",
              "      <td>1656</td>\n",
              "      <td>1656</td>\n",
              "      <td>1656</td>\n",
              "      <td>1656</td>\n",
              "      <td>1656</td>\n",
              "      <td>1656</td>\n",
              "      <td>1656</td>\n",
              "    </tr>\n",
              "    <tr>\n",
              "      <th>Reconnaissance</th>\n",
              "      <td>1278</td>\n",
              "      <td>1278</td>\n",
              "      <td>1278</td>\n",
              "      <td>1278</td>\n",
              "      <td>1278</td>\n",
              "      <td>1278</td>\n",
              "      <td>1278</td>\n",
              "      <td>1278</td>\n",
              "      <td>1278</td>\n",
              "      <td>1278</td>\n",
              "      <td>...</td>\n",
              "      <td>1278</td>\n",
              "      <td>1278</td>\n",
              "      <td>1278</td>\n",
              "      <td>1278</td>\n",
              "      <td>1278</td>\n",
              "      <td>1278</td>\n",
              "      <td>1278</td>\n",
              "      <td>1278</td>\n",
              "      <td>1278</td>\n",
              "      <td>1278</td>\n",
              "    </tr>\n",
              "    <tr>\n",
              "      <th>Shellcode</th>\n",
              "      <td>143</td>\n",
              "      <td>143</td>\n",
              "      <td>143</td>\n",
              "      <td>143</td>\n",
              "      <td>143</td>\n",
              "      <td>143</td>\n",
              "      <td>143</td>\n",
              "      <td>143</td>\n",
              "      <td>143</td>\n",
              "      <td>143</td>\n",
              "      <td>...</td>\n",
              "      <td>143</td>\n",
              "      <td>143</td>\n",
              "      <td>143</td>\n",
              "      <td>143</td>\n",
              "      <td>143</td>\n",
              "      <td>143</td>\n",
              "      <td>143</td>\n",
              "      <td>143</td>\n",
              "      <td>143</td>\n",
              "      <td>143</td>\n",
              "    </tr>\n",
              "    <tr>\n",
              "      <th>Worms</th>\n",
              "      <td>16</td>\n",
              "      <td>16</td>\n",
              "      <td>16</td>\n",
              "      <td>16</td>\n",
              "      <td>16</td>\n",
              "      <td>16</td>\n",
              "      <td>16</td>\n",
              "      <td>16</td>\n",
              "      <td>16</td>\n",
              "      <td>16</td>\n",
              "      <td>...</td>\n",
              "      <td>16</td>\n",
              "      <td>16</td>\n",
              "      <td>16</td>\n",
              "      <td>16</td>\n",
              "      <td>16</td>\n",
              "      <td>16</td>\n",
              "      <td>16</td>\n",
              "      <td>16</td>\n",
              "      <td>16</td>\n",
              "      <td>16</td>\n",
              "    </tr>\n",
              "  </tbody>\n",
              "</table>\n",
              "<p>10 rows × 42 columns</p>\n",
              "</div>"
            ],
            "text/plain": [
              "                IPV4_SRC_ADDR  IPV4_DST_ADDR  PROTOCOL  L7_PROTO  IN_BYTES  \\\n",
              "Attack                                                                       \n",
              "Analysis                  230            230       230       230       230   \n",
              "Backdoor                  217            217       217       217       217   \n",
              "Benign                 229522         229522    229522    229522    229522   \n",
              "DoS                       579            579       579       579       579   \n",
              "Exploits                 3155           3155      3155      3155      3155   \n",
              "Fuzzers                  2231           2231      2231      2231      2231   \n",
              "Generic                  1656           1656      1656      1656      1656   \n",
              "Reconnaissance           1278           1278      1278      1278      1278   \n",
              "Shellcode                 143            143       143       143       143   \n",
              "Worms                      16             16        16        16        16   \n",
              "\n",
              "                IN_PKTS  OUT_BYTES  OUT_PKTS  TCP_FLAGS  CLIENT_TCP_FLAGS  \\\n",
              "Attack                                                                      \n",
              "Analysis            230        230       230        230               230   \n",
              "Backdoor            217        217       217        217               217   \n",
              "Benign           229522     229522    229522     229522            229522   \n",
              "DoS                 579        579       579        579               579   \n",
              "Exploits           3155       3155      3155       3155              3155   \n",
              "Fuzzers            2231       2231      2231       2231              2231   \n",
              "Generic            1656       1656      1656       1656              1656   \n",
              "Reconnaissance     1278       1278      1278       1278              1278   \n",
              "Shellcode           143        143       143        143               143   \n",
              "Worms                16         16        16         16                16   \n",
              "\n",
              "                ...  NUM_PKTS_1024_TO_1514_BYTES  TCP_WIN_MAX_IN  \\\n",
              "Attack          ...                                                \n",
              "Analysis        ...                          230             230   \n",
              "Backdoor        ...                          217             217   \n",
              "Benign          ...                       229522          229522   \n",
              "DoS             ...                          579             579   \n",
              "Exploits        ...                         3155            3155   \n",
              "Fuzzers         ...                         2231            2231   \n",
              "Generic         ...                         1656            1656   \n",
              "Reconnaissance  ...                         1278            1278   \n",
              "Shellcode       ...                          143             143   \n",
              "Worms           ...                           16              16   \n",
              "\n",
              "                TCP_WIN_MAX_OUT  ICMP_TYPE  ICMP_IPV4_TYPE  DNS_QUERY_ID  \\\n",
              "Attack                                                                     \n",
              "Analysis                    230        230             230           230   \n",
              "Backdoor                    217        217             217           217   \n",
              "Benign                   229522     229522          229522        229522   \n",
              "DoS                         579        579             579           579   \n",
              "Exploits                   3155       3155            3155          3155   \n",
              "Fuzzers                    2231       2231            2231          2231   \n",
              "Generic                    1656       1656            1656          1656   \n",
              "Reconnaissance             1278       1278            1278          1278   \n",
              "Shellcode                   143        143             143           143   \n",
              "Worms                        16         16              16            16   \n",
              "\n",
              "                DNS_QUERY_TYPE  DNS_TTL_ANSWER  FTP_COMMAND_RET_CODE   Label  \n",
              "Attack                                                                        \n",
              "Analysis                   230             230                   230     230  \n",
              "Backdoor                   217             217                   217     217  \n",
              "Benign                  229522          229522                229522  229522  \n",
              "DoS                        579             579                   579     579  \n",
              "Exploits                  3155            3155                  3155    3155  \n",
              "Fuzzers                   2231            2231                  2231    2231  \n",
              "Generic                   1656            1656                  1656    1656  \n",
              "Reconnaissance            1278            1278                  1278    1278  \n",
              "Shellcode                  143             143                   143     143  \n",
              "Worms                       16              16                    16      16  \n",
              "\n",
              "[10 rows x 42 columns]"
            ]
          },
          "execution_count": 8,
          "metadata": {},
          "output_type": "execute_result"
        }
      ],
      "source": [
        "data.groupby(by=\"Attack\").count()"
      ]
    },
    {
      "cell_type": "code",
      "execution_count": 9,
      "metadata": {
        "id": "FqRx5xCPOuv8"
      },
      "outputs": [],
      "source": [
        "X = data.drop(columns=[\"Attack\", \"Label\"])\n",
        "y = data[[\"Attack\", \"Label\"]]\n",
        "\n",
        "X_train, X_test, y_train, y_test = train_test_split(\n",
        "        X, y, test_size=0.3, random_state=13, stratify=y)"
      ]
    },
    {
      "cell_type": "code",
      "execution_count": 10,
      "metadata": {
        "id": "bPfakXplPGGx"
      },
      "outputs": [],
      "source": [
        "encoder = ce.TargetEncoder(cols=['TCP_FLAGS','L7_PROTO','PROTOCOL',\n",
        "                                  'CLIENT_TCP_FLAGS','SERVER_TCP_FLAGS','ICMP_TYPE',\n",
        "                                  'ICMP_IPV4_TYPE','DNS_QUERY_ID','DNS_QUERY_TYPE',\n",
        "                                  'FTP_COMMAND_RET_CODE'])\n",
        "encoder.fit(X_train, y_train.Label)\n",
        "\n",
        "# Transform on training set\n",
        "X_train = encoder.transform(X_train)\n",
        "\n",
        "# Transform on testing set\n",
        "X_test = encoder.transform(X_test)"
      ]
    },
    {
      "cell_type": "code",
      "execution_count": 11,
      "metadata": {
        "id": "ibyOfV-8PouK"
      },
      "outputs": [],
      "source": [
        "X_train.replace([np.inf, -np.inf], np.nan, inplace=True)\n",
        "X_test.replace([np.inf, -np.inf], np.nan, inplace=True)\n",
        "X_train.fillna(0, inplace=True)\n",
        "X_test.fillna(0, inplace=True)"
      ]
    },
    {
      "cell_type": "code",
      "execution_count": 12,
      "metadata": {
        "id": "asDnsSIWPee0"
      },
      "outputs": [],
      "source": [
        "scaler = Normalizer()\n",
        "cols_to_norm = list(set(list(X_train.iloc[:, 2:].columns))) # Ignore first two as the represents IP addresses\n",
        "scaler.fit(X_train[cols_to_norm])\n",
        "\n",
        "# Transform on training set\n",
        "X_train[cols_to_norm] = scaler.transform(X_train[cols_to_norm])\n",
        "X_train['h'] = X_train.iloc[:, 2:].values.tolist()\n",
        "\n",
        "# Transform on testing set\n",
        "X_test[cols_to_norm] = scaler.transform(X_test[cols_to_norm])\n",
        "X_test['h'] = X_test.iloc[:, 2:].values.tolist()\n",
        "\n",
        "train = pd.concat([X_train, y_train], axis=1)\n",
        "test = pd.concat([X_test, y_test], axis=1)"
      ]
    },
    {
      "cell_type": "code",
      "execution_count": 13,
      "metadata": {
        "colab": {
          "base_uri": "https://localhost:8080/",
          "height": 357
        },
        "id": "hErQbsnrPluV",
        "outputId": "c4dbe223-89d5-48f5-800d-16512a77e66c"
      },
      "outputs": [
        {
          "data": {
            "text/html": [
              "<div>\n",
              "<style scoped>\n",
              "    .dataframe tbody tr th:only-of-type {\n",
              "        vertical-align: middle;\n",
              "    }\n",
              "\n",
              "    .dataframe tbody tr th {\n",
              "        vertical-align: top;\n",
              "    }\n",
              "\n",
              "    .dataframe thead th {\n",
              "        text-align: right;\n",
              "    }\n",
              "</style>\n",
              "<table border=\"1\" class=\"dataframe\">\n",
              "  <thead>\n",
              "    <tr style=\"text-align: right;\">\n",
              "      <th></th>\n",
              "      <th>IPV4_SRC_ADDR</th>\n",
              "      <th>IPV4_DST_ADDR</th>\n",
              "      <th>PROTOCOL</th>\n",
              "      <th>L7_PROTO</th>\n",
              "      <th>IN_BYTES</th>\n",
              "      <th>IN_PKTS</th>\n",
              "      <th>OUT_BYTES</th>\n",
              "      <th>OUT_PKTS</th>\n",
              "      <th>TCP_FLAGS</th>\n",
              "      <th>CLIENT_TCP_FLAGS</th>\n",
              "      <th>...</th>\n",
              "      <th>NUM_PKTS_1024_TO_1514_BYTES</th>\n",
              "      <th>TCP_WIN_MAX_IN</th>\n",
              "      <th>TCP_WIN_MAX_OUT</th>\n",
              "      <th>ICMP_TYPE</th>\n",
              "      <th>ICMP_IPV4_TYPE</th>\n",
              "      <th>DNS_QUERY_ID</th>\n",
              "      <th>DNS_QUERY_TYPE</th>\n",
              "      <th>DNS_TTL_ANSWER</th>\n",
              "      <th>FTP_COMMAND_RET_CODE</th>\n",
              "      <th>h</th>\n",
              "    </tr>\n",
              "  </thead>\n",
              "  <tbody>\n",
              "    <tr>\n",
              "      <th>220614</th>\n",
              "      <td>59.166.0.4</td>\n",
              "      <td>149.171.126.1</td>\n",
              "      <td>4.802078e-09</td>\n",
              "      <td>3.048648e-09</td>\n",
              "      <td>3.994566e-05</td>\n",
              "      <td>7.652425e-07</td>\n",
              "      <td>0.000072</td>\n",
              "      <td>1.071339e-06</td>\n",
              "      <td>1.980229e-09</td>\n",
              "      <td>1.980360e-09</td>\n",
              "      <td>...</td>\n",
              "      <td>0.000000e+00</td>\n",
              "      <td>1.329685e-03</td>\n",
              "      <td>1.329685e-03</td>\n",
              "      <td>4.043553e-10</td>\n",
              "      <td>4.043553e-10</td>\n",
              "      <td>6.314168e-09</td>\n",
              "      <td>6.314212e-09</td>\n",
              "      <td>0.000000</td>\n",
              "      <td>3.618463e-09</td>\n",
              "      <td>[4.802078220820267e-09, 3.0486475517277593e-09...</td>\n",
              "    </tr>\n",
              "    <tr>\n",
              "      <th>329844</th>\n",
              "      <td>59.166.0.1</td>\n",
              "      <td>149.171.126.8</td>\n",
              "      <td>9.025364e-09</td>\n",
              "      <td>8.052833e-09</td>\n",
              "      <td>1.079121e-04</td>\n",
              "      <td>8.300931e-07</td>\n",
              "      <td>0.000063</td>\n",
              "      <td>8.300931e-07</td>\n",
              "      <td>1.397062e-08</td>\n",
              "      <td>1.396955e-08</td>\n",
              "      <td>...</td>\n",
              "      <td>0.000000e+00</td>\n",
              "      <td>0.000000e+00</td>\n",
              "      <td>0.000000e+00</td>\n",
              "      <td>1.181795e-08</td>\n",
              "      <td>1.182599e-08</td>\n",
              "      <td>8.561578e-09</td>\n",
              "      <td>8.561639e-09</td>\n",
              "      <td>0.000000</td>\n",
              "      <td>9.271523e-09</td>\n",
              "      <td>[9.025363504432674e-09, 8.052833119952719e-09,...</td>\n",
              "    </tr>\n",
              "    <tr>\n",
              "      <th>1093665</th>\n",
              "      <td>59.166.0.3</td>\n",
              "      <td>149.171.126.8</td>\n",
              "      <td>3.068685e-13</td>\n",
              "      <td>8.437668e-13</td>\n",
              "      <td>1.638983e-07</td>\n",
              "      <td>3.061234e-09</td>\n",
              "      <td>0.000010</td>\n",
              "      <td>7.129838e-09</td>\n",
              "      <td>1.188386e-13</td>\n",
              "      <td>1.274923e-13</td>\n",
              "      <td>...</td>\n",
              "      <td>6.875550e-09</td>\n",
              "      <td>6.372843e-07</td>\n",
              "      <td>7.080936e-08</td>\n",
              "      <td>4.545956e-14</td>\n",
              "      <td>5.191930e-14</td>\n",
              "      <td>4.034959e-13</td>\n",
              "      <td>4.034988e-13</td>\n",
              "      <td>0.000000</td>\n",
              "      <td>4.369547e-13</td>\n",
              "      <td>[3.068684887633906e-13, 8.437667728858196e-13,...</td>\n",
              "    </tr>\n",
              "    <tr>\n",
              "      <th>1764268</th>\n",
              "      <td>59.166.0.4</td>\n",
              "      <td>149.171.126.0</td>\n",
              "      <td>2.361402e-08</td>\n",
              "      <td>2.106949e-08</td>\n",
              "      <td>7.927293e-05</td>\n",
              "      <td>1.085931e-06</td>\n",
              "      <td>0.000097</td>\n",
              "      <td>1.085931e-06</td>\n",
              "      <td>3.655283e-08</td>\n",
              "      <td>3.655002e-08</td>\n",
              "      <td>...</td>\n",
              "      <td>0.000000e+00</td>\n",
              "      <td>0.000000e+00</td>\n",
              "      <td>0.000000e+00</td>\n",
              "      <td>3.092057e-08</td>\n",
              "      <td>3.094159e-08</td>\n",
              "      <td>1.878071e-08</td>\n",
              "      <td>3.577436e-10</td>\n",
              "      <td>0.000033</td>\n",
              "      <td>2.425808e-08</td>\n",
              "      <td>[2.3614022984160315e-08, 2.1069487814953574e-0...</td>\n",
              "    </tr>\n",
              "    <tr>\n",
              "      <th>1525176</th>\n",
              "      <td>59.166.0.9</td>\n",
              "      <td>149.171.126.5</td>\n",
              "      <td>2.309362e-10</td>\n",
              "      <td>2.856102e-10</td>\n",
              "      <td>1.717880e-05</td>\n",
              "      <td>2.649686e-07</td>\n",
              "      <td>0.000124</td>\n",
              "      <td>2.796890e-07</td>\n",
              "      <td>8.943290e-11</td>\n",
              "      <td>9.594530e-11</td>\n",
              "      <td>...</td>\n",
              "      <td>7.360238e-08</td>\n",
              "      <td>1.598644e-04</td>\n",
              "      <td>1.065762e-04</td>\n",
              "      <td>5.174884e-12</td>\n",
              "      <td>5.174884e-12</td>\n",
              "      <td>3.036539e-10</td>\n",
              "      <td>3.036561e-10</td>\n",
              "      <td>0.000000</td>\n",
              "      <td>3.288336e-10</td>\n",
              "      <td>[2.309362039695701e-10, 2.856102367918858e-10,...</td>\n",
              "    </tr>\n",
              "  </tbody>\n",
              "</table>\n",
              "<p>5 rows × 42 columns</p>\n",
              "</div>"
            ],
            "text/plain": [
              "        IPV4_SRC_ADDR  IPV4_DST_ADDR      PROTOCOL      L7_PROTO  \\\n",
              "220614     59.166.0.4  149.171.126.1  4.802078e-09  3.048648e-09   \n",
              "329844     59.166.0.1  149.171.126.8  9.025364e-09  8.052833e-09   \n",
              "1093665    59.166.0.3  149.171.126.8  3.068685e-13  8.437668e-13   \n",
              "1764268    59.166.0.4  149.171.126.0  2.361402e-08  2.106949e-08   \n",
              "1525176    59.166.0.9  149.171.126.5  2.309362e-10  2.856102e-10   \n",
              "\n",
              "             IN_BYTES       IN_PKTS  OUT_BYTES      OUT_PKTS     TCP_FLAGS  \\\n",
              "220614   3.994566e-05  7.652425e-07   0.000072  1.071339e-06  1.980229e-09   \n",
              "329844   1.079121e-04  8.300931e-07   0.000063  8.300931e-07  1.397062e-08   \n",
              "1093665  1.638983e-07  3.061234e-09   0.000010  7.129838e-09  1.188386e-13   \n",
              "1764268  7.927293e-05  1.085931e-06   0.000097  1.085931e-06  3.655283e-08   \n",
              "1525176  1.717880e-05  2.649686e-07   0.000124  2.796890e-07  8.943290e-11   \n",
              "\n",
              "         CLIENT_TCP_FLAGS  ...  NUM_PKTS_1024_TO_1514_BYTES  TCP_WIN_MAX_IN  \\\n",
              "220614       1.980360e-09  ...                 0.000000e+00    1.329685e-03   \n",
              "329844       1.396955e-08  ...                 0.000000e+00    0.000000e+00   \n",
              "1093665      1.274923e-13  ...                 6.875550e-09    6.372843e-07   \n",
              "1764268      3.655002e-08  ...                 0.000000e+00    0.000000e+00   \n",
              "1525176      9.594530e-11  ...                 7.360238e-08    1.598644e-04   \n",
              "\n",
              "         TCP_WIN_MAX_OUT     ICMP_TYPE  ICMP_IPV4_TYPE  DNS_QUERY_ID  \\\n",
              "220614      1.329685e-03  4.043553e-10    4.043553e-10  6.314168e-09   \n",
              "329844      0.000000e+00  1.181795e-08    1.182599e-08  8.561578e-09   \n",
              "1093665     7.080936e-08  4.545956e-14    5.191930e-14  4.034959e-13   \n",
              "1764268     0.000000e+00  3.092057e-08    3.094159e-08  1.878071e-08   \n",
              "1525176     1.065762e-04  5.174884e-12    5.174884e-12  3.036539e-10   \n",
              "\n",
              "         DNS_QUERY_TYPE  DNS_TTL_ANSWER  FTP_COMMAND_RET_CODE  \\\n",
              "220614     6.314212e-09        0.000000          3.618463e-09   \n",
              "329844     8.561639e-09        0.000000          9.271523e-09   \n",
              "1093665    4.034988e-13        0.000000          4.369547e-13   \n",
              "1764268    3.577436e-10        0.000033          2.425808e-08   \n",
              "1525176    3.036561e-10        0.000000          3.288336e-10   \n",
              "\n",
              "                                                         h  \n",
              "220614   [4.802078220820267e-09, 3.0486475517277593e-09...  \n",
              "329844   [9.025363504432674e-09, 8.052833119952719e-09,...  \n",
              "1093665  [3.068684887633906e-13, 8.437667728858196e-13,...  \n",
              "1764268  [2.3614022984160315e-08, 2.1069487814953574e-0...  \n",
              "1525176  [2.309362039695701e-10, 2.856102367918858e-10,...  \n",
              "\n",
              "[5 rows x 42 columns]"
            ]
          },
          "execution_count": 13,
          "metadata": {},
          "output_type": "execute_result"
        }
      ],
      "source": [
        "X_train.head()"
      ]
    },
    {
      "cell_type": "code",
      "execution_count": 14,
      "metadata": {
        "id": "d_tLtK4WPtrF"
      },
      "outputs": [],
      "source": [
        "lab_enc = preprocessing.LabelEncoder()\n",
        "lab_enc.fit(data[\"Attack\"])\n",
        "\n",
        "# Transform on training set\n",
        "train[\"Attack\"] = lab_enc.transform(train[\"Attack\"])\n",
        "\n",
        "# Transform on testing set\n",
        "test[\"Attack\"] = lab_enc.transform(test[\"Attack\"])"
      ]
    },
    {
      "cell_type": "code",
      "execution_count": 15,
      "metadata": {
        "id": "8yaicjecP1fZ"
      },
      "outputs": [
        {
          "name": "stdout",
          "output_type": "stream",
          "text": [
            "MultiGraph with 39 nodes and 167318 edges\n",
            "MultiDiGraph with 39 nodes and 334636 edges\n"
          ]
        }
      ],
      "source": [
        "# Training graph\n",
        "\n",
        "train_g = nx.from_pandas_edgelist(train, \"IPV4_SRC_ADDR\", \"IPV4_DST_ADDR\",\n",
        "           [\"h\", \"Label\", \"Attack\"], create_using=nx.MultiGraph())\n",
        "print(train_g) # 39 nodes, 167318 edges\n",
        "train_g = train_g.to_directed()\n",
        "print(train_g) # 39 nodes, 334636 edges (doubled because of directed graph)\n",
        "train_g = dgl.from_networkx(train_g, edge_attrs=['h', 'Attack', 'Label'])\n",
        "nfeat_weight = torch.ones([train_g.number_of_nodes(),\n",
        "train_g.edata['h'].shape[1]])\n",
        "train_g.ndata['h'] = nfeat_weight\n",
        "\n",
        "# Testing graph\n",
        "test_g = nx.from_pandas_edgelist(test, \"IPV4_SRC_ADDR\", \"IPV4_DST_ADDR\",\n",
        "            [\"h\", \"Label\", \"Attack\"], create_using=nx.MultiGraph())\n",
        "\n",
        "test_g = test_g.to_directed()\n",
        "test_g = dgl.from_networkx(test_g, edge_attrs=['h', 'Attack', 'Label'])\n",
        "nfeat_weight = torch.ones([test_g.number_of_nodes(),\n",
        "test_g.edata['h'].shape[1]])\n",
        "test_g.ndata['h'] = nfeat_weight"
      ]
    },
    {
      "cell_type": "code",
      "execution_count": 16,
      "metadata": {
        "id": "PUV6DgJ9QRaP"
      },
      "outputs": [],
      "source": [
        "import torch.nn as nn\n",
        "import torch.nn.functional as F\n",
        "import dgl.function as fn\n",
        "import tqdm\n",
        "import gc\n",
        "\n",
        "class SAGELayer(nn.Module):\n",
        "    def __init__(self, ndim_in, edims, ndim_out, activation):\n",
        "      super(SAGELayer, self).__init__()\n",
        "      self.W_apply = nn.Linear(ndim_in + edims , ndim_out)\n",
        "      self.activation = F.relu\n",
        "      self.W_edge = nn.Linear(128 * 2, 256)\n",
        "      self.reset_parameters()\n",
        "\n",
        "    def reset_parameters(self):\n",
        "      gain = nn.init.calculate_gain('relu')\n",
        "      nn.init.xavier_uniform_(self.W_apply.weight, gain=gain)\n",
        "\n",
        "    def message_func(self, edges):\n",
        "      return {'m':  edges.data['h']}\n",
        "\n",
        "    def forward(self, g_dgl, nfeats, efeats):\n",
        "      with g_dgl.local_scope():\n",
        "        g = g_dgl\n",
        "        g.ndata['h'] = nfeats\n",
        "        g.edata['h'] = efeats\n",
        "        g.update_all(self.message_func, fn.mean('m', 'h_neigh'))\n",
        "        g.ndata['h'] = F.relu(self.W_apply(torch.cat([g.ndata['h'], g.ndata['h_neigh']], 2)))\n",
        "\n",
        "        # Compute edge embeddings\n",
        "        u, v = g.edges()\n",
        "        edge = self.W_edge(torch.cat((g.srcdata['h'][u], g.dstdata['h'][v]), 2))\n",
        "        return g.ndata['h'], edge"
      ]
    },
    {
      "cell_type": "code",
      "execution_count": 17,
      "metadata": {
        "id": "_xo-3K4QRGqc"
      },
      "outputs": [],
      "source": [
        "class SAGE(nn.Module):\n",
        "    def __init__(self, ndim_in, ndim_out, edim,  activation):\n",
        "      super(SAGE, self).__init__()\n",
        "      self.layers = nn.ModuleList()\n",
        "      self.layers.append(SAGELayer(ndim_in, edim, 128, F.relu))\n",
        "\n",
        "    def forward(self, g, nfeats, efeats, corrupt=False):\n",
        "      if corrupt:\n",
        "        e_perm = torch.randperm(g.number_of_edges())\n",
        "        #n_perm = torch.randperm(g.number_of_nodes())\n",
        "        efeats = efeats[e_perm]\n",
        "        #nfeats = nfeats[n_perm]\n",
        "      for i, layer in enumerate(self.layers):\n",
        "        #nfeats = layer(g, nfeats, efeats)\n",
        "        nfeats, e_feats = layer(g, nfeats, efeats)\n",
        "      #return nfeats.sum(1)\n",
        "      return nfeats.sum(1), e_feats.sum(1)"
      ]
    },
    {
      "cell_type": "code",
      "execution_count": 18,
      "metadata": {
        "id": "6uuxRtLuRJQL"
      },
      "outputs": [],
      "source": [
        "class Discriminator(nn.Module):\n",
        "    def __init__(self, n_hidden):\n",
        "      super(Discriminator, self).__init__()\n",
        "      self.weight = nn.Parameter(torch.Tensor(n_hidden, n_hidden))\n",
        "      self.reset_parameters()\n",
        "\n",
        "    def uniform(self, size, tensor):\n",
        "      bound = 1.0 / math.sqrt(size)\n",
        "      if tensor is not None:\n",
        "        tensor.data.uniform_(-bound, bound)\n",
        "\n",
        "    def reset_parameters(self):\n",
        "      size = self.weight.size(0)\n",
        "      self.uniform(size, self.weight)\n",
        "\n",
        "    def forward(self, features, summary):\n",
        "      features = torch.matmul(features, torch.matmul(self.weight, summary))\n",
        "      return features"
      ]
    },
    {
      "cell_type": "code",
      "execution_count": 19,
      "metadata": {
        "id": "ZPbVjlCyRUco"
      },
      "outputs": [],
      "source": [
        "class DGI(nn.Module):\n",
        "    def __init__(self, ndim_in, ndim_out, edim, activation):\n",
        "      super(DGI, self).__init__()\n",
        "      self.encoder = SAGE(ndim_in, ndim_out, edim,  F.relu)\n",
        "      #self.discriminator = Discriminator(128)\n",
        "      self.discriminator = Discriminator(256)\n",
        "      self.loss = nn.BCEWithLogitsLoss()\n",
        "\n",
        "    def forward(self, g, n_features, e_features):\n",
        "      positive = self.encoder(g, n_features, e_features, corrupt=False)\n",
        "      negative = self.encoder(g, n_features, e_features, corrupt=True)\n",
        "      self.loss = nn.BCEWithLogitsLoss()\n",
        "\n",
        "    def forward(self, g, n_features, e_features):\n",
        "      positive = self.encoder(g, n_features, e_features, corrupt=False)\n",
        "      negative = self.encoder(g, n_features, e_features, corrupt=True)\n",
        "\n",
        "      positive = positive[1]\n",
        "      negative = negative[1]\n",
        "\n",
        "      summary = torch.sigmoid(positive.mean(dim=0))\n",
        "\n",
        "      positive = self.discriminator(positive, summary)\n",
        "      negative = self.discriminator(negative, summary)\n",
        "\n",
        "      l1 = self.loss(positive, torch.ones_like(positive))\n",
        "      l2 = self.loss(negative, torch.zeros_like(negative))\n",
        "\n",
        "      return l1 + l2"
      ]
    },
    {
      "cell_type": "code",
      "execution_count": 53,
      "metadata": {
        "id": "sKnfpWFMR19u"
      },
      "outputs": [],
      "source": [
        "ndim_in = train_g.ndata['h'].shape[1]\n",
        "hidden_features = 128\n",
        "ndim_out = 128\n",
        "num_layers = 1\n",
        "edim = train_g.edata['h'].shape[1]\n",
        "learning_rate = 1e-3\n",
        "epochs = 4000"
      ]
    },
    {
      "cell_type": "code",
      "execution_count": 54,
      "metadata": {
        "id": "aSl_9qY8SbA0"
      },
      "outputs": [],
      "source": [
        "dgi = DGI(ndim_in,\n",
        "    ndim_out,\n",
        "    edim,\n",
        "    F.relu)\n",
        "\n",
        "dgi = dgi.to('cuda')\n",
        "\n",
        "dgi_optimizer = torch.optim.Adam(dgi.parameters(),\n",
        "                lr=1e-3,\n",
        "                weight_decay=0.)"
      ]
    },
    {
      "cell_type": "code",
      "execution_count": 23,
      "metadata": {
        "id": "9K6_cOiWSdJA"
      },
      "outputs": [],
      "source": [
        "# Format node and edge features for E-GraphSAGE\n",
        "train_g.ndata['h'] = torch.reshape(train_g.ndata['h'],\n",
        "                                   (train_g.ndata['h'].shape[0], 1,\n",
        "                                    train_g.ndata['h'].shape[1]))\n",
        "\n",
        "train_g.edata['h'] = torch.reshape(train_g.edata['h'],\n",
        "                                   (train_g.edata['h'].shape[0], 1,\n",
        "                                    train_g.edata['h'].shape[1]))"
      ]
    },
    {
      "cell_type": "code",
      "execution_count": 24,
      "metadata": {
        "id": "O44auIyWSexg"
      },
      "outputs": [],
      "source": [
        "# Convert to GPU\n",
        "train_g = train_g.to('cuda')"
      ]
    },
    {
      "cell_type": "code",
      "execution_count": 25,
      "metadata": {
        "id": "gZtafIdxSheN"
      },
      "outputs": [],
      "source": [
        "# cnt_wait = 0\n",
        "# best = 1e9\n",
        "# best_t = 0\n",
        "# dur = []\n",
        "# node_features = train_g.ndata['h'] \n",
        "# edge_features = train_g.edata['h']\n",
        "\n",
        "# for epoch in range(epochs):\n",
        "#     dgi.train()\n",
        "#     if epoch >= 3:\n",
        "#         t0 = time.time()\n",
        "\n",
        "#     dgi_optimizer.zero_grad()\n",
        "#     loss = dgi(train_g, node_features, edge_features)\n",
        "#     loss.backward()\n",
        "#     dgi_optimizer.step()\n",
        "\n",
        "#     if loss < best:\n",
        "#         best = loss\n",
        "#         best_t = epoch\n",
        "#         cnt_wait = 0\n",
        "#         torch.save(dgi.state_dict(), 'best_dgi.pkl')\n",
        "#     else:\n",
        "#         cnt_wait += 1\n",
        "\n",
        "#   # if cnt_wait == patience:\n",
        "#   #     print('Early stopping!')\n",
        "#   #     break\n",
        "\n",
        "#     if epoch >= 3:\n",
        "#         dur.append(time.time() - t0)\n",
        "\n",
        "#     if epoch % 50 == 0:\n",
        "\n",
        "#         print(\"Epoch {:05d} | Time(s) {:.4f} | Loss {:.4f} | \"\n",
        "#             \"ETputs(KTEPS) {:.2f}\".format(epoch, np.mean(dur),\n",
        "#               loss.item(),\n",
        "#               train_g.num_edges() / np.mean(dur) / 1000))"
      ]
    },
    {
      "cell_type": "code",
      "execution_count": 26,
      "metadata": {
        "id": "RZ2HAQDAF-4c",
        "outputId": "79b6374d-390e-4571-df1d-ee46792480f7"
      },
      "outputs": [
        {
          "data": {
            "text/plain": [
              "<All keys matched successfully>"
            ]
          },
          "execution_count": 26,
          "metadata": {},
          "output_type": "execute_result"
        }
      ],
      "source": [
        "dgi.load_state_dict(torch.load('best_dgi_UNSW.pkl'))"
      ]
    },
    {
      "cell_type": "code",
      "execution_count": 27,
      "metadata": {
        "id": "6Ek16GkRStKP"
      },
      "outputs": [],
      "source": [
        "training_emb = dgi.encoder(train_g, train_g.ndata['h'], train_g.edata['h'])[1]\n",
        "training_emb = training_emb.detach().cpu().numpy()"
      ]
    },
    {
      "cell_type": "code",
      "execution_count": 28,
      "metadata": {
        "id": "-FwaBlOdS4ep"
      },
      "outputs": [],
      "source": [
        "test_g.ndata['h'] = torch.reshape(test_g.ndata['h'],\n",
        "                                   (test_g.ndata['h'].shape[0], 1,\n",
        "                                    test_g.ndata['h'].shape[1]))\n",
        "\n",
        "\n",
        "\n",
        "test_g.edata['h'] = torch.reshape(test_g.edata['h'],\n",
        "                                   (test_g.edata['h'].shape[0], 1,\n",
        "                                    test_g.edata['h'].shape[1]))"
      ]
    },
    {
      "cell_type": "code",
      "execution_count": 29,
      "metadata": {
        "id": "SBa-rdivS6cQ"
      },
      "outputs": [],
      "source": [
        "# Convert to GPU\n",
        "test_g = test_g.to('cuda')"
      ]
    },
    {
      "cell_type": "code",
      "execution_count": 30,
      "metadata": {
        "id": "W12WLjslS-kx"
      },
      "outputs": [],
      "source": [
        "testing_emb = dgi.encoder(test_g, test_g.ndata['h'], test_g.edata['h'])[1]\n",
        "testing_emb = testing_emb.detach().cpu().numpy()"
      ]
    },
    {
      "cell_type": "code",
      "execution_count": 40,
      "metadata": {
        "id": "ERsOAMjeS_D8"
      },
      "outputs": [],
      "source": [
        "df_train = pd.DataFrame(training_emb, )\n",
        "df_train[\"Attack\"] = lab_enc.inverse_transform(\n",
        "        train_g.edata['Attack'].detach().cpu().numpy())\n",
        "df_train[\"Label\"] = train_g.edata['Label'].detach().cpu().numpy()\n",
        "\n",
        "df_test = pd.DataFrame(testing_emb, )\n",
        "df_test[\"Attack\"] = lab_enc.inverse_transform(\n",
        "        test_g.edata['Attack'].detach().cpu().numpy())\n",
        "df_test[\"Label\"] = test_g.edata['Label'].detach().cpu().numpy()"
      ]
    },
    {
      "cell_type": "code",
      "execution_count": 41,
      "metadata": {
        "colab": {
          "base_uri": "https://localhost:8080/",
          "height": 488
        },
        "id": "B8p79H9dat5T",
        "outputId": "0d6e82d8-5d02-49eb-a16f-d44e52ea3dff"
      },
      "outputs": [
        {
          "data": {
            "text/html": [
              "<div>\n",
              "<style scoped>\n",
              "    .dataframe tbody tr th:only-of-type {\n",
              "        vertical-align: middle;\n",
              "    }\n",
              "\n",
              "    .dataframe tbody tr th {\n",
              "        vertical-align: top;\n",
              "    }\n",
              "\n",
              "    .dataframe thead th {\n",
              "        text-align: right;\n",
              "    }\n",
              "</style>\n",
              "<table border=\"1\" class=\"dataframe\">\n",
              "  <thead>\n",
              "    <tr style=\"text-align: right;\">\n",
              "      <th></th>\n",
              "      <th>0</th>\n",
              "      <th>1</th>\n",
              "      <th>2</th>\n",
              "      <th>3</th>\n",
              "      <th>4</th>\n",
              "      <th>5</th>\n",
              "      <th>6</th>\n",
              "      <th>7</th>\n",
              "      <th>8</th>\n",
              "      <th>9</th>\n",
              "      <th>...</th>\n",
              "      <th>248</th>\n",
              "      <th>249</th>\n",
              "      <th>250</th>\n",
              "      <th>251</th>\n",
              "      <th>252</th>\n",
              "      <th>253</th>\n",
              "      <th>254</th>\n",
              "      <th>255</th>\n",
              "      <th>Attack</th>\n",
              "      <th>Label</th>\n",
              "    </tr>\n",
              "  </thead>\n",
              "  <tbody>\n",
              "    <tr>\n",
              "      <th>0</th>\n",
              "      <td>-0.036994</td>\n",
              "      <td>-0.010234</td>\n",
              "      <td>-0.021026</td>\n",
              "      <td>0.034767</td>\n",
              "      <td>0.016113</td>\n",
              "      <td>0.010732</td>\n",
              "      <td>-0.010567</td>\n",
              "      <td>0.006373</td>\n",
              "      <td>-0.011485</td>\n",
              "      <td>-0.010453</td>\n",
              "      <td>...</td>\n",
              "      <td>-0.001256</td>\n",
              "      <td>0.020352</td>\n",
              "      <td>-0.029813</td>\n",
              "      <td>-0.002278</td>\n",
              "      <td>-0.020348</td>\n",
              "      <td>0.001581</td>\n",
              "      <td>-0.002483</td>\n",
              "      <td>0.003740</td>\n",
              "      <td>Benign</td>\n",
              "      <td>0</td>\n",
              "    </tr>\n",
              "    <tr>\n",
              "      <th>1</th>\n",
              "      <td>-0.036994</td>\n",
              "      <td>-0.010234</td>\n",
              "      <td>-0.021026</td>\n",
              "      <td>0.034767</td>\n",
              "      <td>0.016113</td>\n",
              "      <td>0.010732</td>\n",
              "      <td>-0.010567</td>\n",
              "      <td>0.006373</td>\n",
              "      <td>-0.011485</td>\n",
              "      <td>-0.010453</td>\n",
              "      <td>...</td>\n",
              "      <td>-0.001256</td>\n",
              "      <td>0.020352</td>\n",
              "      <td>-0.029813</td>\n",
              "      <td>-0.002278</td>\n",
              "      <td>-0.020348</td>\n",
              "      <td>0.001581</td>\n",
              "      <td>-0.002483</td>\n",
              "      <td>0.003740</td>\n",
              "      <td>Benign</td>\n",
              "      <td>0</td>\n",
              "    </tr>\n",
              "    <tr>\n",
              "      <th>2</th>\n",
              "      <td>-0.036994</td>\n",
              "      <td>-0.010234</td>\n",
              "      <td>-0.021026</td>\n",
              "      <td>0.034767</td>\n",
              "      <td>0.016113</td>\n",
              "      <td>0.010732</td>\n",
              "      <td>-0.010567</td>\n",
              "      <td>0.006373</td>\n",
              "      <td>-0.011485</td>\n",
              "      <td>-0.010453</td>\n",
              "      <td>...</td>\n",
              "      <td>-0.001256</td>\n",
              "      <td>0.020352</td>\n",
              "      <td>-0.029813</td>\n",
              "      <td>-0.002278</td>\n",
              "      <td>-0.020348</td>\n",
              "      <td>0.001581</td>\n",
              "      <td>-0.002483</td>\n",
              "      <td>0.003740</td>\n",
              "      <td>Benign</td>\n",
              "      <td>0</td>\n",
              "    </tr>\n",
              "    <tr>\n",
              "      <th>3</th>\n",
              "      <td>-0.036994</td>\n",
              "      <td>-0.010234</td>\n",
              "      <td>-0.021026</td>\n",
              "      <td>0.034767</td>\n",
              "      <td>0.016113</td>\n",
              "      <td>0.010732</td>\n",
              "      <td>-0.010567</td>\n",
              "      <td>0.006373</td>\n",
              "      <td>-0.011485</td>\n",
              "      <td>-0.010453</td>\n",
              "      <td>...</td>\n",
              "      <td>-0.001256</td>\n",
              "      <td>0.020352</td>\n",
              "      <td>-0.029813</td>\n",
              "      <td>-0.002278</td>\n",
              "      <td>-0.020348</td>\n",
              "      <td>0.001581</td>\n",
              "      <td>-0.002483</td>\n",
              "      <td>0.003740</td>\n",
              "      <td>Benign</td>\n",
              "      <td>0</td>\n",
              "    </tr>\n",
              "    <tr>\n",
              "      <th>4</th>\n",
              "      <td>-0.036994</td>\n",
              "      <td>-0.010234</td>\n",
              "      <td>-0.021026</td>\n",
              "      <td>0.034767</td>\n",
              "      <td>0.016113</td>\n",
              "      <td>0.010732</td>\n",
              "      <td>-0.010567</td>\n",
              "      <td>0.006373</td>\n",
              "      <td>-0.011485</td>\n",
              "      <td>-0.010453</td>\n",
              "      <td>...</td>\n",
              "      <td>-0.001256</td>\n",
              "      <td>0.020352</td>\n",
              "      <td>-0.029813</td>\n",
              "      <td>-0.002278</td>\n",
              "      <td>-0.020348</td>\n",
              "      <td>0.001581</td>\n",
              "      <td>-0.002483</td>\n",
              "      <td>0.003740</td>\n",
              "      <td>Benign</td>\n",
              "      <td>0</td>\n",
              "    </tr>\n",
              "    <tr>\n",
              "      <th>...</th>\n",
              "      <td>...</td>\n",
              "      <td>...</td>\n",
              "      <td>...</td>\n",
              "      <td>...</td>\n",
              "      <td>...</td>\n",
              "      <td>...</td>\n",
              "      <td>...</td>\n",
              "      <td>...</td>\n",
              "      <td>...</td>\n",
              "      <td>...</td>\n",
              "      <td>...</td>\n",
              "      <td>...</td>\n",
              "      <td>...</td>\n",
              "      <td>...</td>\n",
              "      <td>...</td>\n",
              "      <td>...</td>\n",
              "      <td>...</td>\n",
              "      <td>...</td>\n",
              "      <td>...</td>\n",
              "      <td>...</td>\n",
              "      <td>...</td>\n",
              "    </tr>\n",
              "    <tr>\n",
              "      <th>334631</th>\n",
              "      <td>0.279057</td>\n",
              "      <td>-0.084344</td>\n",
              "      <td>0.071967</td>\n",
              "      <td>-0.374351</td>\n",
              "      <td>0.033641</td>\n",
              "      <td>-0.090723</td>\n",
              "      <td>-0.040373</td>\n",
              "      <td>-0.053807</td>\n",
              "      <td>-0.099703</td>\n",
              "      <td>-0.059421</td>\n",
              "      <td>...</td>\n",
              "      <td>0.069546</td>\n",
              "      <td>-0.008771</td>\n",
              "      <td>0.040567</td>\n",
              "      <td>-0.107941</td>\n",
              "      <td>0.011406</td>\n",
              "      <td>0.006651</td>\n",
              "      <td>-0.186833</td>\n",
              "      <td>-0.019512</td>\n",
              "      <td>Benign</td>\n",
              "      <td>0</td>\n",
              "    </tr>\n",
              "    <tr>\n",
              "      <th>334632</th>\n",
              "      <td>0.279057</td>\n",
              "      <td>-0.084344</td>\n",
              "      <td>0.071967</td>\n",
              "      <td>-0.374351</td>\n",
              "      <td>0.033641</td>\n",
              "      <td>-0.090723</td>\n",
              "      <td>-0.040373</td>\n",
              "      <td>-0.053807</td>\n",
              "      <td>-0.099703</td>\n",
              "      <td>-0.059421</td>\n",
              "      <td>...</td>\n",
              "      <td>0.069546</td>\n",
              "      <td>-0.008771</td>\n",
              "      <td>0.040567</td>\n",
              "      <td>-0.107941</td>\n",
              "      <td>0.011406</td>\n",
              "      <td>0.006651</td>\n",
              "      <td>-0.186833</td>\n",
              "      <td>-0.019512</td>\n",
              "      <td>Benign</td>\n",
              "      <td>0</td>\n",
              "    </tr>\n",
              "    <tr>\n",
              "      <th>334633</th>\n",
              "      <td>0.279057</td>\n",
              "      <td>-0.084344</td>\n",
              "      <td>0.071967</td>\n",
              "      <td>-0.374351</td>\n",
              "      <td>0.033641</td>\n",
              "      <td>-0.090723</td>\n",
              "      <td>-0.040373</td>\n",
              "      <td>-0.053807</td>\n",
              "      <td>-0.099703</td>\n",
              "      <td>-0.059421</td>\n",
              "      <td>...</td>\n",
              "      <td>0.069546</td>\n",
              "      <td>-0.008771</td>\n",
              "      <td>0.040567</td>\n",
              "      <td>-0.107941</td>\n",
              "      <td>0.011406</td>\n",
              "      <td>0.006651</td>\n",
              "      <td>-0.186833</td>\n",
              "      <td>-0.019512</td>\n",
              "      <td>Benign</td>\n",
              "      <td>0</td>\n",
              "    </tr>\n",
              "    <tr>\n",
              "      <th>334634</th>\n",
              "      <td>0.279057</td>\n",
              "      <td>-0.084344</td>\n",
              "      <td>0.071967</td>\n",
              "      <td>-0.374351</td>\n",
              "      <td>0.033641</td>\n",
              "      <td>-0.090723</td>\n",
              "      <td>-0.040373</td>\n",
              "      <td>-0.053807</td>\n",
              "      <td>-0.099703</td>\n",
              "      <td>-0.059421</td>\n",
              "      <td>...</td>\n",
              "      <td>0.069546</td>\n",
              "      <td>-0.008771</td>\n",
              "      <td>0.040567</td>\n",
              "      <td>-0.107941</td>\n",
              "      <td>0.011406</td>\n",
              "      <td>0.006651</td>\n",
              "      <td>-0.186833</td>\n",
              "      <td>-0.019512</td>\n",
              "      <td>Benign</td>\n",
              "      <td>0</td>\n",
              "    </tr>\n",
              "    <tr>\n",
              "      <th>334635</th>\n",
              "      <td>0.279057</td>\n",
              "      <td>-0.084344</td>\n",
              "      <td>0.071967</td>\n",
              "      <td>-0.374351</td>\n",
              "      <td>0.033641</td>\n",
              "      <td>-0.090723</td>\n",
              "      <td>-0.040373</td>\n",
              "      <td>-0.053807</td>\n",
              "      <td>-0.099703</td>\n",
              "      <td>-0.059421</td>\n",
              "      <td>...</td>\n",
              "      <td>0.069546</td>\n",
              "      <td>-0.008771</td>\n",
              "      <td>0.040567</td>\n",
              "      <td>-0.107941</td>\n",
              "      <td>0.011406</td>\n",
              "      <td>0.006651</td>\n",
              "      <td>-0.186833</td>\n",
              "      <td>-0.019512</td>\n",
              "      <td>Benign</td>\n",
              "      <td>0</td>\n",
              "    </tr>\n",
              "  </tbody>\n",
              "</table>\n",
              "<p>334636 rows × 258 columns</p>\n",
              "</div>"
            ],
            "text/plain": [
              "               0         1         2         3         4         5         6  \\\n",
              "0      -0.036994 -0.010234 -0.021026  0.034767  0.016113  0.010732 -0.010567   \n",
              "1      -0.036994 -0.010234 -0.021026  0.034767  0.016113  0.010732 -0.010567   \n",
              "2      -0.036994 -0.010234 -0.021026  0.034767  0.016113  0.010732 -0.010567   \n",
              "3      -0.036994 -0.010234 -0.021026  0.034767  0.016113  0.010732 -0.010567   \n",
              "4      -0.036994 -0.010234 -0.021026  0.034767  0.016113  0.010732 -0.010567   \n",
              "...          ...       ...       ...       ...       ...       ...       ...   \n",
              "334631  0.279057 -0.084344  0.071967 -0.374351  0.033641 -0.090723 -0.040373   \n",
              "334632  0.279057 -0.084344  0.071967 -0.374351  0.033641 -0.090723 -0.040373   \n",
              "334633  0.279057 -0.084344  0.071967 -0.374351  0.033641 -0.090723 -0.040373   \n",
              "334634  0.279057 -0.084344  0.071967 -0.374351  0.033641 -0.090723 -0.040373   \n",
              "334635  0.279057 -0.084344  0.071967 -0.374351  0.033641 -0.090723 -0.040373   \n",
              "\n",
              "               7         8         9  ...       248       249       250  \\\n",
              "0       0.006373 -0.011485 -0.010453  ... -0.001256  0.020352 -0.029813   \n",
              "1       0.006373 -0.011485 -0.010453  ... -0.001256  0.020352 -0.029813   \n",
              "2       0.006373 -0.011485 -0.010453  ... -0.001256  0.020352 -0.029813   \n",
              "3       0.006373 -0.011485 -0.010453  ... -0.001256  0.020352 -0.029813   \n",
              "4       0.006373 -0.011485 -0.010453  ... -0.001256  0.020352 -0.029813   \n",
              "...          ...       ...       ...  ...       ...       ...       ...   \n",
              "334631 -0.053807 -0.099703 -0.059421  ...  0.069546 -0.008771  0.040567   \n",
              "334632 -0.053807 -0.099703 -0.059421  ...  0.069546 -0.008771  0.040567   \n",
              "334633 -0.053807 -0.099703 -0.059421  ...  0.069546 -0.008771  0.040567   \n",
              "334634 -0.053807 -0.099703 -0.059421  ...  0.069546 -0.008771  0.040567   \n",
              "334635 -0.053807 -0.099703 -0.059421  ...  0.069546 -0.008771  0.040567   \n",
              "\n",
              "             251       252       253       254       255  Attack  Label  \n",
              "0      -0.002278 -0.020348  0.001581 -0.002483  0.003740  Benign      0  \n",
              "1      -0.002278 -0.020348  0.001581 -0.002483  0.003740  Benign      0  \n",
              "2      -0.002278 -0.020348  0.001581 -0.002483  0.003740  Benign      0  \n",
              "3      -0.002278 -0.020348  0.001581 -0.002483  0.003740  Benign      0  \n",
              "4      -0.002278 -0.020348  0.001581 -0.002483  0.003740  Benign      0  \n",
              "...          ...       ...       ...       ...       ...     ...    ...  \n",
              "334631 -0.107941  0.011406  0.006651 -0.186833 -0.019512  Benign      0  \n",
              "334632 -0.107941  0.011406  0.006651 -0.186833 -0.019512  Benign      0  \n",
              "334633 -0.107941  0.011406  0.006651 -0.186833 -0.019512  Benign      0  \n",
              "334634 -0.107941  0.011406  0.006651 -0.186833 -0.019512  Benign      0  \n",
              "334635 -0.107941  0.011406  0.006651 -0.186833 -0.019512  Benign      0  \n",
              "\n",
              "[334636 rows x 258 columns]"
            ]
          },
          "execution_count": 41,
          "metadata": {},
          "output_type": "execute_result"
        }
      ],
      "source": [
        "df_train"
      ]
    },
    {
      "cell_type": "markdown",
      "metadata": {
        "id": "7ScEk1y_TzzX"
      },
      "source": [
        "# Embeddings CBLOF  Embeddings"
      ]
    },
    {
      "cell_type": "code",
      "execution_count": 33,
      "metadata": {
        "id": "ZYABKzdrTGas"
      },
      "outputs": [],
      "source": [
        "import torch\n",
        "import dgl\n",
        "import numpy as np\n",
        "import pandas as pd\n",
        "import torch.optim as optim\n",
        "import time\n",
        "import seaborn as sns\n",
        "import matplotlib.pyplot as plt\n",
        "from sklearn.model_selection import train_test_split\n",
        "from sklearn.metrics import classification_report, f1_score\n",
        "from sklearn.ensemble import IsolationForest\n",
        "import gc\n",
        "\n",
        "from tqdm import tqdm\n",
        "import itertools"
      ]
    },
    {
      "cell_type": "code",
      "execution_count": 34,
      "metadata": {
        "id": "RkFS_-dcTJeK"
      },
      "outputs": [],
      "source": [
        "benign_train_samples = df_train[df_train.Label == 0].drop(columns=[\"Label\", \"Attack\"])\n",
        "normal_train_samples = df_train.drop(columns=[\"Label\", \"Attack\"])\n",
        "\n",
        "train_labels = df_train[\"Label\"]\n",
        "test_labels = df_test[\"Label\"]\n",
        "\n",
        "test_samples = df_test.drop(columns=[\"Label\", \"Attack\"])"
      ]
    },
    {
      "cell_type": "code",
      "execution_count": 35,
      "metadata": {},
      "outputs": [
        {
          "data": {
            "text/html": [
              "<div>\n",
              "<style scoped>\n",
              "    .dataframe tbody tr th:only-of-type {\n",
              "        vertical-align: middle;\n",
              "    }\n",
              "\n",
              "    .dataframe tbody tr th {\n",
              "        vertical-align: top;\n",
              "    }\n",
              "\n",
              "    .dataframe thead th {\n",
              "        text-align: right;\n",
              "    }\n",
              "</style>\n",
              "<table border=\"1\" class=\"dataframe\">\n",
              "  <thead>\n",
              "    <tr style=\"text-align: right;\">\n",
              "      <th></th>\n",
              "      <th>0</th>\n",
              "      <th>1</th>\n",
              "      <th>2</th>\n",
              "      <th>3</th>\n",
              "      <th>4</th>\n",
              "      <th>5</th>\n",
              "      <th>6</th>\n",
              "      <th>7</th>\n",
              "      <th>8</th>\n",
              "      <th>9</th>\n",
              "      <th>...</th>\n",
              "      <th>246</th>\n",
              "      <th>247</th>\n",
              "      <th>248</th>\n",
              "      <th>249</th>\n",
              "      <th>250</th>\n",
              "      <th>251</th>\n",
              "      <th>252</th>\n",
              "      <th>253</th>\n",
              "      <th>254</th>\n",
              "      <th>255</th>\n",
              "    </tr>\n",
              "  </thead>\n",
              "  <tbody>\n",
              "    <tr>\n",
              "      <th>0</th>\n",
              "      <td>-0.036773</td>\n",
              "      <td>-0.010351</td>\n",
              "      <td>-0.020939</td>\n",
              "      <td>0.034704</td>\n",
              "      <td>0.016094</td>\n",
              "      <td>0.010692</td>\n",
              "      <td>-0.010801</td>\n",
              "      <td>0.006459</td>\n",
              "      <td>-0.011468</td>\n",
              "      <td>-0.010529</td>\n",
              "      <td>...</td>\n",
              "      <td>0.017052</td>\n",
              "      <td>-0.037851</td>\n",
              "      <td>-0.000985</td>\n",
              "      <td>0.020440</td>\n",
              "      <td>-0.029494</td>\n",
              "      <td>-0.002341</td>\n",
              "      <td>-0.020560</td>\n",
              "      <td>0.001650</td>\n",
              "      <td>-0.002542</td>\n",
              "      <td>0.003791</td>\n",
              "    </tr>\n",
              "    <tr>\n",
              "      <th>1</th>\n",
              "      <td>-0.036773</td>\n",
              "      <td>-0.010351</td>\n",
              "      <td>-0.020939</td>\n",
              "      <td>0.034704</td>\n",
              "      <td>0.016094</td>\n",
              "      <td>0.010692</td>\n",
              "      <td>-0.010801</td>\n",
              "      <td>0.006459</td>\n",
              "      <td>-0.011468</td>\n",
              "      <td>-0.010529</td>\n",
              "      <td>...</td>\n",
              "      <td>0.017052</td>\n",
              "      <td>-0.037851</td>\n",
              "      <td>-0.000985</td>\n",
              "      <td>0.020440</td>\n",
              "      <td>-0.029494</td>\n",
              "      <td>-0.002341</td>\n",
              "      <td>-0.020560</td>\n",
              "      <td>0.001650</td>\n",
              "      <td>-0.002542</td>\n",
              "      <td>0.003791</td>\n",
              "    </tr>\n",
              "    <tr>\n",
              "      <th>2</th>\n",
              "      <td>-0.036773</td>\n",
              "      <td>-0.010351</td>\n",
              "      <td>-0.020939</td>\n",
              "      <td>0.034704</td>\n",
              "      <td>0.016094</td>\n",
              "      <td>0.010692</td>\n",
              "      <td>-0.010801</td>\n",
              "      <td>0.006459</td>\n",
              "      <td>-0.011468</td>\n",
              "      <td>-0.010529</td>\n",
              "      <td>...</td>\n",
              "      <td>0.017052</td>\n",
              "      <td>-0.037851</td>\n",
              "      <td>-0.000985</td>\n",
              "      <td>0.020440</td>\n",
              "      <td>-0.029494</td>\n",
              "      <td>-0.002341</td>\n",
              "      <td>-0.020560</td>\n",
              "      <td>0.001650</td>\n",
              "      <td>-0.002542</td>\n",
              "      <td>0.003791</td>\n",
              "    </tr>\n",
              "    <tr>\n",
              "      <th>3</th>\n",
              "      <td>-0.036773</td>\n",
              "      <td>-0.010351</td>\n",
              "      <td>-0.020939</td>\n",
              "      <td>0.034704</td>\n",
              "      <td>0.016094</td>\n",
              "      <td>0.010692</td>\n",
              "      <td>-0.010801</td>\n",
              "      <td>0.006459</td>\n",
              "      <td>-0.011468</td>\n",
              "      <td>-0.010529</td>\n",
              "      <td>...</td>\n",
              "      <td>0.017052</td>\n",
              "      <td>-0.037851</td>\n",
              "      <td>-0.000985</td>\n",
              "      <td>0.020440</td>\n",
              "      <td>-0.029494</td>\n",
              "      <td>-0.002341</td>\n",
              "      <td>-0.020560</td>\n",
              "      <td>0.001650</td>\n",
              "      <td>-0.002542</td>\n",
              "      <td>0.003791</td>\n",
              "    </tr>\n",
              "    <tr>\n",
              "      <th>4</th>\n",
              "      <td>-0.036773</td>\n",
              "      <td>-0.010351</td>\n",
              "      <td>-0.020939</td>\n",
              "      <td>0.034704</td>\n",
              "      <td>0.016094</td>\n",
              "      <td>0.010692</td>\n",
              "      <td>-0.010801</td>\n",
              "      <td>0.006459</td>\n",
              "      <td>-0.011468</td>\n",
              "      <td>-0.010529</td>\n",
              "      <td>...</td>\n",
              "      <td>0.017052</td>\n",
              "      <td>-0.037851</td>\n",
              "      <td>-0.000985</td>\n",
              "      <td>0.020440</td>\n",
              "      <td>-0.029494</td>\n",
              "      <td>-0.002341</td>\n",
              "      <td>-0.020560</td>\n",
              "      <td>0.001650</td>\n",
              "      <td>-0.002542</td>\n",
              "      <td>0.003791</td>\n",
              "    </tr>\n",
              "    <tr>\n",
              "      <th>...</th>\n",
              "      <td>...</td>\n",
              "      <td>...</td>\n",
              "      <td>...</td>\n",
              "      <td>...</td>\n",
              "      <td>...</td>\n",
              "      <td>...</td>\n",
              "      <td>...</td>\n",
              "      <td>...</td>\n",
              "      <td>...</td>\n",
              "      <td>...</td>\n",
              "      <td>...</td>\n",
              "      <td>...</td>\n",
              "      <td>...</td>\n",
              "      <td>...</td>\n",
              "      <td>...</td>\n",
              "      <td>...</td>\n",
              "      <td>...</td>\n",
              "      <td>...</td>\n",
              "      <td>...</td>\n",
              "      <td>...</td>\n",
              "      <td>...</td>\n",
              "    </tr>\n",
              "    <tr>\n",
              "      <th>143413</th>\n",
              "      <td>0.327797</td>\n",
              "      <td>-0.085205</td>\n",
              "      <td>0.064469</td>\n",
              "      <td>-0.550351</td>\n",
              "      <td>0.044841</td>\n",
              "      <td>-0.241439</td>\n",
              "      <td>-0.093871</td>\n",
              "      <td>-0.116196</td>\n",
              "      <td>-0.212388</td>\n",
              "      <td>-0.102773</td>\n",
              "      <td>...</td>\n",
              "      <td>-0.013743</td>\n",
              "      <td>0.444237</td>\n",
              "      <td>0.125920</td>\n",
              "      <td>-0.133720</td>\n",
              "      <td>0.045855</td>\n",
              "      <td>-0.151664</td>\n",
              "      <td>0.015843</td>\n",
              "      <td>-0.059231</td>\n",
              "      <td>-0.394932</td>\n",
              "      <td>0.033923</td>\n",
              "    </tr>\n",
              "    <tr>\n",
              "      <th>143414</th>\n",
              "      <td>0.327797</td>\n",
              "      <td>-0.085205</td>\n",
              "      <td>0.064469</td>\n",
              "      <td>-0.550351</td>\n",
              "      <td>0.044841</td>\n",
              "      <td>-0.241439</td>\n",
              "      <td>-0.093871</td>\n",
              "      <td>-0.116196</td>\n",
              "      <td>-0.212388</td>\n",
              "      <td>-0.102773</td>\n",
              "      <td>...</td>\n",
              "      <td>-0.013743</td>\n",
              "      <td>0.444237</td>\n",
              "      <td>0.125920</td>\n",
              "      <td>-0.133720</td>\n",
              "      <td>0.045855</td>\n",
              "      <td>-0.151664</td>\n",
              "      <td>0.015843</td>\n",
              "      <td>-0.059231</td>\n",
              "      <td>-0.394932</td>\n",
              "      <td>0.033923</td>\n",
              "    </tr>\n",
              "    <tr>\n",
              "      <th>143415</th>\n",
              "      <td>0.327797</td>\n",
              "      <td>-0.085205</td>\n",
              "      <td>0.064469</td>\n",
              "      <td>-0.550351</td>\n",
              "      <td>0.044841</td>\n",
              "      <td>-0.241439</td>\n",
              "      <td>-0.093871</td>\n",
              "      <td>-0.116196</td>\n",
              "      <td>-0.212388</td>\n",
              "      <td>-0.102773</td>\n",
              "      <td>...</td>\n",
              "      <td>-0.013743</td>\n",
              "      <td>0.444237</td>\n",
              "      <td>0.125920</td>\n",
              "      <td>-0.133720</td>\n",
              "      <td>0.045855</td>\n",
              "      <td>-0.151664</td>\n",
              "      <td>0.015843</td>\n",
              "      <td>-0.059231</td>\n",
              "      <td>-0.394932</td>\n",
              "      <td>0.033923</td>\n",
              "    </tr>\n",
              "    <tr>\n",
              "      <th>143416</th>\n",
              "      <td>0.327797</td>\n",
              "      <td>-0.085205</td>\n",
              "      <td>0.064469</td>\n",
              "      <td>-0.550351</td>\n",
              "      <td>0.044841</td>\n",
              "      <td>-0.241439</td>\n",
              "      <td>-0.093871</td>\n",
              "      <td>-0.116196</td>\n",
              "      <td>-0.212388</td>\n",
              "      <td>-0.102773</td>\n",
              "      <td>...</td>\n",
              "      <td>-0.013743</td>\n",
              "      <td>0.444237</td>\n",
              "      <td>0.125920</td>\n",
              "      <td>-0.133720</td>\n",
              "      <td>0.045855</td>\n",
              "      <td>-0.151664</td>\n",
              "      <td>0.015843</td>\n",
              "      <td>-0.059231</td>\n",
              "      <td>-0.394932</td>\n",
              "      <td>0.033923</td>\n",
              "    </tr>\n",
              "    <tr>\n",
              "      <th>143417</th>\n",
              "      <td>0.289817</td>\n",
              "      <td>-0.087734</td>\n",
              "      <td>0.056724</td>\n",
              "      <td>-0.465971</td>\n",
              "      <td>0.022841</td>\n",
              "      <td>-0.145982</td>\n",
              "      <td>-0.033230</td>\n",
              "      <td>-0.112704</td>\n",
              "      <td>-0.195686</td>\n",
              "      <td>-0.094895</td>\n",
              "      <td>...</td>\n",
              "      <td>-0.013929</td>\n",
              "      <td>0.361565</td>\n",
              "      <td>0.089150</td>\n",
              "      <td>-0.118199</td>\n",
              "      <td>0.034649</td>\n",
              "      <td>-0.123660</td>\n",
              "      <td>0.006241</td>\n",
              "      <td>-0.043463</td>\n",
              "      <td>-0.279689</td>\n",
              "      <td>0.016888</td>\n",
              "    </tr>\n",
              "  </tbody>\n",
              "</table>\n",
              "<p>143418 rows × 256 columns</p>\n",
              "</div>"
            ],
            "text/plain": [
              "             0         1         2         3         4         5         6    \\\n",
              "0      -0.036773 -0.010351 -0.020939  0.034704  0.016094  0.010692 -0.010801   \n",
              "1      -0.036773 -0.010351 -0.020939  0.034704  0.016094  0.010692 -0.010801   \n",
              "2      -0.036773 -0.010351 -0.020939  0.034704  0.016094  0.010692 -0.010801   \n",
              "3      -0.036773 -0.010351 -0.020939  0.034704  0.016094  0.010692 -0.010801   \n",
              "4      -0.036773 -0.010351 -0.020939  0.034704  0.016094  0.010692 -0.010801   \n",
              "...          ...       ...       ...       ...       ...       ...       ...   \n",
              "143413  0.327797 -0.085205  0.064469 -0.550351  0.044841 -0.241439 -0.093871   \n",
              "143414  0.327797 -0.085205  0.064469 -0.550351  0.044841 -0.241439 -0.093871   \n",
              "143415  0.327797 -0.085205  0.064469 -0.550351  0.044841 -0.241439 -0.093871   \n",
              "143416  0.327797 -0.085205  0.064469 -0.550351  0.044841 -0.241439 -0.093871   \n",
              "143417  0.289817 -0.087734  0.056724 -0.465971  0.022841 -0.145982 -0.033230   \n",
              "\n",
              "             7         8         9    ...       246       247       248  \\\n",
              "0       0.006459 -0.011468 -0.010529  ...  0.017052 -0.037851 -0.000985   \n",
              "1       0.006459 -0.011468 -0.010529  ...  0.017052 -0.037851 -0.000985   \n",
              "2       0.006459 -0.011468 -0.010529  ...  0.017052 -0.037851 -0.000985   \n",
              "3       0.006459 -0.011468 -0.010529  ...  0.017052 -0.037851 -0.000985   \n",
              "4       0.006459 -0.011468 -0.010529  ...  0.017052 -0.037851 -0.000985   \n",
              "...          ...       ...       ...  ...       ...       ...       ...   \n",
              "143413 -0.116196 -0.212388 -0.102773  ... -0.013743  0.444237  0.125920   \n",
              "143414 -0.116196 -0.212388 -0.102773  ... -0.013743  0.444237  0.125920   \n",
              "143415 -0.116196 -0.212388 -0.102773  ... -0.013743  0.444237  0.125920   \n",
              "143416 -0.116196 -0.212388 -0.102773  ... -0.013743  0.444237  0.125920   \n",
              "143417 -0.112704 -0.195686 -0.094895  ... -0.013929  0.361565  0.089150   \n",
              "\n",
              "             249       250       251       252       253       254       255  \n",
              "0       0.020440 -0.029494 -0.002341 -0.020560  0.001650 -0.002542  0.003791  \n",
              "1       0.020440 -0.029494 -0.002341 -0.020560  0.001650 -0.002542  0.003791  \n",
              "2       0.020440 -0.029494 -0.002341 -0.020560  0.001650 -0.002542  0.003791  \n",
              "3       0.020440 -0.029494 -0.002341 -0.020560  0.001650 -0.002542  0.003791  \n",
              "4       0.020440 -0.029494 -0.002341 -0.020560  0.001650 -0.002542  0.003791  \n",
              "...          ...       ...       ...       ...       ...       ...       ...  \n",
              "143413 -0.133720  0.045855 -0.151664  0.015843 -0.059231 -0.394932  0.033923  \n",
              "143414 -0.133720  0.045855 -0.151664  0.015843 -0.059231 -0.394932  0.033923  \n",
              "143415 -0.133720  0.045855 -0.151664  0.015843 -0.059231 -0.394932  0.033923  \n",
              "143416 -0.133720  0.045855 -0.151664  0.015843 -0.059231 -0.394932  0.033923  \n",
              "143417 -0.118199  0.034649 -0.123660  0.006241 -0.043463 -0.279689  0.016888  \n",
              "\n",
              "[143418 rows x 256 columns]"
            ]
          },
          "execution_count": 35,
          "metadata": {},
          "output_type": "execute_result"
        }
      ],
      "source": [
        "test_samples"
      ]
    },
    {
      "cell_type": "code",
      "execution_count": 36,
      "metadata": {},
      "outputs": [],
      "source": [
        "df_raw_train = pd.concat([X_train.drop(columns=[\"IPV4_SRC_ADDR\",\"IPV4_DST_ADDR\", \"h\"]), y_train], axis=1)\n",
        "df_raw_test = pd.concat([X_test.drop(columns=[\"IPV4_SRC_ADDR\",\"IPV4_DST_ADDR\", \"h\"]), y_test], axis=1)"
      ]
    },
    {
      "cell_type": "code",
      "execution_count": 37,
      "metadata": {},
      "outputs": [
        {
          "data": {
            "text/html": [
              "<div>\n",
              "<style scoped>\n",
              "    .dataframe tbody tr th:only-of-type {\n",
              "        vertical-align: middle;\n",
              "    }\n",
              "\n",
              "    .dataframe tbody tr th {\n",
              "        vertical-align: top;\n",
              "    }\n",
              "\n",
              "    .dataframe thead th {\n",
              "        text-align: right;\n",
              "    }\n",
              "</style>\n",
              "<table border=\"1\" class=\"dataframe\">\n",
              "  <thead>\n",
              "    <tr style=\"text-align: right;\">\n",
              "      <th></th>\n",
              "      <th>PROTOCOL</th>\n",
              "      <th>L7_PROTO</th>\n",
              "      <th>IN_BYTES</th>\n",
              "      <th>IN_PKTS</th>\n",
              "      <th>OUT_BYTES</th>\n",
              "      <th>OUT_PKTS</th>\n",
              "      <th>TCP_FLAGS</th>\n",
              "      <th>CLIENT_TCP_FLAGS</th>\n",
              "      <th>SERVER_TCP_FLAGS</th>\n",
              "      <th>FLOW_DURATION_MILLISECONDS</th>\n",
              "      <th>...</th>\n",
              "      <th>TCP_WIN_MAX_IN</th>\n",
              "      <th>TCP_WIN_MAX_OUT</th>\n",
              "      <th>ICMP_TYPE</th>\n",
              "      <th>ICMP_IPV4_TYPE</th>\n",
              "      <th>DNS_QUERY_ID</th>\n",
              "      <th>DNS_QUERY_TYPE</th>\n",
              "      <th>DNS_TTL_ANSWER</th>\n",
              "      <th>FTP_COMMAND_RET_CODE</th>\n",
              "      <th>Attack</th>\n",
              "      <th>Label</th>\n",
              "    </tr>\n",
              "  </thead>\n",
              "  <tbody>\n",
              "    <tr>\n",
              "      <th>220614</th>\n",
              "      <td>4.802078e-09</td>\n",
              "      <td>3.048648e-09</td>\n",
              "      <td>3.994566e-05</td>\n",
              "      <td>7.652425e-07</td>\n",
              "      <td>0.000072</td>\n",
              "      <td>1.071339e-06</td>\n",
              "      <td>1.980229e-09</td>\n",
              "      <td>1.980360e-09</td>\n",
              "      <td>0.000000e+00</td>\n",
              "      <td>0.000000</td>\n",
              "      <td>...</td>\n",
              "      <td>1.329685e-03</td>\n",
              "      <td>1.329685e-03</td>\n",
              "      <td>4.043553e-10</td>\n",
              "      <td>4.043553e-10</td>\n",
              "      <td>6.314168e-09</td>\n",
              "      <td>6.314212e-09</td>\n",
              "      <td>0.000000</td>\n",
              "      <td>3.618463e-09</td>\n",
              "      <td>Benign</td>\n",
              "      <td>0</td>\n",
              "    </tr>\n",
              "    <tr>\n",
              "      <th>329844</th>\n",
              "      <td>9.025364e-09</td>\n",
              "      <td>8.052833e-09</td>\n",
              "      <td>1.079121e-04</td>\n",
              "      <td>8.300931e-07</td>\n",
              "      <td>0.000063</td>\n",
              "      <td>8.300931e-07</td>\n",
              "      <td>1.397062e-08</td>\n",
              "      <td>1.396955e-08</td>\n",
              "      <td>1.452568e-08</td>\n",
              "      <td>0.000000</td>\n",
              "      <td>...</td>\n",
              "      <td>0.000000e+00</td>\n",
              "      <td>0.000000e+00</td>\n",
              "      <td>1.181795e-08</td>\n",
              "      <td>1.182599e-08</td>\n",
              "      <td>8.561578e-09</td>\n",
              "      <td>8.561639e-09</td>\n",
              "      <td>0.000000</td>\n",
              "      <td>9.271523e-09</td>\n",
              "      <td>Benign</td>\n",
              "      <td>0</td>\n",
              "    </tr>\n",
              "    <tr>\n",
              "      <th>1093665</th>\n",
              "      <td>3.068685e-13</td>\n",
              "      <td>8.437668e-13</td>\n",
              "      <td>1.638983e-07</td>\n",
              "      <td>3.061234e-09</td>\n",
              "      <td>0.000010</td>\n",
              "      <td>7.129838e-09</td>\n",
              "      <td>1.188386e-13</td>\n",
              "      <td>1.274923e-13</td>\n",
              "      <td>0.000000e+00</td>\n",
              "      <td>0.000042</td>\n",
              "      <td>...</td>\n",
              "      <td>6.372843e-07</td>\n",
              "      <td>7.080936e-08</td>\n",
              "      <td>4.545956e-14</td>\n",
              "      <td>5.191930e-14</td>\n",
              "      <td>4.034959e-13</td>\n",
              "      <td>4.034988e-13</td>\n",
              "      <td>0.000000</td>\n",
              "      <td>4.369547e-13</td>\n",
              "      <td>Benign</td>\n",
              "      <td>0</td>\n",
              "    </tr>\n",
              "    <tr>\n",
              "      <th>1764268</th>\n",
              "      <td>2.361402e-08</td>\n",
              "      <td>2.106949e-08</td>\n",
              "      <td>7.927293e-05</td>\n",
              "      <td>1.085931e-06</td>\n",
              "      <td>0.000097</td>\n",
              "      <td>1.085931e-06</td>\n",
              "      <td>3.655283e-08</td>\n",
              "      <td>3.655002e-08</td>\n",
              "      <td>3.800509e-08</td>\n",
              "      <td>0.000000</td>\n",
              "      <td>...</td>\n",
              "      <td>0.000000e+00</td>\n",
              "      <td>0.000000e+00</td>\n",
              "      <td>3.092057e-08</td>\n",
              "      <td>3.094159e-08</td>\n",
              "      <td>1.878071e-08</td>\n",
              "      <td>3.577436e-10</td>\n",
              "      <td>0.000033</td>\n",
              "      <td>2.425808e-08</td>\n",
              "      <td>Benign</td>\n",
              "      <td>0</td>\n",
              "    </tr>\n",
              "    <tr>\n",
              "      <th>1525176</th>\n",
              "      <td>2.309362e-10</td>\n",
              "      <td>2.856102e-10</td>\n",
              "      <td>1.717880e-05</td>\n",
              "      <td>2.649686e-07</td>\n",
              "      <td>0.000124</td>\n",
              "      <td>2.796890e-07</td>\n",
              "      <td>8.943290e-11</td>\n",
              "      <td>9.594530e-11</td>\n",
              "      <td>0.000000e+00</td>\n",
              "      <td>0.000000</td>\n",
              "      <td>...</td>\n",
              "      <td>1.598644e-04</td>\n",
              "      <td>1.065762e-04</td>\n",
              "      <td>5.174884e-12</td>\n",
              "      <td>5.174884e-12</td>\n",
              "      <td>3.036539e-10</td>\n",
              "      <td>3.036561e-10</td>\n",
              "      <td>0.000000</td>\n",
              "      <td>3.288336e-10</td>\n",
              "      <td>Benign</td>\n",
              "      <td>0</td>\n",
              "    </tr>\n",
              "    <tr>\n",
              "      <th>...</th>\n",
              "      <td>...</td>\n",
              "      <td>...</td>\n",
              "      <td>...</td>\n",
              "      <td>...</td>\n",
              "      <td>...</td>\n",
              "      <td>...</td>\n",
              "      <td>...</td>\n",
              "      <td>...</td>\n",
              "      <td>...</td>\n",
              "      <td>...</td>\n",
              "      <td>...</td>\n",
              "      <td>...</td>\n",
              "      <td>...</td>\n",
              "      <td>...</td>\n",
              "      <td>...</td>\n",
              "      <td>...</td>\n",
              "      <td>...</td>\n",
              "      <td>...</td>\n",
              "      <td>...</td>\n",
              "      <td>...</td>\n",
              "      <td>...</td>\n",
              "    </tr>\n",
              "    <tr>\n",
              "      <th>1525437</th>\n",
              "      <td>1.940855e-09</td>\n",
              "      <td>1.232171e-09</td>\n",
              "      <td>1.123952e-04</td>\n",
              "      <td>2.041300e-06</td>\n",
              "      <td>0.000155</td>\n",
              "      <td>2.165015e-06</td>\n",
              "      <td>8.003488e-10</td>\n",
              "      <td>8.004016e-10</td>\n",
              "      <td>0.000000e+00</td>\n",
              "      <td>0.000000</td>\n",
              "      <td>...</td>\n",
              "      <td>1.253977e-03</td>\n",
              "      <td>1.074837e-03</td>\n",
              "      <td>1.006141e-10</td>\n",
              "      <td>1.006141e-10</td>\n",
              "      <td>2.551995e-09</td>\n",
              "      <td>2.552013e-09</td>\n",
              "      <td>0.000000</td>\n",
              "      <td>0.000000e+00</td>\n",
              "      <td>Benign</td>\n",
              "      <td>0</td>\n",
              "    </tr>\n",
              "    <tr>\n",
              "      <th>1636406</th>\n",
              "      <td>2.617265e-08</td>\n",
              "      <td>2.335241e-08</td>\n",
              "      <td>7.823357e-05</td>\n",
              "      <td>1.203593e-06</td>\n",
              "      <td>0.000097</td>\n",
              "      <td>1.203593e-06</td>\n",
              "      <td>4.051340e-08</td>\n",
              "      <td>4.051029e-08</td>\n",
              "      <td>4.212302e-08</td>\n",
              "      <td>0.000000</td>\n",
              "      <td>...</td>\n",
              "      <td>0.000000e+00</td>\n",
              "      <td>0.000000e+00</td>\n",
              "      <td>3.427088e-08</td>\n",
              "      <td>3.429417e-08</td>\n",
              "      <td>2.053465e-08</td>\n",
              "      <td>3.965058e-10</td>\n",
              "      <td>0.000036</td>\n",
              "      <td>2.688649e-08</td>\n",
              "      <td>Benign</td>\n",
              "      <td>0</td>\n",
              "    </tr>\n",
              "    <tr>\n",
              "      <th>152133</th>\n",
              "      <td>4.439600e-10</td>\n",
              "      <td>5.490674e-10</td>\n",
              "      <td>5.999424e-06</td>\n",
              "      <td>1.131967e-07</td>\n",
              "      <td>0.000125</td>\n",
              "      <td>1.697950e-07</td>\n",
              "      <td>1.719290e-10</td>\n",
              "      <td>3.618107e-09</td>\n",
              "      <td>0.000000e+00</td>\n",
              "      <td>0.000000</td>\n",
              "      <td>...</td>\n",
              "      <td>1.434202e-04</td>\n",
              "      <td>8.195440e-05</td>\n",
              "      <td>8.057850e-10</td>\n",
              "      <td>8.063327e-10</td>\n",
              "      <td>5.837552e-10</td>\n",
              "      <td>5.837593e-10</td>\n",
              "      <td>0.000000</td>\n",
              "      <td>6.321614e-10</td>\n",
              "      <td>Benign</td>\n",
              "      <td>0</td>\n",
              "    </tr>\n",
              "    <tr>\n",
              "      <th>1164696</th>\n",
              "      <td>2.451807e-09</td>\n",
              "      <td>1.556554e-09</td>\n",
              "      <td>9.775598e-05</td>\n",
              "      <td>1.797272e-06</td>\n",
              "      <td>0.000137</td>\n",
              "      <td>1.953557e-06</td>\n",
              "      <td>1.011050e-09</td>\n",
              "      <td>1.011116e-09</td>\n",
              "      <td>0.000000e+00</td>\n",
              "      <td>0.000000</td>\n",
              "      <td>...</td>\n",
              "      <td>1.244650e-03</td>\n",
              "      <td>1.131500e-03</td>\n",
              "      <td>4.425931e-10</td>\n",
              "      <td>4.423147e-10</td>\n",
              "      <td>3.223837e-09</td>\n",
              "      <td>3.223860e-09</td>\n",
              "      <td>0.000000</td>\n",
              "      <td>0.000000e+00</td>\n",
              "      <td>Benign</td>\n",
              "      <td>0</td>\n",
              "    </tr>\n",
              "    <tr>\n",
              "      <th>122693</th>\n",
              "      <td>8.250229e-11</td>\n",
              "      <td>1.020347e-10</td>\n",
              "      <td>9.460781e-06</td>\n",
              "      <td>1.577673e-07</td>\n",
              "      <td>0.000125</td>\n",
              "      <td>1.630263e-07</td>\n",
              "      <td>3.195003e-11</td>\n",
              "      <td>3.427660e-11</td>\n",
              "      <td>0.000000e+00</td>\n",
              "      <td>0.000000</td>\n",
              "      <td>...</td>\n",
              "      <td>1.028012e-04</td>\n",
              "      <td>3.807452e-05</td>\n",
              "      <td>2.072477e-12</td>\n",
              "      <td>2.072477e-12</td>\n",
              "      <td>1.084808e-10</td>\n",
              "      <td>1.084816e-10</td>\n",
              "      <td>0.000000</td>\n",
              "      <td>1.174763e-10</td>\n",
              "      <td>Benign</td>\n",
              "      <td>0</td>\n",
              "    </tr>\n",
              "  </tbody>\n",
              "</table>\n",
              "<p>167318 rows × 41 columns</p>\n",
              "</div>"
            ],
            "text/plain": [
              "             PROTOCOL      L7_PROTO      IN_BYTES       IN_PKTS  OUT_BYTES  \\\n",
              "220614   4.802078e-09  3.048648e-09  3.994566e-05  7.652425e-07   0.000072   \n",
              "329844   9.025364e-09  8.052833e-09  1.079121e-04  8.300931e-07   0.000063   \n",
              "1093665  3.068685e-13  8.437668e-13  1.638983e-07  3.061234e-09   0.000010   \n",
              "1764268  2.361402e-08  2.106949e-08  7.927293e-05  1.085931e-06   0.000097   \n",
              "1525176  2.309362e-10  2.856102e-10  1.717880e-05  2.649686e-07   0.000124   \n",
              "...               ...           ...           ...           ...        ...   \n",
              "1525437  1.940855e-09  1.232171e-09  1.123952e-04  2.041300e-06   0.000155   \n",
              "1636406  2.617265e-08  2.335241e-08  7.823357e-05  1.203593e-06   0.000097   \n",
              "152133   4.439600e-10  5.490674e-10  5.999424e-06  1.131967e-07   0.000125   \n",
              "1164696  2.451807e-09  1.556554e-09  9.775598e-05  1.797272e-06   0.000137   \n",
              "122693   8.250229e-11  1.020347e-10  9.460781e-06  1.577673e-07   0.000125   \n",
              "\n",
              "             OUT_PKTS     TCP_FLAGS  CLIENT_TCP_FLAGS  SERVER_TCP_FLAGS  \\\n",
              "220614   1.071339e-06  1.980229e-09      1.980360e-09      0.000000e+00   \n",
              "329844   8.300931e-07  1.397062e-08      1.396955e-08      1.452568e-08   \n",
              "1093665  7.129838e-09  1.188386e-13      1.274923e-13      0.000000e+00   \n",
              "1764268  1.085931e-06  3.655283e-08      3.655002e-08      3.800509e-08   \n",
              "1525176  2.796890e-07  8.943290e-11      9.594530e-11      0.000000e+00   \n",
              "...               ...           ...               ...               ...   \n",
              "1525437  2.165015e-06  8.003488e-10      8.004016e-10      0.000000e+00   \n",
              "1636406  1.203593e-06  4.051340e-08      4.051029e-08      4.212302e-08   \n",
              "152133   1.697950e-07  1.719290e-10      3.618107e-09      0.000000e+00   \n",
              "1164696  1.953557e-06  1.011050e-09      1.011116e-09      0.000000e+00   \n",
              "122693   1.630263e-07  3.195003e-11      3.427660e-11      0.000000e+00   \n",
              "\n",
              "         FLOW_DURATION_MILLISECONDS  ...  TCP_WIN_MAX_IN  TCP_WIN_MAX_OUT  \\\n",
              "220614                     0.000000  ...    1.329685e-03     1.329685e-03   \n",
              "329844                     0.000000  ...    0.000000e+00     0.000000e+00   \n",
              "1093665                    0.000042  ...    6.372843e-07     7.080936e-08   \n",
              "1764268                    0.000000  ...    0.000000e+00     0.000000e+00   \n",
              "1525176                    0.000000  ...    1.598644e-04     1.065762e-04   \n",
              "...                             ...  ...             ...              ...   \n",
              "1525437                    0.000000  ...    1.253977e-03     1.074837e-03   \n",
              "1636406                    0.000000  ...    0.000000e+00     0.000000e+00   \n",
              "152133                     0.000000  ...    1.434202e-04     8.195440e-05   \n",
              "1164696                    0.000000  ...    1.244650e-03     1.131500e-03   \n",
              "122693                     0.000000  ...    1.028012e-04     3.807452e-05   \n",
              "\n",
              "            ICMP_TYPE  ICMP_IPV4_TYPE  DNS_QUERY_ID  DNS_QUERY_TYPE  \\\n",
              "220614   4.043553e-10    4.043553e-10  6.314168e-09    6.314212e-09   \n",
              "329844   1.181795e-08    1.182599e-08  8.561578e-09    8.561639e-09   \n",
              "1093665  4.545956e-14    5.191930e-14  4.034959e-13    4.034988e-13   \n",
              "1764268  3.092057e-08    3.094159e-08  1.878071e-08    3.577436e-10   \n",
              "1525176  5.174884e-12    5.174884e-12  3.036539e-10    3.036561e-10   \n",
              "...               ...             ...           ...             ...   \n",
              "1525437  1.006141e-10    1.006141e-10  2.551995e-09    2.552013e-09   \n",
              "1636406  3.427088e-08    3.429417e-08  2.053465e-08    3.965058e-10   \n",
              "152133   8.057850e-10    8.063327e-10  5.837552e-10    5.837593e-10   \n",
              "1164696  4.425931e-10    4.423147e-10  3.223837e-09    3.223860e-09   \n",
              "122693   2.072477e-12    2.072477e-12  1.084808e-10    1.084816e-10   \n",
              "\n",
              "         DNS_TTL_ANSWER  FTP_COMMAND_RET_CODE  Attack  Label  \n",
              "220614         0.000000          3.618463e-09  Benign      0  \n",
              "329844         0.000000          9.271523e-09  Benign      0  \n",
              "1093665        0.000000          4.369547e-13  Benign      0  \n",
              "1764268        0.000033          2.425808e-08  Benign      0  \n",
              "1525176        0.000000          3.288336e-10  Benign      0  \n",
              "...                 ...                   ...     ...    ...  \n",
              "1525437        0.000000          0.000000e+00  Benign      0  \n",
              "1636406        0.000036          2.688649e-08  Benign      0  \n",
              "152133         0.000000          6.321614e-10  Benign      0  \n",
              "1164696        0.000000          0.000000e+00  Benign      0  \n",
              "122693         0.000000          1.174763e-10  Benign      0  \n",
              "\n",
              "[167318 rows x 41 columns]"
            ]
          },
          "execution_count": 37,
          "metadata": {},
          "output_type": "execute_result"
        }
      ],
      "source": [
        "df_raw_train"
      ]
    },
    {
      "cell_type": "code",
      "execution_count": 36,
      "metadata": {},
      "outputs": [],
      "source": [
        "raw_benign_train_samples = df_raw_train[df_raw_train.Label == 0].drop(columns=[\"Label\", \"Attack\"])\n",
        "raw_normal_train_samples = df_raw_train.drop(columns=[\"Label\", \"Attack\"])\n",
        "\n",
        "raw_train_labels = df_raw_train[\"Label\"]\n",
        "raw_test_labels = df_raw_test[\"Label\"]\n",
        "\n",
        "raw_test_samples = df_raw_test.drop(columns=[\"Label\", \"Attack\"])"
      ]
    },
    {
      "cell_type": "code",
      "execution_count": null,
      "metadata": {
        "id": "62BUDLtO4mla"
      },
      "outputs": [],
      "source": [
        "contamination = [0.001, 0.01, 0.04, 0.05, 0.1, 0.2]"
      ]
    },
    {
      "cell_type": "code",
      "execution_count": null,
      "metadata": {
        "id": "2i48uLj74mla",
        "outputId": "a0dd33ee-824d-4328-a960-e656e3aaf0ea"
      },
      "outputs": [
        {
          "name": "stderr",
          "output_type": "stream",
          "text": [
            "100%|██████████| 36/36 [04:24<00:00,  7.35s/it]\n"
          ]
        },
        {
          "name": "stdout",
          "output_type": "stream",
          "text": [
            "{'n_estimators': 2, 'con': 0.01}\n",
            "0.8076747200514057\n",
            "              precision    recall  f1-score   support\n",
            "\n",
            "           0     0.9817    0.9914    0.9865    137714\n",
            "           1     0.7282    0.5533    0.6288      5704\n",
            "\n",
            "    accuracy                         0.9740    143418\n",
            "   macro avg     0.8549    0.7724    0.8077    143418\n",
            "weighted avg     0.9716    0.9740    0.9723    143418\n",
            "\n"
          ]
        }
      ],
      "source": [
        "from pyod.models.cblof import CBLOF\n",
        "n_est = [2,3,5,7,9,10]\n",
        "params = list(itertools.product(n_est, contamination))\n",
        "score = -1\n",
        "bs = None\n",
        "for n_est, con in tqdm(params):\n",
        "    \n",
        "    clf_if = CBLOF(n_clusters=n_est, contamination=con)\n",
        "    clf_if.fit(benign_train_samples)\n",
        "    y_pred = clf_if.predict(test_samples)\n",
        "    test_pred = y_pred\n",
        "\n",
        "    f1 = f1_score(test_labels, test_pred, average='macro')\n",
        "\n",
        "    if f1 > score:\n",
        "        score = f1\n",
        "        best_params = {'n_estimators': n_est,\n",
        "                       \"con\": con\n",
        "                }\n",
        "        bs = test_pred\n",
        "    del clf_if\n",
        "    gc.collect()\n",
        "\n",
        "\n",
        "print(best_params)\n",
        "print(score)\n",
        "print(classification_report(test_labels, bs, digits=4))"
      ]
    },
    {
      "cell_type": "code",
      "execution_count": null,
      "metadata": {
        "id": "rK-Rng9q4mla",
        "outputId": "1796db22-cfb8-4bf8-9004-6420c08c3399"
      },
      "outputs": [
        {
          "name": "stderr",
          "output_type": "stream",
          "text": [
            "100%|██████████| 36/36 [04:00<00:00,  6.67s/it]\n"
          ]
        },
        {
          "name": "stdout",
          "output_type": "stream",
          "text": [
            "{'n_estimators': 2, 'con': 0.05}\n",
            "0.9061445972752045\n",
            "              precision    recall  f1-score   support\n",
            "\n",
            "           0     0.9961    0.9874    0.9917    137714\n",
            "           1     0.7488    0.9074    0.8205      5704\n",
            "\n",
            "    accuracy                         0.9842    143418\n",
            "   macro avg     0.8725    0.9474    0.9061    143418\n",
            "weighted avg     0.9863    0.9842    0.9849    143418\n",
            "\n"
          ]
        }
      ],
      "source": [
        "n_est = [2,3,5,7,9,10]\n",
        "contamination = [0.001, 0.01, 0.04, 0.05, 0.1, 0.2]\n",
        "params = list(itertools.product(n_est, contamination))\n",
        "score = -1\n",
        "bs = None\n",
        "for n_est, con in tqdm(params):\n",
        "    \n",
        "    clf_if = CBLOF(n_clusters=n_est, contamination=con)\n",
        "    clf_if.fit(normal_train_samples)\n",
        "    y_pred = clf_if.predict(test_samples)\n",
        "    test_pred = y_pred\n",
        "\n",
        "    f1 = f1_score(test_labels, test_pred, average='macro')\n",
        "\n",
        "    if f1 > score:\n",
        "        score = f1\n",
        "        best_params = {'n_estimators': n_est,\n",
        "                       \"con\": con\n",
        "                }\n",
        "        bs = test_pred\n",
        "    del clf_if\n",
        "    gc.collect()\n",
        "\n",
        "\n",
        "print(best_params)\n",
        "print(score)\n",
        "print(classification_report(test_labels, bs, digits=4))"
      ]
    },
    {
      "cell_type": "code",
      "execution_count": null,
      "metadata": {
        "id": "tHSOcEhH4mlb"
      },
      "outputs": [],
      "source": [
        "###  CBLOF RAW"
      ]
    },
    {
      "cell_type": "code",
      "execution_count": null,
      "metadata": {
        "id": "A--j-9Cu4mlb"
      },
      "outputs": [],
      "source": []
    },
    {
      "cell_type": "code",
      "execution_count": 41,
      "metadata": {
        "id": "u_l1Vz8S4mlb",
        "outputId": "c1b8d03c-7105-42d9-f49a-bba4ff4905a7"
      },
      "outputs": [
        {
          "name": "stderr",
          "output_type": "stream",
          "text": [
            "  3%|▎         | 1/36 [00:00<00:07,  4.52it/s]"
          ]
        },
        {
          "name": "stdout",
          "output_type": "stream",
          "text": [
            "2\n"
          ]
        },
        {
          "name": "stderr",
          "output_type": "stream",
          "text": [
            "  6%|▌         | 2/36 [00:00<00:07,  4.64it/s]"
          ]
        },
        {
          "name": "stdout",
          "output_type": "stream",
          "text": [
            "2\n"
          ]
        },
        {
          "name": "stderr",
          "output_type": "stream",
          "text": [
            "  8%|▊         | 3/36 [00:00<00:07,  4.71it/s]"
          ]
        },
        {
          "name": "stdout",
          "output_type": "stream",
          "text": [
            "2\n"
          ]
        },
        {
          "name": "stderr",
          "output_type": "stream",
          "text": [
            " 11%|█         | 4/36 [00:00<00:06,  4.59it/s]"
          ]
        },
        {
          "name": "stdout",
          "output_type": "stream",
          "text": [
            "2\n"
          ]
        },
        {
          "name": "stderr",
          "output_type": "stream",
          "text": [
            " 14%|█▍        | 5/36 [00:01<00:06,  4.65it/s]"
          ]
        },
        {
          "name": "stdout",
          "output_type": "stream",
          "text": [
            "2\n"
          ]
        },
        {
          "name": "stderr",
          "output_type": "stream",
          "text": [
            " 17%|█▋        | 6/36 [00:01<00:06,  4.63it/s]"
          ]
        },
        {
          "name": "stdout",
          "output_type": "stream",
          "text": [
            "2\n"
          ]
        },
        {
          "name": "stderr",
          "output_type": "stream",
          "text": [
            " 22%|██▏       | 8/36 [00:03<00:18,  1.52it/s]"
          ]
        },
        {
          "name": "stdout",
          "output_type": "stream",
          "text": [
            "3\n"
          ]
        },
        {
          "name": "stderr",
          "output_type": "stream",
          "text": [
            " 28%|██▊       | 10/36 [00:04<00:14,  1.77it/s]"
          ]
        },
        {
          "name": "stdout",
          "output_type": "stream",
          "text": [
            "3\n"
          ]
        },
        {
          "name": "stderr",
          "output_type": "stream",
          "text": [
            " 33%|███▎      | 12/36 [00:06<00:15,  1.54it/s]"
          ]
        },
        {
          "name": "stdout",
          "output_type": "stream",
          "text": [
            "3\n"
          ]
        },
        {
          "name": "stderr",
          "output_type": "stream",
          "text": [
            "100%|██████████| 36/36 [00:30<00:00,  1.18it/s]"
          ]
        },
        {
          "name": "stdout",
          "output_type": "stream",
          "text": [
            "{'n_estimators': 3, 'con': 0.04}\n",
            "0.7183189342694002\n",
            "              precision    recall  f1-score   support\n",
            "\n",
            "           0     0.9793    0.9716    0.9755     68857\n",
            "           1     0.4244    0.5049    0.4612      2852\n",
            "\n",
            "    accuracy                         0.9531     71709\n",
            "   macro avg     0.7019    0.7383    0.7183     71709\n",
            "weighted avg     0.9573    0.9531    0.9550     71709\n",
            "\n"
          ]
        },
        {
          "name": "stderr",
          "output_type": "stream",
          "text": [
            "\n"
          ]
        }
      ],
      "source": [
        "from pyod.models.cblof import CBLOF\n",
        "\n",
        "n_est = [2,3,5,7,9,10]\n",
        "contamination = [0.001, 0.01, 0.04, 0.05, 0.1, 0.2]\n",
        "params = list(itertools.product(n_est, contamination))\n",
        "score = -1\n",
        "bs = None\n",
        "for n_est, con in tqdm(params):\n",
        "    \n",
        "    try:\n",
        "        clf_b = CBLOF(n_clusters=n_est, contamination=con)\n",
        "        clf_b.fit(raw_benign_train_samples)\n",
        "    except ValueError as e:\n",
        "        print(n_est)\n",
        "        continue  \n",
        "   \n",
        "    y_pred = clf_b.predict(raw_test_samples)\n",
        "    test_pred = y_pred\n",
        "\n",
        "    f1 = f1_score(raw_test_labels, test_pred, average='macro')\n",
        "\n",
        "    if f1 > score:\n",
        "        score = f1\n",
        "        best_params = {'n_estimators': n_est,\n",
        "                        \"con\": con\n",
        "                }\n",
        "        bs = test_pred\n",
        "    del clf_b\n",
        "    gc.collect()\n",
        "\n",
        "  \n",
        "\n",
        "print(best_params)\n",
        "print(score)\n",
        "print(classification_report(raw_test_labels, bs, digits=4))"
      ]
    },
    {
      "cell_type": "code",
      "execution_count": 42,
      "metadata": {
        "id": "H-_InJ1-4mlc",
        "outputId": "e22139e6-d1cf-46e1-adf3-f0dc9b499244"
      },
      "outputs": [
        {
          "name": "stderr",
          "output_type": "stream",
          "text": [
            "  3%|▎         | 1/36 [00:00<00:17,  2.02it/s]"
          ]
        },
        {
          "name": "stdout",
          "output_type": "stream",
          "text": [
            "2\n"
          ]
        },
        {
          "name": "stderr",
          "output_type": "stream",
          "text": [
            "  6%|▌         | 2/36 [00:00<00:16,  2.11it/s]"
          ]
        },
        {
          "name": "stdout",
          "output_type": "stream",
          "text": [
            "2\n"
          ]
        },
        {
          "name": "stderr",
          "output_type": "stream",
          "text": [
            "  8%|▊         | 3/36 [00:01<00:13,  2.44it/s]"
          ]
        },
        {
          "name": "stdout",
          "output_type": "stream",
          "text": [
            "2\n"
          ]
        },
        {
          "name": "stderr",
          "output_type": "stream",
          "text": [
            " 11%|█         | 4/36 [00:01<00:12,  2.62it/s]"
          ]
        },
        {
          "name": "stdout",
          "output_type": "stream",
          "text": [
            "2\n"
          ]
        },
        {
          "name": "stderr",
          "output_type": "stream",
          "text": [
            " 14%|█▍        | 5/36 [00:01<00:10,  2.91it/s]"
          ]
        },
        {
          "name": "stdout",
          "output_type": "stream",
          "text": [
            "2\n"
          ]
        },
        {
          "name": "stderr",
          "output_type": "stream",
          "text": [
            " 17%|█▋        | 6/36 [00:02<00:09,  3.20it/s]"
          ]
        },
        {
          "name": "stdout",
          "output_type": "stream",
          "text": [
            "2\n"
          ]
        },
        {
          "name": "stderr",
          "output_type": "stream",
          "text": [
            " 19%|█▉        | 7/36 [00:02<00:09,  3.03it/s]"
          ]
        },
        {
          "name": "stdout",
          "output_type": "stream",
          "text": [
            "3\n"
          ]
        },
        {
          "name": "stderr",
          "output_type": "stream",
          "text": [
            " 22%|██▏       | 8/36 [00:02<00:09,  2.90it/s]"
          ]
        },
        {
          "name": "stdout",
          "output_type": "stream",
          "text": [
            "3\n"
          ]
        },
        {
          "name": "stderr",
          "output_type": "stream",
          "text": [
            " 31%|███       | 11/36 [00:04<00:12,  1.97it/s]"
          ]
        },
        {
          "name": "stdout",
          "output_type": "stream",
          "text": [
            "3\n"
          ]
        },
        {
          "name": "stderr",
          "output_type": "stream",
          "text": [
            "100%|██████████| 36/36 [00:29<00:00,  1.23it/s]"
          ]
        },
        {
          "name": "stdout",
          "output_type": "stream",
          "text": [
            "benign only\n",
            "{'n_estimators': 3}\n",
            "0.7173358973597662\n",
            "              precision    recall  f1-score   support\n",
            "\n",
            "           0     0.9793    0.9714    0.9753     68857\n",
            "           1     0.4218    0.5042    0.4594      2852\n",
            "\n",
            "    accuracy                         0.9528     71709\n",
            "   macro avg     0.7006    0.7378    0.7173     71709\n",
            "weighted avg     0.9571    0.9528    0.9548     71709\n",
            "\n"
          ]
        },
        {
          "name": "stderr",
          "output_type": "stream",
          "text": [
            "\n"
          ]
        }
      ],
      "source": [
        "n_est = [2,3,5,7,9,10]\n",
        "contamination = [0.001, 0.01, 0.04, 0.05, 0.1, 0.2]\n",
        "params = list(itertools.product(n_est, contamination))\n",
        "score = -1\n",
        "bs = None\n",
        "for n_est, con in tqdm(params):\n",
        "    \n",
        "    try:\n",
        "        clf_if = CBLOF(n_clusters=n_est, contamination=con)\n",
        "        clf_if.fit(raw_normal_train_samples)\n",
        "    except ValueError as e:\n",
        "        print(n_est)\n",
        "        continue  \n",
        "    \n",
        "    y_pred = clf_if.predict(raw_test_samples)\n",
        "    test_pred = y_pred\n",
        "\n",
        "    f1 = f1_score(raw_test_labels, test_pred, average='macro')\n",
        "\n",
        "    if f1 > score:\n",
        "        score = f1\n",
        "        best_params = {'n_estimators': n_est\n",
        "                }\n",
        "        bs = test_pred\n",
        "    del clf_if\n",
        "    gc.collect()\n",
        "\n",
        "        \n",
        "\n",
        "print(\"benign only\")\n",
        "print(best_params)\n",
        "print(score)\n",
        "print(classification_report(raw_test_labels, bs, digits=4))"
      ]
    },
    {
      "cell_type": "code",
      "execution_count": null,
      "metadata": {
        "id": "GneWZNtq4mlc"
      },
      "outputs": [],
      "source": []
    },
    {
      "cell_type": "code",
      "execution_count": 43,
      "metadata": {
        "id": "nd0-H7UT4mlc"
      },
      "outputs": [],
      "source": [
        "# HBOS  Embeddings"
      ]
    },
    {
      "cell_type": "code",
      "execution_count": 37,
      "metadata": {
        "id": "sDquxErU4mld"
      },
      "outputs": [],
      "source": [
        "contamination = [0.001, 0.01, 0.04, 0.05, 0.1, 0.2]"
      ]
    },
    {
      "cell_type": "code",
      "execution_count": 46,
      "metadata": {
        "id": "xLBIT-Rc4mld",
        "outputId": "8162929e-4879-40e2-a040-afc57eafe7c5"
      },
      "outputs": [
        {
          "name": "stderr",
          "output_type": "stream",
          "text": [
            "100%|██████████| 36/36 [05:06<00:00,  8.50s/it]\n"
          ]
        },
        {
          "name": "stdout",
          "output_type": "stream",
          "text": [
            "{'n_estimators': 25, 'con': 0.01}\n",
            "0.9200514280151223\n",
            "              precision    recall  f1-score   support\n",
            "\n",
            "           0     0.9984    0.9873    0.9928    137714\n",
            "           1     0.7578    0.9607    0.8473      5704\n",
            "\n",
            "    accuracy                         0.9862    143418\n",
            "   macro avg     0.8781    0.9740    0.9201    143418\n",
            "weighted avg     0.9888    0.9862    0.9870    143418\n",
            "\n"
          ]
        }
      ],
      "source": [
        "from pyod.models.hbos import HBOS\n",
        "\n",
        "n_est = [5,10,15,20,25,30]\n",
        "params = list(itertools.product(n_est, contamination))\n",
        "score = -1\n",
        "bs = None\n",
        "for n_est, con in tqdm(params):\n",
        "    \n",
        "    clf_if = HBOS(n_bins=n_est, contamination=con)\n",
        "    clf_if.fit(benign_train_samples)\n",
        "    y_pred = clf_if.predict(test_samples)\n",
        "    test_pred = y_pred\n",
        "\n",
        "    f1 = f1_score(test_labels, test_pred, average='macro')\n",
        "\n",
        "    if f1 > score:\n",
        "        score = f1\n",
        "        best_params = {'n_estimators': n_est,\n",
        "                       \"con\": con\n",
        "                }\n",
        "        bs = test_pred\n",
        "    del clf_if\n",
        "    gc.collect()\n",
        "\n",
        "\n",
        "print(best_params)\n",
        "print(score)\n",
        "print(classification_report(test_labels, bs, digits=4))"
      ]
    },
    {
      "cell_type": "code",
      "execution_count": 47,
      "metadata": {
        "id": "MDcX0mma4mld",
        "outputId": "a2b64cfc-d413-4ba0-9f24-b4935343c315"
      },
      "outputs": [
        {
          "name": "stderr",
          "output_type": "stream",
          "text": [
            "100%|██████████| 36/36 [05:11<00:00,  8.64s/it]"
          ]
        },
        {
          "name": "stdout",
          "output_type": "stream",
          "text": [
            "{'n_estimators': 5, 'con': 0.05}\n",
            "0.9264385476143018\n",
            "              precision    recall  f1-score   support\n",
            "\n",
            "           0     1.0000    0.9865    0.9932    137714\n",
            "           1     0.7539    1.0000    0.8597      5704\n",
            "\n",
            "    accuracy                         0.9870    143418\n",
            "   macro avg     0.8769    0.9932    0.9264    143418\n",
            "weighted avg     0.9902    0.9870    0.9879    143418\n",
            "\n"
          ]
        },
        {
          "name": "stderr",
          "output_type": "stream",
          "text": [
            "\n"
          ]
        }
      ],
      "source": [
        "n_est = [5,10,15,20,25,30]\n",
        "contamination = [0.001, 0.01, 0.04, 0.05, 0.1, 0.2]\n",
        "params = list(itertools.product(n_est, contamination))\n",
        "score = -1\n",
        "bs = None\n",
        "for n_est, con in tqdm(params):\n",
        "    \n",
        "    clf_if = HBOS(n_bins=n_est, contamination=con)\n",
        "    clf_if.fit(normal_train_samples)\n",
        "    y_pred = clf_if.predict(test_samples)\n",
        "    test_pred = y_pred\n",
        "\n",
        "    f1 = f1_score(test_labels, test_pred, average='macro')\n",
        "\n",
        "    if f1 > score:\n",
        "        score = f1\n",
        "        best_params = {'n_estimators': n_est,\n",
        "                       \"con\": con\n",
        "                }\n",
        "        bs = test_pred\n",
        "    del clf_if\n",
        "    gc.collect()\n",
        "\n",
        "\n",
        "print(best_params)\n",
        "print(score)\n",
        "print(classification_report(test_labels, bs, digits=4))"
      ]
    },
    {
      "cell_type": "code",
      "execution_count": 48,
      "metadata": {
        "id": "wRUOrQqB4mle"
      },
      "outputs": [],
      "source": [
        "##  HBOS  RAw"
      ]
    },
    {
      "cell_type": "code",
      "execution_count": 49,
      "metadata": {
        "id": "9sZfAnER4mle",
        "outputId": "6e9cb145-8540-4aa7-8ed1-fc9aca495b07"
      },
      "outputs": [
        {
          "name": "stderr",
          "output_type": "stream",
          "text": [
            "100%|██████████| 36/36 [00:19<00:00,  1.84it/s]"
          ]
        },
        {
          "name": "stdout",
          "output_type": "stream",
          "text": [
            "{'n_estimators': 30, 'con': 0.04}\n",
            "0.7146257915510277\n",
            "              precision    recall  f1-score   support\n",
            "\n",
            "           0     0.9820    0.9613    0.9715     68857\n",
            "           1     0.3805    0.5743    0.4577      2852\n",
            "\n",
            "    accuracy                         0.9459     71709\n",
            "   macro avg     0.6812    0.7678    0.7146     71709\n",
            "weighted avg     0.9581    0.9459    0.9511     71709\n",
            "\n"
          ]
        },
        {
          "name": "stderr",
          "output_type": "stream",
          "text": [
            "\n"
          ]
        }
      ],
      "source": [
        "from pyod.models.cblof import CBLOF\n",
        "\n",
        "n_est = [5,10,15,20,25,30]\n",
        "contamination = [0.001, 0.01, 0.04, 0.05, 0.1, 0.2]\n",
        "params = list(itertools.product(n_est, contamination))\n",
        "score = -1\n",
        "bs = None\n",
        "for n_est, con in tqdm(params):\n",
        "    \n",
        "    try:\n",
        "        clf_b = HBOS(n_bins=n_est, contamination=con)\n",
        "        clf_b.fit(raw_benign_train_samples)\n",
        "    except ValueError as e:\n",
        "        print(n_est)\n",
        "        continue  \n",
        "   \n",
        "    y_pred = clf_b.predict(raw_test_samples)\n",
        "    test_pred = y_pred\n",
        "\n",
        "    f1 = f1_score(raw_test_labels, test_pred, average='macro')\n",
        "\n",
        "    if f1 > score:\n",
        "        score = f1\n",
        "        best_params = {'n_estimators': n_est,\n",
        "                        \"con\": con\n",
        "                }\n",
        "        bs = test_pred\n",
        "    del clf_b\n",
        "    gc.collect()\n",
        "\n",
        "  \n",
        "\n",
        "print(best_params)\n",
        "print(score)\n",
        "print(classification_report(raw_test_labels, bs, digits=4))"
      ]
    },
    {
      "cell_type": "code",
      "execution_count": 50,
      "metadata": {
        "id": "z5A-gLN34mle",
        "outputId": "8a6dfd26-a45b-4ce3-8d85-1b61652e7f90"
      },
      "outputs": [
        {
          "name": "stderr",
          "output_type": "stream",
          "text": [
            "100%|██████████| 36/36 [00:19<00:00,  1.85it/s]"
          ]
        },
        {
          "name": "stdout",
          "output_type": "stream",
          "text": [
            "benign only\n",
            "{'n_estimators': 30}\n",
            "0.6688907552042004\n",
            "              precision    recall  f1-score   support\n",
            "\n",
            "           0     0.9740    0.9719    0.9730     68857\n",
            "           1     0.3556    0.3745    0.3648      2852\n",
            "\n",
            "    accuracy                         0.9481     71709\n",
            "   macro avg     0.6648    0.6732    0.6689     71709\n",
            "weighted avg     0.9494    0.9481    0.9488     71709\n",
            "\n"
          ]
        },
        {
          "name": "stderr",
          "output_type": "stream",
          "text": [
            "\n"
          ]
        }
      ],
      "source": [
        "n_est = [5,10,15,20,25,30]\n",
        "contamination = [0.001, 0.01, 0.04, 0.05, 0.1, 0.2]\n",
        "params = list(itertools.product(n_est, contamination))\n",
        "score = -1\n",
        "bs = None\n",
        "for n_est, con in tqdm(params):\n",
        "    \n",
        "    try:\n",
        "        clf_if = HBOS(n_bins=n_est, contamination=con)\n",
        "        clf_if.fit(raw_normal_train_samples)\n",
        "    except ValueError as e:\n",
        "        print(n_est)\n",
        "        continue  \n",
        "    \n",
        "    y_pred = clf_if.predict(raw_test_samples)\n",
        "    test_pred = y_pred\n",
        "\n",
        "    f1 = f1_score(raw_test_labels, test_pred, average='macro')\n",
        "\n",
        "    if f1 > score:\n",
        "        score = f1\n",
        "        best_params = {'n_estimators': n_est\n",
        "                }\n",
        "        bs = test_pred\n",
        "    del clf_if\n",
        "    gc.collect()\n",
        "\n",
        "        \n",
        "\n",
        "print(\"benign only\")\n",
        "print(best_params)\n",
        "print(score)\n",
        "print(classification_report(raw_test_labels, bs, digits=4))"
      ]
    },
    {
      "cell_type": "code",
      "execution_count": null,
      "metadata": {
        "id": "Z0ZCfgyi4mle"
      },
      "outputs": [],
      "source": []
    },
    {
      "cell_type": "code",
      "execution_count": 51,
      "metadata": {
        "id": "UbDOqrcy4mle"
      },
      "outputs": [],
      "source": [
        "##  PCA  Emb"
      ]
    },
    {
      "cell_type": "code",
      "execution_count": null,
      "metadata": {
        "id": "YDCu7S6i4mle"
      },
      "outputs": [],
      "source": []
    },
    {
      "cell_type": "code",
      "execution_count": 52,
      "metadata": {
        "id": "Nga82Fw_4mle",
        "outputId": "0fe52043-af21-45c1-a404-040ab5845efc"
      },
      "outputs": [
        {
          "name": "stderr",
          "output_type": "stream",
          "text": [
            "  0%|          | 0/36 [00:00<?, ?it/s]"
          ]
        },
        {
          "name": "stderr",
          "output_type": "stream",
          "text": [
            "100%|██████████| 36/36 [01:53<00:00,  3.16s/it]\n"
          ]
        },
        {
          "name": "stdout",
          "output_type": "stream",
          "text": [
            "{'n_estimators': 5, 'con': 0.01}\n",
            "0.8076747200514057\n",
            "              precision    recall  f1-score   support\n",
            "\n",
            "           0     0.9817    0.9914    0.9865    137714\n",
            "           1     0.7282    0.5533    0.6288      5704\n",
            "\n",
            "    accuracy                         0.9740    143418\n",
            "   macro avg     0.8549    0.7724    0.8077    143418\n",
            "weighted avg     0.9716    0.9740    0.9723    143418\n",
            "\n"
          ]
        }
      ],
      "source": [
        "from pyod.models.pca import PCA\n",
        "n_est = [5,10,15,20,25,30]\n",
        "cont = [0.001, 0.01, 0.04, 0.05, 0.1, 0.2]\n",
        "params = list(itertools.product(n_est, cont))\n",
        "score = -1\n",
        "bs = None\n",
        "\n",
        "for n_est, con in tqdm(params):\n",
        "    clf_if = PCA(n_components=n_est, contamination=con)\n",
        "    clf_if.fit(benign_train_samples)\n",
        "    y_pred = clf_if.predict(test_samples)\n",
        "    test_pred = y_pred\n",
        "\n",
        "    f1 = f1_score(test_labels, test_pred, average='macro')\n",
        "\n",
        "    if f1 > score:\n",
        "        score = f1\n",
        "        best_params = {'n_estimators': n_est,\n",
        "                       \"con\": con\n",
        "                }\n",
        "        bs = test_pred\n",
        "    del clf_if\n",
        "    gc.collect()\n",
        "\n",
        "\n",
        "print(best_params)\n",
        "print(score)\n",
        "print(classification_report(test_labels, bs, digits=4))"
      ]
    },
    {
      "cell_type": "code",
      "execution_count": 53,
      "metadata": {
        "id": "sg6AcAUW4mlf",
        "outputId": "a9949458-96cf-44dc-b4f6-c73458cb2719"
      },
      "outputs": [
        {
          "name": "stderr",
          "output_type": "stream",
          "text": [
            "100%|██████████| 36/36 [01:52<00:00,  3.13s/it]"
          ]
        },
        {
          "name": "stdout",
          "output_type": "stream",
          "text": [
            "{'n_estimators': 5, 'con': 0.05}\n",
            "0.9102031301543931\n",
            "              precision    recall  f1-score   support\n",
            "\n",
            "           0     0.9969    0.9871    0.9920    137714\n",
            "           1     0.7489    0.9267    0.8284      5704\n",
            "\n",
            "    accuracy                         0.9847    143418\n",
            "   macro avg     0.8729    0.9569    0.9102    143418\n",
            "weighted avg     0.9871    0.9847    0.9855    143418\n",
            "\n"
          ]
        },
        {
          "name": "stderr",
          "output_type": "stream",
          "text": [
            "\n"
          ]
        }
      ],
      "source": [
        "n_est = [5,10,15,20,25,30]\n",
        "cont = [0.001, 0.01, 0.04, 0.05, 0.1, 0.2]\n",
        "params = list(itertools.product(n_est, cont))\n",
        "score = -1\n",
        "bs = None\n",
        "\n",
        "for n_est, con in tqdm(params):\n",
        "    clf_if = PCA(n_components=n_est, contamination=con)\n",
        "    clf_if.fit(normal_train_samples)\n",
        "    y_pred = clf_if.predict(test_samples)\n",
        "    test_pred = y_pred\n",
        "\n",
        "    f1 = f1_score(test_labels, test_pred, average='macro')\n",
        "\n",
        "    if f1 > score:\n",
        "        score = f1\n",
        "        best_params = {'n_estimators': n_est,\n",
        "                       \"con\": con\n",
        "                }\n",
        "        bs = test_pred\n",
        "    del clf_if\n",
        "    gc.collect()\n",
        "\n",
        "\n",
        "print(best_params)\n",
        "print(score)\n",
        "print(classification_report(test_labels, bs, digits=4))"
      ]
    },
    {
      "cell_type": "code",
      "execution_count": 54,
      "metadata": {
        "id": "JSoyZpDu4mlf"
      },
      "outputs": [],
      "source": [
        "##  PCA  RAw"
      ]
    },
    {
      "cell_type": "code",
      "execution_count": 55,
      "metadata": {
        "id": "3hKgicW14mlf",
        "outputId": "16c93b66-4eac-4d40-d5ce-96f3b3a5b3bb"
      },
      "outputs": [
        {
          "name": "stderr",
          "output_type": "stream",
          "text": [
            "  0%|          | 0/36 [00:00<?, ?it/s]"
          ]
        },
        {
          "name": "stderr",
          "output_type": "stream",
          "text": [
            "100%|██████████| 36/36 [00:16<00:00,  2.17it/s]"
          ]
        },
        {
          "name": "stdout",
          "output_type": "stream",
          "text": [
            "{'n_estimators': 15, 'con': 0.04}\n",
            "0.707439747737215\n",
            "              precision    recall  f1-score   support\n",
            "\n",
            "           0     0.9815    0.9598    0.9705     68857\n",
            "           1     0.3671    0.5628    0.4444      2852\n",
            "\n",
            "    accuracy                         0.9440     71709\n",
            "   macro avg     0.6743    0.7613    0.7074     71709\n",
            "weighted avg     0.9570    0.9440    0.9496     71709\n",
            "\n"
          ]
        },
        {
          "name": "stderr",
          "output_type": "stream",
          "text": [
            "\n"
          ]
        }
      ],
      "source": [
        "n_est = [5,10,15,20,25,30]\n",
        "cont = [0.001, 0.01, 0.04, 0.05, 0.1, 0.2]\n",
        "params = list(itertools.product(n_est, cont))\n",
        "score = -1\n",
        "bs = None\n",
        "\n",
        "for n_est, con in tqdm(params):\n",
        "    clf_if = PCA(n_components=n_est, contamination=con)\n",
        "    clf_if.fit(raw_benign_train_samples)\n",
        "   \n",
        "    y_pred = clf_if.predict(raw_test_samples)\n",
        "    test_pred = y_pred\n",
        "\n",
        "    f1 = f1_score(raw_test_labels, test_pred, average='macro')\n",
        "\n",
        "    if f1 > score:\n",
        "        score = f1\n",
        "        best_params = {'n_estimators': n_est,\n",
        "                        \"con\": con\n",
        "                }\n",
        "        bs = test_pred\n",
        "    del clf_if\n",
        "    gc.collect()\n",
        "\n",
        "  \n",
        "\n",
        "print(best_params)\n",
        "print(score)\n",
        "print(classification_report(raw_test_labels, bs, digits=4))"
      ]
    },
    {
      "cell_type": "code",
      "execution_count": 56,
      "metadata": {
        "id": "nAdfwnlP4mlf",
        "outputId": "ddc9c2b4-a3b6-4ab6-cc74-7ed93ca23d22"
      },
      "outputs": [
        {
          "name": "stderr",
          "output_type": "stream",
          "text": [
            "100%|██████████| 36/36 [00:17<00:00,  2.07it/s]"
          ]
        },
        {
          "name": "stdout",
          "output_type": "stream",
          "text": [
            "benign only\n",
            "{'n_estimators': 5}\n",
            "0.6589707768342642\n",
            "              precision    recall  f1-score   support\n",
            "\n",
            "           0     0.9843    0.9222    0.9522     68857\n",
            "           1     0.2554    0.6441    0.3657      2852\n",
            "\n",
            "    accuracy                         0.9111     71709\n",
            "   macro avg     0.6198    0.7832    0.6590     71709\n",
            "weighted avg     0.9553    0.9111    0.9289     71709\n",
            "\n"
          ]
        },
        {
          "name": "stderr",
          "output_type": "stream",
          "text": [
            "\n"
          ]
        }
      ],
      "source": [
        "n_est = [5,10,15,20,25,30]\n",
        "cont = [0.001, 0.01, 0.04, 0.05, 0.1, 0.2]\n",
        "params = list(itertools.product(n_est, cont))\n",
        "score = -1\n",
        "bs = None\n",
        "\n",
        "for n_est, con in tqdm(params):\n",
        "    clf_if = PCA(n_components=n_est, contamination=con)\n",
        "    clf_if.fit(raw_normal_train_samples)\n",
        "\n",
        "    y_pred = clf_if.predict(raw_test_samples)\n",
        "    test_pred = y_pred\n",
        "\n",
        "    f1 = f1_score(raw_test_labels, test_pred, average='macro')\n",
        "\n",
        "    if f1 > score:\n",
        "        score = f1\n",
        "        best_params = {'n_estimators': n_est\n",
        "                }\n",
        "        bs = test_pred\n",
        "    del clf_if\n",
        "    gc.collect()\n",
        "\n",
        "        \n",
        "\n",
        "print(\"benign only\")\n",
        "print(best_params)\n",
        "print(score)\n",
        "print(classification_report(raw_test_labels, bs, digits=4))"
      ]
    },
    {
      "cell_type": "code",
      "execution_count": null,
      "metadata": {
        "id": "ZdfI45oD4mlg"
      },
      "outputs": [],
      "source": []
    },
    {
      "cell_type": "code",
      "execution_count": null,
      "metadata": {
        "id": "WSNV8IRT4mlg"
      },
      "outputs": [],
      "source": []
    },
    {
      "cell_type": "code",
      "execution_count": 57,
      "metadata": {
        "id": "yi8SO3tL4mlg"
      },
      "outputs": [],
      "source": [
        "##  IF  Emb"
      ]
    },
    {
      "cell_type": "code",
      "execution_count": 58,
      "metadata": {
        "id": "9D0m4vb04mlg",
        "outputId": "bd5a55e6-ac70-4943-9b28-92474b5fb9e9"
      },
      "outputs": [
        {
          "name": "stderr",
          "output_type": "stream",
          "text": [
            "  0%|          | 0/24 [00:00<?, ?it/s]"
          ]
        },
        {
          "name": "stderr",
          "output_type": "stream",
          "text": [
            "100%|██████████| 24/24 [01:15<00:00,  3.13s/it]\n"
          ]
        },
        {
          "name": "stdout",
          "output_type": "stream",
          "text": [
            "{'n_estimators': 20, 'con': 0.01}\n",
            "0.8751162777785272\n",
            "              precision    recall  f1-score   support\n",
            "\n",
            "           0     0.9901    0.9900    0.9900    137714\n",
            "           1     0.7585    0.7619    0.7602      5704\n",
            "\n",
            "    accuracy                         0.9809    143418\n",
            "   macro avg     0.8743    0.8759    0.8751    143418\n",
            "weighted avg     0.9809    0.9809    0.9809    143418\n",
            "\n"
          ]
        }
      ],
      "source": [
        "from sklearn.ensemble import IsolationForest\n",
        "n_est = [20, 50, 100, 150]\n",
        "cont = [0.001, 0.01, 0.04, 0.05, 0.1, 0.2]\n",
        "params = list(itertools.product(n_est, cont))\n",
        "score = -1\n",
        "bs = None\n",
        "\n",
        "for n_est, con in tqdm(params):\n",
        "    clf_if = IsolationForest(n_estimators=n_est, contamination=con)\n",
        "    clf_if.fit(benign_train_samples)\n",
        "    y_pred = clf_if.predict(test_samples)\n",
        "    test_pred = list(map(lambda x : 0 if x == 1 else 1, y_pred))\n",
        "\n",
        "    f1 = f1_score(test_labels, test_pred, average='macro')\n",
        "\n",
        "    if f1 > score:\n",
        "        score = f1\n",
        "        best_params = {'n_estimators': n_est,\n",
        "                       \"con\": con\n",
        "                }\n",
        "        bs = test_pred\n",
        "    del clf_if\n",
        "    gc.collect()\n",
        "\n",
        "\n",
        "print(best_params)\n",
        "print(score)\n",
        "print(classification_report(test_labels, bs, digits=4))"
      ]
    },
    {
      "cell_type": "code",
      "execution_count": 59,
      "metadata": {
        "id": "NCj-3u4t4mlg",
        "outputId": "5f6b1720-9662-4704-ba96-dd57ee32a900"
      },
      "outputs": [
        {
          "name": "stderr",
          "output_type": "stream",
          "text": [
            "100%|██████████| 24/24 [01:18<00:00,  3.28s/it]\n"
          ]
        },
        {
          "name": "stdout",
          "output_type": "stream",
          "text": [
            "{'n_estimators': 50, 'con': 0.05}\n",
            "0.9264385476143018\n",
            "              precision    recall  f1-score   support\n",
            "\n",
            "           0     1.0000    0.9865    0.9932    137714\n",
            "           1     0.7539    1.0000    0.8597      5704\n",
            "\n",
            "    accuracy                         0.9870    143418\n",
            "   macro avg     0.8769    0.9932    0.9264    143418\n",
            "weighted avg     0.9902    0.9870    0.9879    143418\n",
            "\n"
          ]
        }
      ],
      "source": [
        "from sklearn.ensemble import IsolationForest\n",
        "\n",
        "n_est = [20, 50, 100, 150]\n",
        "cont = [0.001, 0.01, 0.04, 0.05, 0.1, 0.2]\n",
        "params = list(itertools.product(n_est, cont))\n",
        "score = -1\n",
        "bs = None\n",
        "\n",
        "for n_est, con in tqdm(params):\n",
        "    clf_if = IsolationForest(n_estimators=n_est, contamination=con)\n",
        "    clf_if.fit(normal_train_samples)\n",
        "    y_pred = clf_if.predict(test_samples)\n",
        "    test_pred = list(map(lambda x : 0 if x == 1 else 1, y_pred))\n",
        "\n",
        "    f1 = f1_score(test_labels, test_pred, average='macro')\n",
        "\n",
        "    if f1 > score:\n",
        "        score = f1\n",
        "        best_params = {'n_estimators': n_est,\n",
        "                       \"con\": con\n",
        "                }\n",
        "        bs = test_pred\n",
        "    del clf_if\n",
        "    gc.collect()\n",
        "\n",
        "\n",
        "print(best_params)\n",
        "print(score)\n",
        "print(classification_report(test_labels, bs, digits=4))"
      ]
    },
    {
      "cell_type": "code",
      "execution_count": 60,
      "metadata": {
        "id": "iOIn_Kr44mlg"
      },
      "outputs": [],
      "source": [
        "##  IF  Raw"
      ]
    },
    {
      "cell_type": "code",
      "execution_count": 37,
      "metadata": {
        "id": "E_60yAo34mlg",
        "outputId": "354e56cd-ee22-4538-ba6f-43c1d67eb648"
      },
      "outputs": [
        {
          "name": "stderr",
          "output_type": "stream",
          "text": [
            "100%|██████████| 24/24 [00:24<00:00,  1.04s/it]"
          ]
        },
        {
          "name": "stdout",
          "output_type": "stream",
          "text": [
            "{'n_estimators': 20, 'con': 0.1}\n",
            "0.6790403287090715\n",
            "              precision    recall  f1-score   support\n",
            "\n",
            "           0     0.9923    0.9081    0.9483     68857\n",
            "           1     0.2721    0.8296    0.4098      2852\n",
            "\n",
            "    accuracy                         0.9049     71709\n",
            "   macro avg     0.6322    0.8688    0.6790     71709\n",
            "weighted avg     0.9636    0.9049    0.9269     71709\n",
            "\n"
          ]
        },
        {
          "name": "stderr",
          "output_type": "stream",
          "text": [
            "\n"
          ]
        }
      ],
      "source": [
        "from sklearn.ensemble import IsolationForest\n",
        "\n",
        "n_est = [20, 50, 100, 150]\n",
        "cont = [0.001, 0.01, 0.04, 0.05, 0.1, 0.2]\n",
        "params = list(itertools.product(n_est, cont))\n",
        "score = -1\n",
        "bs = None\n",
        "\n",
        "for n_est, con in tqdm(params):\n",
        "    clf_if = IsolationForest(n_estimators=n_est, contamination=con)\n",
        "    clf_if.fit(raw_benign_train_samples.to_numpy())\n",
        "   \n",
        "    y_pred = clf_if.predict(raw_test_samples.to_numpy())\n",
        "    test_pred = list(map(lambda x : 0 if x == 1 else 1, y_pred))\n",
        "\n",
        "    f1 = f1_score(raw_test_labels, test_pred, average='macro')\n",
        "\n",
        "    if f1 > score:\n",
        "        score = f1\n",
        "        best_params = {'n_estimators': n_est,\n",
        "                        \"con\": con\n",
        "                }\n",
        "        bs = test_pred\n",
        "    del clf_if\n",
        "    gc.collect()\n",
        "\n",
        "  \n",
        "\n",
        "print(best_params)\n",
        "print(score)\n",
        "print(classification_report(raw_test_labels, bs, digits=4))"
      ]
    },
    {
      "cell_type": "code",
      "execution_count": 62,
      "metadata": {
        "id": "5xNKBA7X4mlh",
        "outputId": "cd0ee1c5-5394-4e2b-efde-1f58bf922282"
      },
      "outputs": [
        {
          "name": "stderr",
          "output_type": "stream",
          "text": [
            "100%|██████████| 24/24 [00:24<00:00,  1.00s/it]"
          ]
        },
        {
          "name": "stdout",
          "output_type": "stream",
          "text": [
            "benign only\n",
            "{'n_estimators': 50}\n",
            "0.6661127579055507\n",
            "              precision    recall  f1-score   support\n",
            "\n",
            "           0     0.9853    0.9231    0.9532     68857\n",
            "           1     0.2646    0.6680    0.3790      2852\n",
            "\n",
            "    accuracy                         0.9130     71709\n",
            "   macro avg     0.6250    0.7955    0.6661     71709\n",
            "weighted avg     0.9567    0.9130    0.9304     71709\n",
            "\n"
          ]
        },
        {
          "name": "stderr",
          "output_type": "stream",
          "text": [
            "\n"
          ]
        }
      ],
      "source": [
        "n_est = [20, 50, 100, 150]\n",
        "cont = [0.001, 0.01, 0.04, 0.05, 0.1, 0.2]\n",
        "params = list(itertools.product(n_est, cont))\n",
        "score = -1\n",
        "bs = None\n",
        "\n",
        "for n_est, con in tqdm(params):\n",
        "    clf_if = IsolationForest(n_estimators=n_est, contamination=con)\n",
        "    clf_if.fit(raw_normal_train_samples.to_numpy())\n",
        "\n",
        "    y_pred = clf_if.predict(raw_test_samples.to_numpy())\n",
        "    test_pred = list(map(lambda x : 0 if x == 1 else 1, y_pred))\n",
        "\n",
        "    f1 = f1_score(raw_test_labels, test_pred, average='macro')\n",
        "\n",
        "    if f1 > score:\n",
        "        score = f1\n",
        "        best_params = {'n_estimators': n_est\n",
        "                }\n",
        "        bs = test_pred\n",
        "    del clf_if\n",
        "    gc.collect()\n",
        "\n",
        "        \n",
        "\n",
        "print(\"benign only\")\n",
        "print(best_params)\n",
        "print(score)\n",
        "print(classification_report(raw_test_labels, bs, digits=4))"
      ]
    },
    {
      "cell_type": "code",
      "execution_count": null,
      "metadata": {},
      "outputs": [],
      "source": [
        "# LOF Emb"
      ]
    },
    {
      "cell_type": "code",
      "execution_count": null,
      "metadata": {},
      "outputs": [
        {
          "name": "stderr",
          "output_type": "stream",
          "text": [
            "  0%|          | 0/24 [00:00<?, ?it/s]"
          ]
        }
      ],
      "source": [
        "from pyod.models.lof import LOF\n",
        "n_est = [20, 50, 100, 150]\n",
        "cont = [0.001, 0.01, 0.04, 0.05, 0.1, 0.2]\n",
        "params = list(itertools.product(n_est, cont))\n",
        "score = -1\n",
        "bs = None\n",
        "\n",
        "for n_est, con in tqdm(params):\n",
        "    clf_if = LOF(n_neighbors=n_est, contamination=con)\n",
        "    clf_if.fit(benign_train_samples)\n",
        "    y_pred = clf_if.predict(test_samples)\n",
        "    test_pred = list(map(lambda x: 0 if x == 1 else 1, y_pred))\n",
        "\n",
        "    f1 = f1_score(test_labels, test_pred, average='macro')\n",
        "\n",
        "    if f1 > score:\n",
        "        score = f1\n",
        "        best_params = {'n_estimators': n_est,\n",
        "                       \"con\": con\n",
        "                       }\n",
        "        bs = test_pred\n",
        "    del clf_if\n",
        "    gc.collect()\n",
        "\n",
        "\n",
        "print(best_params)\n",
        "print(score)\n",
        "print(classification_report(test_labels, bs, digits=4))"
      ]
    },
    {
      "cell_type": "code",
      "execution_count": null,
      "metadata": {},
      "outputs": [],
      "source": [
        "#kNN Emb"
      ]
    },
    {
      "cell_type": "code",
      "execution_count": null,
      "metadata": {},
      "outputs": [
        {
          "name": "stderr",
          "output_type": "stream",
          "text": [
            "  0%|          | 0/30 [00:00<?, ?it/s]"
          ]
        }
      ],
      "source": [
        "from pyod.models.knn import KNN\n",
        "n_est = [1,2,3,4,5]\n",
        "cont = [0.001, 0.01, 0.04, 0.05, 0.1, 0.2]\n",
        "params = list(itertools.product(n_est, cont))\n",
        "score = -1\n",
        "bs = None\n",
        "\n",
        "for n_est, con in tqdm(params):\n",
        "    clf_if = KNN(method=\"mean\", contamination=con, n_neighbors=n_est)\n",
        "    clf_if.fit(benign_train_samples)\n",
        "    y_pred = clf_if.predict(test_samples)\n",
        "    test_pred = list(map(lambda x: 0 if x == 1 else 1, y_pred))\n",
        "\n",
        "    f1 = f1_score(test_labels, test_pred, average='macro')\n",
        "\n",
        "    if f1 > score:\n",
        "        score = f1\n",
        "        best_params = {'n_estimators': n_est,\n",
        "                       \"con\": con\n",
        "                       }\n",
        "        bs = test_pred\n",
        "    del clf_if\n",
        "    gc.collect()\n",
        "\n",
        "\n",
        "print(best_params)\n",
        "print(score)\n",
        "print(classification_report(test_labels, bs, digits=4))"
      ]
    },
    {
      "cell_type": "code",
      "execution_count": 1,
      "metadata": {},
      "outputs": [],
      "source": [
        "# EllipticEnvelope Emb"
      ]
    },
    {
      "cell_type": "code",
      "execution_count": 41,
      "metadata": {},
      "outputs": [
        {
          "name": "stderr",
          "output_type": "stream",
          "text": [
            "  0%|          | 0/24 [03:27<?, ?it/s]\n"
          ]
        },
        {
          "ename": "KeyboardInterrupt",
          "evalue": "",
          "output_type": "error",
          "traceback": [
            "\u001b[0;31m---------------------------------------------------------------------------\u001b[0m",
            "\u001b[0;31mKeyboardInterrupt\u001b[0m                         Traceback (most recent call last)",
            "Cell \u001b[0;32mIn[41], line 10\u001b[0m\n\u001b[1;32m      8\u001b[0m \u001b[38;5;28;01mfor\u001b[39;00m n_est, con \u001b[38;5;129;01min\u001b[39;00m tqdm(params):\n\u001b[1;32m      9\u001b[0m     clf_if \u001b[38;5;241m=\u001b[39m EllipticEnvelope(contamination\u001b[38;5;241m=\u001b[39mcon)\n\u001b[0;32m---> 10\u001b[0m     \u001b[43mclf_if\u001b[49m\u001b[38;5;241;43m.\u001b[39;49m\u001b[43mfit\u001b[49m\u001b[43m(\u001b[49m\u001b[43mbenign_train_samples\u001b[49m\u001b[43m)\u001b[49m\n\u001b[1;32m     11\u001b[0m     y_pred \u001b[38;5;241m=\u001b[39m clf_if\u001b[38;5;241m.\u001b[39mpredict(test_samples)\n\u001b[1;32m     12\u001b[0m     test_pred \u001b[38;5;241m=\u001b[39m \u001b[38;5;28mlist\u001b[39m(\u001b[38;5;28mmap\u001b[39m(\u001b[38;5;28;01mlambda\u001b[39;00m x: \u001b[38;5;241m0\u001b[39m \u001b[38;5;28;01mif\u001b[39;00m x \u001b[38;5;241m==\u001b[39m \u001b[38;5;241m1\u001b[39m \u001b[38;5;28;01melse\u001b[39;00m \u001b[38;5;241m1\u001b[39m, y_pred))\n",
            "File \u001b[0;32m~/miniforge3/envs/py3.9/lib/python3.9/site-packages/sklearn/base.py:1473\u001b[0m, in \u001b[0;36m_fit_context.<locals>.decorator.<locals>.wrapper\u001b[0;34m(estimator, *args, **kwargs)\u001b[0m\n\u001b[1;32m   1466\u001b[0m     estimator\u001b[38;5;241m.\u001b[39m_validate_params()\n\u001b[1;32m   1468\u001b[0m \u001b[38;5;28;01mwith\u001b[39;00m config_context(\n\u001b[1;32m   1469\u001b[0m     skip_parameter_validation\u001b[38;5;241m=\u001b[39m(\n\u001b[1;32m   1470\u001b[0m         prefer_skip_nested_validation \u001b[38;5;129;01mor\u001b[39;00m global_skip_validation\n\u001b[1;32m   1471\u001b[0m     )\n\u001b[1;32m   1472\u001b[0m ):\n\u001b[0;32m-> 1473\u001b[0m     \u001b[38;5;28;01mreturn\u001b[39;00m \u001b[43mfit_method\u001b[49m\u001b[43m(\u001b[49m\u001b[43mestimator\u001b[49m\u001b[43m,\u001b[49m\u001b[43m \u001b[49m\u001b[38;5;241;43m*\u001b[39;49m\u001b[43margs\u001b[49m\u001b[43m,\u001b[49m\u001b[43m \u001b[49m\u001b[38;5;241;43m*\u001b[39;49m\u001b[38;5;241;43m*\u001b[39;49m\u001b[43mkwargs\u001b[49m\u001b[43m)\u001b[49m\n",
            "File \u001b[0;32m~/miniforge3/envs/py3.9/lib/python3.9/site-packages/sklearn/covariance/_elliptic_envelope.py:184\u001b[0m, in \u001b[0;36mEllipticEnvelope.fit\u001b[0;34m(self, X, y)\u001b[0m\n\u001b[1;32m    167\u001b[0m \u001b[38;5;129m@_fit_context\u001b[39m(prefer_skip_nested_validation\u001b[38;5;241m=\u001b[39m\u001b[38;5;28;01mTrue\u001b[39;00m)\n\u001b[1;32m    168\u001b[0m \u001b[38;5;28;01mdef\u001b[39;00m\u001b[38;5;250m \u001b[39m\u001b[38;5;21mfit\u001b[39m(\u001b[38;5;28mself\u001b[39m, X, y\u001b[38;5;241m=\u001b[39m\u001b[38;5;28;01mNone\u001b[39;00m):\n\u001b[1;32m    169\u001b[0m \u001b[38;5;250m    \u001b[39m\u001b[38;5;124;03m\"\"\"Fit the EllipticEnvelope model.\u001b[39;00m\n\u001b[1;32m    170\u001b[0m \n\u001b[1;32m    171\u001b[0m \u001b[38;5;124;03m    Parameters\u001b[39;00m\n\u001b[0;32m   (...)\u001b[0m\n\u001b[1;32m    182\u001b[0m \u001b[38;5;124;03m        Returns the instance itself.\u001b[39;00m\n\u001b[1;32m    183\u001b[0m \u001b[38;5;124;03m    \"\"\"\u001b[39;00m\n\u001b[0;32m--> 184\u001b[0m     \u001b[38;5;28;43msuper\u001b[39;49m\u001b[43m(\u001b[49m\u001b[43m)\u001b[49m\u001b[38;5;241;43m.\u001b[39;49m\u001b[43mfit\u001b[49m\u001b[43m(\u001b[49m\u001b[43mX\u001b[49m\u001b[43m)\u001b[49m\n\u001b[1;32m    185\u001b[0m     \u001b[38;5;28mself\u001b[39m\u001b[38;5;241m.\u001b[39moffset_ \u001b[38;5;241m=\u001b[39m np\u001b[38;5;241m.\u001b[39mpercentile(\u001b[38;5;241m-\u001b[39m\u001b[38;5;28mself\u001b[39m\u001b[38;5;241m.\u001b[39mdist_, \u001b[38;5;241m100.0\u001b[39m \u001b[38;5;241m*\u001b[39m \u001b[38;5;28mself\u001b[39m\u001b[38;5;241m.\u001b[39mcontamination)\n\u001b[1;32m    186\u001b[0m     \u001b[38;5;28;01mreturn\u001b[39;00m \u001b[38;5;28mself\u001b[39m\n",
            "File \u001b[0;32m~/miniforge3/envs/py3.9/lib/python3.9/site-packages/sklearn/base.py:1473\u001b[0m, in \u001b[0;36m_fit_context.<locals>.decorator.<locals>.wrapper\u001b[0;34m(estimator, *args, **kwargs)\u001b[0m\n\u001b[1;32m   1466\u001b[0m     estimator\u001b[38;5;241m.\u001b[39m_validate_params()\n\u001b[1;32m   1468\u001b[0m \u001b[38;5;28;01mwith\u001b[39;00m config_context(\n\u001b[1;32m   1469\u001b[0m     skip_parameter_validation\u001b[38;5;241m=\u001b[39m(\n\u001b[1;32m   1470\u001b[0m         prefer_skip_nested_validation \u001b[38;5;129;01mor\u001b[39;00m global_skip_validation\n\u001b[1;32m   1471\u001b[0m     )\n\u001b[1;32m   1472\u001b[0m ):\n\u001b[0;32m-> 1473\u001b[0m     \u001b[38;5;28;01mreturn\u001b[39;00m \u001b[43mfit_method\u001b[49m\u001b[43m(\u001b[49m\u001b[43mestimator\u001b[49m\u001b[43m,\u001b[49m\u001b[43m \u001b[49m\u001b[38;5;241;43m*\u001b[39;49m\u001b[43margs\u001b[49m\u001b[43m,\u001b[49m\u001b[43m \u001b[49m\u001b[38;5;241;43m*\u001b[39;49m\u001b[38;5;241;43m*\u001b[39;49m\u001b[43mkwargs\u001b[49m\u001b[43m)\u001b[49m\n",
            "File \u001b[0;32m~/miniforge3/envs/py3.9/lib/python3.9/site-packages/sklearn/covariance/_robust_covariance.py:752\u001b[0m, in \u001b[0;36mMinCovDet.fit\u001b[0;34m(self, X, y)\u001b[0m\n\u001b[1;32m    748\u001b[0m     warnings\u001b[38;5;241m.\u001b[39mwarn(\n\u001b[1;32m    749\u001b[0m         \u001b[38;5;124m\"\u001b[39m\u001b[38;5;124mThe covariance matrix associated to your dataset is not full rank\u001b[39m\u001b[38;5;124m\"\u001b[39m\n\u001b[1;32m    750\u001b[0m     )\n\u001b[1;32m    751\u001b[0m \u001b[38;5;66;03m# compute and store raw estimates\u001b[39;00m\n\u001b[0;32m--> 752\u001b[0m raw_location, raw_covariance, raw_support, raw_dist \u001b[38;5;241m=\u001b[39m \u001b[43mfast_mcd\u001b[49m\u001b[43m(\u001b[49m\n\u001b[1;32m    753\u001b[0m \u001b[43m    \u001b[49m\u001b[43mX\u001b[49m\u001b[43m,\u001b[49m\n\u001b[1;32m    754\u001b[0m \u001b[43m    \u001b[49m\u001b[43msupport_fraction\u001b[49m\u001b[38;5;241;43m=\u001b[39;49m\u001b[38;5;28;43mself\u001b[39;49m\u001b[38;5;241;43m.\u001b[39;49m\u001b[43msupport_fraction\u001b[49m\u001b[43m,\u001b[49m\n\u001b[1;32m    755\u001b[0m \u001b[43m    \u001b[49m\u001b[43mcov_computation_method\u001b[49m\u001b[38;5;241;43m=\u001b[39;49m\u001b[38;5;28;43mself\u001b[39;49m\u001b[38;5;241;43m.\u001b[39;49m\u001b[43m_nonrobust_covariance\u001b[49m\u001b[43m,\u001b[49m\n\u001b[1;32m    756\u001b[0m \u001b[43m    \u001b[49m\u001b[43mrandom_state\u001b[49m\u001b[38;5;241;43m=\u001b[39;49m\u001b[43mrandom_state\u001b[49m\u001b[43m,\u001b[49m\n\u001b[1;32m    757\u001b[0m \u001b[43m\u001b[49m\u001b[43m)\u001b[49m\n\u001b[1;32m    758\u001b[0m \u001b[38;5;28;01mif\u001b[39;00m \u001b[38;5;28mself\u001b[39m\u001b[38;5;241m.\u001b[39massume_centered:\n\u001b[1;32m    759\u001b[0m     raw_location \u001b[38;5;241m=\u001b[39m np\u001b[38;5;241m.\u001b[39mzeros(n_features)\n",
            "File \u001b[0;32m~/miniforge3/envs/py3.9/lib/python3.9/site-packages/sklearn/covariance/_robust_covariance.py:496\u001b[0m, in \u001b[0;36mfast_mcd\u001b[0;34m(X, support_fraction, cov_computation_method, random_state)\u001b[0m\n\u001b[1;32m    494\u001b[0m high_bound \u001b[38;5;241m=\u001b[39m low_bound \u001b[38;5;241m+\u001b[39m n_samples_subsets\n\u001b[1;32m    495\u001b[0m current_subset \u001b[38;5;241m=\u001b[39m X[samples_shuffle[low_bound:high_bound]]\n\u001b[0;32m--> 496\u001b[0m best_locations_sub, best_covariances_sub, _, _ \u001b[38;5;241m=\u001b[39m \u001b[43mselect_candidates\u001b[49m\u001b[43m(\u001b[49m\n\u001b[1;32m    497\u001b[0m \u001b[43m    \u001b[49m\u001b[43mcurrent_subset\u001b[49m\u001b[43m,\u001b[49m\n\u001b[1;32m    498\u001b[0m \u001b[43m    \u001b[49m\u001b[43mh_subset\u001b[49m\u001b[43m,\u001b[49m\n\u001b[1;32m    499\u001b[0m \u001b[43m    \u001b[49m\u001b[43mn_trials\u001b[49m\u001b[43m,\u001b[49m\n\u001b[1;32m    500\u001b[0m \u001b[43m    \u001b[49m\u001b[43mselect\u001b[49m\u001b[38;5;241;43m=\u001b[39;49m\u001b[43mn_best_sub\u001b[49m\u001b[43m,\u001b[49m\n\u001b[1;32m    501\u001b[0m \u001b[43m    \u001b[49m\u001b[43mn_iter\u001b[49m\u001b[38;5;241;43m=\u001b[39;49m\u001b[38;5;241;43m2\u001b[39;49m\u001b[43m,\u001b[49m\n\u001b[1;32m    502\u001b[0m \u001b[43m    \u001b[49m\u001b[43mcov_computation_method\u001b[49m\u001b[38;5;241;43m=\u001b[39;49m\u001b[43mcov_computation_method\u001b[49m\u001b[43m,\u001b[49m\n\u001b[1;32m    503\u001b[0m \u001b[43m    \u001b[49m\u001b[43mrandom_state\u001b[49m\u001b[38;5;241;43m=\u001b[39;49m\u001b[43mrandom_state\u001b[49m\u001b[43m,\u001b[49m\n\u001b[1;32m    504\u001b[0m \u001b[43m\u001b[49m\u001b[43m)\u001b[49m\n\u001b[1;32m    505\u001b[0m subset_slice \u001b[38;5;241m=\u001b[39m np\u001b[38;5;241m.\u001b[39marange(i \u001b[38;5;241m*\u001b[39m n_best_sub, (i \u001b[38;5;241m+\u001b[39m \u001b[38;5;241m1\u001b[39m) \u001b[38;5;241m*\u001b[39m n_best_sub)\n\u001b[1;32m    506\u001b[0m all_best_locations[subset_slice] \u001b[38;5;241m=\u001b[39m best_locations_sub\n",
            "File \u001b[0;32m~/miniforge3/envs/py3.9/lib/python3.9/site-packages/sklearn/covariance/_robust_covariance.py:321\u001b[0m, in \u001b[0;36mselect_candidates\u001b[0;34m(X, n_support, n_trials, select, n_iter, verbose, cov_computation_method, random_state)\u001b[0m\n\u001b[1;32m    317\u001b[0m \u001b[38;5;28;01mif\u001b[39;00m \u001b[38;5;129;01mnot\u001b[39;00m run_from_estimates:\n\u001b[1;32m    318\u001b[0m     \u001b[38;5;66;03m# perform `n_trials` computations from random initial supports\u001b[39;00m\n\u001b[1;32m    319\u001b[0m     \u001b[38;5;28;01mfor\u001b[39;00m j \u001b[38;5;129;01min\u001b[39;00m \u001b[38;5;28mrange\u001b[39m(n_trials):\n\u001b[1;32m    320\u001b[0m         all_estimates\u001b[38;5;241m.\u001b[39mappend(\n\u001b[0;32m--> 321\u001b[0m             \u001b[43m_c_step\u001b[49m\u001b[43m(\u001b[49m\n\u001b[1;32m    322\u001b[0m \u001b[43m                \u001b[49m\u001b[43mX\u001b[49m\u001b[43m,\u001b[49m\n\u001b[1;32m    323\u001b[0m \u001b[43m                \u001b[49m\u001b[43mn_support\u001b[49m\u001b[43m,\u001b[49m\n\u001b[1;32m    324\u001b[0m \u001b[43m                \u001b[49m\u001b[43mremaining_iterations\u001b[49m\u001b[38;5;241;43m=\u001b[39;49m\u001b[43mn_iter\u001b[49m\u001b[43m,\u001b[49m\n\u001b[1;32m    325\u001b[0m \u001b[43m                \u001b[49m\u001b[43mverbose\u001b[49m\u001b[38;5;241;43m=\u001b[39;49m\u001b[43mverbose\u001b[49m\u001b[43m,\u001b[49m\n\u001b[1;32m    326\u001b[0m \u001b[43m                \u001b[49m\u001b[43mcov_computation_method\u001b[49m\u001b[38;5;241;43m=\u001b[39;49m\u001b[43mcov_computation_method\u001b[49m\u001b[43m,\u001b[49m\n\u001b[1;32m    327\u001b[0m \u001b[43m                \u001b[49m\u001b[43mrandom_state\u001b[49m\u001b[38;5;241;43m=\u001b[39;49m\u001b[43mrandom_state\u001b[49m\u001b[43m,\u001b[49m\n\u001b[1;32m    328\u001b[0m \u001b[43m            \u001b[49m\u001b[43m)\u001b[49m\n\u001b[1;32m    329\u001b[0m         )\n\u001b[1;32m    330\u001b[0m \u001b[38;5;28;01melse\u001b[39;00m:\n\u001b[1;32m    331\u001b[0m     \u001b[38;5;66;03m# perform computations from every given initial estimates\u001b[39;00m\n\u001b[1;32m    332\u001b[0m     \u001b[38;5;28;01mfor\u001b[39;00m j \u001b[38;5;129;01min\u001b[39;00m \u001b[38;5;28mrange\u001b[39m(n_trials):\n",
            "File \u001b[0;32m~/miniforge3/envs/py3.9/lib/python3.9/site-packages/sklearn/covariance/_robust_covariance.py:144\u001b[0m, in \u001b[0;36m_c_step\u001b[0;34m(X, n_support, random_state, remaining_iterations, initial_estimates, verbose, cov_computation_method)\u001b[0m\n\u001b[1;32m    141\u001b[0m covariance \u001b[38;5;241m=\u001b[39m cov_computation_method(X_support)\n\u001b[1;32m    143\u001b[0m \u001b[38;5;66;03m# Iterative procedure for Minimum Covariance Determinant computation\u001b[39;00m\n\u001b[0;32m--> 144\u001b[0m det \u001b[38;5;241m=\u001b[39m \u001b[43mfast_logdet\u001b[49m\u001b[43m(\u001b[49m\u001b[43mcovariance\u001b[49m\u001b[43m)\u001b[49m\n\u001b[1;32m    145\u001b[0m \u001b[38;5;66;03m# If the data already has singular covariance, calculate the precision,\u001b[39;00m\n\u001b[1;32m    146\u001b[0m \u001b[38;5;66;03m# as the loop below will not be entered.\u001b[39;00m\n\u001b[1;32m    147\u001b[0m \u001b[38;5;28;01mif\u001b[39;00m np\u001b[38;5;241m.\u001b[39misinf(det):\n",
            "File \u001b[0;32m~/miniforge3/envs/py3.9/lib/python3.9/site-packages/sklearn/utils/extmath.py:127\u001b[0m, in \u001b[0;36mfast_logdet\u001b[0;34m(A)\u001b[0m\n\u001b[1;32m     94\u001b[0m \u001b[38;5;250m\u001b[39m\u001b[38;5;124;03m\"\"\"Compute logarithm of determinant of a square matrix.\u001b[39;00m\n\u001b[1;32m     95\u001b[0m \n\u001b[1;32m     96\u001b[0m \u001b[38;5;124;03mThe (natural) logarithm of the determinant of a square matrix\u001b[39;00m\n\u001b[0;32m   (...)\u001b[0m\n\u001b[1;32m    124\u001b[0m \u001b[38;5;124;03mnp.float64(3.6375861597263857)\u001b[39;00m\n\u001b[1;32m    125\u001b[0m \u001b[38;5;124;03m\"\"\"\u001b[39;00m\n\u001b[1;32m    126\u001b[0m xp, _ \u001b[38;5;241m=\u001b[39m get_namespace(A)\n\u001b[0;32m--> 127\u001b[0m sign, ld \u001b[38;5;241m=\u001b[39m \u001b[43mxp\u001b[49m\u001b[38;5;241;43m.\u001b[39;49m\u001b[43mlinalg\u001b[49m\u001b[38;5;241;43m.\u001b[39;49m\u001b[43mslogdet\u001b[49m\u001b[43m(\u001b[49m\u001b[43mA\u001b[49m\u001b[43m)\u001b[49m\n\u001b[1;32m    128\u001b[0m \u001b[38;5;28;01mif\u001b[39;00m \u001b[38;5;129;01mnot\u001b[39;00m sign \u001b[38;5;241m>\u001b[39m \u001b[38;5;241m0\u001b[39m:\n\u001b[1;32m    129\u001b[0m     \u001b[38;5;28;01mreturn\u001b[39;00m \u001b[38;5;241m-\u001b[39mxp\u001b[38;5;241m.\u001b[39minf\n",
            "File \u001b[0;32m~/miniforge3/envs/py3.9/lib/python3.9/site-packages/numpy/linalg/linalg.py:2120\u001b[0m, in \u001b[0;36mslogdet\u001b[0;34m(a)\u001b[0m\n\u001b[1;32m   2118\u001b[0m real_t \u001b[38;5;241m=\u001b[39m _realType(result_t)\n\u001b[1;32m   2119\u001b[0m signature \u001b[38;5;241m=\u001b[39m \u001b[38;5;124m'\u001b[39m\u001b[38;5;124mD->Dd\u001b[39m\u001b[38;5;124m'\u001b[39m \u001b[38;5;28;01mif\u001b[39;00m isComplexType(t) \u001b[38;5;28;01melse\u001b[39;00m \u001b[38;5;124m'\u001b[39m\u001b[38;5;124md->dd\u001b[39m\u001b[38;5;124m'\u001b[39m\n\u001b[0;32m-> 2120\u001b[0m sign, logdet \u001b[38;5;241m=\u001b[39m \u001b[43m_umath_linalg\u001b[49m\u001b[38;5;241;43m.\u001b[39;49m\u001b[43mslogdet\u001b[49m\u001b[43m(\u001b[49m\u001b[43ma\u001b[49m\u001b[43m,\u001b[49m\u001b[43m \u001b[49m\u001b[43msignature\u001b[49m\u001b[38;5;241;43m=\u001b[39;49m\u001b[43msignature\u001b[49m\u001b[43m)\u001b[49m\n\u001b[1;32m   2121\u001b[0m sign \u001b[38;5;241m=\u001b[39m sign\u001b[38;5;241m.\u001b[39mastype(result_t, copy\u001b[38;5;241m=\u001b[39m\u001b[38;5;28;01mFalse\u001b[39;00m)\n\u001b[1;32m   2122\u001b[0m logdet \u001b[38;5;241m=\u001b[39m logdet\u001b[38;5;241m.\u001b[39mastype(real_t, copy\u001b[38;5;241m=\u001b[39m\u001b[38;5;28;01mFalse\u001b[39;00m)\n",
            "\u001b[0;31mKeyboardInterrupt\u001b[0m: "
          ]
        }
      ],
      "source": [
        "from sklearn.covariance import EllipticEnvelope\n",
        "n_est = [20, 50, 100, 150]\n",
        "cont = [0.001, 0.01, 0.04, 0.05, 0.1, 0.2]\n",
        "params = list(itertools.product(n_est, cont))\n",
        "score = -1\n",
        "bs = None\n",
        "\n",
        "for n_est, con in tqdm(params):\n",
        "    clf_if = EllipticEnvelope(contamination=con)\n",
        "    clf_if.fit(benign_train_samples)\n",
        "    y_pred = clf_if.predict(test_samples)\n",
        "    test_pred = list(map(lambda x: 0 if x == 1 else 1, y_pred))\n",
        "\n",
        "    f1 = f1_score(test_labels, test_pred, average='macro')\n",
        "\n",
        "    if f1 > score:\n",
        "        score = f1\n",
        "        best_params = {'n_estimators': n_est,\n",
        "                       \"con\": con\n",
        "                       }\n",
        "        bs = test_pred\n",
        "    del clf_if\n",
        "    gc.collect()\n",
        "\n",
        "\n",
        "print(best_params)\n",
        "print(score)\n",
        "print(classification_report(test_labels, bs, digits=4))"
      ]
    },
    {
      "cell_type": "code",
      "execution_count": null,
      "metadata": {},
      "outputs": [],
      "source": [
        "# Isolation Kernel Emb"
      ]
    },
    {
      "cell_type": "code",
      "execution_count": 45,
      "metadata": {},
      "outputs": [
        {
          "name": "stdout",
          "output_type": "stream",
          "text": [
            "{'n_estimators': 50, 'con': 0.01}\n",
            "0.03825055994420676\n",
            "              precision    recall  f1-score   support\n",
            "\n",
            "           0     0.0000    0.0000    0.0000    137714\n",
            "           1     0.0398    1.0000    0.0765      5704\n",
            "\n",
            "    accuracy                         0.0398    143418\n",
            "   macro avg     0.0199    0.5000    0.0383    143418\n",
            "weighted avg     0.0016    0.0398    0.0030    143418\n",
            "\n"
          ]
        },
        {
          "name": "stderr",
          "output_type": "stream",
          "text": [
            "/home/kienho/miniforge3/envs/py3.9/lib/python3.9/site-packages/sklearn/metrics/_classification.py:1531: UndefinedMetricWarning: Precision is ill-defined and being set to 0.0 in labels with no predicted samples. Use `zero_division` parameter to control this behavior.\n",
            "  _warn_prf(average, modifier, f\"{metric.capitalize()} is\", len(result))\n",
            "/home/kienho/miniforge3/envs/py3.9/lib/python3.9/site-packages/sklearn/metrics/_classification.py:1531: UndefinedMetricWarning: Precision is ill-defined and being set to 0.0 in labels with no predicted samples. Use `zero_division` parameter to control this behavior.\n",
            "  _warn_prf(average, modifier, f\"{metric.capitalize()} is\", len(result))\n",
            "/home/kienho/miniforge3/envs/py3.9/lib/python3.9/site-packages/sklearn/metrics/_classification.py:1531: UndefinedMetricWarning: Precision is ill-defined and being set to 0.0 in labels with no predicted samples. Use `zero_division` parameter to control this behavior.\n",
            "  _warn_prf(average, modifier, f\"{metric.capitalize()} is\", len(result))\n"
          ]
        }
      ],
      "source": [
        "from sklearn.cluster import KMeans\n",
        "n_est = [20, 50, 100, 150]\n",
        "score = -1\n",
        "bs = None\n",
        "\n",
        "for n_es in tqdm(n_est):\n",
        "    clf_if = KMeans(n_clusters=n_es,random_state=42)\n",
        "    clf_if.fit(benign_train_samples)\n",
        "    y_pred = clf_if.predict(test_samples)\n",
        "    test_pred = list(map(lambda x: 0 if x == 1 else 1, y_pred))\n",
        "\n",
        "    f1 = f1_score(test_labels, test_pred, average='macro')\n",
        "\n",
        "    if f1 > score:\n",
        "        score = f1\n",
        "        best_params = {'n_estimators': n_es,\n",
        "                       \"con\": con\n",
        "                       }\n",
        "        bs = test_pred\n",
        "    del clf_if\n",
        "    gc.collect()\n",
        "\n",
        "\n",
        "print(best_params)\n",
        "print(score)\n",
        "print(classification_report(test_labels, bs, digits=4))"
      ]
    },
    {
      "cell_type": "code",
      "execution_count": 44,
      "metadata": {},
      "outputs": [],
      "source": [
        "# COF emb"
      ]
    },
    {
      "cell_type": "code",
      "execution_count": 39,
      "metadata": {},
      "outputs": [
        {
          "name": "stderr",
          "output_type": "stream",
          "text": [
            "  0%|          | 0/24 [02:22<?, ?it/s]\n"
          ]
        },
        {
          "ename": "KeyboardInterrupt",
          "evalue": "",
          "output_type": "error",
          "traceback": [
            "\u001b[0;31m---------------------------------------------------------------------------\u001b[0m",
            "\u001b[0;31mKeyboardInterrupt\u001b[0m                         Traceback (most recent call last)",
            "Cell \u001b[0;32mIn[39], line 10\u001b[0m\n\u001b[1;32m      8\u001b[0m \u001b[38;5;28;01mfor\u001b[39;00m n_est, con \u001b[38;5;129;01min\u001b[39;00m tqdm(params):\n\u001b[1;32m      9\u001b[0m     clf_if \u001b[38;5;241m=\u001b[39m COF(contamination\u001b[38;5;241m=\u001b[39mcon,n_neighbors\u001b[38;5;241m=\u001b[39mn_est,method\u001b[38;5;241m=\u001b[39m\u001b[38;5;124m'\u001b[39m\u001b[38;5;124mmemory\u001b[39m\u001b[38;5;124m'\u001b[39m)\n\u001b[0;32m---> 10\u001b[0m     \u001b[43mclf_if\u001b[49m\u001b[38;5;241;43m.\u001b[39;49m\u001b[43mfit\u001b[49m\u001b[43m(\u001b[49m\u001b[43mbenign_train_samples\u001b[49m\u001b[43m)\u001b[49m\n\u001b[1;32m     11\u001b[0m     y_pred \u001b[38;5;241m=\u001b[39m clf_if\u001b[38;5;241m.\u001b[39mpredict(test_samples)\n\u001b[1;32m     12\u001b[0m     test_pred \u001b[38;5;241m=\u001b[39m \u001b[38;5;28mlist\u001b[39m(\u001b[38;5;28mmap\u001b[39m(\u001b[38;5;28;01mlambda\u001b[39;00m x: \u001b[38;5;241m0\u001b[39m \u001b[38;5;28;01mif\u001b[39;00m x \u001b[38;5;241m==\u001b[39m \u001b[38;5;241m1\u001b[39m \u001b[38;5;28;01melse\u001b[39;00m \u001b[38;5;241m1\u001b[39m, y_pred))\n",
            "File \u001b[0;32m~/miniforge3/envs/py3.9/lib/python3.9/site-packages/pyod/models/cof.py:120\u001b[0m, in \u001b[0;36mCOF.fit\u001b[0;34m(self, X, y)\u001b[0m\n\u001b[1;32m    116\u001b[0m     check_parameter(\u001b[38;5;28mself\u001b[39m\u001b[38;5;241m.\u001b[39mn_neighbors_, \u001b[38;5;241m1\u001b[39m, \u001b[38;5;28mself\u001b[39m\u001b[38;5;241m.\u001b[39mn_train_,\n\u001b[1;32m    117\u001b[0m                     include_left\u001b[38;5;241m=\u001b[39m\u001b[38;5;28;01mTrue\u001b[39;00m, include_right\u001b[38;5;241m=\u001b[39m\u001b[38;5;28;01mTrue\u001b[39;00m)\n\u001b[1;32m    119\u001b[0m \u001b[38;5;28mself\u001b[39m\u001b[38;5;241m.\u001b[39m_set_n_classes(y)\n\u001b[0;32m--> 120\u001b[0m \u001b[38;5;28mself\u001b[39m\u001b[38;5;241m.\u001b[39mdecision_scores_ \u001b[38;5;241m=\u001b[39m \u001b[38;5;28;43mself\u001b[39;49m\u001b[38;5;241;43m.\u001b[39;49m\u001b[43mdecision_function\u001b[49m\u001b[43m(\u001b[49m\u001b[43mX\u001b[49m\u001b[43m)\u001b[49m\n\u001b[1;32m    121\u001b[0m \u001b[38;5;28mself\u001b[39m\u001b[38;5;241m.\u001b[39m_process_decision_scores()\n\u001b[1;32m    123\u001b[0m \u001b[38;5;28;01mreturn\u001b[39;00m \u001b[38;5;28mself\u001b[39m\n",
            "File \u001b[0;32m~/miniforge3/envs/py3.9/lib/python3.9/site-packages/pyod/models/cof.py:145\u001b[0m, in \u001b[0;36mCOF.decision_function\u001b[0;34m(self, X)\u001b[0m\n\u001b[1;32m    143\u001b[0m     \u001b[38;5;28;01mreturn\u001b[39;00m \u001b[38;5;28mself\u001b[39m\u001b[38;5;241m.\u001b[39m_cof_fast(X)\n\u001b[1;32m    144\u001b[0m \u001b[38;5;28;01melif\u001b[39;00m \u001b[38;5;28mself\u001b[39m\u001b[38;5;241m.\u001b[39mmethod\u001b[38;5;241m.\u001b[39mlower() \u001b[38;5;241m==\u001b[39m \u001b[38;5;124m\"\u001b[39m\u001b[38;5;124mmemory\u001b[39m\u001b[38;5;124m\"\u001b[39m:\n\u001b[0;32m--> 145\u001b[0m     \u001b[38;5;28;01mreturn\u001b[39;00m \u001b[38;5;28;43mself\u001b[39;49m\u001b[38;5;241;43m.\u001b[39;49m\u001b[43m_cof_memory\u001b[49m\u001b[43m(\u001b[49m\u001b[43mX\u001b[49m\u001b[43m)\u001b[49m\n\u001b[1;32m    146\u001b[0m \u001b[38;5;28;01melse\u001b[39;00m:\n\u001b[1;32m    147\u001b[0m     \u001b[38;5;28;01mraise\u001b[39;00m \u001b[38;5;167;01mValueError\u001b[39;00m(\n\u001b[1;32m    148\u001b[0m         \u001b[38;5;124m\"\u001b[39m\u001b[38;5;124mmethod should be set to either \u001b[39m\u001b[38;5;130;01m\\'\u001b[39;00m\u001b[38;5;124mfast\u001b[39m\u001b[38;5;130;01m\\'\u001b[39;00m\u001b[38;5;124m or \u001b[39m\u001b[38;5;130;01m\\'\u001b[39;00m\u001b[38;5;124mmemory\u001b[39m\u001b[38;5;130;01m\\'\u001b[39;00m\u001b[38;5;124m. Got \u001b[39m\u001b[38;5;132;01m%s\u001b[39;00m\u001b[38;5;124m\"\u001b[39m \u001b[38;5;241m%\u001b[39m \u001b[38;5;28mself\u001b[39m\u001b[38;5;241m.\u001b[39mmethod)\n",
            "File \u001b[0;32m~/miniforge3/envs/py3.9/lib/python3.9/site-packages/pyod/models/cof.py:174\u001b[0m, in \u001b[0;36mCOF._cof_memory\u001b[0;34m(self, X)\u001b[0m\n\u001b[1;32m    169\u001b[0m cost_desc \u001b[38;5;241m=\u001b[39m np\u001b[38;5;241m.\u001b[39mzeros((\u001b[38;5;28mself\u001b[39m\u001b[38;5;241m.\u001b[39mn_neighbors_))\n\u001b[1;32m    170\u001b[0m \u001b[38;5;28;01mfor\u001b[39;00m j \u001b[38;5;129;01min\u001b[39;00m \u001b[38;5;28mrange\u001b[39m(\u001b[38;5;28mself\u001b[39m\u001b[38;5;241m.\u001b[39mn_neighbors_):\n\u001b[1;32m    171\u001b[0m     \u001b[38;5;66;03m# cost_desc.append(\u001b[39;00m\n\u001b[1;32m    172\u001b[0m     \u001b[38;5;66;03m#    np.min(dist_matrix[sbn_path[j + 1]][sbn_path][:j + 1]))\u001b[39;00m\n\u001b[1;32m    173\u001b[0m     cost_desc[j] \u001b[38;5;241m=\u001b[39m np\u001b[38;5;241m.\u001b[39mmin(\n\u001b[0;32m--> 174\u001b[0m         \u001b[43mminkowski_distance\u001b[49m\u001b[43m(\u001b[49m\u001b[43mX\u001b[49m\u001b[43m[\u001b[49m\u001b[43msbn_path\u001b[49m\u001b[43m[\u001b[49m\u001b[43mj\u001b[49m\u001b[43m \u001b[49m\u001b[38;5;241;43m+\u001b[39;49m\u001b[43m \u001b[49m\u001b[38;5;241;43m1\u001b[39;49m\u001b[43m]\u001b[49m\u001b[43m]\u001b[49m\u001b[43m,\u001b[49m\u001b[43m \u001b[49m\u001b[43mX\u001b[49m\u001b[43m,\u001b[49m\u001b[43m \u001b[49m\u001b[43mp\u001b[49m\u001b[38;5;241;43m=\u001b[39;49m\u001b[38;5;241;43m2\u001b[39;49m\u001b[43m)\u001b[49m[sbn_path][\n\u001b[1;32m    175\u001b[0m         :j \u001b[38;5;241m+\u001b[39m \u001b[38;5;241m1\u001b[39m])\n\u001b[1;32m    176\u001b[0m acd \u001b[38;5;241m=\u001b[39m np\u001b[38;5;241m.\u001b[39mzeros((\u001b[38;5;28mself\u001b[39m\u001b[38;5;241m.\u001b[39mn_neighbors_))\n\u001b[1;32m    177\u001b[0m \u001b[38;5;28;01mfor\u001b[39;00m _h, cost_ \u001b[38;5;129;01min\u001b[39;00m \u001b[38;5;28menumerate\u001b[39m(cost_desc):\n",
            "File \u001b[0;32m~/miniforge3/envs/py3.9/lib/python3.9/site-packages/scipy/spatial/_kdtree.py:95\u001b[0m, in \u001b[0;36mminkowski_distance\u001b[0;34m(x, y, p)\u001b[0m\n\u001b[1;32m     93\u001b[0m     \u001b[38;5;28;01mreturn\u001b[39;00m minkowski_distance_p(x, y, p)\n\u001b[1;32m     94\u001b[0m \u001b[38;5;28;01melse\u001b[39;00m:\n\u001b[0;32m---> 95\u001b[0m     \u001b[38;5;28;01mreturn\u001b[39;00m \u001b[43mminkowski_distance_p\u001b[49m\u001b[43m(\u001b[49m\u001b[43mx\u001b[49m\u001b[43m,\u001b[49m\u001b[43m \u001b[49m\u001b[43my\u001b[49m\u001b[43m,\u001b[49m\u001b[43m \u001b[49m\u001b[43mp\u001b[49m\u001b[43m)\u001b[49m\u001b[38;5;241m*\u001b[39m\u001b[38;5;241m*\u001b[39m(\u001b[38;5;241m1.\u001b[39m\u001b[38;5;241m/\u001b[39mp)\n",
            "File \u001b[0;32m~/miniforge3/envs/py3.9/lib/python3.9/site-packages/scipy/spatial/_kdtree.py:60\u001b[0m, in \u001b[0;36mminkowski_distance_p\u001b[0;34m(x, y, p)\u001b[0m\n\u001b[1;32m     58\u001b[0m     \u001b[38;5;28;01mreturn\u001b[39;00m np\u001b[38;5;241m.\u001b[39msum(np\u001b[38;5;241m.\u001b[39mabs(y\u001b[38;5;241m-\u001b[39mx), axis\u001b[38;5;241m=\u001b[39m\u001b[38;5;241m-\u001b[39m\u001b[38;5;241m1\u001b[39m)\n\u001b[1;32m     59\u001b[0m \u001b[38;5;28;01melse\u001b[39;00m:\n\u001b[0;32m---> 60\u001b[0m     \u001b[38;5;28;01mreturn\u001b[39;00m np\u001b[38;5;241m.\u001b[39msum(\u001b[43mnp\u001b[49m\u001b[38;5;241;43m.\u001b[39;49m\u001b[43mabs\u001b[49m\u001b[43m(\u001b[49m\u001b[43my\u001b[49m\u001b[38;5;241;43m-\u001b[39;49m\u001b[43mx\u001b[49m\u001b[43m)\u001b[49m\u001b[38;5;241m*\u001b[39m\u001b[38;5;241m*\u001b[39mp, axis\u001b[38;5;241m=\u001b[39m\u001b[38;5;241m-\u001b[39m\u001b[38;5;241m1\u001b[39m)\n",
            "\u001b[0;31mKeyboardInterrupt\u001b[0m: "
          ]
        }
      ],
      "source": [
        "from pyod.models.cof import COF\n",
        "n_est = [20, 50, 100, 150]\n",
        "cont = [0.001, 0.01, 0.04, 0.05, 0.1, 0.2]\n",
        "params = list(itertools.product(n_est, cont))\n",
        "score = -1\n",
        "bs = None\n",
        "\n",
        "for n_est, con in tqdm(params):\n",
        "    clf_if = COF(contamination=con,n_neighbors=n_est,method='memory')\n",
        "    clf_if.fit(benign_train_samples)\n",
        "    y_pred = clf_if.predict(test_samples)\n",
        "    test_pred = list(map(lambda x: 0 if x == 1 else 1, y_pred))\n",
        "\n",
        "    f1 = f1_score(test_labels, test_pred, average='macro')\n",
        "\n",
        "    if f1 > score:\n",
        "        score = f1\n",
        "        best_params = {'n_estimators': n_est,\n",
        "                       \"con\": con\n",
        "                       }\n",
        "        bs = test_pred\n",
        "    del clf_if\n",
        "    gc.collect()\n",
        "\n",
        "\n",
        "print(best_params)\n",
        "print(score)\n",
        "print(classification_report(test_labels, bs, digits=4))"
      ]
    },
    {
      "cell_type": "code",
      "execution_count": null,
      "metadata": {},
      "outputs": [],
      "source": [
        "# COF emb"
      ]
    },
    {
      "cell_type": "code",
      "execution_count": null,
      "metadata": {},
      "outputs": [
        {
          "name": "stderr",
          "output_type": "stream",
          "text": [
            "  0%|          | 0/24 [00:00<?, ?it/s]"
          ]
        }
      ],
      "source": [
        "from pyod.models.sod import SOD\n",
        "n_est = [20, 50, 100, 150]\n",
        "cont = [0.001, 0.01, 0.04, 0.05, 0.1, 0.2]\n",
        "params = list(itertools.product(n_est, cont))\n",
        "score = -1\n",
        "bs = None\n",
        "\n",
        "for n_est, con in tqdm(params):\n",
        "    clf_if = SOD(contamination=con, n_neighbors=n_est)\n",
        "    clf_if.fit(benign_train_samples)\n",
        "    y_pred = clf_if.predict(test_samples)\n",
        "    test_pred = list(map(lambda x: 0 if x == 1 else 1, y_pred))\n",
        "\n",
        "    f1 = f1_score(test_labels, test_pred, average='macro')\n",
        "\n",
        "    if f1 > score:\n",
        "        score = f1\n",
        "        best_params = {'n_estimators': n_est,\n",
        "                       \"con\": con\n",
        "                       }\n",
        "        bs = test_pred\n",
        "    del clf_if\n",
        "    gc.collect()\n",
        "\n",
        "\n",
        "print(best_params)\n",
        "print(score)\n",
        "print(classification_report(test_labels, bs, digits=4))"
      ]
    },
    {
      "cell_type": "code",
      "execution_count": 1,
      "metadata": {},
      "outputs": [],
      "source": [
        "# SOS emb"
      ]
    },
    {
      "cell_type": "code",
      "execution_count": 83,
      "metadata": {},
      "outputs": [
        {
          "name": "stderr",
          "output_type": "stream",
          "text": [
            "  0%|          | 0/6 [00:00<?, ?it/s]\n"
          ]
        },
        {
          "ename": "MemoryError",
          "evalue": "Unable to allocate 209. GiB for an array with shape (167318, 167318) and data type float64",
          "output_type": "error",
          "traceback": [
            "\u001b[0;31m---------------------------------------------------------------------------\u001b[0m",
            "\u001b[0;31mMemoryError\u001b[0m                               Traceback (most recent call last)",
            "Cell \u001b[0;32mIn[83], line 10\u001b[0m\n\u001b[1;32m      8\u001b[0m \u001b[38;5;28;01mfor\u001b[39;00m con \u001b[38;5;129;01min\u001b[39;00m tqdm(cont):\n\u001b[1;32m      9\u001b[0m     clf_if \u001b[38;5;241m=\u001b[39m SOS(contamination\u001b[38;5;241m=\u001b[39mcon)\n\u001b[0;32m---> 10\u001b[0m     \u001b[43mclf_if\u001b[49m\u001b[38;5;241;43m.\u001b[39;49m\u001b[43mfit\u001b[49m\u001b[43m(\u001b[49m\u001b[43mraw_normal_train_samples\u001b[49m\u001b[43m)\u001b[49m\n\u001b[1;32m     11\u001b[0m     y_pred \u001b[38;5;241m=\u001b[39m clf_if\u001b[38;5;241m.\u001b[39mpredict(raw_test_samples)\n\u001b[1;32m     12\u001b[0m     test_pred \u001b[38;5;241m=\u001b[39m \u001b[38;5;28mlist\u001b[39m(\u001b[38;5;28mmap\u001b[39m(\u001b[38;5;28;01mlambda\u001b[39;00m x: \u001b[38;5;241m0\u001b[39m \u001b[38;5;28;01mif\u001b[39;00m x \u001b[38;5;241m==\u001b[39m \u001b[38;5;241m1\u001b[39m \u001b[38;5;28;01melse\u001b[39;00m \u001b[38;5;241m1\u001b[39m, y_pred))\n",
            "File \u001b[0;32m~/miniforge3/envs/py3.9/lib/python3.9/site-packages/pyod/models/sos.py:273\u001b[0m, in \u001b[0;36mSOS.fit\u001b[0;34m(self, X, y)\u001b[0m\n\u001b[1;32m    271\u001b[0m X \u001b[38;5;241m=\u001b[39m check_array(X)\n\u001b[1;32m    272\u001b[0m \u001b[38;5;28mself\u001b[39m\u001b[38;5;241m.\u001b[39m_set_n_classes(y)\n\u001b[0;32m--> 273\u001b[0m D \u001b[38;5;241m=\u001b[39m \u001b[38;5;28;43mself\u001b[39;49m\u001b[38;5;241;43m.\u001b[39;49m\u001b[43m_x2d\u001b[49m\u001b[43m(\u001b[49m\u001b[43mX\u001b[49m\u001b[43m)\u001b[49m\n\u001b[1;32m    274\u001b[0m A \u001b[38;5;241m=\u001b[39m \u001b[38;5;28mself\u001b[39m\u001b[38;5;241m.\u001b[39m_d2a(D)\n\u001b[1;32m    275\u001b[0m B \u001b[38;5;241m=\u001b[39m \u001b[38;5;28mself\u001b[39m\u001b[38;5;241m.\u001b[39m_a2b(A)\n",
            "File \u001b[0;32m~/miniforge3/envs/py3.9/lib/python3.9/site-packages/pyod/models/sos.py:150\u001b[0m, in \u001b[0;36mSOS._x2d\u001b[0;34m(self, X)\u001b[0m\n\u001b[1;32m    145\u001b[0m     sumX \u001b[38;5;241m=\u001b[39m np\u001b[38;5;241m.\u001b[39msum(np\u001b[38;5;241m.\u001b[39msquare(X), \u001b[38;5;241m1\u001b[39m)\n\u001b[1;32m    147\u001b[0m     \u001b[38;5;66;03m# np.abs protects against extremely small negative values\u001b[39;00m\n\u001b[1;32m    148\u001b[0m     \u001b[38;5;66;03m# that may arise due to floating point arithmetic errors\u001b[39;00m\n\u001b[1;32m    149\u001b[0m     D \u001b[38;5;241m=\u001b[39m np\u001b[38;5;241m.\u001b[39msqrt(\n\u001b[0;32m--> 150\u001b[0m         np\u001b[38;5;241m.\u001b[39mabs(np\u001b[38;5;241m.\u001b[39madd(np\u001b[38;5;241m.\u001b[39madd(\u001b[38;5;241m-\u001b[39m\u001b[38;5;241m2\u001b[39m \u001b[38;5;241m*\u001b[39m \u001b[43mnp\u001b[49m\u001b[38;5;241;43m.\u001b[39;49m\u001b[43mdot\u001b[49m\u001b[43m(\u001b[49m\u001b[43mX\u001b[49m\u001b[43m,\u001b[49m\u001b[43m \u001b[49m\u001b[43mX\u001b[49m\u001b[38;5;241;43m.\u001b[39;49m\u001b[43mT\u001b[49m\u001b[43m)\u001b[49m, sumX)\u001b[38;5;241m.\u001b[39mT, sumX)))\n\u001b[1;32m    151\u001b[0m \u001b[38;5;28;01melse\u001b[39;00m:\n\u001b[1;32m    152\u001b[0m     \u001b[38;5;28;01mtry\u001b[39;00m:\n",
            "\u001b[0;31mMemoryError\u001b[0m: Unable to allocate 209. GiB for an array with shape (167318, 167318) and data type float64"
          ]
        }
      ],
      "source": [
        "from pyod.models.sos import SOS\n",
        "n_est = [20, 50, 100, 150]\n",
        "cont = [0.001, 0.01, 0.04, 0.05, 0.1, 0.2]\n",
        "params = list(itertools.product(n_est, cont))\n",
        "score = -1\n",
        "bs = None\n",
        "\n",
        "for con in tqdm(cont):\n",
        "    clf_if = SOS(contamination=con)\n",
        "    clf_if.fit(raw_normal_train_samples)\n",
        "    y_pred = clf_if.predict(raw_test_samples)\n",
        "    test_pred = list(map(lambda x: 0 if x == 1 else 1, y_pred))\n",
        "\n",
        "    f1 = f1_score(raw_test_labels, test_pred, average='macro')\n",
        "\n",
        "    if f1 > score:\n",
        "        score = f1\n",
        "        best_params = {'n_estimators': n_est,\n",
        "                       \"con\": con\n",
        "                       }\n",
        "        bs = test_pred\n",
        "    del clf_if\n",
        "    gc.collect()\n",
        "\n",
        "\n",
        "print(best_params)\n",
        "print(score)\n",
        "print(classification_report(raw_test_labels, bs, digits=4))"
      ]
    },
    {
      "cell_type": "code",
      "execution_count": 96,
      "metadata": {},
      "outputs": [],
      "source": [
        "# SUOD emb"
      ]
    },
    {
      "cell_type": "code",
      "execution_count": 98,
      "metadata": {},
      "outputs": [
        {
          "name": "stderr",
          "output_type": "stream",
          "text": [
            "  0%|          | 0/6 [00:00<?, ?it/s]"
          ]
        },
        {
          "name": "stdout",
          "output_type": "stream",
          "text": [
            "RandomForestRegressor()\n",
            "\n"
          ]
        },
        {
          "name": "stderr",
          "output_type": "stream",
          "text": [
            "  0%|          | 0/6 [00:17<?, ?it/s]\n"
          ]
        },
        {
          "ename": "KeyboardInterrupt",
          "evalue": "",
          "output_type": "error",
          "traceback": [
            "\u001b[0;31m---------------------------------------------------------------------------\u001b[0m",
            "\u001b[0;31mKeyboardInterrupt\u001b[0m                         Traceback (most recent call last)",
            "Cell \u001b[0;32mIn[98], line 14\u001b[0m\n\u001b[1;32m     12\u001b[0m base_est \u001b[38;5;241m=\u001b[39m [IForest(), PCA()]\n\u001b[1;32m     13\u001b[0m clf_if \u001b[38;5;241m=\u001b[39m SUOD(base_estimators\u001b[38;5;241m=\u001b[39mbase_est, contamination\u001b[38;5;241m=\u001b[39mcon)\n\u001b[0;32m---> 14\u001b[0m \u001b[43mclf_if\u001b[49m\u001b[38;5;241;43m.\u001b[39;49m\u001b[43mfit\u001b[49m\u001b[43m(\u001b[49m\u001b[43mbenign_train_samples\u001b[49m\u001b[43m)\u001b[49m\n\u001b[1;32m     15\u001b[0m y_pred \u001b[38;5;241m=\u001b[39m clf_if\u001b[38;5;241m.\u001b[39mpredict(test_samples)\n\u001b[1;32m     16\u001b[0m test_pred \u001b[38;5;241m=\u001b[39m \u001b[38;5;28mlist\u001b[39m(\u001b[38;5;28mmap\u001b[39m(\u001b[38;5;28;01mlambda\u001b[39;00m x: \u001b[38;5;241m0\u001b[39m \u001b[38;5;28;01mif\u001b[39;00m x \u001b[38;5;241m==\u001b[39m \u001b[38;5;241m1\u001b[39m \u001b[38;5;28;01melse\u001b[39;00m \u001b[38;5;241m1\u001b[39m, y_pred))\n",
            "File \u001b[0;32m~/miniforge3/envs/py3.9/lib/python3.9/site-packages/pyod/models/suod.py:204\u001b[0m, in \u001b[0;36mSUOD.fit\u001b[0;34m(self, X, y)\u001b[0m\n\u001b[1;32m    201\u001b[0m \u001b[38;5;28mself\u001b[39m\u001b[38;5;241m.\u001b[39m_set_n_classes(y)\n\u001b[1;32m    203\u001b[0m \u001b[38;5;66;03m# fit the model and then approximate it\u001b[39;00m\n\u001b[0;32m--> 204\u001b[0m \u001b[38;5;28;43mself\u001b[39;49m\u001b[38;5;241;43m.\u001b[39;49m\u001b[43mmodel_\u001b[49m\u001b[38;5;241;43m.\u001b[39;49m\u001b[43mfit\u001b[49m\u001b[43m(\u001b[49m\u001b[43mX\u001b[49m\u001b[43m)\u001b[49m\n\u001b[1;32m    205\u001b[0m \u001b[38;5;28mself\u001b[39m\u001b[38;5;241m.\u001b[39mmodel_\u001b[38;5;241m.\u001b[39mapproximate(X)\n\u001b[1;32m    207\u001b[0m \u001b[38;5;66;03m# get the decision scores from each base estimators\u001b[39;00m\n",
            "File \u001b[0;32m~/miniforge3/envs/py3.9/lib/python3.9/site-packages/suod/models/base.py:279\u001b[0m, in \u001b[0;36mSUOD.fit\u001b[0;34m(self, X)\u001b[0m\n\u001b[1;32m    273\u001b[0m \tstart \u001b[38;5;241m=\u001b[39m time\u001b[38;5;241m.\u001b[39mtime()\n\u001b[1;32m    275\u001b[0m \u001b[38;5;66;03m# TODO: code cleanup. There is an existing bug for joblib on Windows:\u001b[39;00m\n\u001b[1;32m    276\u001b[0m \u001b[38;5;66;03m# https://github.com/joblib/joblib/issues/806\u001b[39;00m\n\u001b[1;32m    277\u001b[0m \u001b[38;5;66;03m# a fix is on the way: https://github.com/joblib/joblib/pull/966\u001b[39;00m\n\u001b[1;32m    278\u001b[0m \u001b[38;5;66;03m# max_nbytes can be dropped on other OS\u001b[39;00m\n\u001b[0;32m--> 279\u001b[0m all_results \u001b[38;5;241m=\u001b[39m \u001b[43mParallel\u001b[49m\u001b[43m(\u001b[49m\u001b[43mn_jobs\u001b[49m\u001b[38;5;241;43m=\u001b[39;49m\u001b[43mn_jobs\u001b[49m\u001b[43m,\u001b[49m\u001b[43m \u001b[49m\u001b[43mverbose\u001b[49m\u001b[38;5;241;43m=\u001b[39;49m\u001b[38;5;28;43;01mTrue\u001b[39;49;00m\u001b[43m)\u001b[49m\u001b[43m(\u001b[49m\n\u001b[1;32m    280\u001b[0m \u001b[43m\t\u001b[49m\u001b[43mdelayed\u001b[49m\u001b[43m(\u001b[49m\u001b[43m_parallel_fit\u001b[49m\u001b[43m)\u001b[49m\u001b[43m(\u001b[49m\n\u001b[1;32m    281\u001b[0m \u001b[43m\t\t\u001b[49m\u001b[43mn_estimators_list\u001b[49m\u001b[43m[\u001b[49m\u001b[43mi\u001b[49m\u001b[43m]\u001b[49m\u001b[43m,\u001b[49m\n\u001b[1;32m    282\u001b[0m \u001b[43m\t\t\u001b[49m\u001b[38;5;28;43mself\u001b[39;49m\u001b[38;5;241;43m.\u001b[39;49m\u001b[43mbase_estimators\u001b[49m\u001b[43m[\u001b[49m\u001b[43mstarts\u001b[49m\u001b[43m[\u001b[49m\u001b[43mi\u001b[49m\u001b[43m]\u001b[49m\u001b[43m:\u001b[49m\u001b[43mstarts\u001b[49m\u001b[43m[\u001b[49m\u001b[43mi\u001b[49m\u001b[43m \u001b[49m\u001b[38;5;241;43m+\u001b[39;49m\u001b[43m \u001b[49m\u001b[38;5;241;43m1\u001b[39;49m\u001b[43m]\u001b[49m\u001b[43m]\u001b[49m\u001b[43m,\u001b[49m\n\u001b[1;32m    283\u001b[0m \u001b[43m\t\t\u001b[49m\u001b[43mX\u001b[49m\u001b[43m,\u001b[49m\n\u001b[1;32m    284\u001b[0m \u001b[43m\t\t\u001b[49m\u001b[38;5;28;43mself\u001b[39;49m\u001b[38;5;241;43m.\u001b[39;49m\u001b[43mn_estimators\u001b[49m\u001b[43m,\u001b[49m\n\u001b[1;32m    285\u001b[0m \u001b[43m\t\t\u001b[49m\u001b[38;5;28;43mself\u001b[39;49m\u001b[38;5;241;43m.\u001b[39;49m\u001b[43mrp_flags\u001b[49m\u001b[43m[\u001b[49m\u001b[43mstarts\u001b[49m\u001b[43m[\u001b[49m\u001b[43mi\u001b[49m\u001b[43m]\u001b[49m\u001b[43m:\u001b[49m\u001b[43mstarts\u001b[49m\u001b[43m[\u001b[49m\u001b[43mi\u001b[49m\u001b[43m \u001b[49m\u001b[38;5;241;43m+\u001b[39;49m\u001b[43m \u001b[49m\u001b[38;5;241;43m1\u001b[39;49m\u001b[43m]\u001b[49m\u001b[43m]\u001b[49m\u001b[43m,\u001b[49m\n\u001b[1;32m    286\u001b[0m \u001b[43m\t\t\u001b[49m\u001b[38;5;28;43mself\u001b[39;49m\u001b[38;5;241;43m.\u001b[39;49m\u001b[43mtarget_dim_frac_\u001b[49m\u001b[43m,\u001b[49m\n\u001b[1;32m    287\u001b[0m \u001b[43m\t\t\u001b[49m\u001b[38;5;28;43mself\u001b[39;49m\u001b[38;5;241;43m.\u001b[39;49m\u001b[43mjl_method\u001b[49m\u001b[43m,\u001b[49m\n\u001b[1;32m    288\u001b[0m \u001b[43m\t\t\u001b[49m\u001b[43mverbose\u001b[49m\u001b[38;5;241;43m=\u001b[39;49m\u001b[38;5;28;43mself\u001b[39;49m\u001b[38;5;241;43m.\u001b[39;49m\u001b[43mverbose\u001b[49m\u001b[43m)\u001b[49m\n\u001b[1;32m    289\u001b[0m \u001b[43m\t\u001b[49m\u001b[38;5;28;43;01mfor\u001b[39;49;00m\u001b[43m \u001b[49m\u001b[43mi\u001b[49m\u001b[43m \u001b[49m\u001b[38;5;129;43;01min\u001b[39;49;00m\u001b[43m \u001b[49m\u001b[38;5;28;43mrange\u001b[39;49m\u001b[43m(\u001b[49m\u001b[43mn_jobs\u001b[49m\u001b[43m)\u001b[49m\u001b[43m)\u001b[49m\n\u001b[1;32m    291\u001b[0m \u001b[38;5;28;01mif\u001b[39;00m \u001b[38;5;28mself\u001b[39m\u001b[38;5;241m.\u001b[39mverbose:\n\u001b[1;32m    292\u001b[0m \t\u001b[38;5;28mprint\u001b[39m(\u001b[38;5;124m'\u001b[39m\u001b[38;5;124mBalanced Scheduling Total Train Time:\u001b[39m\u001b[38;5;124m'\u001b[39m, time\u001b[38;5;241m.\u001b[39mtime() \u001b[38;5;241m-\u001b[39m start)\n",
            "File \u001b[0;32m~/miniforge3/envs/py3.9/lib/python3.9/site-packages/joblib/parallel.py:1918\u001b[0m, in \u001b[0;36mParallel.__call__\u001b[0;34m(self, iterable)\u001b[0m\n\u001b[1;32m   1916\u001b[0m     output \u001b[38;5;241m=\u001b[39m \u001b[38;5;28mself\u001b[39m\u001b[38;5;241m.\u001b[39m_get_sequential_output(iterable)\n\u001b[1;32m   1917\u001b[0m     \u001b[38;5;28mnext\u001b[39m(output)\n\u001b[0;32m-> 1918\u001b[0m     \u001b[38;5;28;01mreturn\u001b[39;00m output \u001b[38;5;28;01mif\u001b[39;00m \u001b[38;5;28mself\u001b[39m\u001b[38;5;241m.\u001b[39mreturn_generator \u001b[38;5;28;01melse\u001b[39;00m \u001b[38;5;28;43mlist\u001b[39;49m\u001b[43m(\u001b[49m\u001b[43moutput\u001b[49m\u001b[43m)\u001b[49m\n\u001b[1;32m   1920\u001b[0m \u001b[38;5;66;03m# Let's create an ID that uniquely identifies the current call. If the\u001b[39;00m\n\u001b[1;32m   1921\u001b[0m \u001b[38;5;66;03m# call is interrupted early and that the same instance is immediately\u001b[39;00m\n\u001b[1;32m   1922\u001b[0m \u001b[38;5;66;03m# re-used, this id will be used to prevent workers that were\u001b[39;00m\n\u001b[1;32m   1923\u001b[0m \u001b[38;5;66;03m# concurrently finalizing a task from the previous call to run the\u001b[39;00m\n\u001b[1;32m   1924\u001b[0m \u001b[38;5;66;03m# callback.\u001b[39;00m\n\u001b[1;32m   1925\u001b[0m \u001b[38;5;28;01mwith\u001b[39;00m \u001b[38;5;28mself\u001b[39m\u001b[38;5;241m.\u001b[39m_lock:\n",
            "File \u001b[0;32m~/miniforge3/envs/py3.9/lib/python3.9/site-packages/joblib/parallel.py:1847\u001b[0m, in \u001b[0;36mParallel._get_sequential_output\u001b[0;34m(self, iterable)\u001b[0m\n\u001b[1;32m   1845\u001b[0m \u001b[38;5;28mself\u001b[39m\u001b[38;5;241m.\u001b[39mn_dispatched_batches \u001b[38;5;241m+\u001b[39m\u001b[38;5;241m=\u001b[39m \u001b[38;5;241m1\u001b[39m\n\u001b[1;32m   1846\u001b[0m \u001b[38;5;28mself\u001b[39m\u001b[38;5;241m.\u001b[39mn_dispatched_tasks \u001b[38;5;241m+\u001b[39m\u001b[38;5;241m=\u001b[39m \u001b[38;5;241m1\u001b[39m\n\u001b[0;32m-> 1847\u001b[0m res \u001b[38;5;241m=\u001b[39m \u001b[43mfunc\u001b[49m\u001b[43m(\u001b[49m\u001b[38;5;241;43m*\u001b[39;49m\u001b[43margs\u001b[49m\u001b[43m,\u001b[49m\u001b[43m \u001b[49m\u001b[38;5;241;43m*\u001b[39;49m\u001b[38;5;241;43m*\u001b[39;49m\u001b[43mkwargs\u001b[49m\u001b[43m)\u001b[49m\n\u001b[1;32m   1848\u001b[0m \u001b[38;5;28mself\u001b[39m\u001b[38;5;241m.\u001b[39mn_completed_tasks \u001b[38;5;241m+\u001b[39m\u001b[38;5;241m=\u001b[39m \u001b[38;5;241m1\u001b[39m\n\u001b[1;32m   1849\u001b[0m \u001b[38;5;28mself\u001b[39m\u001b[38;5;241m.\u001b[39mprint_progress()\n",
            "File \u001b[0;32m~/miniforge3/envs/py3.9/lib/python3.9/site-packages/suod/models/parallel_processes.py:183\u001b[0m, in \u001b[0;36m_parallel_fit\u001b[0;34m(n_estimators, clfs, X, total_n_estimators, rp_flags, objective_dim, rp_method, verbose)\u001b[0m\n\u001b[1;32m    180\u001b[0m     \u001b[38;5;28;01melse\u001b[39;00m:\n\u001b[1;32m    181\u001b[0m         \u001b[38;5;66;03m# if projection is not used, use an identity matrix to keep the shape\u001b[39;00m\n\u001b[1;32m    182\u001b[0m         rp_transformers\u001b[38;5;241m.\u001b[39mappend(np\u001b[38;5;241m.\u001b[39mones([X\u001b[38;5;241m.\u001b[39mshape[\u001b[38;5;241m1\u001b[39m], X\u001b[38;5;241m.\u001b[39mshape[\u001b[38;5;241m1\u001b[39m]]))\n\u001b[0;32m--> 183\u001b[0m         \u001b[43mestimator\u001b[49m\u001b[38;5;241;43m.\u001b[39;49m\u001b[43mfit\u001b[49m\u001b[43m(\u001b[49m\u001b[43mX\u001b[49m\u001b[43m)\u001b[49m\n\u001b[1;32m    184\u001b[0m         estimators\u001b[38;5;241m.\u001b[39mappend(estimator)\n\u001b[1;32m    185\u001b[0m \u001b[38;5;28;01mreturn\u001b[39;00m estimators, rp_transformers\n",
            "File \u001b[0;32m~/miniforge3/envs/py3.9/lib/python3.9/site-packages/pyod/models/pca.py:267\u001b[0m, in \u001b[0;36mPCA.fit\u001b[0;34m(self, X, y)\u001b[0m\n\u001b[1;32m    261\u001b[0m \u001b[38;5;28mself\u001b[39m\u001b[38;5;241m.\u001b[39mselected_components_ \u001b[38;5;241m=\u001b[39m \u001b[38;5;28mself\u001b[39m\u001b[38;5;241m.\u001b[39mcomponents_[\n\u001b[1;32m    262\u001b[0m                             \u001b[38;5;241m-\u001b[39m\u001b[38;5;241m1\u001b[39m \u001b[38;5;241m*\u001b[39m \u001b[38;5;28mself\u001b[39m\u001b[38;5;241m.\u001b[39mn_selected_components_:, :]\n\u001b[1;32m    263\u001b[0m \u001b[38;5;28mself\u001b[39m\u001b[38;5;241m.\u001b[39mselected_w_components_ \u001b[38;5;241m=\u001b[39m \u001b[38;5;28mself\u001b[39m\u001b[38;5;241m.\u001b[39mw_components_[\n\u001b[1;32m    264\u001b[0m                               \u001b[38;5;241m-\u001b[39m\u001b[38;5;241m1\u001b[39m \u001b[38;5;241m*\u001b[39m \u001b[38;5;28mself\u001b[39m\u001b[38;5;241m.\u001b[39mn_selected_components_:]\n\u001b[1;32m    266\u001b[0m \u001b[38;5;28mself\u001b[39m\u001b[38;5;241m.\u001b[39mdecision_scores_ \u001b[38;5;241m=\u001b[39m np\u001b[38;5;241m.\u001b[39msum(\n\u001b[0;32m--> 267\u001b[0m     \u001b[43mcdist\u001b[49m\u001b[43m(\u001b[49m\u001b[43mX\u001b[49m\u001b[43m,\u001b[49m\u001b[43m \u001b[49m\u001b[38;5;28;43mself\u001b[39;49m\u001b[38;5;241;43m.\u001b[39;49m\u001b[43mselected_components_\u001b[49m\u001b[43m)\u001b[49m \u001b[38;5;241m/\u001b[39m \u001b[38;5;28mself\u001b[39m\u001b[38;5;241m.\u001b[39mselected_w_components_,\n\u001b[1;32m    268\u001b[0m     axis\u001b[38;5;241m=\u001b[39m\u001b[38;5;241m1\u001b[39m)\u001b[38;5;241m.\u001b[39mravel()\n\u001b[1;32m    270\u001b[0m \u001b[38;5;28mself\u001b[39m\u001b[38;5;241m.\u001b[39m_process_decision_scores()\n\u001b[1;32m    271\u001b[0m \u001b[38;5;28;01mreturn\u001b[39;00m \u001b[38;5;28mself\u001b[39m\n",
            "File \u001b[0;32m~/miniforge3/envs/py3.9/lib/python3.9/site-packages/scipy/spatial/distance.py:2980\u001b[0m, in \u001b[0;36mcdist\u001b[0;34m(XA, XB, metric, out, **kwargs)\u001b[0m\n\u001b[1;32m   2978\u001b[0m \u001b[38;5;28;01mif\u001b[39;00m metric_info \u001b[38;5;129;01mis\u001b[39;00m \u001b[38;5;129;01mnot\u001b[39;00m \u001b[38;5;28;01mNone\u001b[39;00m:\n\u001b[1;32m   2979\u001b[0m     cdist_fn \u001b[38;5;241m=\u001b[39m metric_info\u001b[38;5;241m.\u001b[39mcdist_func\n\u001b[0;32m-> 2980\u001b[0m     \u001b[38;5;28;01mreturn\u001b[39;00m \u001b[43mcdist_fn\u001b[49m\u001b[43m(\u001b[49m\u001b[43mXA\u001b[49m\u001b[43m,\u001b[49m\u001b[43m \u001b[49m\u001b[43mXB\u001b[49m\u001b[43m,\u001b[49m\u001b[43m \u001b[49m\u001b[43mout\u001b[49m\u001b[38;5;241;43m=\u001b[39;49m\u001b[43mout\u001b[49m\u001b[43m,\u001b[49m\u001b[43m \u001b[49m\u001b[38;5;241;43m*\u001b[39;49m\u001b[38;5;241;43m*\u001b[39;49m\u001b[43mkwargs\u001b[49m\u001b[43m)\u001b[49m\n\u001b[1;32m   2981\u001b[0m \u001b[38;5;28;01melif\u001b[39;00m mstr\u001b[38;5;241m.\u001b[39mstartswith(\u001b[38;5;124m\"\u001b[39m\u001b[38;5;124mtest_\u001b[39m\u001b[38;5;124m\"\u001b[39m):\n\u001b[1;32m   2982\u001b[0m     metric_info \u001b[38;5;241m=\u001b[39m _TEST_METRICS\u001b[38;5;241m.\u001b[39mget(mstr, \u001b[38;5;28;01mNone\u001b[39;00m)\n",
            "\u001b[0;31mKeyboardInterrupt\u001b[0m: "
          ]
        }
      ],
      "source": [
        "from pyod.models.suod import SUOD\n",
        "from pyod.models.iforest import IForest\n",
        "from pyod.models.pca import PCA\n",
        "\n",
        "n_est = [20, 50, 100, 150]\n",
        "cont = [0.001, 0.01, 0.04, 0.05, 0.1, 0.2]\n",
        "params = list(itertools.product(n_est, cont))\n",
        "score = -1\n",
        "bs = None\n",
        "\n",
        "for con in tqdm(cont):\n",
        "    base_est = [IForest(), PCA()]\n",
        "    clf_if = SUOD(base_estimators=base_est, contamination=con)\n",
        "    clf_if.fit(benign_train_samples)\n",
        "    y_pred = clf_if.predict(test_samples)\n",
        "    test_pred = list(map(lambda x: 0 if x == 1 else 1, y_pred))\n",
        "\n",
        "    f1 = f1_score(test_labels, test_pred, average='macro')\n",
        "\n",
        "    if f1 > score:\n",
        "        score = f1\n",
        "        best_params = {'n_estimators': n_est,\n",
        "                       \"con\": con\n",
        "                       }\n",
        "        bs = test_pred\n",
        "    del clf_if\n",
        "    gc.collect()\n",
        "\n",
        "\n",
        "print(best_params)\n",
        "print(score)\n",
        "print(classification_report(test_labels, bs, digits=4))"
      ]
    },
    {
      "cell_type": "code",
      "execution_count": 39,
      "metadata": {},
      "outputs": [],
      "source": [
        "# Feature Bragging Emb"
      ]
    },
    {
      "cell_type": "code",
      "execution_count": 37,
      "metadata": {},
      "outputs": [
        {
          "name": "stderr",
          "output_type": "stream",
          "text": [
            "100%|██████████| 6/6 [04:17<00:00, 42.87s/it]"
          ]
        },
        {
          "name": "stdout",
          "output_type": "stream",
          "text": [
            "{'n_estimators': 20, 'con': 0.2}\n",
            "0.4246479720784691\n",
            "              precision    recall  f1-score   support\n",
            "\n",
            "           0     0.9489    0.7686    0.8493    137714\n",
            "           1     0.0000    0.0000    0.0000      5704\n",
            "\n",
            "    accuracy                         0.7381    143418\n",
            "   macro avg     0.4744    0.3843    0.4246    143418\n",
            "weighted avg     0.9111    0.7381    0.8155    143418\n",
            "\n"
          ]
        },
        {
          "name": "stderr",
          "output_type": "stream",
          "text": [
            "\n"
          ]
        }
      ],
      "source": [
        "from pyod.models.feature_bagging import FeatureBagging\n",
        "from pyod.models.knn import KNN\n",
        "from pyod.models.cblof import CBLOF\n",
        "from pyod.models.iforest import IForest\n",
        "from sklearn.ensemble import IsolationForest\n",
        "\n",
        "n_est = [20]\n",
        "cont = [0.001, 0.01, 0.04, 0.05, 0.1, 0.2]\n",
        "params = list(itertools.product(n_est, cont))\n",
        "score = -1\n",
        "bs = None\n",
        "\n",
        "for n_est, con in tqdm(params):\n",
        "    base_est = IForest()\n",
        "    clf_if = FeatureBagging(base_estimator=base_est, contamination=con, n_estimators=n_est)\n",
        "    clf_if.fit(benign_train_samples)\n",
        "    y_pred = clf_if.predict(test_samples)\n",
        "    test_pred = list(map(lambda x: 0 if x == 1 else 1, y_pred))\n",
        "\n",
        "    f1 = f1_score(test_labels, test_pred, average='macro')\n",
        "\n",
        "    if f1 > score:\n",
        "        score = f1\n",
        "        best_params = {'n_estimators': n_est,\n",
        "                       \"con\": con\n",
        "                       }\n",
        "        bs = test_pred\n",
        "    del clf_if\n",
        "    gc.collect()\n",
        "\n",
        "\n",
        "print(best_params)\n",
        "print(score)\n",
        "print(classification_report(test_labels, bs, digits=4))"
      ]
    },
    {
      "cell_type": "code",
      "execution_count": 38,
      "metadata": {},
      "outputs": [
        {
          "name": "stderr",
          "output_type": "stream",
          "text": [
            "Training: 100%|██████████| 10/10 [02:45<00:00, 16.58s/it]\n",
            "100%|██████████| 1/1 [02:56<00:00, 176.11s/it]"
          ]
        },
        {
          "name": "stdout",
          "output_type": "stream",
          "text": [
            "{'n_estimators': 20, 'con': 0.001}\n",
            "0.03424816280638335\n",
            "              precision    recall  f1-score   support\n",
            "\n",
            "           0     0.2819    0.0032    0.0063    137714\n",
            "           1     0.0324    0.8049    0.0622      5704\n",
            "\n",
            "    accuracy                         0.0351    143418\n",
            "   macro avg     0.1571    0.4040    0.0342    143418\n",
            "weighted avg     0.2720    0.0351    0.0085    143418\n",
            "\n"
          ]
        },
        {
          "name": "stderr",
          "output_type": "stream",
          "text": [
            "\n"
          ]
        }
      ],
      "source": [
        "from pyod.models.feature_bagging import FeatureBagging\n",
        "from pyod.models.knn import KNN\n",
        "from pyod.models.cblof import CBLOF\n",
        "from pyod.models.iforest import IForest\n",
        "from sklearn.ensemble import IsolationForest\n",
        "from pyod.models.auto_encoder import AutoEncoder\n",
        "\n",
        "n_est = [20]\n",
        "cont = [0.001, 0.01, 0.04, 0.05, 0.1, 0.2]\n",
        "params = list(itertools.product(n_est, cont))\n",
        "score = -1\n",
        "bs = None\n",
        "\n",
        "for n_est, con in tqdm(params[:1]):\n",
        "    clf_if = AutoEncoder(contamination=con)\n",
        "    clf_if.fit(benign_train_samples)\n",
        "    y_pred = clf_if.predict(test_samples)\n",
        "    test_pred = list(map(lambda x: 0 if x == 1 else 1, y_pred))\n",
        "\n",
        "    f1 = f1_score(test_labels, test_pred, average='macro')\n",
        "\n",
        "    if f1 > score:\n",
        "        score = f1\n",
        "        best_params = {'n_estimators': n_est,\n",
        "                       \"con\": con\n",
        "                       }\n",
        "        bs = test_pred\n",
        "    del clf_if\n",
        "    gc.collect()\n",
        "\n",
        "\n",
        "print(best_params)\n",
        "print(score)\n",
        "print(classification_report(test_labels, bs, digits=4))"
      ]
    }
  ],
  "metadata": {
    "accelerator": "GPU",
    "colab": {
      "provenance": []
    },
    "kernelspec": {
      "display_name": "py3.9",
      "language": "python",
      "name": "python3"
    },
    "language_info": {
      "codemirror_mode": {
        "name": "ipython",
        "version": 3
      },
      "file_extension": ".py",
      "mimetype": "text/x-python",
      "name": "python",
      "nbconvert_exporter": "python",
      "pygments_lexer": "ipython3",
      "version": "3.9.6"
    }
  },
  "nbformat": 4,
  "nbformat_minor": 0
}
