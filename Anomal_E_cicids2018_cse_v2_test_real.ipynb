{
  "cells": [
    {
      "cell_type": "code",
      "execution_count": 1,
      "metadata": {
        "id": "Hjc3iIihKLn-"
      },
      "outputs": [
        {
          "name": "stderr",
          "output_type": "stream",
          "text": [
            "/home/kienho/projects/NIDS_Anomal-E_revision/.conda/lib/python3.9/site-packages/tqdm/auto.py:21: TqdmWarning: IProgress not found. Please update jupyter and ipywidgets. See https://ipywidgets.readthedocs.io/en/stable/user_install.html\n",
            "  from .autonotebook import tqdm as notebook_tqdm\n"
          ]
        }
      ],
      "source": [
        "import pandas as pd\n",
        "import numpy as np\n",
        "import torch\n",
        "from sklearn import preprocessing\n",
        "from dgl.data import DGLDataset\n",
        "import dgl\n",
        "import time\n",
        "import networkx as nx\n",
        "import category_encoders as ce\n",
        "import torch.nn as nn\n",
        "import torch.nn.functional as F\n",
        "import dgl.function as fn\n",
        "import torch\n",
        "import tqdm\n",
        "import math\n",
        "\n",
        "from typing import *\n",
        "from sklearn.preprocessing import StandardScaler, Normalizer\n",
        "import socket\n",
        "import struct\n",
        "import random\n",
        "from sklearn.model_selection import train_test_split"
      ]
    },
    {
      "cell_type": "code",
      "execution_count": 2,
      "metadata": {
        "id": "SvWHb_BpKsLq"
      },
      "outputs": [],
      "source": [
        "file_name = \"NF-CSE-CIC-IDS2018-v2.parquet\"\n",
        "data = pd.read_parquet(file_name)"
      ]
    },
    {
      "cell_type": "code",
      "execution_count": 3,
      "metadata": {},
      "outputs": [],
      "source": [
        "##ADDED\n",
        "file_name_test = \"cleaned_cse_output.csv\"\n",
        "test_data = pd.read_csv(file_name_test)\n",
        "##"
      ]
    },
    {
      "cell_type": "code",
      "execution_count": 4,
      "metadata": {
        "colab": {
          "base_uri": "https://localhost:8080/",
          "height": 488
        },
        "id": "fqly1y-LMwYS",
        "outputId": "18cca6c8-8a93-46c4-ffa1-9d21ebe843b0"
      },
      "outputs": [
        {
          "data": {
            "text/plain": [
              "Label\n",
              "0    16635567\n",
              "1     2258141\n",
              "Name: count, dtype: int64"
            ]
          },
          "execution_count": 4,
          "metadata": {},
          "output_type": "execute_result"
        }
      ],
      "source": [
        "data.Label.value_counts()"
      ]
    },
    {
      "cell_type": "code",
      "execution_count": 5,
      "metadata": {},
      "outputs": [
        {
          "data": {
            "text/plain": [
              "Label\n",
              "1    19011\n",
              "0     8075\n",
              "Name: count, dtype: int64"
            ]
          },
          "execution_count": 5,
          "metadata": {},
          "output_type": "execute_result"
        }
      ],
      "source": [
        "##ADDED\n",
        "test_data.Label.value_counts()\n",
        "##"
      ]
    },
    {
      "cell_type": "code",
      "execution_count": 6,
      "metadata": {
        "id": "3t4OREvSM33h"
      },
      "outputs": [],
      "source": [
        "data.rename(columns=lambda x: x.strip(), inplace=True)\n",
        "data['IPV4_SRC_ADDR'] = data[\"IPV4_SRC_ADDR\"].apply(str)\n",
        "data['L4_SRC_PORT'] = data[\"L4_SRC_PORT\"].apply(str)\n",
        "data['IPV4_DST_ADDR'] = data[\"IPV4_DST_ADDR\"].apply(str)\n",
        "data['L4_DST_PORT'] = data[\"L4_DST_PORT\"].apply(str)"
      ]
    },
    {
      "cell_type": "code",
      "execution_count": 7,
      "metadata": {},
      "outputs": [],
      "source": [
        "##ADDED\n",
        "test_data.rename(columns=lambda x: x.strip(), inplace=True)\n",
        "test_data['IPV4_SRC_ADDR'] = test_data[\"IPV4_SRC_ADDR\"].apply(str)\n",
        "test_data['L4_SRC_PORT'] = test_data[\"L4_SRC_PORT\"].apply(str)\n",
        "test_data['IPV4_DST_ADDR'] = test_data[\"IPV4_DST_ADDR\"].apply(str)\n",
        "test_data['L4_DST_PORT'] = test_data[\"L4_DST_PORT\"].apply(str)\n",
        "##"
      ]
    },
    {
      "cell_type": "code",
      "execution_count": 8,
      "metadata": {
        "id": "bTtHq0XqNXxI"
      },
      "outputs": [],
      "source": [
        "data.drop(columns=[\"L4_SRC_PORT\", \"L4_DST_PORT\"], inplace=True)"
      ]
    },
    {
      "cell_type": "code",
      "execution_count": 9,
      "metadata": {},
      "outputs": [],
      "source": [
        "##ADDED\n",
        "test_data.drop(columns=[\"L4_SRC_PORT\", \"L4_DST_PORT\"], inplace=True)\n",
        "##"
      ]
    },
    {
      "cell_type": "code",
      "execution_count": 10,
      "metadata": {
        "colab": {
          "base_uri": "https://localhost:8080/"
        },
        "id": "KUNIP-8zNkn9",
        "outputId": "34de637f-b644-4249-c3fd-cd19bb3bbde2"
      },
      "outputs": [
        {
          "data": {
            "text/plain": [
              "array(['SSH-Bruteforce', 'Benign', 'DDoS attacks-LOIC-HTTP',\n",
              "       'DDOS attack-HOIC', 'DoS attacks-Slowloris', 'DoS attacks-Hulk',\n",
              "       'FTP-BruteForce', 'Infilteration', 'Bot', 'DoS attacks-GoldenEye',\n",
              "       'Brute Force -Web', 'DoS attacks-SlowHTTPTest', 'SQL Injection',\n",
              "       'DDOS attack-LOIC-UDP', 'Brute Force -XSS'], dtype=object)"
            ]
          },
          "execution_count": 10,
          "metadata": {},
          "output_type": "execute_result"
        }
      ],
      "source": [
        "data.Attack.unique()"
      ]
    },
    {
      "cell_type": "code",
      "execution_count": 11,
      "metadata": {},
      "outputs": [
        {
          "data": {
            "text/plain": [
              "array(['SSH-Bruteforce', 'FTP-BruteForce', 'SQL Injection',\n",
              "       'Brute Force -Web', 'Brute Force -XSS', 'Benign', 'Infilteration',\n",
              "       'DoS attacks-Slowloris', 'DoS attacks-SlowHTTPTest',\n",
              "       'DoS attacks-Hulk'], dtype=object)"
            ]
          },
          "execution_count": 11,
          "metadata": {},
          "output_type": "execute_result"
        }
      ],
      "source": [
        "##ADDED\n",
        "test_data.Attack.unique()\n",
        "##"
      ]
    },
    {
      "cell_type": "code",
      "execution_count": 12,
      "metadata": {
        "id": "AlPa58fVN7gB"
      },
      "outputs": [],
      "source": [
        "data = data.groupby(by='Attack').sample(frac=0.02, random_state=13)"
      ]
    },
    {
      "cell_type": "code",
      "execution_count": 13,
      "metadata": {},
      "outputs": [],
      "source": [
        "##ADDED\n",
        "# test_data = test_data.groupby(by='Attack').sample(frac=0.02, random_state=13)\n",
        "##"
      ]
    },
    {
      "cell_type": "code",
      "execution_count": 14,
      "metadata": {
        "colab": {
          "base_uri": "https://localhost:8080/",
          "height": 458
        },
        "id": "lcfAP6ViOp-J",
        "outputId": "3641324e-a78b-46bb-c3a4-8af04a7f9449"
      },
      "outputs": [
        {
          "data": {
            "text/html": [
              "<div>\n",
              "<style scoped>\n",
              "    .dataframe tbody tr th:only-of-type {\n",
              "        vertical-align: middle;\n",
              "    }\n",
              "\n",
              "    .dataframe tbody tr th {\n",
              "        vertical-align: top;\n",
              "    }\n",
              "\n",
              "    .dataframe thead th {\n",
              "        text-align: right;\n",
              "    }\n",
              "</style>\n",
              "<table border=\"1\" class=\"dataframe\">\n",
              "  <thead>\n",
              "    <tr style=\"text-align: right;\">\n",
              "      <th></th>\n",
              "      <th>IPV4_SRC_ADDR</th>\n",
              "      <th>IPV4_DST_ADDR</th>\n",
              "      <th>PROTOCOL</th>\n",
              "      <th>L7_PROTO</th>\n",
              "      <th>IN_BYTES</th>\n",
              "      <th>IN_PKTS</th>\n",
              "      <th>OUT_BYTES</th>\n",
              "      <th>OUT_PKTS</th>\n",
              "      <th>TCP_FLAGS</th>\n",
              "      <th>CLIENT_TCP_FLAGS</th>\n",
              "      <th>...</th>\n",
              "      <th>NUM_PKTS_1024_TO_1514_BYTES</th>\n",
              "      <th>TCP_WIN_MAX_IN</th>\n",
              "      <th>TCP_WIN_MAX_OUT</th>\n",
              "      <th>ICMP_TYPE</th>\n",
              "      <th>ICMP_IPV4_TYPE</th>\n",
              "      <th>DNS_QUERY_ID</th>\n",
              "      <th>DNS_QUERY_TYPE</th>\n",
              "      <th>DNS_TTL_ANSWER</th>\n",
              "      <th>FTP_COMMAND_RET_CODE</th>\n",
              "      <th>Label</th>\n",
              "    </tr>\n",
              "    <tr>\n",
              "      <th>Attack</th>\n",
              "      <th></th>\n",
              "      <th></th>\n",
              "      <th></th>\n",
              "      <th></th>\n",
              "      <th></th>\n",
              "      <th></th>\n",
              "      <th></th>\n",
              "      <th></th>\n",
              "      <th></th>\n",
              "      <th></th>\n",
              "      <th></th>\n",
              "      <th></th>\n",
              "      <th></th>\n",
              "      <th></th>\n",
              "      <th></th>\n",
              "      <th></th>\n",
              "      <th></th>\n",
              "      <th></th>\n",
              "      <th></th>\n",
              "      <th></th>\n",
              "      <th></th>\n",
              "    </tr>\n",
              "  </thead>\n",
              "  <tbody>\n",
              "    <tr>\n",
              "      <th>Benign</th>\n",
              "      <td>332711</td>\n",
              "      <td>332711</td>\n",
              "      <td>332711</td>\n",
              "      <td>332711</td>\n",
              "      <td>332711</td>\n",
              "      <td>332711</td>\n",
              "      <td>332711</td>\n",
              "      <td>332711</td>\n",
              "      <td>332711</td>\n",
              "      <td>332711</td>\n",
              "      <td>...</td>\n",
              "      <td>332711</td>\n",
              "      <td>332711</td>\n",
              "      <td>332711</td>\n",
              "      <td>332711</td>\n",
              "      <td>332711</td>\n",
              "      <td>332711</td>\n",
              "      <td>332711</td>\n",
              "      <td>332711</td>\n",
              "      <td>332711</td>\n",
              "      <td>332711</td>\n",
              "    </tr>\n",
              "    <tr>\n",
              "      <th>Bot</th>\n",
              "      <td>2862</td>\n",
              "      <td>2862</td>\n",
              "      <td>2862</td>\n",
              "      <td>2862</td>\n",
              "      <td>2862</td>\n",
              "      <td>2862</td>\n",
              "      <td>2862</td>\n",
              "      <td>2862</td>\n",
              "      <td>2862</td>\n",
              "      <td>2862</td>\n",
              "      <td>...</td>\n",
              "      <td>2862</td>\n",
              "      <td>2862</td>\n",
              "      <td>2862</td>\n",
              "      <td>2862</td>\n",
              "      <td>2862</td>\n",
              "      <td>2862</td>\n",
              "      <td>2862</td>\n",
              "      <td>2862</td>\n",
              "      <td>2862</td>\n",
              "      <td>2862</td>\n",
              "    </tr>\n",
              "    <tr>\n",
              "      <th>Brute Force -Web</th>\n",
              "      <td>43</td>\n",
              "      <td>43</td>\n",
              "      <td>43</td>\n",
              "      <td>43</td>\n",
              "      <td>43</td>\n",
              "      <td>43</td>\n",
              "      <td>43</td>\n",
              "      <td>43</td>\n",
              "      <td>43</td>\n",
              "      <td>43</td>\n",
              "      <td>...</td>\n",
              "      <td>43</td>\n",
              "      <td>43</td>\n",
              "      <td>43</td>\n",
              "      <td>43</td>\n",
              "      <td>43</td>\n",
              "      <td>43</td>\n",
              "      <td>43</td>\n",
              "      <td>43</td>\n",
              "      <td>43</td>\n",
              "      <td>43</td>\n",
              "    </tr>\n",
              "    <tr>\n",
              "      <th>Brute Force -XSS</th>\n",
              "      <td>19</td>\n",
              "      <td>19</td>\n",
              "      <td>19</td>\n",
              "      <td>19</td>\n",
              "      <td>19</td>\n",
              "      <td>19</td>\n",
              "      <td>19</td>\n",
              "      <td>19</td>\n",
              "      <td>19</td>\n",
              "      <td>19</td>\n",
              "      <td>...</td>\n",
              "      <td>19</td>\n",
              "      <td>19</td>\n",
              "      <td>19</td>\n",
              "      <td>19</td>\n",
              "      <td>19</td>\n",
              "      <td>19</td>\n",
              "      <td>19</td>\n",
              "      <td>19</td>\n",
              "      <td>19</td>\n",
              "      <td>19</td>\n",
              "    </tr>\n",
              "    <tr>\n",
              "      <th>DDOS attack-HOIC</th>\n",
              "      <td>21617</td>\n",
              "      <td>21617</td>\n",
              "      <td>21617</td>\n",
              "      <td>21617</td>\n",
              "      <td>21617</td>\n",
              "      <td>21617</td>\n",
              "      <td>21617</td>\n",
              "      <td>21617</td>\n",
              "      <td>21617</td>\n",
              "      <td>21617</td>\n",
              "      <td>...</td>\n",
              "      <td>21617</td>\n",
              "      <td>21617</td>\n",
              "      <td>21617</td>\n",
              "      <td>21617</td>\n",
              "      <td>21617</td>\n",
              "      <td>21617</td>\n",
              "      <td>21617</td>\n",
              "      <td>21617</td>\n",
              "      <td>21617</td>\n",
              "      <td>21617</td>\n",
              "    </tr>\n",
              "    <tr>\n",
              "      <th>DDOS attack-LOIC-UDP</th>\n",
              "      <td>42</td>\n",
              "      <td>42</td>\n",
              "      <td>42</td>\n",
              "      <td>42</td>\n",
              "      <td>42</td>\n",
              "      <td>42</td>\n",
              "      <td>42</td>\n",
              "      <td>42</td>\n",
              "      <td>42</td>\n",
              "      <td>42</td>\n",
              "      <td>...</td>\n",
              "      <td>42</td>\n",
              "      <td>42</td>\n",
              "      <td>42</td>\n",
              "      <td>42</td>\n",
              "      <td>42</td>\n",
              "      <td>42</td>\n",
              "      <td>42</td>\n",
              "      <td>42</td>\n",
              "      <td>42</td>\n",
              "      <td>42</td>\n",
              "    </tr>\n",
              "    <tr>\n",
              "      <th>DDoS attacks-LOIC-HTTP</th>\n",
              "      <td>6146</td>\n",
              "      <td>6146</td>\n",
              "      <td>6146</td>\n",
              "      <td>6146</td>\n",
              "      <td>6146</td>\n",
              "      <td>6146</td>\n",
              "      <td>6146</td>\n",
              "      <td>6146</td>\n",
              "      <td>6146</td>\n",
              "      <td>6146</td>\n",
              "      <td>...</td>\n",
              "      <td>6146</td>\n",
              "      <td>6146</td>\n",
              "      <td>6146</td>\n",
              "      <td>6146</td>\n",
              "      <td>6146</td>\n",
              "      <td>6146</td>\n",
              "      <td>6146</td>\n",
              "      <td>6146</td>\n",
              "      <td>6146</td>\n",
              "      <td>6146</td>\n",
              "    </tr>\n",
              "    <tr>\n",
              "      <th>DoS attacks-GoldenEye</th>\n",
              "      <td>554</td>\n",
              "      <td>554</td>\n",
              "      <td>554</td>\n",
              "      <td>554</td>\n",
              "      <td>554</td>\n",
              "      <td>554</td>\n",
              "      <td>554</td>\n",
              "      <td>554</td>\n",
              "      <td>554</td>\n",
              "      <td>554</td>\n",
              "      <td>...</td>\n",
              "      <td>554</td>\n",
              "      <td>554</td>\n",
              "      <td>554</td>\n",
              "      <td>554</td>\n",
              "      <td>554</td>\n",
              "      <td>554</td>\n",
              "      <td>554</td>\n",
              "      <td>554</td>\n",
              "      <td>554</td>\n",
              "      <td>554</td>\n",
              "    </tr>\n",
              "    <tr>\n",
              "      <th>DoS attacks-Hulk</th>\n",
              "      <td>8653</td>\n",
              "      <td>8653</td>\n",
              "      <td>8653</td>\n",
              "      <td>8653</td>\n",
              "      <td>8653</td>\n",
              "      <td>8653</td>\n",
              "      <td>8653</td>\n",
              "      <td>8653</td>\n",
              "      <td>8653</td>\n",
              "      <td>8653</td>\n",
              "      <td>...</td>\n",
              "      <td>8653</td>\n",
              "      <td>8653</td>\n",
              "      <td>8653</td>\n",
              "      <td>8653</td>\n",
              "      <td>8653</td>\n",
              "      <td>8653</td>\n",
              "      <td>8653</td>\n",
              "      <td>8653</td>\n",
              "      <td>8653</td>\n",
              "      <td>8653</td>\n",
              "    </tr>\n",
              "    <tr>\n",
              "      <th>DoS attacks-SlowHTTPTest</th>\n",
              "      <td>282</td>\n",
              "      <td>282</td>\n",
              "      <td>282</td>\n",
              "      <td>282</td>\n",
              "      <td>282</td>\n",
              "      <td>282</td>\n",
              "      <td>282</td>\n",
              "      <td>282</td>\n",
              "      <td>282</td>\n",
              "      <td>282</td>\n",
              "      <td>...</td>\n",
              "      <td>282</td>\n",
              "      <td>282</td>\n",
              "      <td>282</td>\n",
              "      <td>282</td>\n",
              "      <td>282</td>\n",
              "      <td>282</td>\n",
              "      <td>282</td>\n",
              "      <td>282</td>\n",
              "      <td>282</td>\n",
              "      <td>282</td>\n",
              "    </tr>\n",
              "    <tr>\n",
              "      <th>DoS attacks-Slowloris</th>\n",
              "      <td>190</td>\n",
              "      <td>190</td>\n",
              "      <td>190</td>\n",
              "      <td>190</td>\n",
              "      <td>190</td>\n",
              "      <td>190</td>\n",
              "      <td>190</td>\n",
              "      <td>190</td>\n",
              "      <td>190</td>\n",
              "      <td>190</td>\n",
              "      <td>...</td>\n",
              "      <td>190</td>\n",
              "      <td>190</td>\n",
              "      <td>190</td>\n",
              "      <td>190</td>\n",
              "      <td>190</td>\n",
              "      <td>190</td>\n",
              "      <td>190</td>\n",
              "      <td>190</td>\n",
              "      <td>190</td>\n",
              "      <td>190</td>\n",
              "    </tr>\n",
              "    <tr>\n",
              "      <th>FTP-BruteForce</th>\n",
              "      <td>519</td>\n",
              "      <td>519</td>\n",
              "      <td>519</td>\n",
              "      <td>519</td>\n",
              "      <td>519</td>\n",
              "      <td>519</td>\n",
              "      <td>519</td>\n",
              "      <td>519</td>\n",
              "      <td>519</td>\n",
              "      <td>519</td>\n",
              "      <td>...</td>\n",
              "      <td>519</td>\n",
              "      <td>519</td>\n",
              "      <td>519</td>\n",
              "      <td>519</td>\n",
              "      <td>519</td>\n",
              "      <td>519</td>\n",
              "      <td>519</td>\n",
              "      <td>519</td>\n",
              "      <td>519</td>\n",
              "      <td>519</td>\n",
              "    </tr>\n",
              "    <tr>\n",
              "      <th>Infilteration</th>\n",
              "      <td>2327</td>\n",
              "      <td>2327</td>\n",
              "      <td>2327</td>\n",
              "      <td>2327</td>\n",
              "      <td>2327</td>\n",
              "      <td>2327</td>\n",
              "      <td>2327</td>\n",
              "      <td>2327</td>\n",
              "      <td>2327</td>\n",
              "      <td>2327</td>\n",
              "      <td>...</td>\n",
              "      <td>2327</td>\n",
              "      <td>2327</td>\n",
              "      <td>2327</td>\n",
              "      <td>2327</td>\n",
              "      <td>2327</td>\n",
              "      <td>2327</td>\n",
              "      <td>2327</td>\n",
              "      <td>2327</td>\n",
              "      <td>2327</td>\n",
              "      <td>2327</td>\n",
              "    </tr>\n",
              "    <tr>\n",
              "      <th>SQL Injection</th>\n",
              "      <td>9</td>\n",
              "      <td>9</td>\n",
              "      <td>9</td>\n",
              "      <td>9</td>\n",
              "      <td>9</td>\n",
              "      <td>9</td>\n",
              "      <td>9</td>\n",
              "      <td>9</td>\n",
              "      <td>9</td>\n",
              "      <td>9</td>\n",
              "      <td>...</td>\n",
              "      <td>9</td>\n",
              "      <td>9</td>\n",
              "      <td>9</td>\n",
              "      <td>9</td>\n",
              "      <td>9</td>\n",
              "      <td>9</td>\n",
              "      <td>9</td>\n",
              "      <td>9</td>\n",
              "      <td>9</td>\n",
              "      <td>9</td>\n",
              "    </tr>\n",
              "    <tr>\n",
              "      <th>SSH-Bruteforce</th>\n",
              "      <td>1900</td>\n",
              "      <td>1900</td>\n",
              "      <td>1900</td>\n",
              "      <td>1900</td>\n",
              "      <td>1900</td>\n",
              "      <td>1900</td>\n",
              "      <td>1900</td>\n",
              "      <td>1900</td>\n",
              "      <td>1900</td>\n",
              "      <td>1900</td>\n",
              "      <td>...</td>\n",
              "      <td>1900</td>\n",
              "      <td>1900</td>\n",
              "      <td>1900</td>\n",
              "      <td>1900</td>\n",
              "      <td>1900</td>\n",
              "      <td>1900</td>\n",
              "      <td>1900</td>\n",
              "      <td>1900</td>\n",
              "      <td>1900</td>\n",
              "      <td>1900</td>\n",
              "    </tr>\n",
              "  </tbody>\n",
              "</table>\n",
              "<p>15 rows × 42 columns</p>\n",
              "</div>"
            ],
            "text/plain": [
              "                          IPV4_SRC_ADDR  IPV4_DST_ADDR  PROTOCOL  L7_PROTO  \\\n",
              "Attack                                                                       \n",
              "Benign                           332711         332711    332711    332711   \n",
              "Bot                                2862           2862      2862      2862   \n",
              "Brute Force -Web                     43             43        43        43   \n",
              "Brute Force -XSS                     19             19        19        19   \n",
              "DDOS attack-HOIC                  21617          21617     21617     21617   \n",
              "DDOS attack-LOIC-UDP                 42             42        42        42   \n",
              "DDoS attacks-LOIC-HTTP             6146           6146      6146      6146   \n",
              "DoS attacks-GoldenEye               554            554       554       554   \n",
              "DoS attacks-Hulk                   8653           8653      8653      8653   \n",
              "DoS attacks-SlowHTTPTest            282            282       282       282   \n",
              "DoS attacks-Slowloris               190            190       190       190   \n",
              "FTP-BruteForce                      519            519       519       519   \n",
              "Infilteration                      2327           2327      2327      2327   \n",
              "SQL Injection                         9              9         9         9   \n",
              "SSH-Bruteforce                     1900           1900      1900      1900   \n",
              "\n",
              "                          IN_BYTES  IN_PKTS  OUT_BYTES  OUT_PKTS  TCP_FLAGS  \\\n",
              "Attack                                                                        \n",
              "Benign                      332711   332711     332711    332711     332711   \n",
              "Bot                           2862     2862       2862      2862       2862   \n",
              "Brute Force -Web                43       43         43        43         43   \n",
              "Brute Force -XSS                19       19         19        19         19   \n",
              "DDOS attack-HOIC             21617    21617      21617     21617      21617   \n",
              "DDOS attack-LOIC-UDP            42       42         42        42         42   \n",
              "DDoS attacks-LOIC-HTTP        6146     6146       6146      6146       6146   \n",
              "DoS attacks-GoldenEye          554      554        554       554        554   \n",
              "DoS attacks-Hulk              8653     8653       8653      8653       8653   \n",
              "DoS attacks-SlowHTTPTest       282      282        282       282        282   \n",
              "DoS attacks-Slowloris          190      190        190       190        190   \n",
              "FTP-BruteForce                 519      519        519       519        519   \n",
              "Infilteration                 2327     2327       2327      2327       2327   \n",
              "SQL Injection                    9        9          9         9          9   \n",
              "SSH-Bruteforce                1900     1900       1900      1900       1900   \n",
              "\n",
              "                          CLIENT_TCP_FLAGS  ...  NUM_PKTS_1024_TO_1514_BYTES  \\\n",
              "Attack                                      ...                                \n",
              "Benign                              332711  ...                       332711   \n",
              "Bot                                   2862  ...                         2862   \n",
              "Brute Force -Web                        43  ...                           43   \n",
              "Brute Force -XSS                        19  ...                           19   \n",
              "DDOS attack-HOIC                     21617  ...                        21617   \n",
              "DDOS attack-LOIC-UDP                    42  ...                           42   \n",
              "DDoS attacks-LOIC-HTTP                6146  ...                         6146   \n",
              "DoS attacks-GoldenEye                  554  ...                          554   \n",
              "DoS attacks-Hulk                      8653  ...                         8653   \n",
              "DoS attacks-SlowHTTPTest               282  ...                          282   \n",
              "DoS attacks-Slowloris                  190  ...                          190   \n",
              "FTP-BruteForce                         519  ...                          519   \n",
              "Infilteration                         2327  ...                         2327   \n",
              "SQL Injection                            9  ...                            9   \n",
              "SSH-Bruteforce                        1900  ...                         1900   \n",
              "\n",
              "                          TCP_WIN_MAX_IN  TCP_WIN_MAX_OUT  ICMP_TYPE  \\\n",
              "Attack                                                                 \n",
              "Benign                            332711           332711     332711   \n",
              "Bot                                 2862             2862       2862   \n",
              "Brute Force -Web                      43               43         43   \n",
              "Brute Force -XSS                      19               19         19   \n",
              "DDOS attack-HOIC                   21617            21617      21617   \n",
              "DDOS attack-LOIC-UDP                  42               42         42   \n",
              "DDoS attacks-LOIC-HTTP              6146             6146       6146   \n",
              "DoS attacks-GoldenEye                554              554        554   \n",
              "DoS attacks-Hulk                    8653             8653       8653   \n",
              "DoS attacks-SlowHTTPTest             282              282        282   \n",
              "DoS attacks-Slowloris                190              190        190   \n",
              "FTP-BruteForce                       519              519        519   \n",
              "Infilteration                       2327             2327       2327   \n",
              "SQL Injection                          9                9          9   \n",
              "SSH-Bruteforce                      1900             1900       1900   \n",
              "\n",
              "                          ICMP_IPV4_TYPE  DNS_QUERY_ID  DNS_QUERY_TYPE  \\\n",
              "Attack                                                                   \n",
              "Benign                            332711        332711          332711   \n",
              "Bot                                 2862          2862            2862   \n",
              "Brute Force -Web                      43            43              43   \n",
              "Brute Force -XSS                      19            19              19   \n",
              "DDOS attack-HOIC                   21617         21617           21617   \n",
              "DDOS attack-LOIC-UDP                  42            42              42   \n",
              "DDoS attacks-LOIC-HTTP              6146          6146            6146   \n",
              "DoS attacks-GoldenEye                554           554             554   \n",
              "DoS attacks-Hulk                    8653          8653            8653   \n",
              "DoS attacks-SlowHTTPTest             282           282             282   \n",
              "DoS attacks-Slowloris                190           190             190   \n",
              "FTP-BruteForce                       519           519             519   \n",
              "Infilteration                       2327          2327            2327   \n",
              "SQL Injection                          9             9               9   \n",
              "SSH-Bruteforce                      1900          1900            1900   \n",
              "\n",
              "                          DNS_TTL_ANSWER  FTP_COMMAND_RET_CODE   Label  \n",
              "Attack                                                                  \n",
              "Benign                            332711                332711  332711  \n",
              "Bot                                 2862                  2862    2862  \n",
              "Brute Force -Web                      43                    43      43  \n",
              "Brute Force -XSS                      19                    19      19  \n",
              "DDOS attack-HOIC                   21617                 21617   21617  \n",
              "DDOS attack-LOIC-UDP                  42                    42      42  \n",
              "DDoS attacks-LOIC-HTTP              6146                  6146    6146  \n",
              "DoS attacks-GoldenEye                554                   554     554  \n",
              "DoS attacks-Hulk                    8653                  8653    8653  \n",
              "DoS attacks-SlowHTTPTest             282                   282     282  \n",
              "DoS attacks-Slowloris                190                   190     190  \n",
              "FTP-BruteForce                       519                   519     519  \n",
              "Infilteration                       2327                  2327    2327  \n",
              "SQL Injection                          9                     9       9  \n",
              "SSH-Bruteforce                      1900                  1900    1900  \n",
              "\n",
              "[15 rows x 42 columns]"
            ]
          },
          "execution_count": 14,
          "metadata": {},
          "output_type": "execute_result"
        }
      ],
      "source": [
        "data.groupby(by=\"Attack\").count()"
      ]
    },
    {
      "cell_type": "code",
      "execution_count": 15,
      "metadata": {},
      "outputs": [
        {
          "data": {
            "text/html": [
              "<div>\n",
              "<style scoped>\n",
              "    .dataframe tbody tr th:only-of-type {\n",
              "        vertical-align: middle;\n",
              "    }\n",
              "\n",
              "    .dataframe tbody tr th {\n",
              "        vertical-align: top;\n",
              "    }\n",
              "\n",
              "    .dataframe thead th {\n",
              "        text-align: right;\n",
              "    }\n",
              "</style>\n",
              "<table border=\"1\" class=\"dataframe\">\n",
              "  <thead>\n",
              "    <tr style=\"text-align: right;\">\n",
              "      <th></th>\n",
              "      <th>IPV4_SRC_ADDR</th>\n",
              "      <th>IPV4_DST_ADDR</th>\n",
              "      <th>PROTOCOL</th>\n",
              "      <th>L7_PROTO</th>\n",
              "      <th>IN_BYTES</th>\n",
              "      <th>IN_PKTS</th>\n",
              "      <th>OUT_BYTES</th>\n",
              "      <th>OUT_PKTS</th>\n",
              "      <th>TCP_FLAGS</th>\n",
              "      <th>CLIENT_TCP_FLAGS</th>\n",
              "      <th>...</th>\n",
              "      <th>NUM_PKTS_1024_TO_1514_BYTES</th>\n",
              "      <th>TCP_WIN_MAX_IN</th>\n",
              "      <th>TCP_WIN_MAX_OUT</th>\n",
              "      <th>ICMP_TYPE</th>\n",
              "      <th>ICMP_IPV4_TYPE</th>\n",
              "      <th>DNS_QUERY_ID</th>\n",
              "      <th>DNS_QUERY_TYPE</th>\n",
              "      <th>DNS_TTL_ANSWER</th>\n",
              "      <th>FTP_COMMAND_RET_CODE</th>\n",
              "      <th>Label</th>\n",
              "    </tr>\n",
              "    <tr>\n",
              "      <th>Attack</th>\n",
              "      <th></th>\n",
              "      <th></th>\n",
              "      <th></th>\n",
              "      <th></th>\n",
              "      <th></th>\n",
              "      <th></th>\n",
              "      <th></th>\n",
              "      <th></th>\n",
              "      <th></th>\n",
              "      <th></th>\n",
              "      <th></th>\n",
              "      <th></th>\n",
              "      <th></th>\n",
              "      <th></th>\n",
              "      <th></th>\n",
              "      <th></th>\n",
              "      <th></th>\n",
              "      <th></th>\n",
              "      <th></th>\n",
              "      <th></th>\n",
              "      <th></th>\n",
              "    </tr>\n",
              "  </thead>\n",
              "  <tbody>\n",
              "    <tr>\n",
              "      <th>Benign</th>\n",
              "      <td>8075</td>\n",
              "      <td>8075</td>\n",
              "      <td>8075</td>\n",
              "      <td>8075</td>\n",
              "      <td>8075</td>\n",
              "      <td>8075</td>\n",
              "      <td>8075</td>\n",
              "      <td>8075</td>\n",
              "      <td>8075</td>\n",
              "      <td>8075</td>\n",
              "      <td>...</td>\n",
              "      <td>8075</td>\n",
              "      <td>8075</td>\n",
              "      <td>8075</td>\n",
              "      <td>8075</td>\n",
              "      <td>8075</td>\n",
              "      <td>8075</td>\n",
              "      <td>8075</td>\n",
              "      <td>8075</td>\n",
              "      <td>8075</td>\n",
              "      <td>8075</td>\n",
              "    </tr>\n",
              "    <tr>\n",
              "      <th>Brute Force -Web</th>\n",
              "      <td>4455</td>\n",
              "      <td>4455</td>\n",
              "      <td>4455</td>\n",
              "      <td>4455</td>\n",
              "      <td>4455</td>\n",
              "      <td>4455</td>\n",
              "      <td>4455</td>\n",
              "      <td>4455</td>\n",
              "      <td>4455</td>\n",
              "      <td>4455</td>\n",
              "      <td>...</td>\n",
              "      <td>4455</td>\n",
              "      <td>4455</td>\n",
              "      <td>4455</td>\n",
              "      <td>4455</td>\n",
              "      <td>4455</td>\n",
              "      <td>4455</td>\n",
              "      <td>4455</td>\n",
              "      <td>4455</td>\n",
              "      <td>4455</td>\n",
              "      <td>4455</td>\n",
              "    </tr>\n",
              "    <tr>\n",
              "      <th>Brute Force -XSS</th>\n",
              "      <td>410</td>\n",
              "      <td>410</td>\n",
              "      <td>410</td>\n",
              "      <td>410</td>\n",
              "      <td>410</td>\n",
              "      <td>410</td>\n",
              "      <td>410</td>\n",
              "      <td>410</td>\n",
              "      <td>410</td>\n",
              "      <td>410</td>\n",
              "      <td>...</td>\n",
              "      <td>410</td>\n",
              "      <td>410</td>\n",
              "      <td>410</td>\n",
              "      <td>410</td>\n",
              "      <td>410</td>\n",
              "      <td>410</td>\n",
              "      <td>410</td>\n",
              "      <td>410</td>\n",
              "      <td>410</td>\n",
              "      <td>410</td>\n",
              "    </tr>\n",
              "    <tr>\n",
              "      <th>DoS attacks-Hulk</th>\n",
              "      <td>3995</td>\n",
              "      <td>3995</td>\n",
              "      <td>3995</td>\n",
              "      <td>3995</td>\n",
              "      <td>3995</td>\n",
              "      <td>3995</td>\n",
              "      <td>3995</td>\n",
              "      <td>3995</td>\n",
              "      <td>3995</td>\n",
              "      <td>3995</td>\n",
              "      <td>...</td>\n",
              "      <td>3995</td>\n",
              "      <td>3995</td>\n",
              "      <td>3995</td>\n",
              "      <td>3995</td>\n",
              "      <td>3995</td>\n",
              "      <td>3995</td>\n",
              "      <td>3995</td>\n",
              "      <td>3995</td>\n",
              "      <td>3995</td>\n",
              "      <td>3995</td>\n",
              "    </tr>\n",
              "    <tr>\n",
              "      <th>DoS attacks-SlowHTTPTest</th>\n",
              "      <td>1954</td>\n",
              "      <td>1954</td>\n",
              "      <td>1954</td>\n",
              "      <td>1954</td>\n",
              "      <td>1954</td>\n",
              "      <td>1954</td>\n",
              "      <td>1954</td>\n",
              "      <td>1954</td>\n",
              "      <td>1954</td>\n",
              "      <td>1954</td>\n",
              "      <td>...</td>\n",
              "      <td>1954</td>\n",
              "      <td>1954</td>\n",
              "      <td>1954</td>\n",
              "      <td>1954</td>\n",
              "      <td>1954</td>\n",
              "      <td>1954</td>\n",
              "      <td>1954</td>\n",
              "      <td>1954</td>\n",
              "      <td>1954</td>\n",
              "      <td>1954</td>\n",
              "    </tr>\n",
              "    <tr>\n",
              "      <th>DoS attacks-Slowloris</th>\n",
              "      <td>1946</td>\n",
              "      <td>1946</td>\n",
              "      <td>1946</td>\n",
              "      <td>1946</td>\n",
              "      <td>1946</td>\n",
              "      <td>1946</td>\n",
              "      <td>1946</td>\n",
              "      <td>1946</td>\n",
              "      <td>1946</td>\n",
              "      <td>1946</td>\n",
              "      <td>...</td>\n",
              "      <td>1946</td>\n",
              "      <td>1946</td>\n",
              "      <td>1946</td>\n",
              "      <td>1946</td>\n",
              "      <td>1946</td>\n",
              "      <td>1946</td>\n",
              "      <td>1946</td>\n",
              "      <td>1946</td>\n",
              "      <td>1946</td>\n",
              "      <td>1946</td>\n",
              "    </tr>\n",
              "    <tr>\n",
              "      <th>FTP-BruteForce</th>\n",
              "      <td>544</td>\n",
              "      <td>544</td>\n",
              "      <td>544</td>\n",
              "      <td>544</td>\n",
              "      <td>544</td>\n",
              "      <td>544</td>\n",
              "      <td>544</td>\n",
              "      <td>544</td>\n",
              "      <td>544</td>\n",
              "      <td>544</td>\n",
              "      <td>...</td>\n",
              "      <td>544</td>\n",
              "      <td>544</td>\n",
              "      <td>544</td>\n",
              "      <td>544</td>\n",
              "      <td>544</td>\n",
              "      <td>544</td>\n",
              "      <td>544</td>\n",
              "      <td>544</td>\n",
              "      <td>544</td>\n",
              "      <td>544</td>\n",
              "    </tr>\n",
              "    <tr>\n",
              "      <th>Infilteration</th>\n",
              "      <td>4996</td>\n",
              "      <td>4996</td>\n",
              "      <td>4996</td>\n",
              "      <td>4996</td>\n",
              "      <td>4996</td>\n",
              "      <td>4996</td>\n",
              "      <td>4996</td>\n",
              "      <td>4996</td>\n",
              "      <td>4996</td>\n",
              "      <td>4996</td>\n",
              "      <td>...</td>\n",
              "      <td>4996</td>\n",
              "      <td>4996</td>\n",
              "      <td>4996</td>\n",
              "      <td>4996</td>\n",
              "      <td>4996</td>\n",
              "      <td>4996</td>\n",
              "      <td>4996</td>\n",
              "      <td>4996</td>\n",
              "      <td>4996</td>\n",
              "      <td>4996</td>\n",
              "    </tr>\n",
              "    <tr>\n",
              "      <th>SQL Injection</th>\n",
              "      <td>654</td>\n",
              "      <td>654</td>\n",
              "      <td>654</td>\n",
              "      <td>654</td>\n",
              "      <td>654</td>\n",
              "      <td>654</td>\n",
              "      <td>654</td>\n",
              "      <td>654</td>\n",
              "      <td>654</td>\n",
              "      <td>654</td>\n",
              "      <td>...</td>\n",
              "      <td>654</td>\n",
              "      <td>654</td>\n",
              "      <td>654</td>\n",
              "      <td>654</td>\n",
              "      <td>654</td>\n",
              "      <td>654</td>\n",
              "      <td>654</td>\n",
              "      <td>654</td>\n",
              "      <td>654</td>\n",
              "      <td>654</td>\n",
              "    </tr>\n",
              "    <tr>\n",
              "      <th>SSH-Bruteforce</th>\n",
              "      <td>57</td>\n",
              "      <td>57</td>\n",
              "      <td>57</td>\n",
              "      <td>57</td>\n",
              "      <td>57</td>\n",
              "      <td>57</td>\n",
              "      <td>57</td>\n",
              "      <td>57</td>\n",
              "      <td>57</td>\n",
              "      <td>57</td>\n",
              "      <td>...</td>\n",
              "      <td>57</td>\n",
              "      <td>57</td>\n",
              "      <td>57</td>\n",
              "      <td>57</td>\n",
              "      <td>57</td>\n",
              "      <td>57</td>\n",
              "      <td>57</td>\n",
              "      <td>57</td>\n",
              "      <td>57</td>\n",
              "      <td>57</td>\n",
              "    </tr>\n",
              "  </tbody>\n",
              "</table>\n",
              "<p>10 rows × 42 columns</p>\n",
              "</div>"
            ],
            "text/plain": [
              "                          IPV4_SRC_ADDR  IPV4_DST_ADDR  PROTOCOL  L7_PROTO  \\\n",
              "Attack                                                                       \n",
              "Benign                             8075           8075      8075      8075   \n",
              "Brute Force -Web                   4455           4455      4455      4455   \n",
              "Brute Force -XSS                    410            410       410       410   \n",
              "DoS attacks-Hulk                   3995           3995      3995      3995   \n",
              "DoS attacks-SlowHTTPTest           1954           1954      1954      1954   \n",
              "DoS attacks-Slowloris              1946           1946      1946      1946   \n",
              "FTP-BruteForce                      544            544       544       544   \n",
              "Infilteration                      4996           4996      4996      4996   \n",
              "SQL Injection                       654            654       654       654   \n",
              "SSH-Bruteforce                       57             57        57        57   \n",
              "\n",
              "                          IN_BYTES  IN_PKTS  OUT_BYTES  OUT_PKTS  TCP_FLAGS  \\\n",
              "Attack                                                                        \n",
              "Benign                        8075     8075       8075      8075       8075   \n",
              "Brute Force -Web              4455     4455       4455      4455       4455   \n",
              "Brute Force -XSS               410      410        410       410        410   \n",
              "DoS attacks-Hulk              3995     3995       3995      3995       3995   \n",
              "DoS attacks-SlowHTTPTest      1954     1954       1954      1954       1954   \n",
              "DoS attacks-Slowloris         1946     1946       1946      1946       1946   \n",
              "FTP-BruteForce                 544      544        544       544        544   \n",
              "Infilteration                 4996     4996       4996      4996       4996   \n",
              "SQL Injection                  654      654        654       654        654   \n",
              "SSH-Bruteforce                  57       57         57        57         57   \n",
              "\n",
              "                          CLIENT_TCP_FLAGS  ...  NUM_PKTS_1024_TO_1514_BYTES  \\\n",
              "Attack                                      ...                                \n",
              "Benign                                8075  ...                         8075   \n",
              "Brute Force -Web                      4455  ...                         4455   \n",
              "Brute Force -XSS                       410  ...                          410   \n",
              "DoS attacks-Hulk                      3995  ...                         3995   \n",
              "DoS attacks-SlowHTTPTest              1954  ...                         1954   \n",
              "DoS attacks-Slowloris                 1946  ...                         1946   \n",
              "FTP-BruteForce                         544  ...                          544   \n",
              "Infilteration                         4996  ...                         4996   \n",
              "SQL Injection                          654  ...                          654   \n",
              "SSH-Bruteforce                          57  ...                           57   \n",
              "\n",
              "                          TCP_WIN_MAX_IN  TCP_WIN_MAX_OUT  ICMP_TYPE  \\\n",
              "Attack                                                                 \n",
              "Benign                              8075             8075       8075   \n",
              "Brute Force -Web                    4455             4455       4455   \n",
              "Brute Force -XSS                     410              410        410   \n",
              "DoS attacks-Hulk                    3995             3995       3995   \n",
              "DoS attacks-SlowHTTPTest            1954             1954       1954   \n",
              "DoS attacks-Slowloris               1946             1946       1946   \n",
              "FTP-BruteForce                       544              544        544   \n",
              "Infilteration                       4996             4996       4996   \n",
              "SQL Injection                        654              654        654   \n",
              "SSH-Bruteforce                        57               57         57   \n",
              "\n",
              "                          ICMP_IPV4_TYPE  DNS_QUERY_ID  DNS_QUERY_TYPE  \\\n",
              "Attack                                                                   \n",
              "Benign                              8075          8075            8075   \n",
              "Brute Force -Web                    4455          4455            4455   \n",
              "Brute Force -XSS                     410           410             410   \n",
              "DoS attacks-Hulk                    3995          3995            3995   \n",
              "DoS attacks-SlowHTTPTest            1954          1954            1954   \n",
              "DoS attacks-Slowloris               1946          1946            1946   \n",
              "FTP-BruteForce                       544           544             544   \n",
              "Infilteration                       4996          4996            4996   \n",
              "SQL Injection                        654           654             654   \n",
              "SSH-Bruteforce                        57            57              57   \n",
              "\n",
              "                          DNS_TTL_ANSWER  FTP_COMMAND_RET_CODE  Label  \n",
              "Attack                                                                 \n",
              "Benign                              8075                  8075   8075  \n",
              "Brute Force -Web                    4455                  4455   4455  \n",
              "Brute Force -XSS                     410                   410    410  \n",
              "DoS attacks-Hulk                    3995                  3995   3995  \n",
              "DoS attacks-SlowHTTPTest            1954                  1954   1954  \n",
              "DoS attacks-Slowloris               1946                  1946   1946  \n",
              "FTP-BruteForce                       544                   544    544  \n",
              "Infilteration                       4996                  4996   4996  \n",
              "SQL Injection                        654                   654    654  \n",
              "SSH-Bruteforce                        57                    57     57  \n",
              "\n",
              "[10 rows x 42 columns]"
            ]
          },
          "execution_count": 15,
          "metadata": {},
          "output_type": "execute_result"
        }
      ],
      "source": [
        "##ADDED\n",
        "test_data.groupby(by=\"Attack\").count()\n",
        "##"
      ]
    },
    {
      "cell_type": "code",
      "execution_count": 16,
      "metadata": {
        "id": "FqRx5xCPOuv8"
      },
      "outputs": [],
      "source": [
        "X = data.drop(columns=[\"Attack\", \"Label\"])\n",
        "y = data[[\"Attack\", \"Label\"]]\n",
        "\n",
        "# X_train, X_test, y_train, y_test = train_test_split(\n",
        "#         X, y, test_size=0.3, random_state=13, stratify=y)\n",
        "##ADDED\n",
        "X_train, y_train = X, y\n",
        "X_test = test_data.drop(columns=[\"Attack\", \"Label\"])\n",
        "y_test = test_data[[\"Attack\", \"Label\"]]\n",
        "##"
      ]
    },
    {
      "cell_type": "code",
      "execution_count": 17,
      "metadata": {
        "id": "bPfakXplPGGx"
      },
      "outputs": [],
      "source": [
        "encoder = ce.TargetEncoder(cols=['TCP_FLAGS','L7_PROTO','PROTOCOL',\n",
        "                                  'CLIENT_TCP_FLAGS','SERVER_TCP_FLAGS','ICMP_TYPE',\n",
        "                                  'ICMP_IPV4_TYPE','DNS_QUERY_ID','DNS_QUERY_TYPE',\n",
        "                                  'FTP_COMMAND_RET_CODE'])\n",
        "encoder.fit(X_train, y_train.Label)\n",
        "\n",
        "# Transform on training set\n",
        "X_train = encoder.transform(X_train)\n",
        "\n",
        "# Transform on testing set\n",
        "X_test = encoder.transform(X_test)"
      ]
    },
    {
      "cell_type": "code",
      "execution_count": 18,
      "metadata": {
        "id": "ibyOfV-8PouK"
      },
      "outputs": [],
      "source": [
        "X_train.replace([np.inf, -np.inf], np.nan, inplace=True)\n",
        "X_test.replace([np.inf, -np.inf], np.nan, inplace=True)\n",
        "X_train.fillna(0, inplace=True)\n",
        "X_test.fillna(0, inplace=True)"
      ]
    },
    {
      "cell_type": "code",
      "execution_count": 19,
      "metadata": {
        "id": "asDnsSIWPee0"
      },
      "outputs": [],
      "source": [
        "scaler = Normalizer()\n",
        "cols_to_norm = list(set(list(X_train.iloc[:, 2:].columns))) # Ignore first two as the represents IP addresses\n",
        "scaler.fit(X_train[cols_to_norm])\n",
        "\n",
        "# Transform on training set\n",
        "X_train[cols_to_norm] = scaler.transform(X_train[cols_to_norm])\n",
        "X_train['h'] = X_train.iloc[:, 2:].values.tolist()\n",
        "\n",
        "# Transform on testing set\n",
        "X_test[cols_to_norm] = scaler.transform(X_test[cols_to_norm])\n",
        "X_test['h'] = X_test.iloc[:, 2:].values.tolist()\n",
        "\n",
        "train = pd.concat([X_train, y_train], axis=1)\n",
        "test = pd.concat([X_test, y_test], axis=1)"
      ]
    },
    {
      "cell_type": "code",
      "execution_count": 20,
      "metadata": {
        "colab": {
          "base_uri": "https://localhost:8080/",
          "height": 357
        },
        "id": "hErQbsnrPluV",
        "outputId": "c4dbe223-89d5-48f5-800d-16512a77e66c"
      },
      "outputs": [
        {
          "data": {
            "text/html": [
              "<div>\n",
              "<style scoped>\n",
              "    .dataframe tbody tr th:only-of-type {\n",
              "        vertical-align: middle;\n",
              "    }\n",
              "\n",
              "    .dataframe tbody tr th {\n",
              "        vertical-align: top;\n",
              "    }\n",
              "\n",
              "    .dataframe thead th {\n",
              "        text-align: right;\n",
              "    }\n",
              "</style>\n",
              "<table border=\"1\" class=\"dataframe\">\n",
              "  <thead>\n",
              "    <tr style=\"text-align: right;\">\n",
              "      <th></th>\n",
              "      <th>IPV4_SRC_ADDR</th>\n",
              "      <th>IPV4_DST_ADDR</th>\n",
              "      <th>PROTOCOL</th>\n",
              "      <th>L7_PROTO</th>\n",
              "      <th>IN_BYTES</th>\n",
              "      <th>IN_PKTS</th>\n",
              "      <th>OUT_BYTES</th>\n",
              "      <th>OUT_PKTS</th>\n",
              "      <th>TCP_FLAGS</th>\n",
              "      <th>CLIENT_TCP_FLAGS</th>\n",
              "      <th>...</th>\n",
              "      <th>NUM_PKTS_1024_TO_1514_BYTES</th>\n",
              "      <th>TCP_WIN_MAX_IN</th>\n",
              "      <th>TCP_WIN_MAX_OUT</th>\n",
              "      <th>ICMP_TYPE</th>\n",
              "      <th>ICMP_IPV4_TYPE</th>\n",
              "      <th>DNS_QUERY_ID</th>\n",
              "      <th>DNS_QUERY_TYPE</th>\n",
              "      <th>DNS_TTL_ANSWER</th>\n",
              "      <th>FTP_COMMAND_RET_CODE</th>\n",
              "      <th>h</th>\n",
              "    </tr>\n",
              "  </thead>\n",
              "  <tbody>\n",
              "    <tr>\n",
              "      <th>14549820</th>\n",
              "      <td>172.31.67.20</td>\n",
              "      <td>172.31.0.2</td>\n",
              "      <td>4.716236e-09</td>\n",
              "      <td>3.726003e-09</td>\n",
              "      <td>0.000034</td>\n",
              "      <td>4.275410e-07</td>\n",
              "      <td>0.000070</td>\n",
              "      <td>4.275410e-07</td>\n",
              "      <td>4.738929e-09</td>\n",
              "      <td>4.738929e-09</td>\n",
              "      <td>...</td>\n",
              "      <td>0.0</td>\n",
              "      <td>0.0</td>\n",
              "      <td>0.0</td>\n",
              "      <td>5.035451e-08</td>\n",
              "      <td>5.035451e-08</td>\n",
              "      <td>4.251542e-08</td>\n",
              "      <td>3.431984e-09</td>\n",
              "      <td>0.000026</td>\n",
              "      <td>5.109913e-08</td>\n",
              "      <td>[4.716236267708683e-09, 3.7260034863814994e-09...</td>\n",
              "    </tr>\n",
              "    <tr>\n",
              "      <th>13845100</th>\n",
              "      <td>172.31.66.55</td>\n",
              "      <td>172.31.0.2</td>\n",
              "      <td>5.658012e-09</td>\n",
              "      <td>5.282345e-09</td>\n",
              "      <td>0.000049</td>\n",
              "      <td>5.129157e-07</td>\n",
              "      <td>0.000115</td>\n",
              "      <td>5.129157e-07</td>\n",
              "      <td>5.685235e-09</td>\n",
              "      <td>5.685235e-09</td>\n",
              "      <td>...</td>\n",
              "      <td>0.0</td>\n",
              "      <td>0.0</td>\n",
              "      <td>0.0</td>\n",
              "      <td>6.040970e-08</td>\n",
              "      <td>6.040970e-08</td>\n",
              "      <td>5.260711e-08</td>\n",
              "      <td>4.632277e-09</td>\n",
              "      <td>0.000009</td>\n",
              "      <td>6.130301e-08</td>\n",
              "      <td>[5.6580115852816764e-09, 5.282345389367056e-09...</td>\n",
              "    </tr>\n",
              "    <tr>\n",
              "      <th>12678473</th>\n",
              "      <td>172.31.64.108</td>\n",
              "      <td>172.31.0.2</td>\n",
              "      <td>6.536759e-09</td>\n",
              "      <td>5.164284e-09</td>\n",
              "      <td>0.000038</td>\n",
              "      <td>5.925768e-07</td>\n",
              "      <td>0.000119</td>\n",
              "      <td>5.925768e-07</td>\n",
              "      <td>6.568210e-09</td>\n",
              "      <td>6.568210e-09</td>\n",
              "      <td>...</td>\n",
              "      <td>0.0</td>\n",
              "      <td>0.0</td>\n",
              "      <td>0.0</td>\n",
              "      <td>6.979194e-08</td>\n",
              "      <td>6.979194e-08</td>\n",
              "      <td>6.077753e-08</td>\n",
              "      <td>5.351717e-09</td>\n",
              "      <td>0.000036</td>\n",
              "      <td>7.082399e-08</td>\n",
              "      <td>[6.536758516223423e-09, 5.164284323040382e-09,...</td>\n",
              "    </tr>\n",
              "    <tr>\n",
              "      <th>17430018</th>\n",
              "      <td>172.31.64.85</td>\n",
              "      <td>172.31.0.2</td>\n",
              "      <td>1.209641e-08</td>\n",
              "      <td>9.556615e-09</td>\n",
              "      <td>0.000069</td>\n",
              "      <td>1.096576e-06</td>\n",
              "      <td>0.000104</td>\n",
              "      <td>1.096576e-06</td>\n",
              "      <td>1.215461e-08</td>\n",
              "      <td>1.215461e-08</td>\n",
              "      <td>...</td>\n",
              "      <td>0.0</td>\n",
              "      <td>0.0</td>\n",
              "      <td>0.0</td>\n",
              "      <td>1.291514e-07</td>\n",
              "      <td>1.291514e-07</td>\n",
              "      <td>1.108168e-07</td>\n",
              "      <td>9.903463e-09</td>\n",
              "      <td>0.000066</td>\n",
              "      <td>1.310613e-07</td>\n",
              "      <td>[1.209640656864491e-08, 9.556614743000617e-09,...</td>\n",
              "    </tr>\n",
              "    <tr>\n",
              "      <th>9445393</th>\n",
              "      <td>172.31.66.17</td>\n",
              "      <td>172.31.0.2</td>\n",
              "      <td>1.020752e-08</td>\n",
              "      <td>8.064322e-09</td>\n",
              "      <td>0.000054</td>\n",
              "      <td>9.253422e-07</td>\n",
              "      <td>0.000113</td>\n",
              "      <td>9.253422e-07</td>\n",
              "      <td>1.025663e-08</td>\n",
              "      <td>1.025663e-08</td>\n",
              "      <td>...</td>\n",
              "      <td>0.0</td>\n",
              "      <td>0.0</td>\n",
              "      <td>0.0</td>\n",
              "      <td>1.089841e-07</td>\n",
              "      <td>1.089841e-07</td>\n",
              "      <td>9.620624e-08</td>\n",
              "      <td>7.427965e-09</td>\n",
              "      <td>0.000056</td>\n",
              "      <td>1.105957e-07</td>\n",
              "      <td>[1.0207518382181606e-08, 8.064322251987139e-09...</td>\n",
              "    </tr>\n",
              "  </tbody>\n",
              "</table>\n",
              "<p>5 rows × 42 columns</p>\n",
              "</div>"
            ],
            "text/plain": [
              "          IPV4_SRC_ADDR IPV4_DST_ADDR      PROTOCOL      L7_PROTO  IN_BYTES  \\\n",
              "14549820   172.31.67.20    172.31.0.2  4.716236e-09  3.726003e-09  0.000034   \n",
              "13845100   172.31.66.55    172.31.0.2  5.658012e-09  5.282345e-09  0.000049   \n",
              "12678473  172.31.64.108    172.31.0.2  6.536759e-09  5.164284e-09  0.000038   \n",
              "17430018   172.31.64.85    172.31.0.2  1.209641e-08  9.556615e-09  0.000069   \n",
              "9445393    172.31.66.17    172.31.0.2  1.020752e-08  8.064322e-09  0.000054   \n",
              "\n",
              "               IN_PKTS  OUT_BYTES      OUT_PKTS     TCP_FLAGS  \\\n",
              "14549820  4.275410e-07   0.000070  4.275410e-07  4.738929e-09   \n",
              "13845100  5.129157e-07   0.000115  5.129157e-07  5.685235e-09   \n",
              "12678473  5.925768e-07   0.000119  5.925768e-07  6.568210e-09   \n",
              "17430018  1.096576e-06   0.000104  1.096576e-06  1.215461e-08   \n",
              "9445393   9.253422e-07   0.000113  9.253422e-07  1.025663e-08   \n",
              "\n",
              "          CLIENT_TCP_FLAGS  ...  NUM_PKTS_1024_TO_1514_BYTES  TCP_WIN_MAX_IN  \\\n",
              "14549820      4.738929e-09  ...                          0.0             0.0   \n",
              "13845100      5.685235e-09  ...                          0.0             0.0   \n",
              "12678473      6.568210e-09  ...                          0.0             0.0   \n",
              "17430018      1.215461e-08  ...                          0.0             0.0   \n",
              "9445393       1.025663e-08  ...                          0.0             0.0   \n",
              "\n",
              "          TCP_WIN_MAX_OUT     ICMP_TYPE  ICMP_IPV4_TYPE  DNS_QUERY_ID  \\\n",
              "14549820              0.0  5.035451e-08    5.035451e-08  4.251542e-08   \n",
              "13845100              0.0  6.040970e-08    6.040970e-08  5.260711e-08   \n",
              "12678473              0.0  6.979194e-08    6.979194e-08  6.077753e-08   \n",
              "17430018              0.0  1.291514e-07    1.291514e-07  1.108168e-07   \n",
              "9445393               0.0  1.089841e-07    1.089841e-07  9.620624e-08   \n",
              "\n",
              "          DNS_QUERY_TYPE  DNS_TTL_ANSWER  FTP_COMMAND_RET_CODE  \\\n",
              "14549820    3.431984e-09        0.000026          5.109913e-08   \n",
              "13845100    4.632277e-09        0.000009          6.130301e-08   \n",
              "12678473    5.351717e-09        0.000036          7.082399e-08   \n",
              "17430018    9.903463e-09        0.000066          1.310613e-07   \n",
              "9445393     7.427965e-09        0.000056          1.105957e-07   \n",
              "\n",
              "                                                          h  \n",
              "14549820  [4.716236267708683e-09, 3.7260034863814994e-09...  \n",
              "13845100  [5.6580115852816764e-09, 5.282345389367056e-09...  \n",
              "12678473  [6.536758516223423e-09, 5.164284323040382e-09,...  \n",
              "17430018  [1.209640656864491e-08, 9.556614743000617e-09,...  \n",
              "9445393   [1.0207518382181606e-08, 8.064322251987139e-09...  \n",
              "\n",
              "[5 rows x 42 columns]"
            ]
          },
          "execution_count": 20,
          "metadata": {},
          "output_type": "execute_result"
        }
      ],
      "source": [
        "X_train.head()"
      ]
    },
    {
      "cell_type": "code",
      "execution_count": 21,
      "metadata": {
        "id": "d_tLtK4WPtrF"
      },
      "outputs": [],
      "source": [
        "lab_enc = preprocessing.LabelEncoder()\n",
        "lab_enc.fit(data[\"Attack\"])\n",
        "\n",
        "# Transform on training set\n",
        "train[\"Attack\"] = lab_enc.transform(train[\"Attack\"])\n",
        "\n",
        "# Transform on testing set\n",
        "test[\"Attack\"] = lab_enc.transform(test[\"Attack\"])"
      ]
    },
    {
      "cell_type": "code",
      "execution_count": 22,
      "metadata": {
        "id": "8yaicjecP1fZ"
      },
      "outputs": [],
      "source": [
        "# Training graph\n",
        "\n",
        "train_g = nx.from_pandas_edgelist(train, \"IPV4_SRC_ADDR\", \"IPV4_DST_ADDR\",\n",
        "            [\"h\", \"Label\", \"Attack\"], create_using=nx.MultiGraph())\n",
        "\n",
        "train_g = train_g.to_directed()\n",
        "train_g = dgl.from_networkx(train_g, edge_attrs=['h', 'Attack', 'Label'])\n",
        "nfeat_weight = torch.ones([train_g.number_of_nodes(),\n",
        "train_g.edata['h'].shape[1]])\n",
        "train_g.ndata['h'] = nfeat_weight\n",
        "\n",
        "# Testing graph\n",
        "test_g = nx.from_pandas_edgelist(test, \"IPV4_SRC_ADDR\", \"IPV4_DST_ADDR\",\n",
        "            [\"h\", \"Label\", \"Attack\"], create_using=nx.MultiGraph())\n",
        "\n",
        "test_g = test_g.to_directed()\n",
        "test_g = dgl.from_networkx(test_g, edge_attrs=['h', 'Attack', 'Label'])\n",
        "nfeat_weight = torch.ones([test_g.number_of_nodes(),\n",
        "test_g.edata['h'].shape[1]])\n",
        "test_g.ndata['h'] = nfeat_weight"
      ]
    },
    {
      "cell_type": "code",
      "execution_count": 23,
      "metadata": {
        "id": "PUV6DgJ9QRaP"
      },
      "outputs": [],
      "source": [
        "import torch.nn as nn\n",
        "import torch.nn.functional as F\n",
        "import dgl.function as fn\n",
        "import tqdm\n",
        "import gc\n",
        "\n",
        "class SAGELayer(nn.Module):\n",
        "    def __init__(self, ndim_in, edims, ndim_out, activation):\n",
        "      super(SAGELayer, self).__init__()\n",
        "      self.W_apply = nn.Linear(ndim_in + edims , ndim_out)\n",
        "      self.activation = F.relu\n",
        "      self.W_edge = nn.Linear(128 * 2, 256)\n",
        "      self.reset_parameters()\n",
        "\n",
        "    def reset_parameters(self):\n",
        "      gain = nn.init.calculate_gain('relu')\n",
        "      nn.init.xavier_uniform_(self.W_apply.weight, gain=gain)\n",
        "\n",
        "    def message_func(self, edges):\n",
        "      return {'m':  edges.data['h']}\n",
        "\n",
        "    def forward(self, g_dgl, nfeats, efeats):\n",
        "      with g_dgl.local_scope():\n",
        "        g = g_dgl\n",
        "        g.ndata['h'] = nfeats\n",
        "        g.edata['h'] = efeats\n",
        "        g.update_all(self.message_func, fn.mean('m', 'h_neigh'))\n",
        "        g.ndata['h'] = F.relu(self.W_apply(torch.cat([g.ndata['h'], g.ndata['h_neigh']], 2)))\n",
        "\n",
        "        # Compute edge embeddings\n",
        "        u, v = g.edges()\n",
        "        edge = self.W_edge(torch.cat((g.srcdata['h'][u], g.dstdata['h'][v]), 2))\n",
        "        return g.ndata['h'], edge"
      ]
    },
    {
      "cell_type": "code",
      "execution_count": 24,
      "metadata": {
        "id": "_xo-3K4QRGqc"
      },
      "outputs": [],
      "source": [
        "class SAGE(nn.Module):\n",
        "    def __init__(self, ndim_in, ndim_out, edim,  activation):\n",
        "      super(SAGE, self).__init__()\n",
        "      self.layers = nn.ModuleList()\n",
        "      self.layers.append(SAGELayer(ndim_in, edim, 128, F.relu))\n",
        "\n",
        "    def forward(self, g, nfeats, efeats, corrupt=False):\n",
        "      if corrupt:\n",
        "        e_perm = torch.randperm(g.number_of_edges())\n",
        "        #n_perm = torch.randperm(g.number_of_nodes())\n",
        "        efeats = efeats[e_perm]\n",
        "        #nfeats = nfeats[n_perm]\n",
        "      for i, layer in enumerate(self.layers):\n",
        "        #nfeats = layer(g, nfeats, efeats)\n",
        "        nfeats, e_feats = layer(g, nfeats, efeats)\n",
        "      #return nfeats.sum(1)\n",
        "      return nfeats.sum(1), e_feats.sum(1)"
      ]
    },
    {
      "cell_type": "code",
      "execution_count": 25,
      "metadata": {
        "id": "6uuxRtLuRJQL"
      },
      "outputs": [],
      "source": [
        "class Discriminator(nn.Module):\n",
        "    def __init__(self, n_hidden):\n",
        "      super(Discriminator, self).__init__()\n",
        "      self.weight = nn.Parameter(torch.Tensor(n_hidden, n_hidden))\n",
        "      self.reset_parameters()\n",
        "\n",
        "    def uniform(self, size, tensor):\n",
        "      bound = 1.0 / math.sqrt(size)\n",
        "      if tensor is not None:\n",
        "        tensor.data.uniform_(-bound, bound)\n",
        "\n",
        "    def reset_parameters(self):\n",
        "      size = self.weight.size(0)\n",
        "      self.uniform(size, self.weight)\n",
        "\n",
        "    def forward(self, features, summary):\n",
        "      features = torch.matmul(features, torch.matmul(self.weight, summary))\n",
        "      return features"
      ]
    },
    {
      "cell_type": "code",
      "execution_count": 26,
      "metadata": {
        "id": "ZPbVjlCyRUco"
      },
      "outputs": [],
      "source": [
        "class DGI(nn.Module):\n",
        "    def __init__(self, ndim_in, ndim_out, edim, activation):\n",
        "      super(DGI, self).__init__()\n",
        "      self.encoder = SAGE(ndim_in, ndim_out, edim,  F.relu)\n",
        "      #self.discriminator = Discriminator(128)\n",
        "      self.discriminator = Discriminator(256)\n",
        "      self.loss = nn.BCEWithLogitsLoss()\n",
        "\n",
        "    def forward(self, g, n_features, e_features):\n",
        "      positive = self.encoder(g, n_features, e_features, corrupt=False)\n",
        "      negative = self.encoder(g, n_features, e_features, corrupt=True)\n",
        "      self.loss = nn.BCEWithLogitsLoss()\n",
        "\n",
        "    def forward(self, g, n_features, e_features):\n",
        "      positive = self.encoder(g, n_features, e_features, corrupt=False)\n",
        "      negative = self.encoder(g, n_features, e_features, corrupt=True)\n",
        "\n",
        "      positive = positive[1]\n",
        "      negative = negative[1]\n",
        "\n",
        "      summary = torch.sigmoid(positive.mean(dim=0))\n",
        "\n",
        "      positive = self.discriminator(positive, summary)\n",
        "      negative = self.discriminator(negative, summary)\n",
        "\n",
        "      l1 = self.loss(positive, torch.ones_like(positive))\n",
        "      l2 = self.loss(negative, torch.zeros_like(negative))\n",
        "\n",
        "      return l1 + l2"
      ]
    },
    {
      "cell_type": "code",
      "execution_count": 27,
      "metadata": {
        "id": "sKnfpWFMR19u"
      },
      "outputs": [],
      "source": [
        "ndim_in = train_g.ndata['h'].shape[1]\n",
        "hidden_features = 128\n",
        "ndim_out = 128\n",
        "num_layers = 1\n",
        "edim = train_g.edata['h'].shape[1]\n",
        "learning_rate = 1e-3\n",
        "epochs = 4000"
      ]
    },
    {
      "cell_type": "code",
      "execution_count": 28,
      "metadata": {
        "id": "aSl_9qY8SbA0"
      },
      "outputs": [],
      "source": [
        "dgi = DGI(ndim_in,\n",
        "    ndim_out,\n",
        "    edim,\n",
        "    F.relu)\n",
        "\n",
        "dgi_optimizer = torch.optim.Adam(dgi.parameters(),\n",
        "                lr=1e-3,\n",
        "                weight_decay=0.)"
      ]
    },
    {
      "cell_type": "code",
      "execution_count": 29,
      "metadata": {
        "id": "9K6_cOiWSdJA"
      },
      "outputs": [],
      "source": [
        "# Format node and edge features for E-GraphSAGE\n",
        "train_g.ndata['h'] = torch.reshape(train_g.ndata['h'],\n",
        "                                   (train_g.ndata['h'].shape[0], 1,\n",
        "                                    train_g.ndata['h'].shape[1]))\n",
        "\n",
        "train_g.edata['h'] = torch.reshape(train_g.edata['h'],\n",
        "                                   (train_g.edata['h'].shape[0], 1,\n",
        "                                    train_g.edata['h'].shape[1]))"
      ]
    },
    {
      "cell_type": "code",
      "execution_count": 30,
      "metadata": {
        "id": "O44auIyWSexg"
      },
      "outputs": [],
      "source": [
        "# Convert to GPU\n",
        "train_g = train_g"
      ]
    },
    {
      "cell_type": "code",
      "execution_count": 31,
      "metadata": {
        "id": "gZtafIdxSheN"
      },
      "outputs": [],
      "source": [
        "# cnt_wait = 0\n",
        "# best = 1e9\n",
        "# best_t = 0\n",
        "# dur = []\n",
        "# node_features = train_g.ndata['h']\n",
        "# edge_features = train_g.edata['h']\n",
        "\n",
        "# for epoch in range(epochs):\n",
        "#     dgi.train()\n",
        "#     if epoch >= 3:\n",
        "#         t0 = time.time()\n",
        "\n",
        "#     dgi_optimizer.zero_grad()\n",
        "#     loss = dgi(train_g, node_features, edge_features)\n",
        "#     loss.backward()\n",
        "#     dgi_optimizer.step()\n",
        "\n",
        "#     if loss < best:\n",
        "#         best = loss\n",
        "#         best_t = epoch\n",
        "#         cnt_wait = 0\n",
        "#         torch.save(dgi.state_dict(), 'best_dgi_CSE.pkl')\n",
        "#     else:\n",
        "#         cnt_wait += 1\n",
        "\n",
        "#   # if cnt_wait == patience:\n",
        "#   #     print('Early stopping!')\n",
        "#   #     break\n",
        "\n",
        "#     if epoch >= 3:\n",
        "#         dur.append(time.time() - t0)\n",
        "\n",
        "#     if epoch % 50 == 0:\n",
        "\n",
        "#         print(\"Epoch {:05d} | Time(s) {:.4f} | Loss {:.4f} | \"\n",
        "#             \"ETputs(KTEPS) {:.2f}\".format(epoch, np.mean(dur),\n",
        "#               loss.item(),\n",
        "#               train_g.num_edges() / np.mean(dur) / 1000))"
      ]
    },
    {
      "cell_type": "code",
      "execution_count": 32,
      "metadata": {
        "id": "RZ2HAQDAF-4c",
        "outputId": "79b6374d-390e-4571-df1d-ee46792480f7"
      },
      "outputs": [
        {
          "data": {
            "text/plain": [
              "<All keys matched successfully>"
            ]
          },
          "execution_count": 32,
          "metadata": {},
          "output_type": "execute_result"
        }
      ],
      "source": [
        "dgi.load_state_dict(torch.load('best_dgi_CSE.pkl'))"
      ]
    },
    {
      "cell_type": "code",
      "execution_count": 33,
      "metadata": {
        "id": "6Ek16GkRStKP"
      },
      "outputs": [],
      "source": [
        "training_emb = dgi.encoder(train_g, train_g.ndata['h'], train_g.edata['h'])[1]\n",
        "training_emb = training_emb.detach().cpu().numpy()"
      ]
    },
    {
      "cell_type": "code",
      "execution_count": 34,
      "metadata": {
        "id": "-FwaBlOdS4ep"
      },
      "outputs": [],
      "source": [
        "test_g.ndata['h'] = torch.reshape(test_g.ndata['h'],\n",
        "                                   (test_g.ndata['h'].shape[0], 1,\n",
        "                                    test_g.ndata['h'].shape[1]))\n",
        "\n",
        "\n",
        "\n",
        "test_g.edata['h'] = torch.reshape(test_g.edata['h'],\n",
        "                                   (test_g.edata['h'].shape[0], 1,\n",
        "                                    test_g.edata['h'].shape[1]))"
      ]
    },
    {
      "cell_type": "code",
      "execution_count": 35,
      "metadata": {
        "id": "SBa-rdivS6cQ"
      },
      "outputs": [],
      "source": [
        "# Convert to GPU\n",
        "test_g = test_g"
      ]
    },
    {
      "cell_type": "code",
      "execution_count": 36,
      "metadata": {
        "id": "W12WLjslS-kx"
      },
      "outputs": [],
      "source": [
        "testing_emb = dgi.encoder(test_g, test_g.ndata['h'], test_g.edata['h'])[1]\n",
        "testing_emb = testing_emb.detach().cpu().numpy()"
      ]
    },
    {
      "cell_type": "code",
      "execution_count": 37,
      "metadata": {
        "id": "ERsOAMjeS_D8"
      },
      "outputs": [],
      "source": [
        "df_train = pd.DataFrame(training_emb, )\n",
        "df_train[\"Attack\"] = lab_enc.inverse_transform(\n",
        "        train_g.edata['Attack'].detach().cpu().numpy())\n",
        "df_train[\"Label\"] = train_g.edata['Label'].detach().cpu().numpy()\n",
        "\n",
        "df_test = pd.DataFrame(testing_emb, )\n",
        "df_test[\"Attack\"] = lab_enc.inverse_transform(\n",
        "        test_g.edata['Attack'].detach().cpu().numpy())\n",
        "df_test[\"Label\"] = test_g.edata['Label'].detach().cpu().numpy()"
      ]
    },
    {
      "cell_type": "code",
      "execution_count": 38,
      "metadata": {
        "colab": {
          "base_uri": "https://localhost:8080/",
          "height": 488
        },
        "id": "B8p79H9dat5T",
        "outputId": "0d6e82d8-5d02-49eb-a16f-d44e52ea3dff"
      },
      "outputs": [
        {
          "data": {
            "text/html": [
              "<div>\n",
              "<style scoped>\n",
              "    .dataframe tbody tr th:only-of-type {\n",
              "        vertical-align: middle;\n",
              "    }\n",
              "\n",
              "    .dataframe tbody tr th {\n",
              "        vertical-align: top;\n",
              "    }\n",
              "\n",
              "    .dataframe thead th {\n",
              "        text-align: right;\n",
              "    }\n",
              "</style>\n",
              "<table border=\"1\" class=\"dataframe\">\n",
              "  <thead>\n",
              "    <tr style=\"text-align: right;\">\n",
              "      <th></th>\n",
              "      <th>0</th>\n",
              "      <th>1</th>\n",
              "      <th>2</th>\n",
              "      <th>3</th>\n",
              "      <th>4</th>\n",
              "      <th>5</th>\n",
              "      <th>6</th>\n",
              "      <th>7</th>\n",
              "      <th>8</th>\n",
              "      <th>9</th>\n",
              "      <th>...</th>\n",
              "      <th>248</th>\n",
              "      <th>249</th>\n",
              "      <th>250</th>\n",
              "      <th>251</th>\n",
              "      <th>252</th>\n",
              "      <th>253</th>\n",
              "      <th>254</th>\n",
              "      <th>255</th>\n",
              "      <th>Attack</th>\n",
              "      <th>Label</th>\n",
              "    </tr>\n",
              "  </thead>\n",
              "  <tbody>\n",
              "    <tr>\n",
              "      <th>0</th>\n",
              "      <td>0.018512</td>\n",
              "      <td>-0.014702</td>\n",
              "      <td>0.014286</td>\n",
              "      <td>-0.001076</td>\n",
              "      <td>0.020005</td>\n",
              "      <td>0.052812</td>\n",
              "      <td>0.075947</td>\n",
              "      <td>0.104963</td>\n",
              "      <td>0.047158</td>\n",
              "      <td>0.062705</td>\n",
              "      <td>...</td>\n",
              "      <td>0.143688</td>\n",
              "      <td>0.099559</td>\n",
              "      <td>-0.014354</td>\n",
              "      <td>0.190111</td>\n",
              "      <td>-0.032931</td>\n",
              "      <td>-0.018382</td>\n",
              "      <td>0.052655</td>\n",
              "      <td>-0.012495</td>\n",
              "      <td>Benign</td>\n",
              "      <td>0</td>\n",
              "    </tr>\n",
              "    <tr>\n",
              "      <th>1</th>\n",
              "      <td>0.018512</td>\n",
              "      <td>-0.014702</td>\n",
              "      <td>0.014286</td>\n",
              "      <td>-0.001076</td>\n",
              "      <td>0.020005</td>\n",
              "      <td>0.052812</td>\n",
              "      <td>0.075947</td>\n",
              "      <td>0.104963</td>\n",
              "      <td>0.047158</td>\n",
              "      <td>0.062705</td>\n",
              "      <td>...</td>\n",
              "      <td>0.143688</td>\n",
              "      <td>0.099559</td>\n",
              "      <td>-0.014354</td>\n",
              "      <td>0.190111</td>\n",
              "      <td>-0.032931</td>\n",
              "      <td>-0.018382</td>\n",
              "      <td>0.052655</td>\n",
              "      <td>-0.012495</td>\n",
              "      <td>Benign</td>\n",
              "      <td>0</td>\n",
              "    </tr>\n",
              "    <tr>\n",
              "      <th>2</th>\n",
              "      <td>0.018512</td>\n",
              "      <td>-0.014702</td>\n",
              "      <td>0.014286</td>\n",
              "      <td>-0.001076</td>\n",
              "      <td>0.020005</td>\n",
              "      <td>0.052812</td>\n",
              "      <td>0.075947</td>\n",
              "      <td>0.104963</td>\n",
              "      <td>0.047158</td>\n",
              "      <td>0.062705</td>\n",
              "      <td>...</td>\n",
              "      <td>0.143688</td>\n",
              "      <td>0.099559</td>\n",
              "      <td>-0.014354</td>\n",
              "      <td>0.190111</td>\n",
              "      <td>-0.032931</td>\n",
              "      <td>-0.018382</td>\n",
              "      <td>0.052655</td>\n",
              "      <td>-0.012495</td>\n",
              "      <td>Benign</td>\n",
              "      <td>0</td>\n",
              "    </tr>\n",
              "    <tr>\n",
              "      <th>3</th>\n",
              "      <td>0.018512</td>\n",
              "      <td>-0.014702</td>\n",
              "      <td>0.014286</td>\n",
              "      <td>-0.001076</td>\n",
              "      <td>0.020005</td>\n",
              "      <td>0.052812</td>\n",
              "      <td>0.075947</td>\n",
              "      <td>0.104963</td>\n",
              "      <td>0.047158</td>\n",
              "      <td>0.062705</td>\n",
              "      <td>...</td>\n",
              "      <td>0.143688</td>\n",
              "      <td>0.099559</td>\n",
              "      <td>-0.014354</td>\n",
              "      <td>0.190111</td>\n",
              "      <td>-0.032931</td>\n",
              "      <td>-0.018382</td>\n",
              "      <td>0.052655</td>\n",
              "      <td>-0.012495</td>\n",
              "      <td>Benign</td>\n",
              "      <td>0</td>\n",
              "    </tr>\n",
              "    <tr>\n",
              "      <th>4</th>\n",
              "      <td>0.018512</td>\n",
              "      <td>-0.014702</td>\n",
              "      <td>0.014286</td>\n",
              "      <td>-0.001076</td>\n",
              "      <td>0.020005</td>\n",
              "      <td>0.052812</td>\n",
              "      <td>0.075947</td>\n",
              "      <td>0.104963</td>\n",
              "      <td>0.047158</td>\n",
              "      <td>0.062705</td>\n",
              "      <td>...</td>\n",
              "      <td>0.143688</td>\n",
              "      <td>0.099559</td>\n",
              "      <td>-0.014354</td>\n",
              "      <td>0.190111</td>\n",
              "      <td>-0.032931</td>\n",
              "      <td>-0.018382</td>\n",
              "      <td>0.052655</td>\n",
              "      <td>-0.012495</td>\n",
              "      <td>Benign</td>\n",
              "      <td>0</td>\n",
              "    </tr>\n",
              "    <tr>\n",
              "      <th>...</th>\n",
              "      <td>...</td>\n",
              "      <td>...</td>\n",
              "      <td>...</td>\n",
              "      <td>...</td>\n",
              "      <td>...</td>\n",
              "      <td>...</td>\n",
              "      <td>...</td>\n",
              "      <td>...</td>\n",
              "      <td>...</td>\n",
              "      <td>...</td>\n",
              "      <td>...</td>\n",
              "      <td>...</td>\n",
              "      <td>...</td>\n",
              "      <td>...</td>\n",
              "      <td>...</td>\n",
              "      <td>...</td>\n",
              "      <td>...</td>\n",
              "      <td>...</td>\n",
              "      <td>...</td>\n",
              "      <td>...</td>\n",
              "      <td>...</td>\n",
              "    </tr>\n",
              "    <tr>\n",
              "      <th>754753</th>\n",
              "      <td>0.130016</td>\n",
              "      <td>-0.124823</td>\n",
              "      <td>-0.065747</td>\n",
              "      <td>-0.012904</td>\n",
              "      <td>-0.083787</td>\n",
              "      <td>-0.004330</td>\n",
              "      <td>-0.002197</td>\n",
              "      <td>0.233096</td>\n",
              "      <td>0.060804</td>\n",
              "      <td>0.158346</td>\n",
              "      <td>...</td>\n",
              "      <td>0.179214</td>\n",
              "      <td>-0.005284</td>\n",
              "      <td>0.179867</td>\n",
              "      <td>0.220230</td>\n",
              "      <td>-0.047559</td>\n",
              "      <td>-0.047047</td>\n",
              "      <td>0.067227</td>\n",
              "      <td>0.058269</td>\n",
              "      <td>SSH-Bruteforce</td>\n",
              "      <td>1</td>\n",
              "    </tr>\n",
              "    <tr>\n",
              "      <th>754754</th>\n",
              "      <td>0.130016</td>\n",
              "      <td>-0.124823</td>\n",
              "      <td>-0.065747</td>\n",
              "      <td>-0.012904</td>\n",
              "      <td>-0.083787</td>\n",
              "      <td>-0.004330</td>\n",
              "      <td>-0.002197</td>\n",
              "      <td>0.233096</td>\n",
              "      <td>0.060804</td>\n",
              "      <td>0.158346</td>\n",
              "      <td>...</td>\n",
              "      <td>0.179214</td>\n",
              "      <td>-0.005284</td>\n",
              "      <td>0.179867</td>\n",
              "      <td>0.220230</td>\n",
              "      <td>-0.047559</td>\n",
              "      <td>-0.047047</td>\n",
              "      <td>0.067227</td>\n",
              "      <td>0.058269</td>\n",
              "      <td>SSH-Bruteforce</td>\n",
              "      <td>1</td>\n",
              "    </tr>\n",
              "    <tr>\n",
              "      <th>754755</th>\n",
              "      <td>0.130016</td>\n",
              "      <td>-0.124823</td>\n",
              "      <td>-0.065747</td>\n",
              "      <td>-0.012904</td>\n",
              "      <td>-0.083787</td>\n",
              "      <td>-0.004330</td>\n",
              "      <td>-0.002197</td>\n",
              "      <td>0.233096</td>\n",
              "      <td>0.060804</td>\n",
              "      <td>0.158346</td>\n",
              "      <td>...</td>\n",
              "      <td>0.179214</td>\n",
              "      <td>-0.005284</td>\n",
              "      <td>0.179867</td>\n",
              "      <td>0.220230</td>\n",
              "      <td>-0.047559</td>\n",
              "      <td>-0.047047</td>\n",
              "      <td>0.067227</td>\n",
              "      <td>0.058269</td>\n",
              "      <td>SSH-Bruteforce</td>\n",
              "      <td>1</td>\n",
              "    </tr>\n",
              "    <tr>\n",
              "      <th>754756</th>\n",
              "      <td>0.130016</td>\n",
              "      <td>-0.124823</td>\n",
              "      <td>-0.065747</td>\n",
              "      <td>-0.012904</td>\n",
              "      <td>-0.083787</td>\n",
              "      <td>-0.004330</td>\n",
              "      <td>-0.002197</td>\n",
              "      <td>0.233096</td>\n",
              "      <td>0.060804</td>\n",
              "      <td>0.158346</td>\n",
              "      <td>...</td>\n",
              "      <td>0.179214</td>\n",
              "      <td>-0.005284</td>\n",
              "      <td>0.179867</td>\n",
              "      <td>0.220230</td>\n",
              "      <td>-0.047559</td>\n",
              "      <td>-0.047047</td>\n",
              "      <td>0.067227</td>\n",
              "      <td>0.058269</td>\n",
              "      <td>SSH-Bruteforce</td>\n",
              "      <td>1</td>\n",
              "    </tr>\n",
              "    <tr>\n",
              "      <th>754757</th>\n",
              "      <td>0.130016</td>\n",
              "      <td>-0.124823</td>\n",
              "      <td>-0.065747</td>\n",
              "      <td>-0.012904</td>\n",
              "      <td>-0.083787</td>\n",
              "      <td>-0.004330</td>\n",
              "      <td>-0.002197</td>\n",
              "      <td>0.233096</td>\n",
              "      <td>0.060804</td>\n",
              "      <td>0.158346</td>\n",
              "      <td>...</td>\n",
              "      <td>0.179214</td>\n",
              "      <td>-0.005284</td>\n",
              "      <td>0.179867</td>\n",
              "      <td>0.220230</td>\n",
              "      <td>-0.047559</td>\n",
              "      <td>-0.047047</td>\n",
              "      <td>0.067227</td>\n",
              "      <td>0.058269</td>\n",
              "      <td>SSH-Bruteforce</td>\n",
              "      <td>1</td>\n",
              "    </tr>\n",
              "  </tbody>\n",
              "</table>\n",
              "<p>754758 rows × 258 columns</p>\n",
              "</div>"
            ],
            "text/plain": [
              "               0         1         2         3         4         5         6  \\\n",
              "0       0.018512 -0.014702  0.014286 -0.001076  0.020005  0.052812  0.075947   \n",
              "1       0.018512 -0.014702  0.014286 -0.001076  0.020005  0.052812  0.075947   \n",
              "2       0.018512 -0.014702  0.014286 -0.001076  0.020005  0.052812  0.075947   \n",
              "3       0.018512 -0.014702  0.014286 -0.001076  0.020005  0.052812  0.075947   \n",
              "4       0.018512 -0.014702  0.014286 -0.001076  0.020005  0.052812  0.075947   \n",
              "...          ...       ...       ...       ...       ...       ...       ...   \n",
              "754753  0.130016 -0.124823 -0.065747 -0.012904 -0.083787 -0.004330 -0.002197   \n",
              "754754  0.130016 -0.124823 -0.065747 -0.012904 -0.083787 -0.004330 -0.002197   \n",
              "754755  0.130016 -0.124823 -0.065747 -0.012904 -0.083787 -0.004330 -0.002197   \n",
              "754756  0.130016 -0.124823 -0.065747 -0.012904 -0.083787 -0.004330 -0.002197   \n",
              "754757  0.130016 -0.124823 -0.065747 -0.012904 -0.083787 -0.004330 -0.002197   \n",
              "\n",
              "               7         8         9  ...       248       249       250  \\\n",
              "0       0.104963  0.047158  0.062705  ...  0.143688  0.099559 -0.014354   \n",
              "1       0.104963  0.047158  0.062705  ...  0.143688  0.099559 -0.014354   \n",
              "2       0.104963  0.047158  0.062705  ...  0.143688  0.099559 -0.014354   \n",
              "3       0.104963  0.047158  0.062705  ...  0.143688  0.099559 -0.014354   \n",
              "4       0.104963  0.047158  0.062705  ...  0.143688  0.099559 -0.014354   \n",
              "...          ...       ...       ...  ...       ...       ...       ...   \n",
              "754753  0.233096  0.060804  0.158346  ...  0.179214 -0.005284  0.179867   \n",
              "754754  0.233096  0.060804  0.158346  ...  0.179214 -0.005284  0.179867   \n",
              "754755  0.233096  0.060804  0.158346  ...  0.179214 -0.005284  0.179867   \n",
              "754756  0.233096  0.060804  0.158346  ...  0.179214 -0.005284  0.179867   \n",
              "754757  0.233096  0.060804  0.158346  ...  0.179214 -0.005284  0.179867   \n",
              "\n",
              "             251       252       253       254       255          Attack  \\\n",
              "0       0.190111 -0.032931 -0.018382  0.052655 -0.012495          Benign   \n",
              "1       0.190111 -0.032931 -0.018382  0.052655 -0.012495          Benign   \n",
              "2       0.190111 -0.032931 -0.018382  0.052655 -0.012495          Benign   \n",
              "3       0.190111 -0.032931 -0.018382  0.052655 -0.012495          Benign   \n",
              "4       0.190111 -0.032931 -0.018382  0.052655 -0.012495          Benign   \n",
              "...          ...       ...       ...       ...       ...             ...   \n",
              "754753  0.220230 -0.047559 -0.047047  0.067227  0.058269  SSH-Bruteforce   \n",
              "754754  0.220230 -0.047559 -0.047047  0.067227  0.058269  SSH-Bruteforce   \n",
              "754755  0.220230 -0.047559 -0.047047  0.067227  0.058269  SSH-Bruteforce   \n",
              "754756  0.220230 -0.047559 -0.047047  0.067227  0.058269  SSH-Bruteforce   \n",
              "754757  0.220230 -0.047559 -0.047047  0.067227  0.058269  SSH-Bruteforce   \n",
              "\n",
              "        Label  \n",
              "0           0  \n",
              "1           0  \n",
              "2           0  \n",
              "3           0  \n",
              "4           0  \n",
              "...       ...  \n",
              "754753      1  \n",
              "754754      1  \n",
              "754755      1  \n",
              "754756      1  \n",
              "754757      1  \n",
              "\n",
              "[754758 rows x 258 columns]"
            ]
          },
          "execution_count": 38,
          "metadata": {},
          "output_type": "execute_result"
        }
      ],
      "source": [
        "df_train"
      ]
    },
    {
      "cell_type": "markdown",
      "metadata": {
        "id": "7ScEk1y_TzzX"
      },
      "source": [
        "# Embeddings CBLOF  Embeddings"
      ]
    },
    {
      "cell_type": "code",
      "execution_count": 39,
      "metadata": {
        "id": "ZYABKzdrTGas"
      },
      "outputs": [],
      "source": [
        "import torch\n",
        "import dgl\n",
        "import numpy as np\n",
        "import pandas as pd\n",
        "import torch.optim as optim\n",
        "import time\n",
        "import seaborn as sns\n",
        "import matplotlib.pyplot as plt\n",
        "from sklearn.model_selection import train_test_split\n",
        "from sklearn.metrics import classification_report, f1_score\n",
        "from sklearn.ensemble import IsolationForest\n",
        "import gc\n",
        "\n",
        "from tqdm import tqdm\n",
        "import itertools"
      ]
    },
    {
      "cell_type": "code",
      "execution_count": 40,
      "metadata": {
        "id": "RkFS_-dcTJeK"
      },
      "outputs": [],
      "source": [
        "benign_train_samples = df_train[df_train.Label == 0].drop(columns=[\"Label\", \"Attack\"])\n",
        "normal_train_samples = df_train.drop(columns=[\"Label\", \"Attack\"])\n",
        "\n",
        "train_labels = df_train[\"Label\"]\n",
        "test_labels = df_test[\"Label\"]\n",
        "\n",
        "test_samples = df_test.drop(columns=[\"Label\", \"Attack\"])"
      ]
    },
    {
      "cell_type": "code",
      "execution_count": 41,
      "metadata": {
        "id": "62BUDLtO4mla"
      },
      "outputs": [],
      "source": [
        "contamination = [0.001, 0.01, 0.04, 0.05, 0.1, 0.2]"
      ]
    },
    {
      "cell_type": "code",
      "execution_count": 42,
      "metadata": {
        "id": "2i48uLj74mla",
        "outputId": "a0dd33ee-824d-4328-a960-e656e3aaf0ea"
      },
      "outputs": [
        {
          "name": "stderr",
          "output_type": "stream",
          "text": [
            "100%|██████████| 36/36 [06:44<00:00, 11.23s/it]"
          ]
        },
        {
          "name": "stdout",
          "output_type": "stream",
          "text": [
            "{'n_estimators': 10, 'con': 0.1}\n",
            "0.4165801757810793\n",
            "              precision    recall  f1-score   support\n",
            "\n",
            "           0     0.1917    0.2162    0.2032     16150\n",
            "           1     0.6480    0.6128    0.6299     38022\n",
            "\n",
            "    accuracy                         0.4946     54172\n",
            "   macro avg     0.4199    0.4145    0.4166     54172\n",
            "weighted avg     0.5120    0.4946    0.5027     54172\n",
            "\n"
          ]
        },
        {
          "name": "stderr",
          "output_type": "stream",
          "text": [
            "\n"
          ]
        }
      ],
      "source": [
        "from pyod.models.cblof import CBLOF\n",
        "n_est = [2,3,5,7,9,10]\n",
        "params = list(itertools.product(n_est, contamination))\n",
        "score = -1\n",
        "bs = None\n",
        "for n_est, con in tqdm(params):\n",
        "    \n",
        "    clf_if = CBLOF(n_clusters=n_est, contamination=con)\n",
        "    clf_if.fit(benign_train_samples)\n",
        "    y_pred = clf_if.predict(test_samples)\n",
        "    test_pred = y_pred\n",
        "\n",
        "    f1 = f1_score(test_labels, test_pred, average='macro')\n",
        "\n",
        "    if f1 > score:\n",
        "        score = f1\n",
        "        best_params = {'n_estimators': n_est,\n",
        "                       \"con\": con\n",
        "                }\n",
        "        bs = test_pred\n",
        "    del clf_if\n",
        "    gc.collect()\n",
        "\n",
        "\n",
        "print(best_params)\n",
        "print(score)\n",
        "print(classification_report(test_labels, bs, digits=4))"
      ]
    },
    {
      "cell_type": "code",
      "execution_count": 43,
      "metadata": {
        "id": "rK-Rng9q4mla",
        "outputId": "1796db22-cfb8-4bf8-9004-6420c08c3399"
      },
      "outputs": [
        {
          "name": "stderr",
          "output_type": "stream",
          "text": [
            "100%|██████████| 36/36 [04:07<00:00,  6.87s/it]"
          ]
        },
        {
          "name": "stdout",
          "output_type": "stream",
          "text": [
            "{'n_estimators': 7, 'con': 0.2}\n",
            "0.3972731127938236\n",
            "              precision    recall  f1-score   support\n",
            "\n",
            "           0     0.2352    0.4324    0.3047     16150\n",
            "           1     0.6255    0.4026    0.4899     38022\n",
            "\n",
            "    accuracy                         0.4115     54172\n",
            "   macro avg     0.4303    0.4175    0.3973     54172\n",
            "weighted avg     0.5091    0.4115    0.4347     54172\n",
            "\n"
          ]
        },
        {
          "name": "stderr",
          "output_type": "stream",
          "text": [
            "\n"
          ]
        }
      ],
      "source": [
        "n_est = [2,3,5,7,9,10]\n",
        "contamination = [0.001, 0.01, 0.04, 0.05, 0.1, 0.2]\n",
        "params = list(itertools.product(n_est, contamination))\n",
        "score = -1\n",
        "bs = None\n",
        "for n_est, con in tqdm(params):\n",
        "    \n",
        "    clf_if = CBLOF(n_clusters=n_est, contamination=con)\n",
        "    clf_if.fit(normal_train_samples)\n",
        "    y_pred = clf_if.predict(test_samples)\n",
        "    test_pred = y_pred\n",
        "\n",
        "    f1 = f1_score(test_labels, test_pred, average='macro')\n",
        "\n",
        "    if f1 > score:\n",
        "        score = f1\n",
        "        best_params = {'n_estimators': n_est,\n",
        "                       \"con\": con\n",
        "                }\n",
        "        bs = test_pred\n",
        "    del clf_if\n",
        "    gc.collect()\n",
        "\n",
        "\n",
        "print(best_params)\n",
        "print(score)\n",
        "print(classification_report(test_labels, bs, digits=4))"
      ]
    },
    {
      "cell_type": "code",
      "execution_count": 44,
      "metadata": {
        "id": "tHSOcEhH4mlb"
      },
      "outputs": [],
      "source": [
        "###  CBLOF RAW"
      ]
    },
    {
      "cell_type": "code",
      "execution_count": 45,
      "metadata": {
        "id": "-D3nCuXX4mlb"
      },
      "outputs": [],
      "source": [
        "df_raw_train = pd.concat([X_train.drop(columns=[\"IPV4_SRC_ADDR\",\"IPV4_DST_ADDR\", \"h\"]), y_train], axis=1)\n",
        "df_raw_test = pd.concat([X_test.drop(columns=[\"IPV4_SRC_ADDR\",\"IPV4_DST_ADDR\", \"h\"]), y_test], axis=1)"
      ]
    },
    {
      "cell_type": "code",
      "execution_count": 46,
      "metadata": {
        "id": "8Zr57GFE4mlb"
      },
      "outputs": [],
      "source": [
        "raw_benign_train_samples = df_raw_train[df_raw_train.Label == 0].drop(columns=[\"Label\", \"Attack\"])\n",
        "raw_normal_train_samples = df_raw_train.drop(columns=[\"Label\", \"Attack\"])\n",
        "\n",
        "raw_train_labels = df_raw_train[\"Label\"]\n",
        "raw_test_labels = df_raw_test[\"Label\"]\n",
        "\n",
        "raw_test_samples = df_raw_test.drop(columns=[\"Label\", \"Attack\"])"
      ]
    },
    {
      "cell_type": "code",
      "execution_count": 47,
      "metadata": {
        "id": "u_l1Vz8S4mlb",
        "outputId": "c1b8d03c-7105-42d9-f49a-bba4ff4905a7"
      },
      "outputs": [
        {
          "name": "stderr",
          "output_type": "stream",
          "text": [
            "  6%|▌         | 2/36 [00:01<00:25,  1.35it/s]"
          ]
        },
        {
          "name": "stdout",
          "output_type": "stream",
          "text": [
            "2\n"
          ]
        },
        {
          "name": "stderr",
          "output_type": "stream",
          "text": [
            " 17%|█▋        | 6/36 [00:04<00:18,  1.65it/s]"
          ]
        },
        {
          "name": "stdout",
          "output_type": "stream",
          "text": [
            "2\n"
          ]
        },
        {
          "name": "stderr",
          "output_type": "stream",
          "text": [
            " 22%|██▏       | 8/36 [00:05<00:15,  1.77it/s]"
          ]
        },
        {
          "name": "stdout",
          "output_type": "stream",
          "text": [
            "3\n"
          ]
        },
        {
          "name": "stderr",
          "output_type": "stream",
          "text": [
            " 33%|███▎      | 12/36 [00:08<00:16,  1.43it/s]"
          ]
        },
        {
          "name": "stdout",
          "output_type": "stream",
          "text": [
            "3\n"
          ]
        },
        {
          "name": "stderr",
          "output_type": "stream",
          "text": [
            "100%|██████████| 36/36 [00:28<00:00,  1.28it/s]"
          ]
        },
        {
          "name": "stdout",
          "output_type": "stream",
          "text": [
            "{'n_estimators': 10, 'con': 0.04}\n",
            "0.5667519236537578\n",
            "              precision    recall  f1-score   support\n",
            "\n",
            "           0     0.4078    1.0000    0.5794      8075\n",
            "           1     1.0000    0.3833    0.5541     19011\n",
            "\n",
            "    accuracy                         0.5671     27086\n",
            "   macro avg     0.7039    0.6916    0.5668     27086\n",
            "weighted avg     0.8235    0.5671    0.5617     27086\n",
            "\n"
          ]
        },
        {
          "name": "stderr",
          "output_type": "stream",
          "text": [
            "\n"
          ]
        }
      ],
      "source": [
        "from pyod.models.cblof import CBLOF\n",
        "\n",
        "n_est = [2,3,5,7,9,10]\n",
        "contamination = [0.001, 0.01, 0.04, 0.05, 0.1, 0.2]\n",
        "params = list(itertools.product(n_est, contamination))\n",
        "score = -1\n",
        "bs = None\n",
        "for n_est, con in tqdm(params):\n",
        "    \n",
        "    try:\n",
        "        clf_b = CBLOF(n_clusters=n_est, contamination=con)\n",
        "        clf_b.fit(raw_benign_train_samples)\n",
        "    except ValueError as e:\n",
        "        print(n_est)\n",
        "        continue  \n",
        "   \n",
        "    y_pred = clf_b.predict(raw_test_samples)\n",
        "    test_pred = y_pred\n",
        "\n",
        "    f1 = f1_score(raw_test_labels, test_pred, average='macro')\n",
        "\n",
        "    if f1 > score:\n",
        "        score = f1\n",
        "        best_params = {'n_estimators': n_est,\n",
        "                        \"con\": con\n",
        "                }\n",
        "        bs = test_pred\n",
        "    del clf_b\n",
        "    gc.collect()\n",
        "\n",
        "  \n",
        "\n",
        "print(best_params)\n",
        "print(score)\n",
        "print(classification_report(raw_test_labels, bs, digits=4))"
      ]
    },
    {
      "cell_type": "code",
      "execution_count": 48,
      "metadata": {
        "id": "H-_InJ1-4mlc",
        "outputId": "e22139e6-d1cf-46e1-adf3-f0dc9b499244"
      },
      "outputs": [
        {
          "name": "stderr",
          "output_type": "stream",
          "text": [
            " 28%|██▊       | 10/36 [00:07<00:16,  1.57it/s]"
          ]
        },
        {
          "name": "stdout",
          "output_type": "stream",
          "text": [
            "3\n"
          ]
        },
        {
          "name": "stderr",
          "output_type": "stream",
          "text": [
            " 31%|███       | 11/36 [00:07<00:13,  1.80it/s]"
          ]
        },
        {
          "name": "stdout",
          "output_type": "stream",
          "text": [
            "3\n"
          ]
        },
        {
          "name": "stderr",
          "output_type": "stream",
          "text": [
            " 33%|███▎      | 12/36 [00:08<00:11,  2.02it/s]"
          ]
        },
        {
          "name": "stdout",
          "output_type": "stream",
          "text": [
            "3\n"
          ]
        },
        {
          "name": "stderr",
          "output_type": "stream",
          "text": [
            "100%|██████████| 36/36 [00:30<00:00,  1.20it/s]"
          ]
        },
        {
          "name": "stdout",
          "output_type": "stream",
          "text": [
            "benign only\n",
            "{'n_estimators': 5}\n",
            "0.48148192960290315\n",
            "              precision    recall  f1-score   support\n",
            "\n",
            "           0     0.3678    0.9999    0.5378      8075\n",
            "           1     0.9998    0.2700    0.4252     19011\n",
            "\n",
            "    accuracy                         0.4876     27086\n",
            "   macro avg     0.6838    0.6349    0.4815     27086\n",
            "weighted avg     0.8114    0.4876    0.4588     27086\n",
            "\n"
          ]
        },
        {
          "name": "stderr",
          "output_type": "stream",
          "text": [
            "\n"
          ]
        }
      ],
      "source": [
        "n_est = [2,3,5,7,9,10]\n",
        "contamination = [0.001, 0.01, 0.04, 0.05, 0.1, 0.2]\n",
        "params = list(itertools.product(n_est, contamination))\n",
        "score = -1\n",
        "bs = None\n",
        "for n_est, con in tqdm(params):\n",
        "    \n",
        "    try:\n",
        "        clf_if = CBLOF(n_clusters=n_est, contamination=con)\n",
        "        clf_if.fit(raw_normal_train_samples)\n",
        "    except ValueError as e:\n",
        "        print(n_est)\n",
        "        continue  \n",
        "    \n",
        "    y_pred = clf_if.predict(raw_test_samples)\n",
        "    test_pred = y_pred\n",
        "\n",
        "    f1 = f1_score(raw_test_labels, test_pred, average='macro')\n",
        "\n",
        "    if f1 > score:\n",
        "        score = f1\n",
        "        best_params = {'n_estimators': n_est\n",
        "                }\n",
        "        bs = test_pred\n",
        "    del clf_if\n",
        "    gc.collect()\n",
        "\n",
        "        \n",
        "\n",
        "print(\"benign only\")\n",
        "print(best_params)\n",
        "print(score)\n",
        "print(classification_report(raw_test_labels, bs, digits=4))"
      ]
    },
    {
      "cell_type": "code",
      "execution_count": 49,
      "metadata": {
        "id": "nd0-H7UT4mlc"
      },
      "outputs": [],
      "source": [
        "# HBOS  Embeddings"
      ]
    },
    {
      "cell_type": "code",
      "execution_count": 50,
      "metadata": {
        "id": "a34ZbzAX4mld"
      },
      "outputs": [],
      "source": [
        "benign_train_samples = df_train[df_train.Label == 0].drop(columns=[\"Label\", \"Attack\"])\n",
        "normal_train_samples = df_train.drop(columns=[\"Label\", \"Attack\"])\n",
        "\n",
        "train_labels = df_train[\"Label\"]\n",
        "test_labels = df_test[\"Label\"]\n",
        "\n",
        "test_samples = df_test.drop(columns=[\"Label\", \"Attack\"])"
      ]
    },
    {
      "cell_type": "code",
      "execution_count": 51,
      "metadata": {
        "id": "sDquxErU4mld"
      },
      "outputs": [],
      "source": [
        "contamination = [0.001, 0.01, 0.04, 0.05, 0.1, 0.2]"
      ]
    },
    {
      "cell_type": "code",
      "execution_count": 52,
      "metadata": {
        "id": "xLBIT-Rc4mld",
        "outputId": "8162929e-4879-40e2-a040-afc57eafe7c5"
      },
      "outputs": [
        {
          "name": "stderr",
          "output_type": "stream",
          "text": [
            "100%|██████████| 36/36 [04:55<00:00,  8.21s/it]"
          ]
        },
        {
          "name": "stdout",
          "output_type": "stream",
          "text": [
            "{'n_estimators': 5, 'con': 0.2}\n",
            "0.43525655387284135\n",
            "              precision    recall  f1-score   support\n",
            "\n",
            "           0     0.2094    0.2162    0.2127     16150\n",
            "           1     0.6624    0.6532    0.6578     38022\n",
            "\n",
            "    accuracy                         0.5229     54172\n",
            "   macro avg     0.4359    0.4347    0.4353     54172\n",
            "weighted avg     0.5273    0.5229    0.5251     54172\n",
            "\n"
          ]
        },
        {
          "name": "stderr",
          "output_type": "stream",
          "text": [
            "\n"
          ]
        }
      ],
      "source": [
        "from pyod.models.hbos import HBOS\n",
        "\n",
        "n_est = [5,10,15,20,25,30]\n",
        "params = list(itertools.product(n_est, contamination))\n",
        "score = -1\n",
        "bs = None\n",
        "for n_est, con in tqdm(params):\n",
        "    \n",
        "    clf_if = HBOS(n_bins=n_est, contamination=con)\n",
        "    clf_if.fit(benign_train_samples)\n",
        "    y_pred = clf_if.predict(test_samples)\n",
        "    test_pred = y_pred\n",
        "\n",
        "    f1 = f1_score(test_labels, test_pred, average='macro')\n",
        "\n",
        "    if f1 > score:\n",
        "        score = f1\n",
        "        best_params = {'n_estimators': n_est,\n",
        "                       \"con\": con\n",
        "                }\n",
        "        bs = test_pred\n",
        "    del clf_if\n",
        "    gc.collect()\n",
        "\n",
        "\n",
        "print(best_params)\n",
        "print(score)\n",
        "print(classification_report(test_labels, bs, digits=4))"
      ]
    },
    {
      "cell_type": "code",
      "execution_count": 53,
      "metadata": {
        "id": "MDcX0mma4mld",
        "outputId": "a2b64cfc-d413-4ba0-9f24-b4935343c315"
      },
      "outputs": [
        {
          "name": "stderr",
          "output_type": "stream",
          "text": [
            "100%|██████████| 36/36 [05:44<00:00,  9.57s/it]"
          ]
        },
        {
          "name": "stdout",
          "output_type": "stream",
          "text": [
            "{'n_estimators': 20, 'con': 0.2}\n",
            "0.3487063280294605\n",
            "              precision    recall  f1-score   support\n",
            "\n",
            "           0     0.2131    0.4324    0.2855     16150\n",
            "           1     0.5718    0.3219    0.4119     38022\n",
            "\n",
            "    accuracy                         0.3548     54172\n",
            "   macro avg     0.3924    0.3772    0.3487     54172\n",
            "weighted avg     0.4648    0.3548    0.3742     54172\n",
            "\n"
          ]
        },
        {
          "name": "stderr",
          "output_type": "stream",
          "text": [
            "\n"
          ]
        }
      ],
      "source": [
        "n_est = [5,10,15,20,25,30]\n",
        "contamination = [0.001, 0.01, 0.04, 0.05, 0.1, 0.2]\n",
        "params = list(itertools.product(n_est, contamination))\n",
        "score = -1\n",
        "bs = None\n",
        "for n_est, con in tqdm(params):\n",
        "    \n",
        "    clf_if = HBOS(n_bins=n_est, contamination=con)\n",
        "    clf_if.fit(normal_train_samples)\n",
        "    y_pred = clf_if.predict(test_samples)\n",
        "    test_pred = y_pred\n",
        "\n",
        "    f1 = f1_score(test_labels, test_pred, average='macro')\n",
        "\n",
        "    if f1 > score:\n",
        "        score = f1\n",
        "        best_params = {'n_estimators': n_est,\n",
        "                       \"con\": con\n",
        "                }\n",
        "        bs = test_pred\n",
        "    del clf_if\n",
        "    gc.collect()\n",
        "\n",
        "\n",
        "print(best_params)\n",
        "print(score)\n",
        "print(classification_report(test_labels, bs, digits=4))"
      ]
    },
    {
      "cell_type": "code",
      "execution_count": 54,
      "metadata": {
        "id": "wRUOrQqB4mle"
      },
      "outputs": [],
      "source": [
        "##  HBOS  RAw"
      ]
    },
    {
      "cell_type": "code",
      "execution_count": 55,
      "metadata": {
        "id": "9sZfAnER4mle",
        "outputId": "6e9cb145-8540-4aa7-8ed1-fc9aca495b07"
      },
      "outputs": [
        {
          "name": "stderr",
          "output_type": "stream",
          "text": [
            "100%|██████████| 36/36 [00:24<00:00,  1.49it/s]"
          ]
        },
        {
          "name": "stdout",
          "output_type": "stream",
          "text": [
            "{'n_estimators': 30, 'con': 0.2}\n",
            "0.9834003120401145\n",
            "              precision    recall  f1-score   support\n",
            "\n",
            "           0     0.9965    0.9573    0.9765      8075\n",
            "           1     0.9822    0.9986    0.9903     19011\n",
            "\n",
            "    accuracy                         0.9863     27086\n",
            "   macro avg     0.9893    0.9779    0.9834     27086\n",
            "weighted avg     0.9864    0.9863    0.9862     27086\n",
            "\n"
          ]
        },
        {
          "name": "stderr",
          "output_type": "stream",
          "text": [
            "\n"
          ]
        }
      ],
      "source": [
        "from pyod.models.cblof import CBLOF\n",
        "\n",
        "n_est = [5,10,15,20,25,30]\n",
        "contamination = [0.001, 0.01, 0.04, 0.05, 0.1, 0.2]\n",
        "params = list(itertools.product(n_est, contamination))\n",
        "score = -1\n",
        "bs = None\n",
        "for n_est, con in tqdm(params):\n",
        "    \n",
        "    try:\n",
        "        clf_b = HBOS(n_bins=n_est, contamination=con)\n",
        "        clf_b.fit(raw_benign_train_samples)\n",
        "    except ValueError as e:\n",
        "        print(n_est)\n",
        "        continue  \n",
        "   \n",
        "    y_pred = clf_b.predict(raw_test_samples)\n",
        "    test_pred = y_pred\n",
        "\n",
        "    f1 = f1_score(raw_test_labels, test_pred, average='macro')\n",
        "\n",
        "    if f1 > score:\n",
        "        score = f1\n",
        "        best_params = {'n_estimators': n_est,\n",
        "                        \"con\": con\n",
        "                }\n",
        "        bs = test_pred\n",
        "    del clf_b\n",
        "    gc.collect()\n",
        "\n",
        "  \n",
        "\n",
        "print(best_params)\n",
        "print(score)\n",
        "print(classification_report(raw_test_labels, bs, digits=4))"
      ]
    },
    {
      "cell_type": "code",
      "execution_count": 56,
      "metadata": {
        "id": "z5A-gLN34mle",
        "outputId": "8a6dfd26-a45b-4ce3-8d85-1b61652e7f90"
      },
      "outputs": [
        {
          "name": "stderr",
          "output_type": "stream",
          "text": [
            "100%|██████████| 36/36 [00:26<00:00,  1.36it/s]"
          ]
        },
        {
          "name": "stdout",
          "output_type": "stream",
          "text": [
            "benign only\n",
            "{'n_estimators': 10}\n",
            "0.9837045676898976\n",
            "              precision    recall  f1-score   support\n",
            "\n",
            "           0     0.9612    0.9939    0.9773      8075\n",
            "           1     0.9974    0.9830    0.9901     19011\n",
            "\n",
            "    accuracy                         0.9862     27086\n",
            "   macro avg     0.9793    0.9884    0.9837     27086\n",
            "weighted avg     0.9866    0.9862    0.9863     27086\n",
            "\n"
          ]
        },
        {
          "name": "stderr",
          "output_type": "stream",
          "text": [
            "\n"
          ]
        }
      ],
      "source": [
        "n_est = [5,10,15,20,25,30]\n",
        "contamination = [0.001, 0.01, 0.04, 0.05, 0.1, 0.2]\n",
        "params = list(itertools.product(n_est, contamination))\n",
        "score = -1\n",
        "bs = None\n",
        "for n_est, con in tqdm(params):\n",
        "    \n",
        "    try:\n",
        "        clf_if = HBOS(n_bins=n_est, contamination=con)\n",
        "        clf_if.fit(raw_normal_train_samples)\n",
        "    except ValueError as e:\n",
        "        print(n_est)\n",
        "        continue  \n",
        "    \n",
        "    y_pred = clf_if.predict(raw_test_samples)\n",
        "    test_pred = y_pred\n",
        "\n",
        "    f1 = f1_score(raw_test_labels, test_pred, average='macro')\n",
        "\n",
        "    if f1 > score:\n",
        "        score = f1\n",
        "        best_params = {'n_estimators': n_est\n",
        "                }\n",
        "        bs = test_pred\n",
        "    del clf_if\n",
        "    gc.collect()\n",
        "\n",
        "        \n",
        "\n",
        "print(\"benign only\")\n",
        "print(best_params)\n",
        "print(score)\n",
        "print(classification_report(raw_test_labels, bs, digits=4))"
      ]
    },
    {
      "cell_type": "code",
      "execution_count": 57,
      "metadata": {
        "id": "UbDOqrcy4mle"
      },
      "outputs": [],
      "source": [
        "##  PCA  Emb"
      ]
    },
    {
      "cell_type": "code",
      "execution_count": 58,
      "metadata": {
        "id": "Nga82Fw_4mle",
        "outputId": "0fe52043-af21-45c1-a404-040ab5845efc"
      },
      "outputs": [
        {
          "name": "stderr",
          "output_type": "stream",
          "text": [
            "100%|██████████| 36/36 [02:36<00:00,  4.36s/it]"
          ]
        },
        {
          "name": "stdout",
          "output_type": "stream",
          "text": [
            "{'n_estimators': 5, 'con': 0.2}\n",
            "0.3881358995210988\n",
            "              precision    recall  f1-score   support\n",
            "\n",
            "           0     0.0000    0.0000    0.0000     16150\n",
            "           1     0.6803    0.9038    0.7763     38022\n",
            "\n",
            "    accuracy                         0.6343     54172\n",
            "   macro avg     0.3401    0.4519    0.3881     54172\n",
            "weighted avg     0.4775    0.6343    0.5448     54172\n",
            "\n"
          ]
        },
        {
          "name": "stderr",
          "output_type": "stream",
          "text": [
            "\n"
          ]
        }
      ],
      "source": [
        "from pyod.models.pca import PCA\n",
        "n_est = [5,10,15,20,25,30]\n",
        "cont = [0.001, 0.01, 0.04, 0.05, 0.1, 0.2]\n",
        "params = list(itertools.product(n_est, cont))\n",
        "score = -1\n",
        "bs = None\n",
        "\n",
        "for n_est, con in tqdm(params):\n",
        "    clf_if = PCA(n_components=n_est, contamination=con)\n",
        "    clf_if.fit(benign_train_samples)\n",
        "    y_pred = clf_if.predict(test_samples)\n",
        "    test_pred = y_pred\n",
        "\n",
        "    f1 = f1_score(test_labels, test_pred, average='macro')\n",
        "\n",
        "    if f1 > score:\n",
        "        score = f1\n",
        "        best_params = {'n_estimators': n_est,\n",
        "                       \"con\": con\n",
        "                }\n",
        "        bs = test_pred\n",
        "    del clf_if\n",
        "    gc.collect()\n",
        "\n",
        "\n",
        "print(best_params)\n",
        "print(score)\n",
        "print(classification_report(test_labels, bs, digits=4))"
      ]
    },
    {
      "cell_type": "code",
      "execution_count": 59,
      "metadata": {
        "id": "sg6AcAUW4mlf",
        "outputId": "a9949458-96cf-44dc-b4f6-c73458cb2719"
      },
      "outputs": [
        {
          "name": "stderr",
          "output_type": "stream",
          "text": [
            "100%|██████████| 36/36 [02:36<00:00,  4.36s/it]"
          ]
        },
        {
          "name": "stdout",
          "output_type": "stream",
          "text": [
            "{'n_estimators': 5, 'con': 0.2}\n",
            "0.23007166227115183\n",
            "              precision    recall  f1-score   support\n",
            "\n",
            "           0     0.2982    1.0000    0.4594     16150\n",
            "           1     1.0000    0.0004    0.0007     38022\n",
            "\n",
            "    accuracy                         0.2984     54172\n",
            "   macro avg     0.6491    0.5002    0.2301     54172\n",
            "weighted avg     0.7908    0.2984    0.1375     54172\n",
            "\n"
          ]
        },
        {
          "name": "stderr",
          "output_type": "stream",
          "text": [
            "\n"
          ]
        }
      ],
      "source": [
        "n_est = [5,10,15,20,25,30]\n",
        "cont = [0.001, 0.01, 0.04, 0.05, 0.1, 0.2]\n",
        "params = list(itertools.product(n_est, cont))\n",
        "score = -1\n",
        "bs = None\n",
        "\n",
        "for n_est, con in tqdm(params):\n",
        "    clf_if = PCA(n_components=n_est, contamination=con)\n",
        "    clf_if.fit(normal_train_samples)\n",
        "    y_pred = clf_if.predict(test_samples)\n",
        "    test_pred = y_pred\n",
        "\n",
        "    f1 = f1_score(test_labels, test_pred, average='macro')\n",
        "\n",
        "    if f1 > score:\n",
        "        score = f1\n",
        "        best_params = {'n_estimators': n_est,\n",
        "                       \"con\": con\n",
        "                }\n",
        "        bs = test_pred\n",
        "    del clf_if\n",
        "    gc.collect()\n",
        "\n",
        "\n",
        "print(best_params)\n",
        "print(score)\n",
        "print(classification_report(test_labels, bs, digits=4))"
      ]
    },
    {
      "cell_type": "code",
      "execution_count": 60,
      "metadata": {
        "id": "JSoyZpDu4mlf"
      },
      "outputs": [],
      "source": [
        "##  PCA  RAw"
      ]
    },
    {
      "cell_type": "code",
      "execution_count": 61,
      "metadata": {
        "id": "3hKgicW14mlf",
        "outputId": "16c93b66-4eac-4d40-d5ce-96f3b3a5b3bb"
      },
      "outputs": [
        {
          "name": "stderr",
          "output_type": "stream",
          "text": [
            "100%|██████████| 36/36 [00:25<00:00,  1.43it/s]"
          ]
        },
        {
          "name": "stdout",
          "output_type": "stream",
          "text": [
            "{'n_estimators': 5, 'con': 0.05}\n",
            "0.9383921491246581\n",
            "              precision    recall  f1-score   support\n",
            "\n",
            "           0     0.8780    0.9555    0.9151      8075\n",
            "           1     0.9804    0.9436    0.9616     19011\n",
            "\n",
            "    accuracy                         0.9472     27086\n",
            "   macro avg     0.9292    0.9496    0.9384     27086\n",
            "weighted avg     0.9499    0.9472    0.9478     27086\n",
            "\n"
          ]
        },
        {
          "name": "stderr",
          "output_type": "stream",
          "text": [
            "\n"
          ]
        }
      ],
      "source": [
        "n_est = [5,10,15,20,25,30]\n",
        "cont = [0.001, 0.01, 0.04, 0.05, 0.1, 0.2]\n",
        "params = list(itertools.product(n_est, cont))\n",
        "score = -1\n",
        "bs = None\n",
        "\n",
        "for n_est, con in tqdm(params):\n",
        "    clf_if = PCA(n_components=n_est, contamination=con)\n",
        "    clf_if.fit(raw_benign_train_samples)\n",
        "   \n",
        "    y_pred = clf_if.predict(raw_test_samples)\n",
        "    test_pred = y_pred\n",
        "\n",
        "    f1 = f1_score(raw_test_labels, test_pred, average='macro')\n",
        "\n",
        "    if f1 > score:\n",
        "        score = f1\n",
        "        best_params = {'n_estimators': n_est,\n",
        "                        \"con\": con\n",
        "                }\n",
        "        bs = test_pred\n",
        "    del clf_if\n",
        "    gc.collect()\n",
        "\n",
        "  \n",
        "\n",
        "print(best_params)\n",
        "print(score)\n",
        "print(classification_report(raw_test_labels, bs, digits=4))"
      ]
    },
    {
      "cell_type": "code",
      "execution_count": 62,
      "metadata": {
        "id": "nAdfwnlP4mlf",
        "outputId": "ddc9c2b4-a3b6-4ab6-cc74-7ed93ca23d22"
      },
      "outputs": [
        {
          "name": "stderr",
          "output_type": "stream",
          "text": [
            "100%|██████████| 36/36 [00:25<00:00,  1.40it/s]"
          ]
        },
        {
          "name": "stdout",
          "output_type": "stream",
          "text": [
            "benign only\n",
            "{'n_estimators': 5}\n",
            "0.9031897718154859\n",
            "              precision    recall  f1-score   support\n",
            "\n",
            "           0     0.8991    0.8275    0.8618      8075\n",
            "           1     0.9291    0.9605    0.9446     19011\n",
            "\n",
            "    accuracy                         0.9209     27086\n",
            "   macro avg     0.9141    0.8940    0.9032     27086\n",
            "weighted avg     0.9202    0.9209    0.9199     27086\n",
            "\n"
          ]
        },
        {
          "name": "stderr",
          "output_type": "stream",
          "text": [
            "\n"
          ]
        }
      ],
      "source": [
        "n_est = [5,10,15,20,25,30]\n",
        "cont = [0.001, 0.01, 0.04, 0.05, 0.1, 0.2]\n",
        "params = list(itertools.product(n_est, cont))\n",
        "score = -1\n",
        "bs = None\n",
        "\n",
        "for n_est, con in tqdm(params):\n",
        "    clf_if = PCA(n_components=n_est, contamination=con)\n",
        "    clf_if.fit(raw_normal_train_samples)\n",
        "\n",
        "    y_pred = clf_if.predict(raw_test_samples)\n",
        "    test_pred = y_pred\n",
        "\n",
        "    f1 = f1_score(raw_test_labels, test_pred, average='macro')\n",
        "\n",
        "    if f1 > score:\n",
        "        score = f1\n",
        "        best_params = {'n_estimators': n_est\n",
        "                }\n",
        "        bs = test_pred\n",
        "    del clf_if\n",
        "    gc.collect()\n",
        "\n",
        "        \n",
        "\n",
        "print(\"benign only\")\n",
        "print(best_params)\n",
        "print(score)\n",
        "print(classification_report(raw_test_labels, bs, digits=4))"
      ]
    },
    {
      "cell_type": "code",
      "execution_count": 63,
      "metadata": {
        "id": "yi8SO3tL4mlg"
      },
      "outputs": [],
      "source": [
        "##  IF  Emb"
      ]
    },
    {
      "cell_type": "code",
      "execution_count": 64,
      "metadata": {
        "id": "9D0m4vb04mlg",
        "outputId": "bd5a55e6-ac70-4943-9b28-92474b5fb9e9"
      },
      "outputs": [
        {
          "name": "stderr",
          "output_type": "stream",
          "text": [
            "100%|██████████| 24/24 [01:41<00:00,  4.23s/it]"
          ]
        },
        {
          "name": "stdout",
          "output_type": "stream",
          "text": [
            "{'n_estimators': 20, 'con': 0.2}\n",
            "0.43525655387284135\n",
            "              precision    recall  f1-score   support\n",
            "\n",
            "           0     0.2094    0.2162    0.2127     16150\n",
            "           1     0.6624    0.6532    0.6578     38022\n",
            "\n",
            "    accuracy                         0.5229     54172\n",
            "   macro avg     0.4359    0.4347    0.4353     54172\n",
            "weighted avg     0.5273    0.5229    0.5251     54172\n",
            "\n"
          ]
        },
        {
          "name": "stderr",
          "output_type": "stream",
          "text": [
            "\n"
          ]
        }
      ],
      "source": [
        "from sklearn.ensemble import IsolationForest\n",
        "n_est = [20, 50, 100, 150]\n",
        "cont = [0.001, 0.01, 0.04, 0.05, 0.1, 0.2]\n",
        "params = list(itertools.product(n_est, cont))\n",
        "score = -1\n",
        "bs = None\n",
        "\n",
        "for n_est, con in tqdm(params):\n",
        "    clf_if = IsolationForest(n_estimators=n_est, contamination=con)\n",
        "    clf_if.fit(benign_train_samples)\n",
        "    y_pred = clf_if.predict(test_samples)\n",
        "    test_pred = list(map(lambda x : 0 if x == 1 else 1, y_pred))\n",
        "\n",
        "    f1 = f1_score(test_labels, test_pred, average='macro')\n",
        "\n",
        "    if f1 > score:\n",
        "        score = f1\n",
        "        best_params = {'n_estimators': n_est,\n",
        "                       \"con\": con\n",
        "                }\n",
        "        bs = test_pred\n",
        "    del clf_if\n",
        "    gc.collect()\n",
        "\n",
        "\n",
        "print(best_params)\n",
        "print(score)\n",
        "print(classification_report(test_labels, bs, digits=4))"
      ]
    },
    {
      "cell_type": "code",
      "execution_count": 65,
      "metadata": {
        "id": "NCj-3u4t4mlg",
        "outputId": "5f6b1720-9662-4704-ba96-dd57ee32a900"
      },
      "outputs": [
        {
          "name": "stderr",
          "output_type": "stream",
          "text": [
            "100%|██████████| 24/24 [01:17<00:00,  3.24s/it]"
          ]
        },
        {
          "name": "stdout",
          "output_type": "stream",
          "text": [
            "{'n_estimators': 20, 'con': 0.2}\n",
            "0.3518564021638647\n",
            "              precision    recall  f1-score   support\n",
            "\n",
            "           0     0.2760    0.7162    0.3984     16150\n",
            "           1     0.6261    0.2019    0.3053     38022\n",
            "\n",
            "    accuracy                         0.3552     54172\n",
            "   macro avg     0.4510    0.4590    0.3519     54172\n",
            "weighted avg     0.5217    0.3552    0.3331     54172\n",
            "\n"
          ]
        },
        {
          "name": "stderr",
          "output_type": "stream",
          "text": [
            "\n"
          ]
        }
      ],
      "source": [
        "from sklearn.ensemble import IsolationForest\n",
        "\n",
        "n_est = [20, 50, 100, 150]\n",
        "cont = [0.001, 0.01, 0.04, 0.05, 0.1, 0.2]\n",
        "params = list(itertools.product(n_est, cont))\n",
        "score = -1\n",
        "bs = None\n",
        "\n",
        "for n_est, con in tqdm(params):\n",
        "    clf_if = IsolationForest(n_estimators=n_est, contamination=con)\n",
        "    clf_if.fit(normal_train_samples)\n",
        "    y_pred = clf_if.predict(test_samples)\n",
        "    test_pred = list(map(lambda x : 0 if x == 1 else 1, y_pred))\n",
        "\n",
        "    f1 = f1_score(test_labels, test_pred, average='macro')\n",
        "\n",
        "    if f1 > score:\n",
        "        score = f1\n",
        "        best_params = {'n_estimators': n_est,\n",
        "                       \"con\": con\n",
        "                }\n",
        "        bs = test_pred\n",
        "    del clf_if\n",
        "    gc.collect()\n",
        "\n",
        "\n",
        "print(best_params)\n",
        "print(score)\n",
        "print(classification_report(test_labels, bs, digits=4))"
      ]
    },
    {
      "cell_type": "code",
      "execution_count": 66,
      "metadata": {
        "id": "iOIn_Kr44mlg"
      },
      "outputs": [],
      "source": [
        "##  IF  Raw"
      ]
    },
    {
      "cell_type": "code",
      "execution_count": 67,
      "metadata": {
        "id": "E_60yAo34mlg",
        "outputId": "354e56cd-ee22-4538-ba6f-43c1d67eb648"
      },
      "outputs": [
        {
          "name": "stderr",
          "output_type": "stream",
          "text": [
            "  0%|          | 0/24 [00:00<?, ?it/s]"
          ]
        },
        {
          "name": "stderr",
          "output_type": "stream",
          "text": [
            "100%|██████████| 24/24 [00:24<00:00,  1.01s/it]"
          ]
        },
        {
          "name": "stdout",
          "output_type": "stream",
          "text": [
            "{'n_estimators': 100, 'con': 0.05}\n",
            "0.879285281225455\n",
            "              precision    recall  f1-score   support\n",
            "\n",
            "           0     0.8809    0.7782    0.8264      8075\n",
            "           1     0.9102    0.9553    0.9322     19011\n",
            "\n",
            "    accuracy                         0.9025     27086\n",
            "   macro avg     0.8955    0.8667    0.8793     27086\n",
            "weighted avg     0.9015    0.9025    0.9007     27086\n",
            "\n"
          ]
        },
        {
          "name": "stderr",
          "output_type": "stream",
          "text": [
            "\n"
          ]
        }
      ],
      "source": [
        "from sklearn.ensemble import IsolationForest\n",
        "\n",
        "n_est = [20, 50, 100, 150]\n",
        "cont = [0.001, 0.01, 0.04, 0.05, 0.1, 0.2]\n",
        "params = list(itertools.product(n_est, cont))\n",
        "score = -1\n",
        "bs = None\n",
        "\n",
        "for n_est, con in tqdm(params):\n",
        "    clf_if = IsolationForest(n_estimators=n_est, contamination=con)\n",
        "    clf_if.fit(raw_benign_train_samples.to_numpy())\n",
        "   \n",
        "    y_pred = clf_if.predict(raw_test_samples.to_numpy())\n",
        "    test_pred = list(map(lambda x : 0 if x == 1 else 1, y_pred))\n",
        "\n",
        "    f1 = f1_score(raw_test_labels, test_pred, average='macro')\n",
        "\n",
        "    if f1 > score:\n",
        "        score = f1\n",
        "        best_params = {'n_estimators': n_est,\n",
        "                        \"con\": con\n",
        "                }\n",
        "        bs = test_pred\n",
        "    del clf_if\n",
        "    gc.collect()\n",
        "\n",
        "  \n",
        "\n",
        "print(best_params)\n",
        "print(score)\n",
        "print(classification_report(raw_test_labels, bs, digits=4))"
      ]
    },
    {
      "cell_type": "code",
      "execution_count": 68,
      "metadata": {
        "id": "5xNKBA7X4mlh",
        "outputId": "cd0ee1c5-5394-4e2b-efde-1f58bf922282"
      },
      "outputs": [
        {
          "name": "stderr",
          "output_type": "stream",
          "text": [
            "100%|██████████| 24/24 [00:25<00:00,  1.05s/it]"
          ]
        },
        {
          "name": "stdout",
          "output_type": "stream",
          "text": [
            "benign only\n",
            "{'n_estimators': 150}\n",
            "0.9160768684394578\n",
            "              precision    recall  f1-score   support\n",
            "\n",
            "           0     0.8341    0.9437    0.8855      8075\n",
            "           1     0.9747    0.9203    0.9467     19011\n",
            "\n",
            "    accuracy                         0.9272     27086\n",
            "   macro avg     0.9044    0.9320    0.9161     27086\n",
            "weighted avg     0.9327    0.9272    0.9284     27086\n",
            "\n"
          ]
        },
        {
          "name": "stderr",
          "output_type": "stream",
          "text": [
            "\n"
          ]
        }
      ],
      "source": [
        "n_est = [20, 50, 100, 150]\n",
        "cont = [0.001, 0.01, 0.04, 0.05, 0.1, 0.2]\n",
        "params = list(itertools.product(n_est, cont))\n",
        "score = -1\n",
        "bs = None\n",
        "\n",
        "for n_est, con in tqdm(params):\n",
        "    clf_if = IsolationForest(n_estimators=n_est, contamination=con)\n",
        "    clf_if.fit(raw_normal_train_samples.to_numpy())\n",
        "\n",
        "    y_pred = clf_if.predict(raw_test_samples.to_numpy())\n",
        "    test_pred = list(map(lambda x : 0 if x == 1 else 1, y_pred))\n",
        "\n",
        "    f1 = f1_score(raw_test_labels, test_pred, average='macro')\n",
        "\n",
        "    if f1 > score:\n",
        "        score = f1\n",
        "        best_params = {'n_estimators': n_est\n",
        "                }\n",
        "        bs = test_pred\n",
        "    del clf_if\n",
        "    gc.collect()\n",
        "\n",
        "        \n",
        "\n",
        "print(\"benign only\")\n",
        "print(best_params)\n",
        "print(score)\n",
        "print(classification_report(raw_test_labels, bs, digits=4))"
      ]
    }
  ],
  "metadata": {
    "accelerator": "GPU",
    "colab": {
      "provenance": []
    },
    "kernelspec": {
      "display_name": "Python 3",
      "language": "python",
      "name": "python3"
    },
    "language_info": {
      "codemirror_mode": {
        "name": "ipython",
        "version": 3
      },
      "file_extension": ".py",
      "mimetype": "text/x-python",
      "name": "python",
      "nbconvert_exporter": "python",
      "pygments_lexer": "ipython3",
      "version": "3.9.23"
    }
  },
  "nbformat": 4,
  "nbformat_minor": 0
}
